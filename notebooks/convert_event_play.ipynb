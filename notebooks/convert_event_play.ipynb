{
 "cells": [
  {
   "cell_type": "code",
   "execution_count": 1,
   "metadata": {},
   "outputs": [],
   "source": [
    "import pandas as pd\n",
    "import json"
   ]
  },
  {
   "cell_type": "code",
   "execution_count": 2,
   "metadata": {},
   "outputs": [],
   "source": [
    "# team_idをteam_nameに変換するため、辞書を作成\n",
    "team_df = pd.read_csv('../data/input/team.csv')\n",
    "team_dic = dict(zip(team_df['team_id'], team_df['team_name']))"
   ]
  },
  {
   "cell_type": "code",
   "execution_count": 3,
   "metadata": {},
   "outputs": [],
   "source": [
    "# 各々の回数をカウントするためのカラム定義\n",
    "# ○: フル出場, ▲: 途中出場, ▽: 途中退場, ◆: 途中出場途中退場, ×: 出場停止, ※: 他大会の影響で出場停止, B: ベンチ入り\n",
    "tmp = ['rat_full_play', 'rat_out_play', 'rat_in_play', 'rat_inout_play', 'rat_bench_play', 'rat_susp_play']\n",
    "colnames = ['rat_full_play', 'rat_out_play', 'rat_in_play', 'rat_inout_play', 'rat_bench_play', 'rat_susp_play']\n",
    "colnames += [i + '_first' for i in tmp]\n",
    "colnames += [i + '_second' for i in tmp]\n",
    "characters = ['○', '▲', '▽', '◆', 'B', '×'] * 3"
   ]
  },
  {
   "cell_type": "code",
   "execution_count": 4,
   "metadata": {},
   "outputs": [],
   "source": [
    "# 2015 ~ 2018シーズンのjsonをcsvに変換\n",
    "for year in range(2015, 2019):\n",
    "    \n",
    "    # 年度毎にデータを集約\n",
    "    dfs = []\n",
    "    \n",
    "    ## 処理年度のチーム一覧を取得\n",
    "    team_df_year = team_df[team_df['year']== year]\n",
    "    \n",
    "    # 各チームに対する処理\n",
    "    for div, team_id in zip(team_df_year['div'], team_df_year['team_id']):\n",
    "        \n",
    "        # 2stageか判定\n",
    "        is_2stage = year < 2017 and div == 'J1'\n",
    "        \n",
    "        # シーズンの試合数を算出\n",
    "        # J1は34試合、J2は42試合\n",
    "        if div == 'J1':\n",
    "            num_match = 34\n",
    "        else:\n",
    "            num_match = 42\n",
    "        \n",
    "        # jsonをdataframeに変換\n",
    "        if is_2stage:\n",
    "            with open(f'../data/input/event/event_play_{year}_{div}_{team_id}_s1.json', encoding='utf-8') as f:\n",
    "                first_dic = json.load(f)\n",
    "            with open(f'../data/input/event/event_play_{year}_{div}_{team_id}_s2.json',  encoding='utf-8') as f:\n",
    "                second_dic = json.load(f)\n",
    "\n",
    "            first_df = pd.DataFrame.from_dict(first_dic, orient='index')\n",
    "            second_df = pd.DataFrame.from_dict(second_dic, columns=list(range(17, 34)), orient='index')\n",
    "            full_df = pd.concat([first_df, second_df], axis=1, join='outer')\n",
    "            \n",
    "            # シーズン前半・後半に分けて集計するためにdataframeを分割\n",
    "            first_df = full_df.iloc[:, :num_match // 2]\n",
    "            second_df = full_df.iloc[:, num_match // 2:]\n",
    "        \n",
    "        else:\n",
    "            with open(f\"../data/input/event/event_play_{year}_{div}_{team_id}.json\",  encoding='utf-8') as f:\n",
    "                dic = json.load(f)\n",
    "\n",
    "            full_df = pd.DataFrame.from_dict(dic, orient='index')\n",
    "\n",
    "            # シーズン前半・後半に分けて集計するためにdataframeを分割\n",
    "            first_df = full_df.iloc[:, :num_match // 2]\n",
    "            second_df = full_df.iloc[:, num_match // 2:]\n",
    "        \n",
    "        # 各々の回数をカウント\n",
    "        data = []\n",
    "        for col, cha in zip(colnames, characters):\n",
    "            if 'first' in col:\n",
    "                data.append(first_df.apply(lambda d: d.str.contains(cha)).sum(axis=1).values)\n",
    "            elif 'second' in col:\n",
    "                data.append(second_df.apply(lambda d: d.str.contains(cha)).sum(axis=1).values)\n",
    "            else:\n",
    "                data.append(full_df.apply(lambda d: d.str.contains(cha)).sum(axis=1).values)\n",
    "        \n",
    "        # 1試合あたりの値に変換\n",
    "        df = pd.DataFrame(data).T\n",
    "        df /= num_match\n",
    "        df.columns = colnames\n",
    "        df['team_id'] = team_id\n",
    "        df['team'] = df['team_id'].map(team_dic)\n",
    "        df.drop(['team_id'], axis=1, inplace=True)\n",
    "        df['name'] = full_df.index\n",
    "        \n",
    "        # 年度毎にデータを集約\n",
    "        dfs.append(df)\n",
    "    \n",
    "    # 年度毎にデータをcsvに出力\n",
    "    df = pd.concat(dfs)\n",
    "    df.to_csv(f'../data/work/event_play_{year}.csv', index=False)     "
   ]
  }
 ],
 "metadata": {
  "kernelspec": {
   "display_name": "Python 3",
   "language": "python",
   "name": "python3"
  },
  "language_info": {
   "codemirror_mode": {
    "name": "ipython",
    "version": 3
   },
   "file_extension": ".py",
   "mimetype": "text/x-python",
   "name": "python",
   "nbconvert_exporter": "python",
   "pygments_lexer": "ipython3",
   "version": "3.7.7"
  }
 },
 "nbformat": 4,
 "nbformat_minor": 4
}
