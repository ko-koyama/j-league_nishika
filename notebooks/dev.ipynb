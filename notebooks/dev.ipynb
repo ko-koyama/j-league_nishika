{
 "cells": [
  {
   "cell_type": "code",
   "execution_count": 1,
   "metadata": {},
   "outputs": [],
   "source": [
    "import datetime\n",
    "\n",
    "import pandas as pd\n",
    "import pandas_profiling as pdp\n",
    "import numpy as np\n",
    "from matplotlib import pyplot as plt\n",
    "\n",
    "from sklearn.preprocessing import LabelEncoder\n",
    "from sklearn import metrics\n",
    "from sklearn.model_selection import train_test_split\n",
    "from sklearn.metrics import accuracy_score\n",
    "\n",
    "import lightgbm as lgb\n",
    "import optuna.integration.lightgbm as lgb_opt\n",
    "\n",
    "pd.set_option('display.max_columns', 100)\n",
    "pd.set_option('display.max_rows', 100)"
   ]
  },
  {
   "cell_type": "markdown",
   "metadata": {},
   "source": [
    "## データロード"
   ]
  },
  {
   "cell_type": "code",
   "execution_count": 2,
   "metadata": {},
   "outputs": [],
   "source": [
    "# データロード\n",
    "train_2018_df = pd.read_csv('../data/input/train_2018.csv')\n",
    "train_2017_df = pd.read_csv('../data/input/train_2017.csv')\n",
    "train_2016_df = pd.read_csv('../data/input/train_2016.csv')\n",
    "train_2018_df['year'] = 2018\n",
    "train_2017_df['year'] = 2017\n",
    "train_2016_df['year'] = 2016\n",
    "\n",
    "test_df = pd.read_csv('../data/input/test.csv')\n",
    "test_df['year'] = 2019"
   ]
  },
  {
   "cell_type": "code",
   "execution_count": 3,
   "metadata": {},
   "outputs": [],
   "source": [
    "# 教師データとテストデータのunion\n",
    "all_df = pd.concat([train_2016_df, train_2017_df, train_2018_df, test_df], axis = 0).reset_index(drop=True)"
   ]
  },
  {
   "cell_type": "code",
   "execution_count": 4,
   "metadata": {},
   "outputs": [
    {
     "name": "stdout",
     "output_type": "stream",
     "text": [
      "<class 'pandas.core.frame.DataFrame'>\n",
      "RangeIndex: 1902 entries, 0 to 1901\n",
      "Data columns (total 37 columns):\n",
      " #   Column               Non-Null Count  Dtype  \n",
      "---  ------               --------------  -----  \n",
      " 0   id                   1902 non-null   int64  \n",
      " 1   team                 1902 non-null   object \n",
      " 2   No                   1902 non-null   float64\n",
      " 3   name                 1902 non-null   object \n",
      " 4   time_played          1414 non-null   float64\n",
      " 5   position             1902 non-null   object \n",
      " 6   birthdate            1902 non-null   object \n",
      " 7   height               1902 non-null   float64\n",
      " 8   weight               1902 non-null   float64\n",
      " 9   salary               1902 non-null   object \n",
      " 10  nth_year             1902 non-null   float64\n",
      " 11  is_youth             341 non-null    float64\n",
      " 12  nationality          276 non-null    object \n",
      " 13  j1_total_num_played  1640 non-null   float64\n",
      " 14  j1_total_scores      1554 non-null   float64\n",
      " 15  j2_total_num_played  1134 non-null   float64\n",
      " 16  j2_total_scores      1070 non-null   float64\n",
      " 17  j3_total_num_played  343 non-null    float64\n",
      " 18  j3_total_scores      289 non-null    float64\n",
      " 19  na_total_num_played  429 non-null    float64\n",
      " 20  na_total_scores      367 non-null    float64\n",
      " 21  prev3_team           1902 non-null   object \n",
      " 22  prev2_team           1902 non-null   object \n",
      " 23  prev1_team           1902 non-null   object \n",
      " 24  prev3_div            1902 non-null   object \n",
      " 25  prev2_div            1902 non-null   object \n",
      " 26  prev1_div            1902 non-null   object \n",
      " 27  prev3_num_played     1902 non-null   object \n",
      " 28  prev2_num_played     1902 non-null   object \n",
      " 29  prev1_num_played     1902 non-null   object \n",
      " 30  prev3_scores         1902 non-null   object \n",
      " 31  prev2_scores         1902 non-null   object \n",
      " 32  prev1_scores         1902 non-null   object \n",
      " 33  prev3_time_played    1902 non-null   object \n",
      " 34  prev2_time_played    1902 non-null   object \n",
      " 35  prev1_time_played    1902 non-null   object \n",
      " 36  year                 1902 non-null   int64  \n",
      "dtypes: float64(14), int64(2), object(21)\n",
      "memory usage: 549.9+ KB\n"
     ]
    }
   ],
   "source": [
    "# データ概要\n",
    "all_df.info()"
   ]
  },
  {
   "cell_type": "markdown",
   "metadata": {},
   "source": [
    "### 特徴量エンジニアリング"
   ]
  },
  {
   "cell_type": "markdown",
   "metadata": {},
   "source": [
    "#### name"
   ]
  },
  {
   "cell_type": "code",
   "execution_count": 5,
   "metadata": {},
   "outputs": [],
   "source": [
    "# nameのlabelencoding\n",
    "le = LabelEncoder()\n",
    "le = le.fit(all_df['name'])\n",
    "all_df['name'] = le.transform(all_df['name'])"
   ]
  },
  {
   "cell_type": "markdown",
   "metadata": {},
   "source": [
    "#### team"
   ]
  },
  {
   "cell_type": "code",
   "execution_count": 6,
   "metadata": {},
   "outputs": [],
   "source": [
    "# teamはprevX_teamと同値のencodingを実施するため、辞書を作成\n",
    "# 出現回数が1のものは同値でencodingを実施\n",
    "# prevX_teamのencodingでも利用\n",
    "team_dic = {}\n",
    "\n",
    "tmp_dic = pd.concat([all_df['team'], all_df['prev3_team'], all_df['prev2_team'], all_df['prev1_team']]).value_counts().to_dict()\n",
    "tmp_list = sorted(tmp_dic.items(), key = lambda x:x[1])\n",
    "\n",
    "label = 0\n",
    "for i, j in tmp_list:\n",
    "    if j == 1:\n",
    "        team_dic[i] = label\n",
    "    else:\n",
    "        team_dic[i] = label\n",
    "        label += 1\n",
    "\n",
    "# teamのlabelencoding\n",
    "all_df['team'] = all_df['team'].map(team_dic)"
   ]
  },
  {
   "cell_type": "markdown",
   "metadata": {},
   "source": [
    "#### potision"
   ]
  },
  {
   "cell_type": "code",
   "execution_count": 7,
   "metadata": {},
   "outputs": [],
   "source": [
    "# potisionのlabelencoding\n",
    "le = LabelEncoder()\n",
    "le = le.fit(all_df['position'])\n",
    "all_df['position'] = le.transform(all_df['position'])"
   ]
  },
  {
   "cell_type": "markdown",
   "metadata": {},
   "source": [
    "#### birthdate"
   ]
  },
  {
   "cell_type": "code",
   "execution_count": 8,
   "metadata": {},
   "outputs": [],
   "source": [
    "# 生年月日より生まれ年を抽出\n",
    "all_df['birthdate'] = pd.to_datetime(all_df['birthdate'])\n",
    "all_df['birthdate_year'] = all_df['birthdate'].dt.year"
   ]
  },
  {
   "cell_type": "markdown",
   "metadata": {},
   "source": [
    "#### salary"
   ]
  },
  {
   "cell_type": "code",
   "execution_count": 9,
   "metadata": {},
   "outputs": [],
   "source": [
    "# salaryのNaN→中央値補完\n",
    "med_salary = all_df[all_df['salary'] != '-']['salary'].median()\n",
    "all_df['salary'] = all_df['salary'].mask(all_df['salary'] == '-', med_salary)\n",
    "all_df['salary'] = all_df['salary'].astype(float)"
   ]
  },
  {
   "cell_type": "markdown",
   "metadata": {},
   "source": [
    "#### is_youth"
   ]
  },
  {
   "cell_type": "code",
   "execution_count": 10,
   "metadata": {},
   "outputs": [],
   "source": [
    "# is_youthのboolean変換\n",
    "all_df['is_youth'] = all_df['is_youth'].notnull()"
   ]
  },
  {
   "cell_type": "markdown",
   "metadata": {},
   "source": [
    "#### nationality"
   ]
  },
  {
   "cell_type": "code",
   "execution_count": 11,
   "metadata": {},
   "outputs": [],
   "source": [
    "# nationalityのNaN→Japan補完\n",
    "all_df['nationality'] = all_df['nationality'].fillna('japan')\n",
    "\n",
    "# nationalityのlabelencoding\n",
    "le = LabelEncoder()\n",
    "le = le.fit(all_df['nationality'])\n",
    "all_df['nationality'] = le.transform(all_df['nationality'])"
   ]
  },
  {
   "cell_type": "markdown",
   "metadata": {},
   "source": [
    "#### prevX_transferred"
   ]
  },
  {
   "cell_type": "code",
   "execution_count": 12,
   "metadata": {},
   "outputs": [],
   "source": [
    "# prevX_teamに'・'が含まれているかで移籍有無を抽出\n",
    "for col, new_col in {'prev3_team':'prev3_transferred', 'prev2_team':'prev2_transferred', 'prev1_team':'prev1_transferred',}.items():\n",
    "    all_df[new_col] = all_df[col].str.contains('-')"
   ]
  },
  {
   "cell_type": "markdown",
   "metadata": {},
   "source": [
    "#### prevX_team"
   ]
  },
  {
   "cell_type": "code",
   "execution_count": 13,
   "metadata": {},
   "outputs": [],
   "source": [
    "# 作成した辞書を用いてprevX_teamのlabelencoding\n",
    "for col in ['prev3_team', 'prev2_team', 'prev1_team']:\n",
    "    all_df[col] = all_df[col].map(team_dic)"
   ]
  },
  {
   "cell_type": "markdown",
   "metadata": {},
   "source": [
    "#### prevX_div"
   ]
  },
  {
   "cell_type": "code",
   "execution_count": 14,
   "metadata": {},
   "outputs": [],
   "source": [
    "# prevX_divの'-'→0補完\n",
    "for col in ['prev3_div', 'prev2_div', 'prev1_div']:\n",
    "    all_df[col] = all_df[col].replace('-', 0).astype(int)"
   ]
  },
  {
   "cell_type": "markdown",
   "metadata": {},
   "source": [
    "#### prevX_num_played"
   ]
  },
  {
   "cell_type": "code",
   "execution_count": 15,
   "metadata": {},
   "outputs": [],
   "source": [
    "# prevX_num_playedの'-'→NaN補完\n",
    "for col in ['prev3_num_played', 'prev2_num_played', 'prev1_num_played']:\n",
    "    all_df[col] = all_df[col].replace('-', np.nan).astype(float)"
   ]
  },
  {
   "cell_type": "markdown",
   "metadata": {},
   "source": [
    "#### prevX_scores"
   ]
  },
  {
   "cell_type": "code",
   "execution_count": 16,
   "metadata": {},
   "outputs": [],
   "source": [
    "# prevX_scoresの'-'→NaN補完\n",
    "for col in ['prev3_scores', 'prev2_scores', 'prev1_scores']:\n",
    "    all_df[col] = all_df[col].replace('-', np.nan).astype(float)"
   ]
  },
  {
   "cell_type": "markdown",
   "metadata": {},
   "source": [
    "#### prevX_time_played"
   ]
  },
  {
   "cell_type": "code",
   "execution_count": 17,
   "metadata": {},
   "outputs": [],
   "source": [
    "# prevX_time_playedの'-'→NaN補完\n",
    "for col in ['prev3_time_played', 'prev2_time_played', 'prev1_time_played']:\n",
    "    all_df[col] = all_df[col].replace('-', np.nan).astype(float)"
   ]
  },
  {
   "cell_type": "markdown",
   "metadata": {},
   "source": [
    "### 学習"
   ]
  },
  {
   "cell_type": "code",
   "execution_count": 18,
   "metadata": {},
   "outputs": [
    {
     "name": "stdout",
     "output_type": "stream",
     "text": [
      "<class 'pandas.core.frame.DataFrame'>\n",
      "RangeIndex: 1902 entries, 0 to 1901\n",
      "Data columns (total 41 columns):\n",
      " #   Column               Non-Null Count  Dtype         \n",
      "---  ------               --------------  -----         \n",
      " 0   id                   1902 non-null   int64         \n",
      " 1   team                 1902 non-null   int64         \n",
      " 2   No                   1902 non-null   float64       \n",
      " 3   name                 1902 non-null   int32         \n",
      " 4   time_played          1414 non-null   float64       \n",
      " 5   position             1902 non-null   int32         \n",
      " 6   birthdate            1902 non-null   datetime64[ns]\n",
      " 7   height               1902 non-null   float64       \n",
      " 8   weight               1902 non-null   float64       \n",
      " 9   salary               1902 non-null   float64       \n",
      " 10  nth_year             1902 non-null   float64       \n",
      " 11  is_youth             1902 non-null   bool          \n",
      " 12  nationality          1902 non-null   int32         \n",
      " 13  j1_total_num_played  1640 non-null   float64       \n",
      " 14  j1_total_scores      1554 non-null   float64       \n",
      " 15  j2_total_num_played  1134 non-null   float64       \n",
      " 16  j2_total_scores      1070 non-null   float64       \n",
      " 17  j3_total_num_played  343 non-null    float64       \n",
      " 18  j3_total_scores      289 non-null    float64       \n",
      " 19  na_total_num_played  429 non-null    float64       \n",
      " 20  na_total_scores      367 non-null    float64       \n",
      " 21  prev3_team           1902 non-null   int64         \n",
      " 22  prev2_team           1902 non-null   int64         \n",
      " 23  prev1_team           1902 non-null   int64         \n",
      " 24  prev3_div            1902 non-null   int32         \n",
      " 25  prev2_div            1902 non-null   int32         \n",
      " 26  prev1_div            1902 non-null   int32         \n",
      " 27  prev3_num_played     1594 non-null   float64       \n",
      " 28  prev2_num_played     1732 non-null   float64       \n",
      " 29  prev1_num_played     1848 non-null   float64       \n",
      " 30  prev3_scores         1594 non-null   float64       \n",
      " 31  prev2_scores         1732 non-null   float64       \n",
      " 32  prev1_scores         1848 non-null   float64       \n",
      " 33  prev3_time_played    1385 non-null   float64       \n",
      " 34  prev2_time_played    1568 non-null   float64       \n",
      " 35  prev1_time_played    1765 non-null   float64       \n",
      " 36  year                 1902 non-null   int64         \n",
      " 37  birthdate_year       1902 non-null   int64         \n",
      " 38  prev3_transferred    1902 non-null   bool          \n",
      " 39  prev2_transferred    1902 non-null   bool          \n",
      " 40  prev1_transferred    1902 non-null   bool          \n",
      "dtypes: bool(4), datetime64[ns](1), float64(23), int32(6), int64(7)\n",
      "memory usage: 512.8 KB\n"
     ]
    }
   ],
   "source": [
    "# 前処理後データ概要\n",
    "all_df.info()"
   ]
  },
  {
   "cell_type": "code",
   "execution_count": 19,
   "metadata": {},
   "outputs": [],
   "source": [
    "# 教師, 検証データ\n",
    "x_train_valid_df = all_df[all_df['year'] < 2019]\n",
    "y_train_valid_df = x_train_valid_df['time_played']\n",
    "\n",
    "# バリデーション\n",
    "# x_train, x_valid, y_train, y_valid = train_test_split(x_train_valid_df, y_train_valid_df, test_size=0.33, random_state=0, stratify = x_train_valid_df['year'])\n",
    "x_train = x_train_valid_df[x_train_valid_df['year'] < 2018]\n",
    "y_train = x_train['time_played']\n",
    "x_valid = x_train_valid_df[x_train_valid_df['year'] == 2018]\n",
    "y_valid = x_valid['time_played']\n",
    "\n",
    "# テストデータ\n",
    "test = all_df[all_df['year'] == 2019]"
   ]
  },
  {
   "cell_type": "code",
   "execution_count": 20,
   "metadata": {},
   "outputs": [],
   "source": [
    "# 入力する特徴量\n",
    "features = [\n",
    "    'team',\n",
    "    'position',\n",
    "    'height',\n",
    "    'weight',\n",
    "    'salary',\n",
    "    'nth_year',\n",
    "    'is_youth',\n",
    "    'nationality',\n",
    "    'birthdate_year',\n",
    "    'year',\n",
    "    'j1_total_num_played',\n",
    "    'j1_total_scores',\n",
    "    'j2_total_num_played',\n",
    "    'j2_total_scores',\n",
    "    'j3_total_num_played',\n",
    "    'j3_total_scores',\n",
    "    'na_total_num_played',\n",
    "    'na_total_scores',\n",
    "    'prev3_transferred',\n",
    "    'prev2_transferred',\n",
    "    'prev1_transferred',\n",
    "    'prev3_team',\n",
    "    'prev2_team',\n",
    "    'prev1_team',\n",
    "    'prev3_div',\n",
    "    'prev2_div',\n",
    "    'prev1_div', \n",
    "    'prev3_num_played',\n",
    "    'prev2_num_played',\n",
    "    'prev1_num_played', \n",
    "    'prev3_scores',\n",
    "    'prev2_scores',\n",
    "    'prev1_scores', \n",
    "    'prev3_time_played',\n",
    "    'prev2_time_played',\n",
    "    'prev1_time_played'\n",
    "]"
   ]
  },
  {
   "cell_type": "code",
   "execution_count": 21,
   "metadata": {},
   "outputs": [],
   "source": [
    "# カテゴリ変数\n",
    "categorical_features = ['team', 'position', 'nationality', 'prev3_team', 'prev2_team', 'prev1_team', 'prev3_div', 'prev2_div', 'prev1_div']"
   ]
  },
  {
   "cell_type": "code",
   "execution_count": 22,
   "metadata": {},
   "outputs": [],
   "source": [
    "# lightgbmパラメータ\n",
    "lgb_params = {\n",
    "    'objective': 'regression',\n",
    "    'metric': 'rmse',\n",
    "    'random_seed' : 0\n",
    "}"
   ]
  },
  {
   "cell_type": "code",
   "execution_count": 23,
   "metadata": {},
   "outputs": [
    {
     "name": "stderr",
     "output_type": "stream",
     "text": [
      "feature_fraction, val_score: inf:   0%|                                                          | 0/7 [00:00<?, ?it/s]"
     ]
    },
    {
     "name": "stdout",
     "output_type": "stream",
     "text": [
      "Training until validation scores don't improve for 20 rounds\n",
      "[10]\ttraining's rmse: 743.566\tvalid_1's rmse: 883.48\n",
      "[20]\ttraining's rmse: 602.756\tvalid_1's rmse: 850.531\n",
      "[30]\ttraining's rmse: 519.04\tvalid_1's rmse: 853.669\n",
      "[40]\ttraining's rmse: 453.026\tvalid_1's rmse: 855.67\n",
      "Early stopping, best iteration is:\n",
      "[23]\ttraining's rmse: 573.636\tvalid_1's rmse: 848.006\n"
     ]
    },
    {
     "name": "stderr",
     "output_type": "stream",
     "text": [
      "feature_fraction, val_score: 848.006061:  14%|######1                                    | 1/7 [00:00<00:00,  8.48it/s][I 2020-08-04 00:33:04,087] Trial 0 finished with value: 848.0060606210894 and parameters: {'feature_fraction': 0.4}. Best is trial 0 with value: 848.0060606210894.\n",
      "feature_fraction, val_score: 848.006061:  14%|######1                                    | 1/7 [00:00<00:00,  8.48it/s]"
     ]
    },
    {
     "name": "stdout",
     "output_type": "stream",
     "text": [
      "Training until validation scores don't improve for 20 rounds\n",
      "[10]\ttraining's rmse: 707.889\tvalid_1's rmse: 876.852\n",
      "[20]\ttraining's rmse: 569.898\tvalid_1's rmse: 860.067\n",
      "[30]\ttraining's rmse: 480.926\tvalid_1's rmse: 859.436\n",
      "Early stopping, best iteration is:\n",
      "[18]\ttraining's rmse: 591.337\tvalid_1's rmse: 859.151\n"
     ]
    },
    {
     "name": "stderr",
     "output_type": "stream",
     "text": [
      "feature_fraction, val_score: 848.006061:  14%|######1                                    | 1/7 [00:00<00:00,  8.48it/s][I 2020-08-04 00:33:04,183] Trial 1 finished with value: 859.1506374871299 and parameters: {'feature_fraction': 0.7}. Best is trial 0 with value: 848.0060606210894.\n",
      "feature_fraction, val_score: 848.006061:  29%|############2                              | 2/7 [00:00<00:00,  8.48it/s]"
     ]
    },
    {
     "name": "stdout",
     "output_type": "stream",
     "text": [
      "Training until validation scores don't improve for 20 rounds\n",
      "[10]\ttraining's rmse: 694.9\tvalid_1's rmse: 873.98\n",
      "[20]\ttraining's rmse: 554.407\tvalid_1's rmse: 857.317\n",
      "[30]\ttraining's rmse: 461.1\tvalid_1's rmse: 857.279\n",
      "[40]\ttraining's rmse: 393.829\tvalid_1's rmse: 858.145\n",
      "Early stopping, best iteration is:\n",
      "[25]\ttraining's rmse: 506.066\tvalid_1's rmse: 855.394\n"
     ]
    },
    {
     "name": "stderr",
     "output_type": "stream",
     "text": [
      "feature_fraction, val_score: 848.006061:  43%|##################4                        | 3/7 [00:00<00:00,  8.39it/s][I 2020-08-04 00:33:04,331] Trial 2 finished with value: 855.3941626533265 and parameters: {'feature_fraction': 1.0}. Best is trial 0 with value: 848.0060606210894.\n",
      "feature_fraction, val_score: 848.006061:  43%|##################4                        | 3/7 [00:00<00:00,  8.39it/s]"
     ]
    },
    {
     "name": "stdout",
     "output_type": "stream",
     "text": [
      "Training until validation scores don't improve for 20 rounds\n",
      "[10]\ttraining's rmse: 716.22\tvalid_1's rmse: 881.748\n",
      "[20]\ttraining's rmse: 571.221\tvalid_1's rmse: 862.858\n",
      "[30]\ttraining's rmse: 485.277\tvalid_1's rmse: 867.486\n",
      "Early stopping, best iteration is:\n",
      "[17]\ttraining's rmse: 605.039\tvalid_1's rmse: 862.194\n"
     ]
    },
    {
     "name": "stderr",
     "output_type": "stream",
     "text": [
      "feature_fraction, val_score: 848.006061:  57%|########################5                  | 4/7 [00:00<00:00,  8.57it/s][I 2020-08-04 00:33:04,441] Trial 3 finished with value: 862.1935754451741 and parameters: {'feature_fraction': 0.6}. Best is trial 0 with value: 848.0060606210894.\n",
      "feature_fraction, val_score: 848.006061:  57%|########################5                  | 4/7 [00:00<00:00,  8.57it/s]"
     ]
    },
    {
     "name": "stdout",
     "output_type": "stream",
     "text": [
      "Training until validation scores don't improve for 20 rounds\n",
      "[10]\ttraining's rmse: 727.381\tvalid_1's rmse: 882.472\n",
      "[20]\ttraining's rmse: 583.554\tvalid_1's rmse: 858.859\n",
      "[30]\ttraining's rmse: 494.96\tvalid_1's rmse: 858.9\n",
      "Early stopping, best iteration is:\n",
      "[17]\ttraining's rmse: 617.932\tvalid_1's rmse: 857.423\n"
     ]
    },
    {
     "name": "stderr",
     "output_type": "stream",
     "text": [
      "feature_fraction, val_score: 848.006061:  71%|##############################7            | 5/7 [00:00<00:00,  8.89it/s][I 2020-08-04 00:33:04,544] Trial 4 finished with value: 857.4231955741209 and parameters: {'feature_fraction': 0.5}. Best is trial 0 with value: 848.0060606210894.\n",
      "feature_fraction, val_score: 848.006061:  71%|##############################7            | 5/7 [00:00<00:00,  8.89it/s]"
     ]
    },
    {
     "name": "stdout",
     "output_type": "stream",
     "text": [
      "Training until validation scores don't improve for 20 rounds\n",
      "[10]\ttraining's rmse: 701.066\tvalid_1's rmse: 874.351\n",
      "[20]\ttraining's rmse: 558.024\tvalid_1's rmse: 859.481\n",
      "[30]\ttraining's rmse: 465.362\tvalid_1's rmse: 859.608\n",
      "[40]\ttraining's rmse: 395.625\tvalid_1's rmse: 865.903\n",
      "Early stopping, best iteration is:\n",
      "[25]\ttraining's rmse: 507.007\tvalid_1's rmse: 858.52\n"
     ]
    },
    {
     "name": "stderr",
     "output_type": "stream",
     "text": [
      "feature_fraction, val_score: 848.006061:  86%|####################################8      | 6/7 [00:00<00:00,  8.08it/s][I 2020-08-04 00:33:04,694] Trial 5 finished with value: 858.520068959077 and parameters: {'feature_fraction': 0.8999999999999999}. Best is trial 0 with value: 848.0060606210894.\n",
      "feature_fraction, val_score: 848.006061:  86%|####################################8      | 6/7 [00:00<00:00,  8.08it/s]"
     ]
    },
    {
     "name": "stdout",
     "output_type": "stream",
     "text": [
      "Training until validation scores don't improve for 20 rounds\n",
      "[10]\ttraining's rmse: 703.669\tvalid_1's rmse: 875.669\n",
      "[20]\ttraining's rmse: 562.883\tvalid_1's rmse: 856.794\n",
      "[30]\ttraining's rmse: 474.699\tvalid_1's rmse: 857.468\n",
      "[40]\ttraining's rmse: 408.707\tvalid_1's rmse: 860.087\n",
      "Early stopping, best iteration is:\n",
      "[20]\ttraining's rmse: 562.883\tvalid_1's rmse: 856.794\n"
     ]
    },
    {
     "name": "stderr",
     "output_type": "stream",
     "text": [
      "feature_fraction, val_score: 848.006061: 100%|###########################################| 7/7 [00:00<00:00,  8.42it/s][I 2020-08-04 00:33:04,801] Trial 6 finished with value: 856.7944525568158 and parameters: {'feature_fraction': 0.8}. Best is trial 0 with value: 848.0060606210894.\n",
      "feature_fraction, val_score: 848.006061: 100%|###########################################| 7/7 [00:00<00:00,  8.36it/s]\n",
      "num_leaves, val_score: 848.006061:   0%|                                                        | 0/20 [00:00<?, ?it/s]"
     ]
    },
    {
     "name": "stdout",
     "output_type": "stream",
     "text": [
      "Training until validation scores don't improve for 20 rounds\n",
      "[10]\ttraining's rmse: 738.575\tvalid_1's rmse: 885.718\n",
      "[20]\ttraining's rmse: 599.133\tvalid_1's rmse: 853.515\n",
      "[30]\ttraining's rmse: 511.225\tvalid_1's rmse: 852.893\n",
      "[40]\ttraining's rmse: 445.476\tvalid_1's rmse: 855.726\n",
      "Early stopping, best iteration is:\n",
      "[23]\ttraining's rmse: 568.694\tvalid_1's rmse: 849.668\n"
     ]
    },
    {
     "name": "stderr",
     "output_type": "stream",
     "text": [
      "num_leaves, val_score: 848.006061:   5%|##4                                             | 1/20 [00:00<00:02,  8.70it/s][I 2020-08-04 00:33:04,927] Trial 7 finished with value: 849.668188172091 and parameters: {'num_leaves': 220}. Best is trial 7 with value: 849.668188172091.\n",
      "num_leaves, val_score: 848.006061:   5%|##4                                             | 1/20 [00:00<00:02,  8.70it/s]"
     ]
    },
    {
     "name": "stdout",
     "output_type": "stream",
     "text": [
      "Training until validation scores don't improve for 20 rounds\n",
      "[10]\ttraining's rmse: 740.146\tvalid_1's rmse: 882.912\n",
      "[20]\ttraining's rmse: 600.06\tvalid_1's rmse: 845.939\n",
      "[30]\ttraining's rmse: 509.281\tvalid_1's rmse: 847.193\n",
      "[40]\ttraining's rmse: 439.109\tvalid_1's rmse: 850.262\n",
      "Early stopping, best iteration is:\n",
      "[21]\ttraining's rmse: 590.861\tvalid_1's rmse: 843.57\n"
     ]
    },
    {
     "name": "stderr",
     "output_type": "stream",
     "text": [
      "num_leaves, val_score: 843.569985:  10%|####8                                           | 2/20 [00:00<00:01,  9.01it/s][I 2020-08-04 00:33:05,028] Trial 8 finished with value: 843.5699845264014 and parameters: {'num_leaves': 37}. Best is trial 8 with value: 843.5699845264014.\n",
      "num_leaves, val_score: 843.569985:  10%|####8                                           | 2/20 [00:00<00:01,  9.01it/s]"
     ]
    },
    {
     "name": "stdout",
     "output_type": "stream",
     "text": [
      "Training until validation scores don't improve for 20 rounds\n",
      "[10]\ttraining's rmse: 738.575\tvalid_1's rmse: 885.718\n",
      "[20]\ttraining's rmse: 599.133\tvalid_1's rmse: 853.515\n",
      "[30]\ttraining's rmse: 511.225\tvalid_1's rmse: 852.893\n",
      "[40]\ttraining's rmse: 445.476\tvalid_1's rmse: 855.726\n",
      "Early stopping, best iteration is:\n",
      "[23]\ttraining's rmse: 568.694\tvalid_1's rmse: 849.668\n"
     ]
    },
    {
     "name": "stderr",
     "output_type": "stream",
     "text": [
      "num_leaves, val_score: 843.569985:  15%|#######2                                        | 3/20 [00:00<00:01,  8.66it/s][I 2020-08-04 00:33:05,156] Trial 9 finished with value: 849.668188172091 and parameters: {'num_leaves': 45}. Best is trial 8 with value: 843.5699845264014.\n",
      "num_leaves, val_score: 843.569985:  15%|#######2                                        | 3/20 [00:00<00:01,  8.66it/s]"
     ]
    },
    {
     "name": "stdout",
     "output_type": "stream",
     "text": [
      "Training until validation scores don't improve for 20 rounds\n",
      "[10]\ttraining's rmse: 821.217\tvalid_1's rmse: 900.158\n",
      "[20]\ttraining's rmse: 729.771\tvalid_1's rmse: 860.087\n",
      "[30]\ttraining's rmse: 681.496\tvalid_1's rmse: 850.03\n",
      "[40]\ttraining's rmse: 647.07\tvalid_1's rmse: 849.063\n",
      "[50]\ttraining's rmse: 618.743\tvalid_1's rmse: 848.664\n",
      "Early stopping, best iteration is:\n",
      "[39]\ttraining's rmse: 650.651\tvalid_1's rmse: 848.065\n"
     ]
    },
    {
     "name": "stderr",
     "output_type": "stream",
     "text": [
      "num_leaves, val_score: 843.569985:  15%|#######2                                        | 3/20 [00:00<00:01,  8.66it/s][I 2020-08-04 00:33:05,233] Trial 10 finished with value: 848.0653285207649 and parameters: {'num_leaves': 8}. Best is trial 8 with value: 843.5699845264014.\n",
      "num_leaves, val_score: 843.569985:  20%|#########6                                      | 4/20 [00:00<00:01,  8.66it/s]"
     ]
    },
    {
     "name": "stdout",
     "output_type": "stream",
     "text": [
      "Training until validation scores don't improve for 20 rounds\n",
      "[10]\ttraining's rmse: 738.575\tvalid_1's rmse: 885.718\n",
      "[20]\ttraining's rmse: 599.133\tvalid_1's rmse: 853.515\n",
      "[30]\ttraining's rmse: 511.225\tvalid_1's rmse: 852.893\n",
      "[40]\ttraining's rmse: 445.476\tvalid_1's rmse: 855.726\n",
      "Early stopping, best iteration is:\n",
      "[23]\ttraining's rmse: 568.694\tvalid_1's rmse: 849.668\n"
     ]
    },
    {
     "name": "stderr",
     "output_type": "stream",
     "text": [
      "num_leaves, val_score: 843.569985:  25%|############                                    | 5/20 [00:00<00:01,  9.02it/s][I 2020-08-04 00:33:05,354] Trial 11 finished with value: 849.668188172091 and parameters: {'num_leaves': 91}. Best is trial 8 with value: 843.5699845264014.\n",
      "num_leaves, val_score: 843.569985:  25%|############                                    | 5/20 [00:00<00:01,  9.02it/s]"
     ]
    },
    {
     "name": "stdout",
     "output_type": "stream",
     "text": [
      "Training until validation scores don't improve for 20 rounds\n",
      "[10]\ttraining's rmse: 738.575\tvalid_1's rmse: 885.718\n",
      "[20]\ttraining's rmse: 599.133\tvalid_1's rmse: 853.515\n",
      "[30]\ttraining's rmse: 511.225\tvalid_1's rmse: 852.893\n",
      "[40]\ttraining's rmse: 445.476\tvalid_1's rmse: 855.726\n",
      "Early stopping, best iteration is:\n",
      "[23]\ttraining's rmse: 568.694\tvalid_1's rmse: 849.668\n"
     ]
    },
    {
     "name": "stderr",
     "output_type": "stream",
     "text": [
      "num_leaves, val_score: 843.569985:  30%|##############4                                 | 6/20 [00:00<00:01,  8.43it/s][I 2020-08-04 00:33:05,491] Trial 12 finished with value: 849.668188172091 and parameters: {'num_leaves': 172}. Best is trial 8 with value: 843.5699845264014.\n",
      "num_leaves, val_score: 843.569985:  30%|##############4                                 | 6/20 [00:00<00:01,  8.43it/s]"
     ]
    },
    {
     "name": "stdout",
     "output_type": "stream",
     "text": [
      "Training until validation scores don't improve for 20 rounds\n",
      "[10]\ttraining's rmse: 738.575\tvalid_1's rmse: 885.718\n",
      "[20]\ttraining's rmse: 599.133\tvalid_1's rmse: 853.515\n",
      "[30]\ttraining's rmse: 511.225\tvalid_1's rmse: 852.893\n",
      "[40]\ttraining's rmse: 445.476\tvalid_1's rmse: 855.726\n",
      "Early stopping, best iteration is:\n",
      "[23]\ttraining's rmse: 568.694\tvalid_1's rmse: 849.668\n"
     ]
    },
    {
     "name": "stderr",
     "output_type": "stream",
     "text": [
      "num_leaves, val_score: 843.569985:  35%|################7                               | 7/20 [00:00<00:01,  8.34it/s][I 2020-08-04 00:33:05,613] Trial 13 finished with value: 849.668188172091 and parameters: {'num_leaves': 98}. Best is trial 8 with value: 843.5699845264014.\n",
      "num_leaves, val_score: 843.569985:  35%|################7                               | 7/20 [00:00<00:01,  8.34it/s]"
     ]
    },
    {
     "name": "stdout",
     "output_type": "stream",
     "text": [
      "Training until validation scores don't improve for 20 rounds\n",
      "[10]\ttraining's rmse: 836.84\tvalid_1's rmse: 903.637\n",
      "[20]\ttraining's rmse: 751.403\tvalid_1's rmse: 861.643\n",
      "[30]\ttraining's rmse: 709.483\tvalid_1's rmse: 853.699\n",
      "[40]\ttraining's rmse: 680.403\tvalid_1's rmse: 849.59\n",
      "[50]\ttraining's rmse: 656.397\tvalid_1's rmse: 846.032\n",
      "[60]\ttraining's rmse: 635.547\tvalid_1's rmse: 846.703\n",
      "[70]\ttraining's rmse: 618.952\tvalid_1's rmse: 846.123\n",
      "[80]\ttraining's rmse: 601.784\tvalid_1's rmse: 849.491\n",
      "Early stopping, best iteration is:\n",
      "[69]\ttraining's rmse: 620.505\tvalid_1's rmse: 845.638\n"
     ]
    },
    {
     "name": "stderr",
     "output_type": "stream",
     "text": [
      "num_leaves, val_score: 843.569985:  40%|###################2                            | 8/20 [00:01<00:01,  6.92it/s][I 2020-08-04 00:33:05,817] Trial 14 finished with value: 845.6381893096155 and parameters: {'num_leaves': 6}. Best is trial 8 with value: 843.5699845264014.\n",
      "num_leaves, val_score: 843.569985:  40%|###################2                            | 8/20 [00:01<00:01,  6.92it/s]"
     ]
    },
    {
     "name": "stdout",
     "output_type": "stream",
     "text": [
      "Training until validation scores don't improve for 20 rounds\n",
      "[10]\ttraining's rmse: 803.891\tvalid_1's rmse: 895.373\n",
      "[20]\ttraining's rmse: 697.587\tvalid_1's rmse: 858.689\n",
      "[30]\ttraining's rmse: 642.55\tvalid_1's rmse: 856.696\n",
      "[40]\ttraining's rmse: 602.918\tvalid_1's rmse: 858.551\n",
      "Early stopping, best iteration is:\n",
      "[23]\ttraining's rmse: 677.697\tvalid_1's rmse: 855.419\n"
     ]
    },
    {
     "name": "stderr",
     "output_type": "stream",
     "text": [
      "num_leaves, val_score: 843.569985:  40%|###################2                            | 8/20 [00:01<00:01,  6.92it/s][I 2020-08-04 00:33:05,889] Trial 15 finished with value: 855.4188434075268 and parameters: {'num_leaves': 11}. Best is trial 8 with value: 843.5699845264014.\n",
      "num_leaves, val_score: 843.569985:  45%|#####################6                          | 9/20 [00:01<00:01,  6.92it/s]"
     ]
    },
    {
     "name": "stdout",
     "output_type": "stream",
     "text": [
      "Training until validation scores don't improve for 20 rounds\n",
      "[10]\ttraining's rmse: 738.575\tvalid_1's rmse: 885.718\n",
      "[20]\ttraining's rmse: 599.133\tvalid_1's rmse: 853.515\n",
      "[30]\ttraining's rmse: 511.225\tvalid_1's rmse: 852.893\n",
      "[40]\ttraining's rmse: 445.476\tvalid_1's rmse: 855.726\n",
      "Early stopping, best iteration is:\n",
      "[23]\ttraining's rmse: 568.694\tvalid_1's rmse: 849.668\n"
     ]
    },
    {
     "name": "stderr",
     "output_type": "stream",
     "text": [
      "num_leaves, val_score: 843.569985:  50%|#######################5                       | 10/20 [00:01<00:01,  7.75it/s][I 2020-08-04 00:33:06,002] Trial 16 finished with value: 849.668188172091 and parameters: {'num_leaves': 49}. Best is trial 8 with value: 843.5699845264014.\n",
      "num_leaves, val_score: 843.569985:  50%|#######################5                       | 10/20 [00:01<00:01,  7.75it/s]"
     ]
    },
    {
     "name": "stdout",
     "output_type": "stream",
     "text": [
      "Training until validation scores don't improve for 20 rounds\n",
      "[10]\ttraining's rmse: 780.291\tvalid_1's rmse: 894.1\n",
      "[20]\ttraining's rmse: 660.558\tvalid_1's rmse: 857.441\n",
      "[30]\ttraining's rmse: 593.64\tvalid_1's rmse: 850.534\n",
      "[40]\ttraining's rmse: 545.411\tvalid_1's rmse: 853.401\n",
      "Early stopping, best iteration is:\n",
      "[26]\ttraining's rmse: 617.051\tvalid_1's rmse: 850.417\n"
     ]
    },
    {
     "name": "stderr",
     "output_type": "stream",
     "text": [
      "num_leaves, val_score: 843.569985:  50%|#######################5                       | 10/20 [00:01<00:01,  7.75it/s][I 2020-08-04 00:33:06,101] Trial 17 finished with value: 850.4171777839196 and parameters: {'num_leaves': 16}. Best is trial 8 with value: 843.5699845264014.\n",
      "num_leaves, val_score: 843.569985:  55%|#########################8                     | 11/20 [00:01<00:01,  7.75it/s]"
     ]
    },
    {
     "name": "stdout",
     "output_type": "stream",
     "text": [
      "Training until validation scores don't improve for 20 rounds\n",
      "[10]\ttraining's rmse: 738.575\tvalid_1's rmse: 885.718\n",
      "[20]\ttraining's rmse: 599.133\tvalid_1's rmse: 853.515\n",
      "[30]\ttraining's rmse: 511.225\tvalid_1's rmse: 852.893\n",
      "[40]\ttraining's rmse: 445.476\tvalid_1's rmse: 855.726\n",
      "Early stopping, best iteration is:\n",
      "[23]\ttraining's rmse: 568.694\tvalid_1's rmse: 849.668\n"
     ]
    },
    {
     "name": "stderr",
     "output_type": "stream",
     "text": [
      "num_leaves, val_score: 843.569985:  60%|############################2                  | 12/20 [00:01<00:01,  7.77it/s][I 2020-08-04 00:33:06,258] Trial 18 finished with value: 849.668188172091 and parameters: {'num_leaves': 60}. Best is trial 8 with value: 843.5699845264014.\n",
      "num_leaves, val_score: 843.569985:  60%|############################2                  | 12/20 [00:01<00:01,  7.77it/s]"
     ]
    },
    {
     "name": "stdout",
     "output_type": "stream",
     "text": [
      "Training until validation scores don't improve for 20 rounds\n",
      "[10]\ttraining's rmse: 738.575\tvalid_1's rmse: 885.718\n",
      "[20]\ttraining's rmse: 599.133\tvalid_1's rmse: 853.515\n",
      "[30]\ttraining's rmse: 511.225\tvalid_1's rmse: 852.893\n",
      "[40]\ttraining's rmse: 445.476\tvalid_1's rmse: 855.726\n",
      "Early stopping, best iteration is:\n",
      "[23]\ttraining's rmse: 568.694\tvalid_1's rmse: 849.668\n"
     ]
    },
    {
     "name": "stderr",
     "output_type": "stream",
     "text": [
      "num_leaves, val_score: 843.569985:  65%|##############################5                | 13/20 [00:01<00:00,  7.91it/s][I 2020-08-04 00:33:06,379] Trial 19 finished with value: 849.668188172091 and parameters: {'num_leaves': 140}. Best is trial 8 with value: 843.5699845264014.\n",
      "num_leaves, val_score: 843.569985:  65%|##############################5                | 13/20 [00:01<00:00,  7.91it/s]"
     ]
    },
    {
     "name": "stdout",
     "output_type": "stream",
     "text": [
      "Training until validation scores don't improve for 20 rounds\n",
      "[10]\ttraining's rmse: 836.84\tvalid_1's rmse: 903.637\n",
      "[20]\ttraining's rmse: 751.403\tvalid_1's rmse: 861.643\n",
      "[30]\ttraining's rmse: 709.483\tvalid_1's rmse: 853.699\n",
      "[40]\ttraining's rmse: 680.403\tvalid_1's rmse: 849.59\n",
      "[50]\ttraining's rmse: 656.397\tvalid_1's rmse: 846.032\n",
      "[60]\ttraining's rmse: 635.547\tvalid_1's rmse: 846.703\n",
      "[70]\ttraining's rmse: 618.952\tvalid_1's rmse: 846.123\n",
      "[80]\ttraining's rmse: 601.784\tvalid_1's rmse: 849.491\n",
      "Early stopping, best iteration is:\n",
      "[69]\ttraining's rmse: 620.505\tvalid_1's rmse: 845.638\n"
     ]
    },
    {
     "name": "stderr",
     "output_type": "stream",
     "text": [
      "num_leaves, val_score: 843.569985:  65%|##############################5                | 13/20 [00:01<00:00,  7.91it/s][I 2020-08-04 00:33:06,470] Trial 20 finished with value: 845.6381893096155 and parameters: {'num_leaves': 6}. Best is trial 8 with value: 843.5699845264014.\n",
      "num_leaves, val_score: 843.569985:  70%|################################9              | 14/20 [00:01<00:00,  7.91it/s]"
     ]
    },
    {
     "name": "stdout",
     "output_type": "stream",
     "text": [
      "Training until validation scores don't improve for 20 rounds\n",
      "[10]\ttraining's rmse: 855.998\tvalid_1's rmse: 913.643\n",
      "[20]\ttraining's rmse: 783.979\tvalid_1's rmse: 871.555\n",
      "[30]\ttraining's rmse: 749.461\tvalid_1's rmse: 856.911\n",
      "[40]\ttraining's rmse: 727.068\tvalid_1's rmse: 855.844\n",
      "[50]\ttraining's rmse: 709.111\tvalid_1's rmse: 853.113\n",
      "[60]\ttraining's rmse: 692.89\tvalid_1's rmse: 852.911\n",
      "[70]\ttraining's rmse: 679.715\tvalid_1's rmse: 854.268\n",
      "[80]\ttraining's rmse: 665.858\tvalid_1's rmse: 852.039\n",
      "[90]\ttraining's rmse: 655.726\tvalid_1's rmse: 851.639\n",
      "[100]\ttraining's rmse: 645.365\tvalid_1's rmse: 852.47\n",
      "Early stopping, best iteration is:\n",
      "[85]\ttraining's rmse: 660.658\tvalid_1's rmse: 850.979\n"
     ]
    },
    {
     "name": "stderr",
     "output_type": "stream",
     "text": [
      "num_leaves, val_score: 843.569985:  75%|###################################2           | 15/20 [00:01<00:00,  8.40it/s][I 2020-08-04 00:33:06,583] Trial 21 finished with value: 850.978652707906 and parameters: {'num_leaves': 4}. Best is trial 8 with value: 843.5699845264014.\n",
      "num_leaves, val_score: 843.569985:  75%|###################################2           | 15/20 [00:01<00:00,  8.40it/s]"
     ]
    },
    {
     "name": "stdout",
     "output_type": "stream",
     "text": [
      "Training until validation scores don't improve for 20 rounds\n",
      "[10]\ttraining's rmse: 892.775\tvalid_1's rmse: 940.241\n",
      "[20]\ttraining's rmse: 837.506\tvalid_1's rmse: 894.786\n",
      "[30]\ttraining's rmse: 813.324\tvalid_1's rmse: 877.631\n",
      "[40]\ttraining's rmse: 798.199\tvalid_1's rmse: 872.591\n",
      "[50]\ttraining's rmse: 787.103\tvalid_1's rmse: 868.385\n",
      "[60]\ttraining's rmse: 778.63\tvalid_1's rmse: 866.03\n",
      "[70]\ttraining's rmse: 771.841\tvalid_1's rmse: 863.209\n",
      "[80]\ttraining's rmse: 765.927\tvalid_1's rmse: 862.991\n",
      "[90]\ttraining's rmse: 760.592\tvalid_1's rmse: 860.807\n",
      "[100]\ttraining's rmse: 755.684\tvalid_1's rmse: 858.404\n",
      "[110]\ttraining's rmse: 751.222\tvalid_1's rmse: 857.102\n",
      "[120]\ttraining's rmse: 747.192\tvalid_1's rmse: 856.943\n",
      "[130]\ttraining's rmse: 743.447\tvalid_1's rmse: 854.894\n",
      "[140]\ttraining's rmse: 739.907\tvalid_1's rmse: 853.202\n",
      "[150]\ttraining's rmse: 736.612\tvalid_1's rmse: 853.076\n",
      "[160]\ttraining's rmse: 733.641\tvalid_1's rmse: 852.951\n",
      "[170]\ttraining's rmse: 730.643\tvalid_1's rmse: 851.777\n",
      "[180]\ttraining's rmse: 727.916\tvalid_1's rmse: 851.235\n",
      "[190]\ttraining's rmse: 725.306\tvalid_1's rmse: 850.758\n",
      "[200]\ttraining's rmse: 722.888\tvalid_1's rmse: 851.615\n",
      "[210]\ttraining's rmse: 720.55\tvalid_1's rmse: 851.666\n",
      "Early stopping, best iteration is:\n",
      "[191]\ttraining's rmse: 725.06\tvalid_1's rmse: 850.352\n"
     ]
    },
    {
     "name": "stderr",
     "output_type": "stream",
     "text": [
      "num_leaves, val_score: 843.569985:  80%|#####################################6         | 16/20 [00:01<00:00,  7.76it/s][I 2020-08-04 00:33:06,735] Trial 22 finished with value: 850.3521144730253 and parameters: {'num_leaves': 2}. Best is trial 8 with value: 843.5699845264014.\n",
      "num_leaves, val_score: 843.569985:  80%|#####################################6         | 16/20 [00:01<00:00,  7.76it/s]"
     ]
    },
    {
     "name": "stdout",
     "output_type": "stream",
     "text": [
      "Training until validation scores don't improve for 20 rounds\n",
      "[10]\ttraining's rmse: 738.575\tvalid_1's rmse: 885.718\n",
      "[20]\ttraining's rmse: 599.133\tvalid_1's rmse: 853.515\n",
      "[30]\ttraining's rmse: 511.225\tvalid_1's rmse: 852.893\n",
      "[40]\ttraining's rmse: 445.476\tvalid_1's rmse: 855.726\n",
      "Early stopping, best iteration is:\n",
      "[23]\ttraining's rmse: 568.694\tvalid_1's rmse: 849.668\n"
     ]
    },
    {
     "name": "stderr",
     "output_type": "stream",
     "text": [
      "num_leaves, val_score: 843.569985:  85%|#######################################9       | 17/20 [00:02<00:00,  7.92it/s][I 2020-08-04 00:33:06,856] Trial 23 finished with value: 849.668188172091 and parameters: {'num_leaves': 43}. Best is trial 8 with value: 843.5699845264014.\n",
      "num_leaves, val_score: 843.569985:  85%|#######################################9       | 17/20 [00:02<00:00,  7.92it/s]"
     ]
    },
    {
     "name": "stdout",
     "output_type": "stream",
     "text": [
      "Training until validation scores don't improve for 20 rounds\n",
      "[10]\ttraining's rmse: 738.575\tvalid_1's rmse: 885.718\n",
      "[20]\ttraining's rmse: 599.133\tvalid_1's rmse: 853.515\n",
      "[30]\ttraining's rmse: 511.225\tvalid_1's rmse: 852.893\n",
      "[40]\ttraining's rmse: 445.476\tvalid_1's rmse: 855.726\n",
      "Early stopping, best iteration is:\n",
      "[23]\ttraining's rmse: 568.694\tvalid_1's rmse: 849.668\n"
     ]
    },
    {
     "name": "stderr",
     "output_type": "stream",
     "text": [
      "num_leaves, val_score: 843.569985:  90%|##########################################3    | 18/20 [00:02<00:00,  8.12it/s][I 2020-08-04 00:33:06,971] Trial 24 finished with value: 849.668188172091 and parameters: {'num_leaves': 81}. Best is trial 8 with value: 843.5699845264014.\n",
      "num_leaves, val_score: 843.569985:  90%|##########################################3    | 18/20 [00:02<00:00,  8.12it/s]"
     ]
    },
    {
     "name": "stdout",
     "output_type": "stream",
     "text": [
      "Training until validation scores don't improve for 20 rounds\n",
      "[10]\ttraining's rmse: 742.013\tvalid_1's rmse: 882.943\n",
      "[20]\ttraining's rmse: 601.471\tvalid_1's rmse: 848.23\n",
      "[30]\ttraining's rmse: 516.77\tvalid_1's rmse: 851.4\n",
      "[40]\ttraining's rmse: 452.784\tvalid_1's rmse: 852.335\n",
      "Early stopping, best iteration is:\n",
      "[21]\ttraining's rmse: 591.695\tvalid_1's rmse: 847.37\n"
     ]
    },
    {
     "name": "stderr",
     "output_type": "stream",
     "text": [
      "num_leaves, val_score: 843.569985:  90%|##########################################3    | 18/20 [00:02<00:00,  8.12it/s][I 2020-08-04 00:33:07,068] Trial 25 finished with value: 847.3701259058566 and parameters: {'num_leaves': 32}. Best is trial 8 with value: 843.5699845264014.\n",
      "num_leaves, val_score: 843.569985:  95%|############################################6  | 19/20 [00:02<00:00,  8.12it/s]"
     ]
    },
    {
     "name": "stdout",
     "output_type": "stream",
     "text": [
      "Training until validation scores don't improve for 20 rounds\n",
      "[10]\ttraining's rmse: 738.575\tvalid_1's rmse: 885.718\n",
      "[20]\ttraining's rmse: 599.133\tvalid_1's rmse: 853.515\n",
      "[30]\ttraining's rmse: 511.225\tvalid_1's rmse: 852.893\n",
      "[40]\ttraining's rmse: 445.476\tvalid_1's rmse: 855.726\n",
      "Early stopping, best iteration is:\n",
      "[23]\ttraining's rmse: 568.694\tvalid_1's rmse: 849.668\n"
     ]
    },
    {
     "name": "stderr",
     "output_type": "stream",
     "text": [
      "num_leaves, val_score: 843.569985: 100%|###############################################| 20/20 [00:02<00:00,  8.48it/s][I 2020-08-04 00:33:07,182] Trial 26 finished with value: 849.668188172091 and parameters: {'num_leaves': 72}. Best is trial 8 with value: 843.5699845264014.\n",
      "num_leaves, val_score: 843.569985: 100%|###############################################| 20/20 [00:02<00:00,  8.42it/s]\n",
      "bagging, val_score: 843.569985:   0%|                                                           | 0/10 [00:00<?, ?it/s]"
     ]
    },
    {
     "name": "stdout",
     "output_type": "stream",
     "text": [
      "Training until validation scores don't improve for 20 rounds\n",
      "[10]\ttraining's rmse: 752.229\tvalid_1's rmse: 888.952\n",
      "[20]\ttraining's rmse: 620.403\tvalid_1's rmse: 862.494\n",
      "[30]\ttraining's rmse: 541.274\tvalid_1's rmse: 856.221\n",
      "[40]\ttraining's rmse: 479.815\tvalid_1's rmse: 859.957\n",
      "[50]\ttraining's rmse: 425.765\tvalid_1's rmse: 860.821\n",
      "Early stopping, best iteration is:\n",
      "[32]\ttraining's rmse: 527.635\tvalid_1's rmse: 854.512\n"
     ]
    },
    {
     "name": "stderr",
     "output_type": "stream",
     "text": [
      "bagging, val_score: 843.569985:  10%|#####1                                             | 1/10 [00:00<00:01,  7.58it/s][I 2020-08-04 00:33:07,326] Trial 27 finished with value: 854.5119715874727 and parameters: {'bagging_fraction': 0.8643213023254055, 'bagging_freq': 1}. Best is trial 27 with value: 854.5119715874727.\n",
      "bagging, val_score: 843.569985:  10%|#####1                                             | 1/10 [00:00<00:01,  7.58it/s]"
     ]
    },
    {
     "name": "stdout",
     "output_type": "stream",
     "text": [
      "Training until validation scores don't improve for 20 rounds\n",
      "[10]\ttraining's rmse: 812.777\tvalid_1's rmse: 907.336\n",
      "[20]\ttraining's rmse: 730.824\tvalid_1's rmse: 863.875\n",
      "[30]\ttraining's rmse: 677.949\tvalid_1's rmse: 865.056\n",
      "[40]\ttraining's rmse: 645.283\tvalid_1's rmse: 863.448\n",
      "Early stopping, best iteration is:\n",
      "[24]\ttraining's rmse: 706.74\tvalid_1's rmse: 860.609\n"
     ]
    },
    {
     "name": "stderr",
     "output_type": "stream",
     "text": [
      "bagging, val_score: 843.569985:  10%|#####1                                             | 1/10 [00:00<00:01,  7.58it/s][I 2020-08-04 00:33:07,413] Trial 28 finished with value: 860.6094356812239 and parameters: {'bagging_fraction': 0.4131229008694742, 'bagging_freq': 7}. Best is trial 27 with value: 854.5119715874727.\n",
      "bagging, val_score: 843.569985:  20%|##########2                                        | 2/10 [00:00<00:01,  7.58it/s]"
     ]
    },
    {
     "name": "stdout",
     "output_type": "stream",
     "text": [
      "Training until validation scores don't improve for 20 rounds\n",
      "[10]\ttraining's rmse: 804.848\tvalid_1's rmse: 900.107\n",
      "[20]\ttraining's rmse: 721.42\tvalid_1's rmse: 866.56\n",
      "[30]\ttraining's rmse: 667.721\tvalid_1's rmse: 868.267\n",
      "[40]\ttraining's rmse: 630.308\tvalid_1's rmse: 872.565\n",
      "Early stopping, best iteration is:\n",
      "[24]\ttraining's rmse: 696.002\tvalid_1's rmse: 864.257\n"
     ]
    },
    {
     "name": "stderr",
     "output_type": "stream",
     "text": [
      "bagging, val_score: 843.569985:  30%|###############3                                   | 3/10 [00:00<00:00,  8.44it/s][I 2020-08-04 00:33:07,501] Trial 29 finished with value: 864.2567815594224 and parameters: {'bagging_fraction': 0.4536631212244401, 'bagging_freq': 4}. Best is trial 27 with value: 854.5119715874727.\n",
      "bagging, val_score: 843.569985:  30%|###############3                                   | 3/10 [00:00<00:00,  8.44it/s]"
     ]
    },
    {
     "name": "stdout",
     "output_type": "stream",
     "text": [
      "Training until validation scores don't improve for 20 rounds\n",
      "[10]\ttraining's rmse: 745.601\tvalid_1's rmse: 889.25\n",
      "[20]\ttraining's rmse: 604.772\tvalid_1's rmse: 860.354\n",
      "[30]\ttraining's rmse: 519.814\tvalid_1's rmse: 856.101\n",
      "[40]\ttraining's rmse: 452.238\tvalid_1's rmse: 860.251\n",
      "Early stopping, best iteration is:\n",
      "[27]\ttraining's rmse: 542.729\tvalid_1's rmse: 854.595\n"
     ]
    },
    {
     "name": "stderr",
     "output_type": "stream",
     "text": [
      "bagging, val_score: 843.569985:  40%|####################4                              | 4/10 [00:00<00:00,  8.23it/s][I 2020-08-04 00:33:07,630] Trial 30 finished with value: 854.5954951403605 and parameters: {'bagging_fraction': 0.9777427469447821, 'bagging_freq': 7}. Best is trial 27 with value: 854.5119715874727.\n",
      "bagging, val_score: 843.569985:  40%|####################4                              | 4/10 [00:00<00:00,  8.23it/s]"
     ]
    },
    {
     "name": "stdout",
     "output_type": "stream",
     "text": [
      "Training until validation scores don't improve for 20 rounds\n",
      "[10]\ttraining's rmse: 782.226\tvalid_1's rmse: 896.419\n",
      "[20]\ttraining's rmse: 666.803\tvalid_1's rmse: 859.69\n",
      "[30]\ttraining's rmse: 599.108\tvalid_1's rmse: 851.09\n",
      "[40]\ttraining's rmse: 546.927\tvalid_1's rmse: 851.414\n",
      "[50]\ttraining's rmse: 501.53\tvalid_1's rmse: 858.281\n",
      "Early stopping, best iteration is:\n",
      "[35]\ttraining's rmse: 571.912\tvalid_1's rmse: 845.809\n"
     ]
    },
    {
     "name": "stderr",
     "output_type": "stream",
     "text": [
      "bagging, val_score: 843.569985:  50%|#########################5                         | 5/10 [00:00<00:00,  8.16it/s][I 2020-08-04 00:33:07,755] Trial 31 finished with value: 845.8086552212392 and parameters: {'bagging_fraction': 0.6551040444612735, 'bagging_freq': 1}. Best is trial 31 with value: 845.8086552212392.\n",
      "bagging, val_score: 843.569985:  50%|#########################5                         | 5/10 [00:00<00:00,  8.16it/s]"
     ]
    },
    {
     "name": "stdout",
     "output_type": "stream",
     "text": [
      "Training until validation scores don't improve for 20 rounds\n",
      "[10]\ttraining's rmse: 781.28\tvalid_1's rmse: 895.193\n",
      "[20]\ttraining's rmse: 668.205\tvalid_1's rmse: 858.813\n",
      "[30]\ttraining's rmse: 600.507\tvalid_1's rmse: 853.487\n",
      "[40]\ttraining's rmse: 546.838\tvalid_1's rmse: 855.181\n",
      "Early stopping, best iteration is:\n",
      "[29]\ttraining's rmse: 605.658\tvalid_1's rmse: 852.58\n"
     ]
    },
    {
     "name": "stderr",
     "output_type": "stream",
     "text": [
      "bagging, val_score: 843.569985:  60%|##############################6                    | 6/10 [00:00<00:00,  8.38it/s][I 2020-08-04 00:33:07,867] Trial 32 finished with value: 852.58014229819 and parameters: {'bagging_fraction': 0.6457528331725572, 'bagging_freq': 1}. Best is trial 31 with value: 845.8086552212392.\n",
      "bagging, val_score: 843.569985:  60%|##############################6                    | 6/10 [00:00<00:00,  8.38it/s]"
     ]
    },
    {
     "name": "stdout",
     "output_type": "stream",
     "text": [
      "Training until validation scores don't improve for 20 rounds\n",
      "[10]\ttraining's rmse: 774.13\tvalid_1's rmse: 889.887\n",
      "[20]\ttraining's rmse: 657.779\tvalid_1's rmse: 853.239\n",
      "[30]\ttraining's rmse: 591.261\tvalid_1's rmse: 848.522\n",
      "[40]\ttraining's rmse: 538.651\tvalid_1's rmse: 852.636\n",
      "[50]\ttraining's rmse: 493.013\tvalid_1's rmse: 856.57\n",
      "Early stopping, best iteration is:\n",
      "[31]\ttraining's rmse: 584.835\tvalid_1's rmse: 848.221\n"
     ]
    },
    {
     "name": "stderr",
     "output_type": "stream",
     "text": [
      "bagging, val_score: 843.569985:  70%|###################################6               | 7/10 [00:00<00:00,  8.49it/s][I 2020-08-04 00:33:07,981] Trial 33 finished with value: 848.2206578421712 and parameters: {'bagging_fraction': 0.6723428574971159, 'bagging_freq': 3}. Best is trial 31 with value: 845.8086552212392.\n",
      "bagging, val_score: 843.569985:  70%|###################################6               | 7/10 [00:00<00:00,  8.49it/s]"
     ]
    },
    {
     "name": "stdout",
     "output_type": "stream",
     "text": [
      "Training until validation scores don't improve for 20 rounds\n",
      "[10]\ttraining's rmse: 793.221\tvalid_1's rmse: 893.967\n",
      "[20]\ttraining's rmse: 690.195\tvalid_1's rmse: 858.935\n",
      "[30]\ttraining's rmse: 628.861\tvalid_1's rmse: 854.092\n",
      "[40]\ttraining's rmse: 585.538\tvalid_1's rmse: 857.28\n",
      "[50]\ttraining's rmse: 550.901\tvalid_1's rmse: 870.109\n",
      "Early stopping, best iteration is:\n",
      "[37]\ttraining's rmse: 598.37\tvalid_1's rmse: 853.358\n"
     ]
    },
    {
     "name": "stderr",
     "output_type": "stream",
     "text": [
      "bagging, val_score: 843.569985:  80%|########################################8          | 8/10 [00:00<00:00,  8.51it/s][I 2020-08-04 00:33:08,097] Trial 34 finished with value: 853.3578369220191 and parameters: {'bagging_fraction': 0.5355957026066411, 'bagging_freq': 3}. Best is trial 31 with value: 845.8086552212392.\n",
      "bagging, val_score: 843.569985:  80%|########################################8          | 8/10 [00:00<00:00,  8.51it/s]"
     ]
    },
    {
     "name": "stdout",
     "output_type": "stream",
     "text": [
      "Training until validation scores don't improve for 20 rounds\n",
      "[10]\ttraining's rmse: 761.128\tvalid_1's rmse: 875.975\n",
      "[20]\ttraining's rmse: 635.383\tvalid_1's rmse: 845.959\n",
      "[30]\ttraining's rmse: 558.97\tvalid_1's rmse: 846.652\n",
      "[40]\ttraining's rmse: 500.967\tvalid_1's rmse: 848.455\n",
      "Early stopping, best iteration is:\n",
      "[23]\ttraining's rmse: 610.149\tvalid_1's rmse: 843.513\n"
     ]
    },
    {
     "name": "stderr",
     "output_type": "stream",
     "text": [
      "bagging, val_score: 843.513351:  90%|#############################################9     | 9/10 [00:01<00:00,  8.72it/s][I 2020-08-04 00:33:08,206] Trial 35 finished with value: 843.5133510332442 and parameters: {'bagging_fraction': 0.8120819460363791, 'bagging_freq': 5}. Best is trial 35 with value: 843.5133510332442.\n",
      "bagging, val_score: 843.513351:  90%|#############################################9     | 9/10 [00:01<00:00,  8.72it/s]"
     ]
    },
    {
     "name": "stdout",
     "output_type": "stream",
     "text": [
      "Training until validation scores don't improve for 20 rounds\n",
      "[10]\ttraining's rmse: 760.676\tvalid_1's rmse: 876.085\n",
      "[20]\ttraining's rmse: 636.38\tvalid_1's rmse: 844.876\n",
      "[30]\ttraining's rmse: 563.213\tvalid_1's rmse: 842.805\n",
      "[40]\ttraining's rmse: 504.92\tvalid_1's rmse: 847.337\n",
      "[50]\ttraining's rmse: 453.68\tvalid_1's rmse: 854.256\n",
      "Early stopping, best iteration is:\n",
      "[32]\ttraining's rmse: 550.127\tvalid_1's rmse: 841.063\n"
     ]
    },
    {
     "name": "stderr",
     "output_type": "stream",
     "text": [
      "bagging, val_score: 841.062782: 100%|##################################################| 10/10 [00:01<00:00,  8.41it/s][I 2020-08-04 00:33:08,334] Trial 36 finished with value: 841.0627815131442 and parameters: {'bagging_fraction': 0.8094923473369776, 'bagging_freq': 5}. Best is trial 36 with value: 841.0627815131442.\n",
      "bagging, val_score: 841.062782: 100%|##################################################| 10/10 [00:01<00:00,  8.75it/s]\n",
      "feature_fraction_stage2, val_score: 841.062782:   0%|                                            | 0/3 [00:00<?, ?it/s]"
     ]
    },
    {
     "name": "stdout",
     "output_type": "stream",
     "text": [
      "Training until validation scores don't improve for 20 rounds\n",
      "[10]\ttraining's rmse: 752.858\tvalid_1's rmse: 880.787\n",
      "[20]\ttraining's rmse: 629.362\tvalid_1's rmse: 851.423\n",
      "[30]\ttraining's rmse: 547.827\tvalid_1's rmse: 855.298\n",
      "[40]\ttraining's rmse: 491.576\tvalid_1's rmse: 857.901\n",
      "Early stopping, best iteration is:\n",
      "[21]\ttraining's rmse: 619.017\tvalid_1's rmse: 850.3\n"
     ]
    },
    {
     "name": "stderr",
     "output_type": "stream",
     "text": [
      "feature_fraction_stage2, val_score: 841.062782:   0%|                                            | 0/3 [00:00<?, ?it/s][I 2020-08-04 00:33:08,439] Trial 37 finished with value: 850.300019983915 and parameters: {'feature_fraction': 0.41600000000000004}. Best is trial 37 with value: 850.300019983915.\n",
      "feature_fraction_stage2, val_score: 841.062782:  33%|############                        | 1/3 [00:00<00:00,  9.53it/s]"
     ]
    },
    {
     "name": "stdout",
     "output_type": "stream",
     "text": [
      "Training until validation scores don't improve for 20 rounds\n",
      "[10]\ttraining's rmse: 753.458\tvalid_1's rmse: 880.509\n",
      "[20]\ttraining's rmse: 632.027\tvalid_1's rmse: 857.752\n",
      "[30]\ttraining's rmse: 550.817\tvalid_1's rmse: 857.37\n",
      "Early stopping, best iteration is:\n",
      "[17]\ttraining's rmse: 658.564\tvalid_1's rmse: 855.602\n"
     ]
    },
    {
     "name": "stderr",
     "output_type": "stream",
     "text": [
      "feature_fraction_stage2, val_score: 841.062782:  67%|########################            | 2/3 [00:00<00:00, 10.64it/s][I 2020-08-04 00:33:08,532] Trial 38 finished with value: 855.6019396126159 and parameters: {'feature_fraction': 0.44800000000000006}. Best is trial 37 with value: 850.300019983915.\n",
      "feature_fraction_stage2, val_score: 841.062782:  67%|########################            | 2/3 [00:00<00:00, 10.64it/s]"
     ]
    },
    {
     "name": "stdout",
     "output_type": "stream",
     "text": [
      "Training until validation scores don't improve for 20 rounds\n",
      "[10]\ttraining's rmse: 752.897\tvalid_1's rmse: 882.202\n",
      "[20]\ttraining's rmse: 625.568\tvalid_1's rmse: 852.603\n",
      "[30]\ttraining's rmse: 547.168\tvalid_1's rmse: 853.861\n",
      "[40]\ttraining's rmse: 486.406\tvalid_1's rmse: 855.612\n",
      "Early stopping, best iteration is:\n",
      "[21]\ttraining's rmse: 616.59\tvalid_1's rmse: 851.988\n"
     ]
    },
    {
     "name": "stderr",
     "output_type": "stream",
     "text": [
      "feature_fraction_stage2, val_score: 841.062782: 100%|####################################| 3/3 [00:00<00:00, 10.35it/s][I 2020-08-04 00:33:08,634] Trial 39 finished with value: 851.9879283088934 and parameters: {'feature_fraction': 0.48000000000000004}. Best is trial 37 with value: 850.300019983915.\n",
      "feature_fraction_stage2, val_score: 841.062782: 100%|####################################| 3/3 [00:00<00:00, 10.14it/s]\n",
      "regularization_factors, val_score: 841.062782:   0%|                                            | 0/20 [00:00<?, ?it/s]"
     ]
    },
    {
     "name": "stdout",
     "output_type": "stream",
     "text": [
      "Training until validation scores don't improve for 20 rounds\n",
      "[10]\ttraining's rmse: 760.677\tvalid_1's rmse: 876.086\n",
      "[20]\ttraining's rmse: 636.381\tvalid_1's rmse: 844.877\n",
      "[30]\ttraining's rmse: 563.215\tvalid_1's rmse: 842.805\n",
      "[40]\ttraining's rmse: 504.922\tvalid_1's rmse: 847.337\n",
      "[50]\ttraining's rmse: 453.682\tvalid_1's rmse: 854.256\n",
      "Early stopping, best iteration is:\n",
      "[32]\ttraining's rmse: 550.128\tvalid_1's rmse: 841.063\n"
     ]
    },
    {
     "name": "stderr",
     "output_type": "stream",
     "text": [
      "regularization_factors, val_score: 841.062709:   5%|#8                                  | 1/20 [00:00<00:02,  6.95it/s][I 2020-08-04 00:33:08,789] Trial 40 finished with value: 841.0627089055228 and parameters: {'lambda_l1': 0.09521187578860028, 'lambda_l2': 1.2786304419610282e-08}. Best is trial 40 with value: 841.0627089055228.\n",
      "regularization_factors, val_score: 841.062709:   5%|#8                                  | 1/20 [00:00<00:02,  6.95it/s]"
     ]
    },
    {
     "name": "stdout",
     "output_type": "stream",
     "text": [
      "Training until validation scores don't improve for 20 rounds\n",
      "[10]\ttraining's rmse: 760.683\tvalid_1's rmse: 876.073\n",
      "[20]\ttraining's rmse: 636.392\tvalid_1's rmse: 844.886\n",
      "[30]\ttraining's rmse: 562.199\tvalid_1's rmse: 843.207\n",
      "[40]\ttraining's rmse: 503.237\tvalid_1's rmse: 850.359\n",
      "Early stopping, best iteration is:\n",
      "[27]\ttraining's rmse: 580.288\tvalid_1's rmse: 842.477\n"
     ]
    },
    {
     "name": "stderr",
     "output_type": "stream",
     "text": [
      "regularization_factors, val_score: 841.062709:  10%|###6                                | 2/20 [00:00<00:02,  7.30it/s][I 2020-08-04 00:33:08,910] Trial 41 finished with value: 842.4769511654051 and parameters: {'lambda_l1': 0.2998650452315704, 'lambda_l2': 1.3380390100320852e-08}. Best is trial 40 with value: 841.0627089055228.\n",
      "regularization_factors, val_score: 841.062709:  10%|###6                                | 2/20 [00:00<00:02,  7.30it/s]"
     ]
    },
    {
     "name": "stdout",
     "output_type": "stream",
     "text": [
      "Training until validation scores don't improve for 20 rounds\n",
      "[10]\ttraining's rmse: 760.682\tvalid_1's rmse: 876.072\n",
      "[20]\ttraining's rmse: 636.392\tvalid_1's rmse: 844.886\n",
      "[30]\ttraining's rmse: 562.198\tvalid_1's rmse: 843.207\n",
      "[40]\ttraining's rmse: 503.236\tvalid_1's rmse: 850.359\n",
      "Early stopping, best iteration is:\n",
      "[27]\ttraining's rmse: 580.287\tvalid_1's rmse: 842.477\n"
     ]
    },
    {
     "name": "stderr",
     "output_type": "stream",
     "text": [
      "regularization_factors, val_score: 841.062709:  15%|#####3                              | 3/20 [00:00<00:02,  7.53it/s][I 2020-08-04 00:33:09,033] Trial 42 finished with value: 842.4769378999222 and parameters: {'lambda_l1': 0.23682206587490892, 'lambda_l2': 1.1760514981216235e-08}. Best is trial 40 with value: 841.0627089055228.\n",
      "regularization_factors, val_score: 841.062709:  15%|#####3                              | 3/20 [00:00<00:02,  7.53it/s]"
     ]
    },
    {
     "name": "stdout",
     "output_type": "stream",
     "text": [
      "Training until validation scores don't improve for 20 rounds\n",
      "[10]\ttraining's rmse: 760.683\tvalid_1's rmse: 876.072\n",
      "[20]\ttraining's rmse: 636.392\tvalid_1's rmse: 844.886\n",
      "[30]\ttraining's rmse: 562.198\tvalid_1's rmse: 843.207\n",
      "[40]\ttraining's rmse: 503.236\tvalid_1's rmse: 850.359\n",
      "Early stopping, best iteration is:\n",
      "[27]\ttraining's rmse: 580.288\tvalid_1's rmse: 842.477\n"
     ]
    },
    {
     "name": "stderr",
     "output_type": "stream",
     "text": [
      "regularization_factors, val_score: 841.062709:  20%|#######2                            | 4/20 [00:00<00:02,  7.83it/s][I 2020-08-04 00:33:09,149] Trial 43 finished with value: 842.4769435739623 and parameters: {'lambda_l1': 0.2635524811643525, 'lambda_l2': 1.0314256653136348e-08}. Best is trial 40 with value: 841.0627089055228.\n",
      "regularization_factors, val_score: 841.062709:  20%|#######2                            | 4/20 [00:00<00:02,  7.83it/s]"
     ]
    },
    {
     "name": "stdout",
     "output_type": "stream",
     "text": [
      "Training until validation scores don't improve for 20 rounds\n",
      "[10]\ttraining's rmse: 760.684\tvalid_1's rmse: 876.073\n",
      "[20]\ttraining's rmse: 636.394\tvalid_1's rmse: 844.886\n",
      "[30]\ttraining's rmse: 562.2\tvalid_1's rmse: 843.207\n",
      "[40]\ttraining's rmse: 503.239\tvalid_1's rmse: 850.358\n",
      "Early stopping, best iteration is:\n",
      "[27]\ttraining's rmse: 580.29\tvalid_1's rmse: 842.477\n"
     ]
    },
    {
     "name": "stderr",
     "output_type": "stream",
     "text": [
      "regularization_factors, val_score: 841.062709:  25%|#########                           | 5/20 [00:00<00:01,  8.03it/s][I 2020-08-04 00:33:09,266] Trial 44 finished with value: 842.4769758245297 and parameters: {'lambda_l1': 0.4174350119672408, 'lambda_l2': 1.188227372735014e-08}. Best is trial 40 with value: 841.0627089055228.\n",
      "regularization_factors, val_score: 841.062709:  25%|#########                           | 5/20 [00:00<00:01,  8.03it/s]"
     ]
    },
    {
     "name": "stdout",
     "output_type": "stream",
     "text": [
      "Training until validation scores don't improve for 20 rounds\n",
      "[10]\ttraining's rmse: 760.683\tvalid_1's rmse: 876.073\n",
      "[20]\ttraining's rmse: 636.393\tvalid_1's rmse: 844.886\n",
      "[30]\ttraining's rmse: 562.199\tvalid_1's rmse: 843.207\n",
      "[40]\ttraining's rmse: 503.238\tvalid_1's rmse: 850.359\n",
      "Early stopping, best iteration is:\n",
      "[27]\ttraining's rmse: 580.288\tvalid_1's rmse: 842.477\n"
     ]
    },
    {
     "name": "stderr",
     "output_type": "stream",
     "text": [
      "regularization_factors, val_score: 841.062709:  30%|##########7                         | 6/20 [00:00<00:01,  8.16it/s][I 2020-08-04 00:33:09,384] Trial 45 finished with value: 842.4769567118944 and parameters: {'lambda_l1': 0.32619751614245723, 'lambda_l2': 1.601401128362678e-08}. Best is trial 40 with value: 841.0627089055228.\n",
      "regularization_factors, val_score: 841.062709:  30%|##########7                         | 6/20 [00:00<00:01,  8.16it/s]"
     ]
    },
    {
     "name": "stdout",
     "output_type": "stream",
     "text": [
      "Training until validation scores don't improve for 20 rounds\n",
      "[10]\ttraining's rmse: 760.682\tvalid_1's rmse: 876.072\n",
      "[20]\ttraining's rmse: 636.392\tvalid_1's rmse: 844.886\n",
      "[30]\ttraining's rmse: 562.197\tvalid_1's rmse: 843.207\n",
      "[40]\ttraining's rmse: 503.236\tvalid_1's rmse: 850.359\n",
      "Early stopping, best iteration is:\n",
      "[27]\ttraining's rmse: 580.287\tvalid_1's rmse: 842.477\n"
     ]
    },
    {
     "name": "stderr",
     "output_type": "stream",
     "text": [
      "regularization_factors, val_score: 841.062709:  35%|############6                       | 7/20 [00:00<00:01,  8.28it/s][I 2020-08-04 00:33:09,501] Trial 46 finished with value: 842.476936052109 and parameters: {'lambda_l1': 0.22779875659896773, 'lambda_l2': 1.3481186189461064e-08}. Best is trial 40 with value: 841.0627089055228.\n",
      "regularization_factors, val_score: 841.062709:  35%|############6                       | 7/20 [00:00<00:01,  8.28it/s]"
     ]
    },
    {
     "name": "stdout",
     "output_type": "stream",
     "text": [
      "Training until validation scores don't improve for 20 rounds\n",
      "[10]\ttraining's rmse: 760.677\tvalid_1's rmse: 876.086\n",
      "[20]\ttraining's rmse: 636.381\tvalid_1's rmse: 844.877\n",
      "[30]\ttraining's rmse: 563.215\tvalid_1's rmse: 842.805\n",
      "[40]\ttraining's rmse: 504.922\tvalid_1's rmse: 847.337\n",
      "[50]\ttraining's rmse: 453.683\tvalid_1's rmse: 854.256\n",
      "Early stopping, best iteration is:\n",
      "[32]\ttraining's rmse: 550.128\tvalid_1's rmse: 841.063\n"
     ]
    },
    {
     "name": "stderr",
     "output_type": "stream",
     "text": [
      "regularization_factors, val_score: 841.062700:  40%|##############4                     | 8/20 [00:00<00:01,  8.17it/s][I 2020-08-04 00:33:09,626] Trial 47 finished with value: 841.0627001335343 and parameters: {'lambda_l1': 0.10651626088831287, 'lambda_l2': 1.0053259642257164e-08}. Best is trial 47 with value: 841.0627001335343.\n",
      "regularization_factors, val_score: 841.062700:  40%|##############4                     | 8/20 [00:00<00:01,  8.17it/s]"
     ]
    },
    {
     "name": "stdout",
     "output_type": "stream",
     "text": [
      "Training until validation scores don't improve for 20 rounds\n",
      "[10]\ttraining's rmse: 792.531\tvalid_1's rmse: 896.679\n",
      "[20]\ttraining's rmse: 678.531\tvalid_1's rmse: 856.081\n",
      "[30]\ttraining's rmse: 609.801\tvalid_1's rmse: 849.158\n",
      "[40]\ttraining's rmse: 555.638\tvalid_1's rmse: 853.153\n",
      "[50]\ttraining's rmse: 506.594\tvalid_1's rmse: 855.194\n",
      "Early stopping, best iteration is:\n",
      "[32]\ttraining's rmse: 597.369\tvalid_1's rmse: 847.884\n"
     ]
    },
    {
     "name": "stderr",
     "output_type": "stream",
     "text": [
      "regularization_factors, val_score: 841.062700:  45%|################2                   | 9/20 [00:01<00:01,  8.00it/s][I 2020-08-04 00:33:09,758] Trial 48 finished with value: 847.8836469777006 and parameters: {'lambda_l1': 0.0006730494068924978, 'lambda_l2': 6.4413106568120035}. Best is trial 47 with value: 841.0627001335343.\n",
      "regularization_factors, val_score: 841.062700:  45%|################2                   | 9/20 [00:01<00:01,  8.00it/s]"
     ]
    },
    {
     "name": "stdout",
     "output_type": "stream",
     "text": [
      "Training until validation scores don't improve for 20 rounds\n",
      "[10]\ttraining's rmse: 760.677\tvalid_1's rmse: 876.085\n",
      "[20]\ttraining's rmse: 636.38\tvalid_1's rmse: 844.876\n",
      "[30]\ttraining's rmse: 563.213\tvalid_1's rmse: 842.805\n",
      "[40]\ttraining's rmse: 504.92\tvalid_1's rmse: 847.337\n",
      "[50]\ttraining's rmse: 453.68\tvalid_1's rmse: 854.256\n",
      "Early stopping, best iteration is:\n",
      "[32]\ttraining's rmse: 550.127\tvalid_1's rmse: 841.063\n"
     ]
    },
    {
     "name": "stderr",
     "output_type": "stream",
     "text": [
      "regularization_factors, val_score: 841.062700:  50%|#################5                 | 10/20 [00:01<00:01,  7.89it/s][I 2020-08-04 00:33:09,889] Trial 49 finished with value: 841.0627784647471 and parameters: {'lambda_l1': 0.002923643146396953, 'lambda_l2': 5.492054429991779e-06}. Best is trial 47 with value: 841.0627001335343.\n",
      "regularization_factors, val_score: 841.062700:  50%|#################5                 | 10/20 [00:01<00:01,  7.89it/s]"
     ]
    },
    {
     "name": "stdout",
     "output_type": "stream",
     "text": [
      "Training until validation scores don't improve for 20 rounds\n",
      "[10]\ttraining's rmse: 760.677\tvalid_1's rmse: 876.085\n",
      "[20]\ttraining's rmse: 636.38\tvalid_1's rmse: 844.876\n",
      "[30]\ttraining's rmse: 563.213\tvalid_1's rmse: 842.805\n",
      "[40]\ttraining's rmse: 504.92\tvalid_1's rmse: 847.337\n",
      "[50]\ttraining's rmse: 453.68\tvalid_1's rmse: 854.256\n",
      "Early stopping, best iteration is:\n",
      "[32]\ttraining's rmse: 550.127\tvalid_1's rmse: 841.063\n"
     ]
    },
    {
     "name": "stderr",
     "output_type": "stream",
     "text": [
      "regularization_factors, val_score: 841.062700:  55%|###################2               | 11/20 [00:01<00:01,  7.83it/s][I 2020-08-04 00:33:10,019] Trial 50 finished with value: 841.0627787580994 and parameters: {'lambda_l1': 0.0007886153324754394, 'lambda_l2': 1.3605093499441485e-05}. Best is trial 47 with value: 841.0627001335343.\n",
      "regularization_factors, val_score: 841.062700:  55%|###################2               | 11/20 [00:01<00:01,  7.83it/s]"
     ]
    },
    {
     "name": "stdout",
     "output_type": "stream",
     "text": [
      "Training until validation scores don't improve for 20 rounds\n",
      "[10]\ttraining's rmse: 760.677\tvalid_1's rmse: 876.085\n",
      "[20]\ttraining's rmse: 636.38\tvalid_1's rmse: 844.876\n",
      "[30]\ttraining's rmse: 563.213\tvalid_1's rmse: 842.805\n",
      "[40]\ttraining's rmse: 504.921\tvalid_1's rmse: 847.337\n",
      "[50]\ttraining's rmse: 453.681\tvalid_1's rmse: 854.256\n",
      "Early stopping, best iteration is:\n",
      "[32]\ttraining's rmse: 550.127\tvalid_1's rmse: 841.063\n"
     ]
    },
    {
     "name": "stderr",
     "output_type": "stream",
     "text": [
      "regularization_factors, val_score: 841.062700:  60%|#####################              | 12/20 [00:01<00:01,  7.74it/s][I 2020-08-04 00:33:10,152] Trial 51 finished with value: 841.0627741160283 and parameters: {'lambda_l1': 0.00034112500873169393, 'lambda_l2': 4.687275944804706e-05}. Best is trial 47 with value: 841.0627001335343.\n",
      "regularization_factors, val_score: 841.062700:  60%|#####################              | 12/20 [00:01<00:01,  7.74it/s]"
     ]
    },
    {
     "name": "stdout",
     "output_type": "stream",
     "text": [
      "Training until validation scores don't improve for 20 rounds\n",
      "[10]\ttraining's rmse: 760.677\tvalid_1's rmse: 876.085\n",
      "[20]\ttraining's rmse: 636.38\tvalid_1's rmse: 844.876\n",
      "[30]\ttraining's rmse: 563.213\tvalid_1's rmse: 842.805\n",
      "[40]\ttraining's rmse: 504.92\tvalid_1's rmse: 847.337\n",
      "[50]\ttraining's rmse: 453.68\tvalid_1's rmse: 854.256\n",
      "Early stopping, best iteration is:\n",
      "[32]\ttraining's rmse: 550.127\tvalid_1's rmse: 841.063\n"
     ]
    },
    {
     "name": "stderr",
     "output_type": "stream",
     "text": [
      "regularization_factors, val_score: 841.062700:  65%|######################7            | 13/20 [00:01<00:00,  7.78it/s][I 2020-08-04 00:33:10,278] Trial 52 finished with value: 841.0627769556389 and parameters: {'lambda_l1': 0.00028357014671092425, 'lambda_l2': 2.8146204467832427e-05}. Best is trial 47 with value: 841.0627001335343.\n",
      "regularization_factors, val_score: 841.062700:  65%|######################7            | 13/20 [00:01<00:00,  7.78it/s]"
     ]
    },
    {
     "name": "stdout",
     "output_type": "stream",
     "text": [
      "Training until validation scores don't improve for 20 rounds\n",
      "[10]\ttraining's rmse: 760.677\tvalid_1's rmse: 876.085\n",
      "[20]\ttraining's rmse: 636.38\tvalid_1's rmse: 844.876\n",
      "[30]\ttraining's rmse: 563.213\tvalid_1's rmse: 842.805\n",
      "[40]\ttraining's rmse: 504.92\tvalid_1's rmse: 847.337\n",
      "[50]\ttraining's rmse: 453.68\tvalid_1's rmse: 854.256\n",
      "Early stopping, best iteration is:\n",
      "[32]\ttraining's rmse: 550.127\tvalid_1's rmse: 841.063\n"
     ]
    },
    {
     "name": "stderr",
     "output_type": "stream",
     "text": [
      "regularization_factors, val_score: 841.062700:  70%|########################5          | 14/20 [00:01<00:00,  7.44it/s][I 2020-08-04 00:33:10,426] Trial 53 finished with value: 841.0627766346339 and parameters: {'lambda_l1': 0.00022452365870208576, 'lambda_l2': 2.993554715780635e-05}. Best is trial 47 with value: 841.0627001335343.\n",
      "regularization_factors, val_score: 841.062700:  70%|########################5          | 14/20 [00:01<00:00,  7.44it/s]"
     ]
    },
    {
     "name": "stdout",
     "output_type": "stream",
     "text": [
      "Training until validation scores don't improve for 20 rounds\n",
      "[10]\ttraining's rmse: 760.677\tvalid_1's rmse: 876.085\n",
      "[20]\ttraining's rmse: 636.38\tvalid_1's rmse: 844.876\n",
      "[30]\ttraining's rmse: 563.213\tvalid_1's rmse: 842.805\n",
      "[40]\ttraining's rmse: 504.921\tvalid_1's rmse: 847.337\n",
      "[50]\ttraining's rmse: 453.68\tvalid_1's rmse: 854.256\n",
      "Early stopping, best iteration is:\n",
      "[32]\ttraining's rmse: 550.127\tvalid_1's rmse: 841.063\n"
     ]
    },
    {
     "name": "stderr",
     "output_type": "stream",
     "text": [
      "regularization_factors, val_score: 841.062700:  75%|##########################2        | 15/20 [00:01<00:00,  7.29it/s][I 2020-08-04 00:33:10,570] Trial 54 finished with value: 841.0627755567514 and parameters: {'lambda_l1': 2.030085033438632e-05, 'lambda_l2': 3.881647016805969e-05}. Best is trial 47 with value: 841.0627001335343.\n",
      "regularization_factors, val_score: 841.062700:  75%|##########################2        | 15/20 [00:01<00:00,  7.29it/s]"
     ]
    },
    {
     "name": "stdout",
     "output_type": "stream",
     "text": [
      "Training until validation scores don't improve for 20 rounds\n",
      "[10]\ttraining's rmse: 760.677\tvalid_1's rmse: 876.086\n",
      "[20]\ttraining's rmse: 636.38\tvalid_1's rmse: 844.877\n",
      "[30]\ttraining's rmse: 563.214\tvalid_1's rmse: 842.805\n",
      "[40]\ttraining's rmse: 504.921\tvalid_1's rmse: 847.337\n",
      "[50]\ttraining's rmse: 453.681\tvalid_1's rmse: 854.256\n",
      "Early stopping, best iteration is:\n",
      "[32]\ttraining's rmse: 550.127\tvalid_1's rmse: 841.063\n"
     ]
    },
    {
     "name": "stderr",
     "output_type": "stream",
     "text": [
      "regularization_factors, val_score: 841.062700:  80%|############################       | 16/20 [00:02<00:00,  7.41it/s][I 2020-08-04 00:33:10,701] Trial 55 finished with value: 841.0627679596031 and parameters: {'lambda_l1': 2.276559117537366e-06, 'lambda_l2': 8.870141364677241e-05}. Best is trial 47 with value: 841.0627001335343.\n",
      "regularization_factors, val_score: 841.062700:  80%|############################       | 16/20 [00:02<00:00,  7.41it/s]"
     ]
    },
    {
     "name": "stdout",
     "output_type": "stream",
     "text": [
      "Training until validation scores don't improve for 20 rounds\n",
      "[10]\ttraining's rmse: 760.687\tvalid_1's rmse: 876.075\n",
      "[20]\ttraining's rmse: 636.396\tvalid_1's rmse: 844.886\n",
      "[30]\ttraining's rmse: 562.202\tvalid_1's rmse: 843.207\n",
      "[40]\ttraining's rmse: 503.24\tvalid_1's rmse: 850.359\n",
      "Early stopping, best iteration is:\n",
      "[27]\ttraining's rmse: 580.291\tvalid_1's rmse: 842.477\n"
     ]
    },
    {
     "name": "stderr",
     "output_type": "stream",
     "text": [
      "regularization_factors, val_score: 841.062700:  85%|#############################7     | 17/20 [00:02<00:00,  7.61it/s][I 2020-08-04 00:33:10,824] Trial 56 finished with value: 842.4769022043359 and parameters: {'lambda_l1': 6.029968926346416e-07, 'lambda_l2': 0.0013134743054078672}. Best is trial 47 with value: 841.0627001335343.\n",
      "regularization_factors, val_score: 841.062700:  85%|#############################7     | 17/20 [00:02<00:00,  7.61it/s]"
     ]
    },
    {
     "name": "stdout",
     "output_type": "stream",
     "text": [
      "Training until validation scores don't improve for 20 rounds\n",
      "[10]\ttraining's rmse: 760.683\tvalid_1's rmse: 876.073\n",
      "[20]\ttraining's rmse: 636.392\tvalid_1's rmse: 844.886\n",
      "[30]\ttraining's rmse: 562.198\tvalid_1's rmse: 843.207\n",
      "[40]\ttraining's rmse: 503.235\tvalid_1's rmse: 850.359\n",
      "Early stopping, best iteration is:\n",
      "[27]\ttraining's rmse: 580.287\tvalid_1's rmse: 842.477\n"
     ]
    },
    {
     "name": "stderr",
     "output_type": "stream",
     "text": [
      "regularization_factors, val_score: 841.062700:  90%|###############################5   | 18/20 [00:02<00:00,  7.76it/s][I 2020-08-04 00:33:10,945] Trial 57 finished with value: 842.476894912459 and parameters: {'lambda_l1': 4.101294402190302e-06, 'lambda_l2': 0.0006033644777063602}. Best is trial 47 with value: 841.0627001335343.\n",
      "regularization_factors, val_score: 841.062700:  90%|###############################5   | 18/20 [00:02<00:00,  7.76it/s]"
     ]
    },
    {
     "name": "stdout",
     "output_type": "stream",
     "text": [
      "Training until validation scores don't improve for 20 rounds\n",
      "[10]\ttraining's rmse: 760.677\tvalid_1's rmse: 876.086\n",
      "[20]\ttraining's rmse: 636.38\tvalid_1's rmse: 844.877\n",
      "[30]\ttraining's rmse: 563.214\tvalid_1's rmse: 842.805\n",
      "[40]\ttraining's rmse: 504.921\tvalid_1's rmse: 847.337\n",
      "[50]\ttraining's rmse: 453.681\tvalid_1's rmse: 854.256\n",
      "Early stopping, best iteration is:\n",
      "[32]\ttraining's rmse: 550.127\tvalid_1's rmse: 841.063\n"
     ]
    },
    {
     "name": "stderr",
     "output_type": "stream",
     "text": [
      "regularization_factors, val_score: 841.062700:  95%|#################################2 | 19/20 [00:02<00:00,  7.78it/s][I 2020-08-04 00:33:11,074] Trial 58 finished with value: 841.062768232201 and parameters: {'lambda_l1': 1.2420909463927956e-05, 'lambda_l2': 8.679665794811668e-05}. Best is trial 47 with value: 841.0627001335343.\n",
      "regularization_factors, val_score: 841.062700:  95%|#################################2 | 19/20 [00:02<00:00,  7.78it/s]"
     ]
    },
    {
     "name": "stdout",
     "output_type": "stream",
     "text": [
      "Training until validation scores don't improve for 20 rounds\n",
      "[10]\ttraining's rmse: 760.676\tvalid_1's rmse: 876.085\n",
      "[20]\ttraining's rmse: 636.38\tvalid_1's rmse: 844.876\n",
      "[30]\ttraining's rmse: 563.213\tvalid_1's rmse: 842.805\n",
      "[40]\ttraining's rmse: 504.92\tvalid_1's rmse: 847.337\n",
      "[50]\ttraining's rmse: 453.68\tvalid_1's rmse: 854.256\n",
      "Early stopping, best iteration is:\n",
      "[32]\ttraining's rmse: 550.127\tvalid_1's rmse: 841.063\n"
     ]
    },
    {
     "name": "stderr",
     "output_type": "stream",
     "text": [
      "regularization_factors, val_score: 841.062700: 100%|###################################| 20/20 [00:02<00:00,  7.77it/s][I 2020-08-04 00:33:11,203] Trial 59 finished with value: 841.0627812978071 and parameters: {'lambda_l1': 9.436770938841561e-06, 'lambda_l2': 5.900227895172349e-07}. Best is trial 47 with value: 841.0627001335343.\n",
      "regularization_factors, val_score: 841.062700: 100%|###################################| 20/20 [00:02<00:00,  7.81it/s]\n",
      "min_data_in_leaf, val_score: 841.062700:   0%|                                                   | 0/5 [00:00<?, ?it/s]"
     ]
    },
    {
     "name": "stdout",
     "output_type": "stream",
     "text": [
      "Training until validation scores don't improve for 20 rounds\n",
      "[10]\ttraining's rmse: 851.886\tvalid_1's rmse: 907.629\n",
      "[20]\ttraining's rmse: 782.487\tvalid_1's rmse: 869.387\n",
      "[30]\ttraining's rmse: 744.848\tvalid_1's rmse: 856.974\n",
      "[40]\ttraining's rmse: 719.189\tvalid_1's rmse: 854.142\n",
      "[50]\ttraining's rmse: 698.264\tvalid_1's rmse: 848.295\n",
      "[60]\ttraining's rmse: 682.072\tvalid_1's rmse: 851.077\n",
      "[70]\ttraining's rmse: 668.344\tvalid_1's rmse: 850.109\n",
      "Early stopping, best iteration is:\n",
      "[51]\ttraining's rmse: 696.788\tvalid_1's rmse: 847.973\n"
     ]
    },
    {
     "name": "stderr",
     "output_type": "stream",
     "text": [
      "min_data_in_leaf, val_score: 841.062700:   0%|                                                   | 0/5 [00:00<?, ?it/s][I 2020-08-04 00:33:11,306] Trial 60 finished with value: 847.9734025471864 and parameters: {'min_child_samples': 100}. Best is trial 60 with value: 847.9734025471864.\n",
      "min_data_in_leaf, val_score: 841.062700:  20%|########6                                  | 1/5 [00:00<00:00,  9.10it/s]"
     ]
    },
    {
     "name": "stdout",
     "output_type": "stream",
     "text": [
      "Training until validation scores don't improve for 20 rounds\n",
      "[10]\ttraining's rmse: 774.852\tvalid_1's rmse: 885.346\n",
      "[20]\ttraining's rmse: 660.295\tvalid_1's rmse: 853.957\n",
      "[30]\ttraining's rmse: 593.294\tvalid_1's rmse: 854.679\n",
      "[40]\ttraining's rmse: 541.247\tvalid_1's rmse: 851.979\n",
      "[50]\ttraining's rmse: 495.663\tvalid_1's rmse: 854.115\n",
      "Early stopping, best iteration is:\n",
      "[38]\ttraining's rmse: 552.273\tvalid_1's rmse: 850.503\n"
     ]
    },
    {
     "name": "stderr",
     "output_type": "stream",
     "text": [
      "min_data_in_leaf, val_score: 841.062700:  40%|#################2                         | 2/5 [00:00<00:00,  9.35it/s][I 2020-08-04 00:33:11,425] Trial 61 finished with value: 850.5030999577159 and parameters: {'min_child_samples': 25}. Best is trial 60 with value: 847.9734025471864.\n",
      "min_data_in_leaf, val_score: 841.062700:  40%|#################2                         | 2/5 [00:00<00:00,  9.35it/s]"
     ]
    },
    {
     "name": "stdout",
     "output_type": "stream",
     "text": [
      "Training until validation scores don't improve for 20 rounds\n",
      "[10]\ttraining's rmse: 712.022\tvalid_1's rmse: 883.301\n",
      "[20]\ttraining's rmse: 564.887\tvalid_1's rmse: 862.665\n",
      "[30]\ttraining's rmse: 471.228\tvalid_1's rmse: 864.23\n",
      "[40]\ttraining's rmse: 401.679\tvalid_1's rmse: 871.761\n",
      "Early stopping, best iteration is:\n",
      "[21]\ttraining's rmse: 552.792\tvalid_1's rmse: 859.968\n"
     ]
    },
    {
     "name": "stderr",
     "output_type": "stream",
     "text": [
      "min_data_in_leaf, val_score: 841.062700:  60%|#########################8                 | 3/5 [00:00<00:00,  9.17it/s][I 2020-08-04 00:33:11,539] Trial 62 finished with value: 859.9679700088902 and parameters: {'min_child_samples': 10}. Best is trial 60 with value: 847.9734025471864.\n",
      "min_data_in_leaf, val_score: 841.062700:  60%|#########################8                 | 3/5 [00:00<00:00,  9.17it/s]"
     ]
    },
    {
     "name": "stdout",
     "output_type": "stream",
     "text": [
      "Training until validation scores don't improve for 20 rounds\n",
      "[10]\ttraining's rmse: 698.702\tvalid_1's rmse: 887.635\n",
      "[20]\ttraining's rmse: 542.478\tvalid_1's rmse: 857.847\n",
      "[30]\ttraining's rmse: 443.592\tvalid_1's rmse: 862.167\n",
      "[40]\ttraining's rmse: 371.09\tvalid_1's rmse: 870.758\n",
      "Early stopping, best iteration is:\n",
      "[21]\ttraining's rmse: 530.563\tvalid_1's rmse: 856.167\n"
     ]
    },
    {
     "name": "stderr",
     "output_type": "stream",
     "text": [
      "min_data_in_leaf, val_score: 841.062700:  80%|##################################4        | 4/5 [00:00<00:00,  8.70it/s][I 2020-08-04 00:33:11,668] Trial 63 finished with value: 856.1666374539452 and parameters: {'min_child_samples': 5}. Best is trial 60 with value: 847.9734025471864.\n",
      "min_data_in_leaf, val_score: 841.062700:  80%|##################################4        | 4/5 [00:00<00:00,  8.70it/s]"
     ]
    },
    {
     "name": "stdout",
     "output_type": "stream",
     "text": [
      "Training until validation scores don't improve for 20 rounds\n",
      "[10]\ttraining's rmse: 820.72\tvalid_1's rmse: 900.993\n",
      "[20]\ttraining's rmse: 728.543\tvalid_1's rmse: 863.543\n",
      "[30]\ttraining's rmse: 679.279\tvalid_1's rmse: 858.741\n",
      "[40]\ttraining's rmse: 642.708\tvalid_1's rmse: 860.036\n",
      "[50]\ttraining's rmse: 612.172\tvalid_1's rmse: 863.063\n",
      "Early stopping, best iteration is:\n",
      "[34]\ttraining's rmse: 664.356\tvalid_1's rmse: 856.283\n"
     ]
    },
    {
     "name": "stderr",
     "output_type": "stream",
     "text": [
      "min_data_in_leaf, val_score: 841.062700:  80%|##################################4        | 4/5 [00:00<00:00,  8.70it/s][I 2020-08-04 00:33:11,750] Trial 64 finished with value: 856.282528840318 and parameters: {'min_child_samples': 50}. Best is trial 60 with value: 847.9734025471864.\n",
      "min_data_in_leaf, val_score: 841.062700: 100%|###########################################| 5/5 [00:00<00:00,  9.20it/s]\n"
     ]
    },
    {
     "name": "stdout",
     "output_type": "stream",
     "text": [
      "=====Params======\n",
      "  objective: regression\n",
      "  metric: rmse\n",
      "  random_seed: 0\n",
      "  lambda_l1: 0.10651626088831287\n",
      "  lambda_l2: 1.0053259642257164e-08\n",
      "  num_leaves: 37\n",
      "  feature_fraction: 0.4\n",
      "  bagging_fraction: 0.8094923473369776\n",
      "  bagging_freq: 5\n",
      "  min_child_samples: 20\n",
      "=====Val score======\n",
      "  Val rmse score is 841.0627001335343.\n"
     ]
    }
   ],
   "source": [
    "# lightGBM用のデータセットを作成\n",
    "lgb_train = lgb_opt.Dataset(x_train[features], y_train, categorical_feature = categorical_features, free_raw_data=False)\n",
    "lgb_eval = lgb_opt.Dataset(x_valid[features], y_valid, categorical_feature = categorical_features, free_raw_data=False)\n",
    "\n",
    "# モデルの作成\n",
    "evals_result = {}\n",
    "best_params = {}\n",
    "model = lgb_opt.train(params = lgb_params,\n",
    "                      train_set = lgb_train,\n",
    "                      valid_sets = [lgb_train, lgb_eval],\n",
    "                      categorical_feature = categorical_features,\n",
    "                      verbose_eval = 10,\n",
    "                      num_boost_round = 1000,\n",
    "                      early_stopping_rounds = 20\n",
    ")\n",
    "\n",
    "# ベストパラメータの出力\n",
    "best_params = model.params\n",
    "print('=====Params======')\n",
    "for key, value in best_params.items():\n",
    "    print(\"  {}: {}\".format(key, value))\n",
    "\n",
    "# モデル精度の表示\n",
    "valid_pred = model.predict(x_valid[features])\n",
    "model_score = np.sqrt(metrics.mean_squared_error(valid_pred, y_valid))\n",
    "print('=====Val score======')\n",
    "print('  Val rmse score is {model_score}.'.format(model_score = model_score))\n",
    "\n",
    "# テストデータの予測\n",
    "y_pred = model.predict(test[features])"
   ]
  },
  {
   "cell_type": "code",
   "execution_count": 24,
   "metadata": {},
   "outputs": [
    {
     "data": {
      "image/png": "[encoded data removed]",
      "text/plain": [
       "<Figure size 864x432 with 1 Axes>"
      ]
     },
     "metadata": {},
     "output_type": "display_data"
    }
   ],
   "source": [
    "lgb.plot_importance(model, figsize=(12, 6))\n",
    "plt.show()"
   ]
  },
  {
   "cell_type": "markdown",
   "metadata": {},
   "source": [
    "### 出力"
   ]
  },
  {
   "cell_type": "code",
   "execution_count": 25,
   "metadata": {},
   "outputs": [],
   "source": [
    "# 提出用データの作成\n",
    "sub = test[['id', 'time_played']].copy()\n",
    "sub['time_played'] = y_pred\n",
    "\n",
    "# csvの出力\n",
    "now = datetime.datetime.now()\n",
    "sub_name = '特徴量追加(prevX_transferred,prevX_team,prevX_div,prevX_num_played,prevX_scores,prevX_time_played)'\n",
    "file_name = '../data/output/sub_' + sub_name + '_' + now.strftime('%Y%m%d_%H%M%S') + '.csv'\n",
    "sub.to_csv(file_name, index=False)"
   ]
  }
 ],
 "metadata": {
  "kernelspec": {
   "display_name": "Python 3",
   "language": "python",
   "name": "python3"
  },
  "language_info": {
   "codemirror_mode": {
    "name": "ipython",
    "version": 3
   },
   "file_extension": ".py",
   "mimetype": "text/x-python",
   "name": "python",
   "nbconvert_exporter": "python",
   "pygments_lexer": "ipython3",
   "version": "3.7.7"
  }
 },
 "nbformat": 4,
 "nbformat_minor": 4
}
