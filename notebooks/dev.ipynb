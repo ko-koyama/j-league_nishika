{
 "cells": [
  {
   "cell_type": "code",
   "execution_count": 1,
   "metadata": {},
   "outputs": [],
   "source": [
    "import datetime\n",
    "\n",
    "import pandas as pd\n",
    "import pandas_profiling as pdp\n",
    "import numpy as np\n",
    "from matplotlib import pyplot as plt\n",
    "\n",
    "from sklearn.preprocessing import LabelEncoder\n",
    "from sklearn import metrics\n",
    "from sklearn.model_selection import train_test_split\n",
    "from sklearn.metrics import accuracy_score\n",
    "\n",
    "import lightgbm as lgb\n",
    "import optuna.integration.lightgbm as lgb_opt\n",
    "\n",
    "pd.set_option('display.max_columns', 100)\n",
    "pd.set_option('display.max_rows', 100)"
   ]
  },
  {
   "cell_type": "markdown",
   "metadata": {},
   "source": [
    "## データロード"
   ]
  },
  {
   "cell_type": "code",
   "execution_count": 2,
   "metadata": {},
   "outputs": [],
   "source": [
    "# 基本データのデータロード\n",
    "train_2018_df = pd.read_csv('../data/input/train_2018.csv')\n",
    "train_2017_df = pd.read_csv('../data/input/train_2017.csv')\n",
    "train_2016_df = pd.read_csv('../data/input/train_2016.csv')\n",
    "train_2018_df['year'] = 2018\n",
    "train_2017_df['year'] = 2017\n",
    "train_2016_df['year'] = 2016\n",
    "test_df = pd.read_csv('../data/input/test.csv')\n",
    "test_df['year'] = 2019\n",
    "all_df = pd.concat([train_2016_df, train_2017_df, train_2018_df, test_df], axis = 0).reset_index(drop=True)\n",
    "\n",
    "# 出場記録のデータロード\n",
    "event_play_2018_df = pd.read_csv('../data/work/event_play_2018.csv')\n",
    "event_play_2017_df = pd.read_csv('../data/work/event_play_2017.csv')\n",
    "event_play_2016_df = pd.read_csv('../data/work/event_play_2016.csv')\n",
    "event_play_2015_df = pd.read_csv('../data/work/event_play_2015.csv')\n",
    "event_play_2018_df['year'] = 2019\n",
    "event_play_2017_df['year'] = 2018\n",
    "event_play_2016_df['year'] = 2017\n",
    "event_play_2015_df['year'] = 2016\n",
    "all_event_play_df = pd.concat([event_play_2018_df, event_play_2017_df, event_play_2016_df, event_play_2015_df], axis = 0).reset_index(drop=True)"
   ]
  },
  {
   "cell_type": "code",
   "execution_count": 3,
   "metadata": {},
   "outputs": [],
   "source": [
    "# 出場記録データの結合\n",
    "all_df = pd.merge(all_df, all_event_play_df, on=['year', 'team', 'name'], how='left')"
   ]
  },
  {
   "cell_type": "code",
   "execution_count": 4,
   "metadata": {},
   "outputs": [
    {
     "name": "stdout",
     "output_type": "stream",
     "text": [
      "<class 'pandas.core.frame.DataFrame'>\n",
      "Int64Index: 1902 entries, 0 to 1901\n",
      "Data columns (total 55 columns):\n",
      " #   Column                 Non-Null Count  Dtype  \n",
      "---  ------                 --------------  -----  \n",
      " 0   id                     1902 non-null   int64  \n",
      " 1   team                   1902 non-null   object \n",
      " 2   No                     1902 non-null   float64\n",
      " 3   name                   1902 non-null   object \n",
      " 4   time_played            1414 non-null   float64\n",
      " 5   position               1902 non-null   object \n",
      " 6   birthdate              1902 non-null   object \n",
      " 7   height                 1902 non-null   float64\n",
      " 8   weight                 1902 non-null   float64\n",
      " 9   salary                 1902 non-null   object \n",
      " 10  nth_year               1902 non-null   float64\n",
      " 11  is_youth               341 non-null    float64\n",
      " 12  nationality            276 non-null    object \n",
      " 13  j1_total_num_played    1640 non-null   float64\n",
      " 14  j1_total_scores        1554 non-null   float64\n",
      " 15  j2_total_num_played    1134 non-null   float64\n",
      " 16  j2_total_scores        1070 non-null   float64\n",
      " 17  j3_total_num_played    343 non-null    float64\n",
      " 18  j3_total_scores        289 non-null    float64\n",
      " 19  na_total_num_played    429 non-null    float64\n",
      " 20  na_total_scores        367 non-null    float64\n",
      " 21  prev3_team             1902 non-null   object \n",
      " 22  prev2_team             1902 non-null   object \n",
      " 23  prev1_team             1902 non-null   object \n",
      " 24  prev3_div              1902 non-null   object \n",
      " 25  prev2_div              1902 non-null   object \n",
      " 26  prev1_div              1902 non-null   object \n",
      " 27  prev3_num_played       1902 non-null   object \n",
      " 28  prev2_num_played       1902 non-null   object \n",
      " 29  prev1_num_played       1902 non-null   object \n",
      " 30  prev3_scores           1902 non-null   object \n",
      " 31  prev2_scores           1902 non-null   object \n",
      " 32  prev1_scores           1902 non-null   object \n",
      " 33  prev3_time_played      1902 non-null   object \n",
      " 34  prev2_time_played      1902 non-null   object \n",
      " 35  prev1_time_played      1902 non-null   object \n",
      " 36  year                   1902 non-null   int64  \n",
      " 37  rat_full_play          1409 non-null   float64\n",
      " 38  rat_out_play           1409 non-null   float64\n",
      " 39  rat_in_play            1409 non-null   float64\n",
      " 40  rat_inout_play         1409 non-null   float64\n",
      " 41  rat_bench_play         1409 non-null   float64\n",
      " 42  rat_susp_play          1409 non-null   float64\n",
      " 43  rat_full_play_first    1409 non-null   float64\n",
      " 44  rat_out_play_first     1409 non-null   float64\n",
      " 45  rat_in_play_first      1409 non-null   float64\n",
      " 46  rat_inout_play_first   1409 non-null   float64\n",
      " 47  rat_bench_play_first   1409 non-null   float64\n",
      " 48  rat_susp_play_first    1409 non-null   float64\n",
      " 49  rat_full_play_second   1409 non-null   float64\n",
      " 50  rat_out_play_second    1409 non-null   float64\n",
      " 51  rat_in_play_second     1409 non-null   float64\n",
      " 52  rat_inout_play_second  1409 non-null   float64\n",
      " 53  rat_bench_play_second  1409 non-null   float64\n",
      " 54  rat_susp_play_second   1409 non-null   float64\n",
      "dtypes: float64(32), int64(2), object(21)\n",
      "memory usage: 832.1+ KB\n"
     ]
    }
   ],
   "source": [
    "# データ概要\n",
    "all_df.info()"
   ]
  },
  {
   "cell_type": "markdown",
   "metadata": {},
   "source": [
    "### 特徴量エンジニアリング"
   ]
  },
  {
   "cell_type": "markdown",
   "metadata": {},
   "source": [
    "#### name"
   ]
  },
  {
   "cell_type": "code",
   "execution_count": 5,
   "metadata": {},
   "outputs": [],
   "source": [
    "# nameのlabelencoding\n",
    "le = LabelEncoder()\n",
    "le = le.fit(all_df['name'])\n",
    "all_df['name'] = le.transform(all_df['name'])"
   ]
  },
  {
   "cell_type": "markdown",
   "metadata": {},
   "source": [
    "#### team"
   ]
  },
  {
   "cell_type": "code",
   "execution_count": 6,
   "metadata": {},
   "outputs": [],
   "source": [
    "# teamはprevX_teamと同値のencodingを実施するため、辞書を作成\n",
    "# 出現回数が1のものは同値でencodingを実施\n",
    "# prevX_teamのencodingでも利用\n",
    "team_dic = {}\n",
    "\n",
    "tmp_dic = pd.concat([all_df['team'], all_df['prev3_team'], all_df['prev2_team'], all_df['prev1_team']]).value_counts().to_dict()\n",
    "tmp_list = sorted(tmp_dic.items(), key = lambda x:x[1])\n",
    "\n",
    "label = 0\n",
    "for i, j in tmp_list:\n",
    "    if j == 1:\n",
    "        team_dic[i] = label\n",
    "    else:\n",
    "        team_dic[i] = label\n",
    "        label += 1\n",
    "\n",
    "# teamのlabelencoding\n",
    "all_df['team'] = all_df['team'].map(team_dic)"
   ]
  },
  {
   "cell_type": "markdown",
   "metadata": {},
   "source": [
    "#### potision"
   ]
  },
  {
   "cell_type": "code",
   "execution_count": 7,
   "metadata": {},
   "outputs": [],
   "source": [
    "# potisionのlabelencoding\n",
    "le = LabelEncoder()\n",
    "le = le.fit(all_df['position'])\n",
    "all_df['position'] = le.transform(all_df['position'])"
   ]
  },
  {
   "cell_type": "markdown",
   "metadata": {},
   "source": [
    "#### birthdate"
   ]
  },
  {
   "cell_type": "code",
   "execution_count": 8,
   "metadata": {},
   "outputs": [],
   "source": [
    "# 生年月日より生まれ年を抽出\n",
    "all_df['birthdate'] = pd.to_datetime(all_df['birthdate'])\n",
    "all_df['birthdate_year'] = all_df['birthdate'].dt.year"
   ]
  },
  {
   "cell_type": "markdown",
   "metadata": {},
   "source": [
    "#### salary"
   ]
  },
  {
   "cell_type": "code",
   "execution_count": 9,
   "metadata": {},
   "outputs": [],
   "source": [
    "# salaryのNaN→中央値補完\n",
    "med_salary = all_df[all_df['salary'] != '-']['salary'].median()\n",
    "all_df['salary'] = all_df['salary'].mask(all_df['salary'] == '-', med_salary)\n",
    "all_df['salary'] = all_df['salary'].astype(float)"
   ]
  },
  {
   "cell_type": "markdown",
   "metadata": {},
   "source": [
    "#### is_youth"
   ]
  },
  {
   "cell_type": "code",
   "execution_count": 10,
   "metadata": {},
   "outputs": [],
   "source": [
    "# is_youthのboolean変換\n",
    "all_df['is_youth'] = all_df['is_youth'].notnull()"
   ]
  },
  {
   "cell_type": "markdown",
   "metadata": {},
   "source": [
    "#### nationality"
   ]
  },
  {
   "cell_type": "code",
   "execution_count": 11,
   "metadata": {},
   "outputs": [],
   "source": [
    "# nationalityのNaN→Japan補完\n",
    "all_df['nationality'] = all_df['nationality'].fillna('japan')\n",
    "\n",
    "# nationalityのlabelencoding\n",
    "le = LabelEncoder()\n",
    "le = le.fit(all_df['nationality'])\n",
    "all_df['nationality'] = le.transform(all_df['nationality'])"
   ]
  },
  {
   "cell_type": "markdown",
   "metadata": {},
   "source": [
    "#### prevX_transferred"
   ]
  },
  {
   "cell_type": "code",
   "execution_count": 12,
   "metadata": {},
   "outputs": [],
   "source": [
    "# prevX_teamに'・'が含まれているかで移籍有無を抽出\n",
    "for col, new_col in {'prev3_team':'prev3_transferred', 'prev2_team':'prev2_transferred', 'prev1_team':'prev1_transferred',}.items():\n",
    "    all_df[new_col] = all_df[col].str.contains('-')"
   ]
  },
  {
   "cell_type": "markdown",
   "metadata": {},
   "source": [
    "#### prevX_team"
   ]
  },
  {
   "cell_type": "code",
   "execution_count": 13,
   "metadata": {},
   "outputs": [],
   "source": [
    "# 作成した辞書を用いてprevX_teamのlabelencoding\n",
    "for col in ['prev3_team', 'prev2_team', 'prev1_team']:\n",
    "    all_df[col] = all_df[col].map(team_dic)"
   ]
  },
  {
   "cell_type": "markdown",
   "metadata": {},
   "source": [
    "#### prevX_div"
   ]
  },
  {
   "cell_type": "code",
   "execution_count": 14,
   "metadata": {},
   "outputs": [],
   "source": [
    "# prevX_divの'-'→0補完\n",
    "for col in ['prev3_div', 'prev2_div', 'prev1_div']:\n",
    "    all_df[col] = all_df[col].replace('-', 0).astype(int)"
   ]
  },
  {
   "cell_type": "markdown",
   "metadata": {},
   "source": [
    "#### prevX_num_played"
   ]
  },
  {
   "cell_type": "code",
   "execution_count": 15,
   "metadata": {},
   "outputs": [],
   "source": [
    "# prevX_num_playedの'-'→NaN補完\n",
    "for col in ['prev3_num_played', 'prev2_num_played', 'prev1_num_played']:\n",
    "    all_df[col] = all_df[col].replace('-', np.nan).astype(float)"
   ]
  },
  {
   "cell_type": "markdown",
   "metadata": {},
   "source": [
    "#### prevX_scores"
   ]
  },
  {
   "cell_type": "code",
   "execution_count": 16,
   "metadata": {},
   "outputs": [],
   "source": [
    "# prevX_scoresの'-'→NaN補完\n",
    "for col in ['prev3_scores', 'prev2_scores', 'prev1_scores']:\n",
    "    all_df[col] = all_df[col].replace('-', np.nan).astype(float)"
   ]
  },
  {
   "cell_type": "markdown",
   "metadata": {},
   "source": [
    "#### prevX_time_played"
   ]
  },
  {
   "cell_type": "code",
   "execution_count": 17,
   "metadata": {},
   "outputs": [],
   "source": [
    "# prevX_time_playedの'-'→NaN補完\n",
    "for col in ['prev3_time_played', 'prev2_time_played', 'prev1_time_played']:\n",
    "    all_df[col] = all_df[col].replace('-', np.nan).astype(float)"
   ]
  },
  {
   "cell_type": "markdown",
   "metadata": {},
   "source": [
    "### 学習"
   ]
  },
  {
   "cell_type": "code",
   "execution_count": 18,
   "metadata": {},
   "outputs": [
    {
     "name": "stdout",
     "output_type": "stream",
     "text": [
      "<class 'pandas.core.frame.DataFrame'>\n",
      "Int64Index: 1902 entries, 0 to 1901\n",
      "Data columns (total 59 columns):\n",
      " #   Column                 Non-Null Count  Dtype         \n",
      "---  ------                 --------------  -----         \n",
      " 0   id                     1902 non-null   int64         \n",
      " 1   team                   1902 non-null   int64         \n",
      " 2   No                     1902 non-null   float64       \n",
      " 3   name                   1902 non-null   int32         \n",
      " 4   time_played            1414 non-null   float64       \n",
      " 5   position               1902 non-null   int32         \n",
      " 6   birthdate              1902 non-null   datetime64[ns]\n",
      " 7   height                 1902 non-null   float64       \n",
      " 8   weight                 1902 non-null   float64       \n",
      " 9   salary                 1902 non-null   float64       \n",
      " 10  nth_year               1902 non-null   float64       \n",
      " 11  is_youth               1902 non-null   bool          \n",
      " 12  nationality            1902 non-null   int32         \n",
      " 13  j1_total_num_played    1640 non-null   float64       \n",
      " 14  j1_total_scores        1554 non-null   float64       \n",
      " 15  j2_total_num_played    1134 non-null   float64       \n",
      " 16  j2_total_scores        1070 non-null   float64       \n",
      " 17  j3_total_num_played    343 non-null    float64       \n",
      " 18  j3_total_scores        289 non-null    float64       \n",
      " 19  na_total_num_played    429 non-null    float64       \n",
      " 20  na_total_scores        367 non-null    float64       \n",
      " 21  prev3_team             1902 non-null   int64         \n",
      " 22  prev2_team             1902 non-null   int64         \n",
      " 23  prev1_team             1902 non-null   int64         \n",
      " 24  prev3_div              1902 non-null   int32         \n",
      " 25  prev2_div              1902 non-null   int32         \n",
      " 26  prev1_div              1902 non-null   int32         \n",
      " 27  prev3_num_played       1594 non-null   float64       \n",
      " 28  prev2_num_played       1732 non-null   float64       \n",
      " 29  prev1_num_played       1848 non-null   float64       \n",
      " 30  prev3_scores           1594 non-null   float64       \n",
      " 31  prev2_scores           1732 non-null   float64       \n",
      " 32  prev1_scores           1848 non-null   float64       \n",
      " 33  prev3_time_played      1385 non-null   float64       \n",
      " 34  prev2_time_played      1568 non-null   float64       \n",
      " 35  prev1_time_played      1765 non-null   float64       \n",
      " 36  year                   1902 non-null   int64         \n",
      " 37  rat_full_play          1409 non-null   float64       \n",
      " 38  rat_out_play           1409 non-null   float64       \n",
      " 39  rat_in_play            1409 non-null   float64       \n",
      " 40  rat_inout_play         1409 non-null   float64       \n",
      " 41  rat_bench_play         1409 non-null   float64       \n",
      " 42  rat_susp_play          1409 non-null   float64       \n",
      " 43  rat_full_play_first    1409 non-null   float64       \n",
      " 44  rat_out_play_first     1409 non-null   float64       \n",
      " 45  rat_in_play_first      1409 non-null   float64       \n",
      " 46  rat_inout_play_first   1409 non-null   float64       \n",
      " 47  rat_bench_play_first   1409 non-null   float64       \n",
      " 48  rat_susp_play_first    1409 non-null   float64       \n",
      " 49  rat_full_play_second   1409 non-null   float64       \n",
      " 50  rat_out_play_second    1409 non-null   float64       \n",
      " 51  rat_in_play_second     1409 non-null   float64       \n",
      " 52  rat_inout_play_second  1409 non-null   float64       \n",
      " 53  rat_bench_play_second  1409 non-null   float64       \n",
      " 54  rat_susp_play_second   1409 non-null   float64       \n",
      " 55  birthdate_year         1902 non-null   int64         \n",
      " 56  prev3_transferred      1902 non-null   bool          \n",
      " 57  prev2_transferred      1902 non-null   bool          \n",
      " 58  prev1_transferred      1902 non-null   bool          \n",
      "dtypes: bool(4), datetime64[ns](1), float64(41), int32(6), int64(7)\n",
      "memory usage: 795.0 KB\n"
     ]
    }
   ],
   "source": [
    "# 前処理後データ概要\n",
    "all_df.info()"
   ]
  },
  {
   "cell_type": "code",
   "execution_count": 19,
   "metadata": {},
   "outputs": [],
   "source": [
    "# 教師, 検証データ\n",
    "x_train_valid_df = all_df[all_df['year'] < 2019]\n",
    "y_train_valid_df = x_train_valid_df['time_played']\n",
    "\n",
    "# バリデーション\n",
    "# x_train, x_valid, y_train, y_valid = train_test_split(x_train_valid_df, y_train_valid_df, test_size=0.33, random_state=0, stratify = x_train_valid_df['year'])\n",
    "x_train = x_train_valid_df[x_train_valid_df['year'] < 2018]\n",
    "y_train = x_train['time_played']\n",
    "x_valid = x_train_valid_df[x_train_valid_df['year'] == 2018]\n",
    "y_valid = x_valid['time_played']\n",
    "\n",
    "# テストデータ\n",
    "test = all_df[all_df['year'] == 2019]"
   ]
  },
  {
   "cell_type": "code",
   "execution_count": 20,
   "metadata": {},
   "outputs": [],
   "source": [
    "# 入力する特徴量\n",
    "features = [\n",
    "    'team',\n",
    "    'position',\n",
    "    'height',\n",
    "    'weight',\n",
    "    'salary',\n",
    "    'nth_year',\n",
    "    'is_youth',\n",
    "    'nationality',\n",
    "    'birthdate_year',\n",
    "    'year',\n",
    "    'j1_total_num_played',\n",
    "    'j1_total_scores',\n",
    "    'j2_total_num_played',\n",
    "    'j2_total_scores',\n",
    "    'j3_total_num_played',\n",
    "    'j3_total_scores',\n",
    "    'na_total_num_played',\n",
    "    'na_total_scores',\n",
    "    'prev3_transferred',\n",
    "    'prev2_transferred',\n",
    "    'prev1_transferred',\n",
    "    'prev3_team',\n",
    "    'prev2_team',\n",
    "    'prev1_team',\n",
    "    'prev3_div',\n",
    "    'prev2_div',\n",
    "    'prev1_div', \n",
    "    'prev3_num_played',\n",
    "    'prev2_num_played',\n",
    "    'prev1_num_played', \n",
    "    'prev3_scores',\n",
    "    'prev2_scores',\n",
    "    'prev1_scores', \n",
    "    'prev3_time_played',\n",
    "    'prev2_time_played',\n",
    "    'prev1_time_played',\n",
    "    'rat_full_play',\n",
    "    'rat_out_play',\n",
    "    'rat_in_play', \n",
    "    'rat_inout_play',\n",
    "    'rat_bench_play',\n",
    "    'rat_susp_play',\n",
    "    'rat_full_play_first',\n",
    "    'rat_out_play_first',\n",
    "    'rat_in_play_first',\n",
    "    'rat_inout_play_first',\n",
    "    'rat_bench_play_first',\n",
    "    'rat_susp_play_first',\n",
    "    'rat_full_play_second',\n",
    "    'rat_out_play_second',\n",
    "    'rat_in_play_second',\n",
    "    'rat_inout_play_second',\n",
    "    'rat_bench_play_second',\n",
    "    'rat_susp_play_second'\n",
    "]"
   ]
  },
  {
   "cell_type": "code",
   "execution_count": 21,
   "metadata": {},
   "outputs": [],
   "source": [
    "# カテゴリ変数\n",
    "categorical_features = ['team', 'position', 'nationality', 'prev3_team', 'prev2_team', 'prev1_team', 'prev3_div', 'prev2_div', 'prev1_div']"
   ]
  },
  {
   "cell_type": "code",
   "execution_count": 22,
   "metadata": {},
   "outputs": [],
   "source": [
    "# lightgbmパラメータ\n",
    "lgb_params = {\n",
    "    'objective': 'regression',\n",
    "    'metric': 'rmse',\n",
    "    'random_seed' : 0\n",
    "}"
   ]
  },
  {
   "cell_type": "code",
   "execution_count": 23,
   "metadata": {},
   "outputs": [
    {
     "name": "stderr",
     "output_type": "stream",
     "text": [
      "feature_fraction, val_score: inf:   0%|                                                          | 0/7 [00:00<?, ?it/s]"
     ]
    },
    {
     "name": "stdout",
     "output_type": "stream",
     "text": [
      "Training until validation scores don't improve for 20 rounds\n",
      "[10]\ttraining's rmse: 677.243\tvalid_1's rmse: 842.635\n",
      "[20]\ttraining's rmse: 540.262\tvalid_1's rmse: 823.866\n",
      "[30]\ttraining's rmse: 445.061\tvalid_1's rmse: 828.753\n",
      "[40]\ttraining's rmse: 377.49\tvalid_1's rmse: 834.585\n",
      "Early stopping, best iteration is:\n",
      "[21]\ttraining's rmse: 528.252\tvalid_1's rmse: 822.537\n"
     ]
    },
    {
     "name": "stderr",
     "output_type": "stream",
     "text": [
      "feature_fraction, val_score: 822.536690:  14%|######1                                    | 1/7 [00:00<00:00,  8.14it/s][I 2020-08-11 19:38:40,767] Trial 0 finished with value: 822.5366901584601 and parameters: {'feature_fraction': 0.8}. Best is trial 0 with value: 822.5366901584601.\n",
      "feature_fraction, val_score: 822.536690:  14%|######1                                    | 1/7 [00:00<00:00,  8.14it/s]"
     ]
    },
    {
     "name": "stdout",
     "output_type": "stream",
     "text": [
      "Training until validation scores don't improve for 20 rounds\n",
      "[10]\ttraining's rmse: 680.821\tvalid_1's rmse: 841.024\n",
      "[20]\ttraining's rmse: 541.628\tvalid_1's rmse: 819.458\n",
      "[30]\ttraining's rmse: 450.482\tvalid_1's rmse: 823.305\n",
      "[40]\ttraining's rmse: 383.35\tvalid_1's rmse: 832.231\n",
      "Early stopping, best iteration is:\n",
      "[23]\ttraining's rmse: 510.541\tvalid_1's rmse: 817.517\n"
     ]
    },
    {
     "name": "stderr",
     "output_type": "stream",
     "text": [
      "feature_fraction, val_score: 817.517136:  29%|############2                              | 2/7 [00:00<00:00,  8.57it/s][I 2020-08-11 19:38:40,869] Trial 1 finished with value: 817.5171364892445 and parameters: {'feature_fraction': 0.7}. Best is trial 1 with value: 817.5171364892445.\n",
      "feature_fraction, val_score: 817.517136:  29%|############2                              | 2/7 [00:00<00:00,  8.57it/s]"
     ]
    },
    {
     "name": "stdout",
     "output_type": "stream",
     "text": [
      "Training until validation scores don't improve for 20 rounds\n",
      "[10]\ttraining's rmse: 684.813\tvalid_1's rmse: 845.076\n",
      "[20]\ttraining's rmse: 546.232\tvalid_1's rmse: 821.943\n",
      "[30]\ttraining's rmse: 456.068\tvalid_1's rmse: 828.23\n",
      "[40]\ttraining's rmse: 392.248\tvalid_1's rmse: 828.774\n",
      "Early stopping, best iteration is:\n",
      "[22]\ttraining's rmse: 526.101\tvalid_1's rmse: 819.453\n"
     ]
    },
    {
     "name": "stderr",
     "output_type": "stream",
     "text": [
      "feature_fraction, val_score: 817.517136:  29%|############2                              | 2/7 [00:00<00:00,  8.57it/s][I 2020-08-11 19:38:40,963] Trial 2 finished with value: 819.4534432005433 and parameters: {'feature_fraction': 0.6}. Best is trial 1 with value: 817.5171364892445.\n",
      "feature_fraction, val_score: 817.517136:  43%|##################4                        | 3/7 [00:00<00:00,  8.57it/s]"
     ]
    },
    {
     "name": "stdout",
     "output_type": "stream",
     "text": [
      "Training until validation scores don't improve for 20 rounds\n",
      "[10]\ttraining's rmse: 688.038\tvalid_1's rmse: 847.49\n",
      "[20]\ttraining's rmse: 550.673\tvalid_1's rmse: 827.477\n",
      "[30]\ttraining's rmse: 461.035\tvalid_1's rmse: 831.821\n",
      "[40]\ttraining's rmse: 399.965\tvalid_1's rmse: 835.923\n",
      "Early stopping, best iteration is:\n",
      "[23]\ttraining's rmse: 521.051\tvalid_1's rmse: 826.554\n"
     ]
    },
    {
     "name": "stderr",
     "output_type": "stream",
     "text": [
      "feature_fraction, val_score: 817.517136:  57%|########################5                  | 4/7 [00:00<00:00,  9.06it/s][I 2020-08-11 19:38:41,061] Trial 3 finished with value: 826.5542206793352 and parameters: {'feature_fraction': 0.5}. Best is trial 1 with value: 817.5171364892445.\n",
      "feature_fraction, val_score: 817.517136:  57%|########################5                  | 4/7 [00:00<00:00,  9.06it/s]"
     ]
    },
    {
     "name": "stdout",
     "output_type": "stream",
     "text": [
      "Training until validation scores don't improve for 20 rounds\n",
      "[10]\ttraining's rmse: 674.195\tvalid_1's rmse: 834.815\n",
      "[20]\ttraining's rmse: 533.158\tvalid_1's rmse: 814.426\n",
      "[30]\ttraining's rmse: 438.062\tvalid_1's rmse: 820.204\n",
      "[40]\ttraining's rmse: 369.934\tvalid_1's rmse: 822.497\n",
      "Early stopping, best iteration is:\n",
      "[20]\ttraining's rmse: 533.158\tvalid_1's rmse: 814.426\n"
     ]
    },
    {
     "name": "stderr",
     "output_type": "stream",
     "text": [
      "feature_fraction, val_score: 814.425851:  57%|########################5                  | 4/7 [00:00<00:00,  9.06it/s][I 2020-08-11 19:38:41,158] Trial 4 finished with value: 814.4258506025637 and parameters: {'feature_fraction': 0.8999999999999999}. Best is trial 4 with value: 814.4258506025637.\n",
      "feature_fraction, val_score: 814.425851:  71%|##############################7            | 5/7 [00:00<00:00,  9.06it/s]"
     ]
    },
    {
     "name": "stdout",
     "output_type": "stream",
     "text": [
      "Training until validation scores don't improve for 20 rounds\n",
      "[10]\ttraining's rmse: 673.808\tvalid_1's rmse: 837.775\n",
      "[20]\ttraining's rmse: 531.295\tvalid_1's rmse: 826.761\n",
      "[30]\ttraining's rmse: 434.281\tvalid_1's rmse: 833.331\n",
      "Early stopping, best iteration is:\n",
      "[16]\ttraining's rmse: 580.375\tvalid_1's rmse: 826.695\n"
     ]
    },
    {
     "name": "stderr",
     "output_type": "stream",
     "text": [
      "feature_fraction, val_score: 814.425851:  86%|####################################8      | 6/7 [00:00<00:00,  9.44it/s][I 2020-08-11 19:38:41,252] Trial 5 finished with value: 826.6946029689911 and parameters: {'feature_fraction': 1.0}. Best is trial 4 with value: 814.4258506025637.\n",
      "feature_fraction, val_score: 814.425851:  86%|####################################8      | 6/7 [00:00<00:00,  9.44it/s]"
     ]
    },
    {
     "name": "stdout",
     "output_type": "stream",
     "text": [
      "Training until validation scores don't improve for 20 rounds\n",
      "[10]\ttraining's rmse: 693.957\tvalid_1's rmse: 847.413\n",
      "[20]\ttraining's rmse: 562.744\tvalid_1's rmse: 826.674\n",
      "[30]\ttraining's rmse: 475.638\tvalid_1's rmse: 828.998\n",
      "[40]\ttraining's rmse: 411.693\tvalid_1's rmse: 831.408\n",
      "Early stopping, best iteration is:\n",
      "[21]\ttraining's rmse: 553.218\tvalid_1's rmse: 824.279\n"
     ]
    },
    {
     "name": "stderr",
     "output_type": "stream",
     "text": [
      "feature_fraction, val_score: 814.425851: 100%|###########################################| 7/7 [00:00<00:00,  9.49it/s][I 2020-08-11 19:38:41,357] Trial 6 finished with value: 824.2789798784843 and parameters: {'feature_fraction': 0.4}. Best is trial 4 with value: 814.4258506025637.\n",
      "feature_fraction, val_score: 814.425851: 100%|###########################################| 7/7 [00:00<00:00,  9.76it/s]\n",
      "num_leaves, val_score: 814.425851:   0%|                                                        | 0/20 [00:00<?, ?it/s]"
     ]
    },
    {
     "name": "stdout",
     "output_type": "stream",
     "text": [
      "Training until validation scores don't improve for 20 rounds\n",
      "[10]\ttraining's rmse: 775.639\tvalid_1's rmse: 851.722\n",
      "[20]\ttraining's rmse: 698.837\tvalid_1's rmse: 827.155\n",
      "[30]\ttraining's rmse: 654.348\tvalid_1's rmse: 823.673\n",
      "[40]\ttraining's rmse: 619.505\tvalid_1's rmse: 823.564\n",
      "[50]\ttraining's rmse: 593.716\tvalid_1's rmse: 822.933\n",
      "[60]\ttraining's rmse: 569.821\tvalid_1's rmse: 821.626\n",
      "Early stopping, best iteration is:\n",
      "[44]\ttraining's rmse: 609.239\tvalid_1's rmse: 821.115\n"
     ]
    },
    {
     "name": "stderr",
     "output_type": "stream",
     "text": [
      "num_leaves, val_score: 814.425851:   5%|##4                                             | 1/20 [00:00<00:02,  9.18it/s][I 2020-08-11 19:38:41,476] Trial 7 finished with value: 821.1151804678809 and parameters: {'num_leaves': 7}. Best is trial 7 with value: 821.1151804678809.\n",
      "num_leaves, val_score: 814.425851:   5%|##4                                             | 1/20 [00:00<00:02,  9.18it/s]"
     ]
    },
    {
     "name": "stdout",
     "output_type": "stream",
     "text": [
      "Training until validation scores don't improve for 20 rounds\n",
      "[10]\ttraining's rmse: 668.416\tvalid_1's rmse: 842.938\n",
      "[20]\ttraining's rmse: 525.102\tvalid_1's rmse: 820.426\n",
      "[30]\ttraining's rmse: 425.767\tvalid_1's rmse: 822.27\n",
      "[40]\ttraining's rmse: 354.987\tvalid_1's rmse: 829.088\n",
      "Early stopping, best iteration is:\n",
      "[24]\ttraining's rmse: 482.115\tvalid_1's rmse: 816.939\n"
     ]
    },
    {
     "name": "stderr",
     "output_type": "stream",
     "text": [
      "num_leaves, val_score: 814.425851:  10%|####8                                           | 2/20 [00:00<00:02,  7.75it/s][I 2020-08-11 19:38:41,652] Trial 8 finished with value: 816.9393877524377 and parameters: {'num_leaves': 207}. Best is trial 8 with value: 816.9393877524377.\n",
      "num_leaves, val_score: 814.425851:  10%|####8                                           | 2/20 [00:00<00:02,  7.75it/s]"
     ]
    },
    {
     "name": "stdout",
     "output_type": "stream",
     "text": [
      "Training until validation scores don't improve for 20 rounds\n",
      "[10]\ttraining's rmse: 668.416\tvalid_1's rmse: 842.938\n",
      "[20]\ttraining's rmse: 525.102\tvalid_1's rmse: 820.426\n",
      "[30]\ttraining's rmse: 425.767\tvalid_1's rmse: 822.27\n",
      "[40]\ttraining's rmse: 354.987\tvalid_1's rmse: 829.088\n",
      "Early stopping, best iteration is:\n",
      "[24]\ttraining's rmse: 482.115\tvalid_1's rmse: 816.939\n"
     ]
    },
    {
     "name": "stderr",
     "output_type": "stream",
     "text": [
      "num_leaves, val_score: 814.425851:  15%|#######2                                        | 3/20 [00:00<00:02,  7.61it/s][I 2020-08-11 19:38:41,789] Trial 9 finished with value: 816.9393877524377 and parameters: {'num_leaves': 66}. Best is trial 8 with value: 816.9393877524377.\n",
      "num_leaves, val_score: 814.425851:  15%|#######2                                        | 3/20 [00:00<00:02,  7.61it/s]"
     ]
    },
    {
     "name": "stdout",
     "output_type": "stream",
     "text": [
      "Training until validation scores don't improve for 20 rounds\n",
      "[10]\ttraining's rmse: 668.416\tvalid_1's rmse: 842.938\n",
      "[20]\ttraining's rmse: 525.102\tvalid_1's rmse: 820.426\n",
      "[30]\ttraining's rmse: 425.767\tvalid_1's rmse: 822.27\n",
      "[40]\ttraining's rmse: 354.987\tvalid_1's rmse: 829.088\n",
      "Early stopping, best iteration is:\n",
      "[24]\ttraining's rmse: 482.115\tvalid_1's rmse: 816.939\n"
     ]
    },
    {
     "name": "stderr",
     "output_type": "stream",
     "text": [
      "num_leaves, val_score: 814.425851:  20%|#########6                                      | 4/20 [00:00<00:02,  7.33it/s][I 2020-08-11 19:38:41,937] Trial 10 finished with value: 816.9393877524377 and parameters: {'num_leaves': 253}. Best is trial 8 with value: 816.9393877524377.\n",
      "num_leaves, val_score: 814.425851:  20%|#########6                                      | 4/20 [00:00<00:02,  7.33it/s]"
     ]
    },
    {
     "name": "stdout",
     "output_type": "stream",
     "text": [
      "Training until validation scores don't improve for 20 rounds\n",
      "[10]\ttraining's rmse: 668.416\tvalid_1's rmse: 842.938\n",
      "[20]\ttraining's rmse: 525.102\tvalid_1's rmse: 820.426\n",
      "[30]\ttraining's rmse: 425.767\tvalid_1's rmse: 822.27\n",
      "[40]\ttraining's rmse: 354.987\tvalid_1's rmse: 829.088\n",
      "Early stopping, best iteration is:\n",
      "[24]\ttraining's rmse: 482.115\tvalid_1's rmse: 816.939\n"
     ]
    },
    {
     "name": "stderr",
     "output_type": "stream",
     "text": [
      "num_leaves, val_score: 814.425851:  25%|############                                    | 5/20 [00:00<00:02,  7.20it/s][I 2020-08-11 19:38:42,080] Trial 11 finished with value: 816.9393877524377 and parameters: {'num_leaves': 222}. Best is trial 8 with value: 816.9393877524377.\n",
      "num_leaves, val_score: 814.425851:  25%|############                                    | 5/20 [00:00<00:02,  7.20it/s]"
     ]
    },
    {
     "name": "stdout",
     "output_type": "stream",
     "text": [
      "Training until validation scores don't improve for 20 rounds\n",
      "[10]\ttraining's rmse: 668.416\tvalid_1's rmse: 842.938\n",
      "[20]\ttraining's rmse: 525.102\tvalid_1's rmse: 820.426\n",
      "[30]\ttraining's rmse: 425.767\tvalid_1's rmse: 822.27\n",
      "[40]\ttraining's rmse: 354.987\tvalid_1's rmse: 829.088\n",
      "Early stopping, best iteration is:\n",
      "[24]\ttraining's rmse: 482.115\tvalid_1's rmse: 816.939\n"
     ]
    },
    {
     "name": "stderr",
     "output_type": "stream",
     "text": [
      "num_leaves, val_score: 814.425851:  30%|##############4                                 | 6/20 [00:00<00:01,  7.21it/s][I 2020-08-11 19:38:42,219] Trial 12 finished with value: 816.9393877524377 and parameters: {'num_leaves': 168}. Best is trial 8 with value: 816.9393877524377.\n",
      "num_leaves, val_score: 814.425851:  30%|##############4                                 | 6/20 [00:00<00:01,  7.21it/s]"
     ]
    },
    {
     "name": "stdout",
     "output_type": "stream",
     "text": [
      "Training until validation scores don't improve for 20 rounds\n",
      "[10]\ttraining's rmse: 668.416\tvalid_1's rmse: 842.938\n",
      "[20]\ttraining's rmse: 525.102\tvalid_1's rmse: 820.426\n",
      "[30]\ttraining's rmse: 425.767\tvalid_1's rmse: 822.27\n",
      "[40]\ttraining's rmse: 354.987\tvalid_1's rmse: 829.088\n",
      "Early stopping, best iteration is:\n",
      "[24]\ttraining's rmse: 482.115\tvalid_1's rmse: 816.939\n"
     ]
    },
    {
     "name": "stderr",
     "output_type": "stream",
     "text": [
      "num_leaves, val_score: 814.425851:  35%|################7                               | 7/20 [00:00<00:01,  7.18it/s][I 2020-08-11 19:38:42,360] Trial 13 finished with value: 816.9393877524377 and parameters: {'num_leaves': 155}. Best is trial 8 with value: 816.9393877524377.\n",
      "num_leaves, val_score: 814.425851:  35%|################7                               | 7/20 [00:00<00:01,  7.18it/s]"
     ]
    },
    {
     "name": "stdout",
     "output_type": "stream",
     "text": [
      "Training until validation scores don't improve for 20 rounds\n",
      "[10]\ttraining's rmse: 668.416\tvalid_1's rmse: 842.938\n",
      "[20]\ttraining's rmse: 525.102\tvalid_1's rmse: 820.426\n",
      "[30]\ttraining's rmse: 425.767\tvalid_1's rmse: 822.27\n",
      "[40]\ttraining's rmse: 354.987\tvalid_1's rmse: 829.088\n",
      "Early stopping, best iteration is:\n",
      "[24]\ttraining's rmse: 482.115\tvalid_1's rmse: 816.939\n"
     ]
    },
    {
     "name": "stderr",
     "output_type": "stream",
     "text": [
      "num_leaves, val_score: 814.425851:  40%|###################2                            | 8/20 [00:01<00:02,  5.70it/s][I 2020-08-11 19:38:42,621] Trial 14 finished with value: 816.9393877524377 and parameters: {'num_leaves': 210}. Best is trial 8 with value: 816.9393877524377.\n",
      "num_leaves, val_score: 814.425851:  40%|###################2                            | 8/20 [00:01<00:02,  5.70it/s]"
     ]
    },
    {
     "name": "stdout",
     "output_type": "stream",
     "text": [
      "Training until validation scores don't improve for 20 rounds\n",
      "[10]\ttraining's rmse: 668.416\tvalid_1's rmse: 842.938\n",
      "[20]\ttraining's rmse: 525.102\tvalid_1's rmse: 820.426\n",
      "[30]\ttraining's rmse: 425.767\tvalid_1's rmse: 822.27\n",
      "[40]\ttraining's rmse: 354.987\tvalid_1's rmse: 829.088\n",
      "Early stopping, best iteration is:\n",
      "[24]\ttraining's rmse: 482.115\tvalid_1's rmse: 816.939\n"
     ]
    },
    {
     "name": "stderr",
     "output_type": "stream",
     "text": [
      "num_leaves, val_score: 814.425851:  45%|#####################6                          | 9/20 [00:01<00:01,  6.00it/s][I 2020-08-11 19:38:42,766] Trial 15 finished with value: 816.9393877524377 and parameters: {'num_leaves': 92}. Best is trial 8 with value: 816.9393877524377.\n",
      "num_leaves, val_score: 814.425851:  45%|#####################6                          | 9/20 [00:01<00:01,  6.00it/s]"
     ]
    },
    {
     "name": "stdout",
     "output_type": "stream",
     "text": [
      "Training until validation scores don't improve for 20 rounds\n",
      "[10]\ttraining's rmse: 668.416\tvalid_1's rmse: 842.938\n",
      "[20]\ttraining's rmse: 525.102\tvalid_1's rmse: 820.426\n",
      "[30]\ttraining's rmse: 425.767\tvalid_1's rmse: 822.27\n",
      "[40]\ttraining's rmse: 354.987\tvalid_1's rmse: 829.088\n",
      "Early stopping, best iteration is:\n",
      "[24]\ttraining's rmse: 482.115\tvalid_1's rmse: 816.939\n"
     ]
    },
    {
     "name": "stderr",
     "output_type": "stream",
     "text": [
      "num_leaves, val_score: 814.425851:  50%|#######################5                       | 10/20 [00:01<00:01,  6.22it/s][I 2020-08-11 19:38:42,913] Trial 16 finished with value: 816.9393877524377 and parameters: {'num_leaves': 255}. Best is trial 8 with value: 816.9393877524377.\n",
      "num_leaves, val_score: 814.425851:  50%|#######################5                       | 10/20 [00:01<00:01,  6.22it/s]"
     ]
    },
    {
     "name": "stdout",
     "output_type": "stream",
     "text": [
      "Training until validation scores don't improve for 20 rounds\n",
      "[10]\ttraining's rmse: 668.416\tvalid_1's rmse: 842.938\n",
      "[20]\ttraining's rmse: 525.102\tvalid_1's rmse: 820.426\n",
      "[30]\ttraining's rmse: 425.767\tvalid_1's rmse: 822.27\n",
      "[40]\ttraining's rmse: 354.987\tvalid_1's rmse: 829.088\n",
      "Early stopping, best iteration is:\n",
      "[24]\ttraining's rmse: 482.115\tvalid_1's rmse: 816.939\n"
     ]
    },
    {
     "name": "stderr",
     "output_type": "stream",
     "text": [
      "num_leaves, val_score: 814.425851:  55%|#########################8                     | 11/20 [00:01<00:01,  6.49it/s][I 2020-08-11 19:38:43,052] Trial 17 finished with value: 816.9393877524377 and parameters: {'num_leaves': 195}. Best is trial 8 with value: 816.9393877524377.\n",
      "num_leaves, val_score: 814.425851:  55%|#########################8                     | 11/20 [00:01<00:01,  6.49it/s]"
     ]
    },
    {
     "name": "stdout",
     "output_type": "stream",
     "text": [
      "Training until validation scores don't improve for 20 rounds\n",
      "[10]\ttraining's rmse: 668.416\tvalid_1's rmse: 842.938\n",
      "[20]\ttraining's rmse: 525.102\tvalid_1's rmse: 820.426\n",
      "[30]\ttraining's rmse: 425.767\tvalid_1's rmse: 822.27\n",
      "[40]\ttraining's rmse: 354.987\tvalid_1's rmse: 829.088\n",
      "Early stopping, best iteration is:\n",
      "[24]\ttraining's rmse: 482.115\tvalid_1's rmse: 816.939\n"
     ]
    },
    {
     "name": "stderr",
     "output_type": "stream",
     "text": [
      "num_leaves, val_score: 814.425851:  60%|############################2                  | 12/20 [00:01<00:01,  6.54it/s][I 2020-08-11 19:38:43,202] Trial 18 finished with value: 816.9393877524377 and parameters: {'num_leaves': 107}. Best is trial 8 with value: 816.9393877524377.\n",
      "num_leaves, val_score: 814.425851:  60%|############################2                  | 12/20 [00:01<00:01,  6.54it/s]"
     ]
    },
    {
     "name": "stdout",
     "output_type": "stream",
     "text": [
      "Training until validation scores don't improve for 20 rounds\n",
      "[10]\ttraining's rmse: 670.211\tvalid_1's rmse: 843.639\n",
      "[20]\ttraining's rmse: 529.048\tvalid_1's rmse: 822.78\n",
      "[30]\ttraining's rmse: 431.013\tvalid_1's rmse: 823.103\n",
      "[40]\ttraining's rmse: 359.223\tvalid_1's rmse: 827.269\n",
      "Early stopping, best iteration is:\n",
      "[24]\ttraining's rmse: 486.247\tvalid_1's rmse: 820.599\n"
     ]
    },
    {
     "name": "stderr",
     "output_type": "stream",
     "text": [
      "num_leaves, val_score: 814.425851:  65%|##############################5                | 13/20 [00:01<00:01,  6.58it/s][I 2020-08-11 19:38:43,352] Trial 19 finished with value: 820.599067357098 and parameters: {'num_leaves': 37}. Best is trial 8 with value: 816.9393877524377.\n",
      "num_leaves, val_score: 814.425851:  65%|##############################5                | 13/20 [00:01<00:01,  6.58it/s]"
     ]
    },
    {
     "name": "stdout",
     "output_type": "stream",
     "text": [
      "Training until validation scores don't improve for 20 rounds\n",
      "[10]\ttraining's rmse: 668.416\tvalid_1's rmse: 842.938\n",
      "[20]\ttraining's rmse: 525.102\tvalid_1's rmse: 820.426\n",
      "[30]\ttraining's rmse: 425.767\tvalid_1's rmse: 822.27\n",
      "[40]\ttraining's rmse: 354.987\tvalid_1's rmse: 829.088\n",
      "Early stopping, best iteration is:\n",
      "[24]\ttraining's rmse: 482.115\tvalid_1's rmse: 816.939\n"
     ]
    },
    {
     "name": "stderr",
     "output_type": "stream",
     "text": [
      "num_leaves, val_score: 814.425851:  70%|################################9              | 14/20 [00:02<00:00,  6.05it/s][I 2020-08-11 19:38:43,549] Trial 20 finished with value: 816.9393877524377 and parameters: {'num_leaves': 60}. Best is trial 8 with value: 816.9393877524377.\n",
      "num_leaves, val_score: 814.425851:  70%|################################9              | 14/20 [00:02<00:00,  6.05it/s]"
     ]
    },
    {
     "name": "stdout",
     "output_type": "stream",
     "text": [
      "Training until validation scores don't improve for 20 rounds\n",
      "[10]\ttraining's rmse: 668.416\tvalid_1's rmse: 842.938\n",
      "[20]\ttraining's rmse: 525.102\tvalid_1's rmse: 820.426\n",
      "[30]\ttraining's rmse: 425.767\tvalid_1's rmse: 822.27\n",
      "[40]\ttraining's rmse: 354.987\tvalid_1's rmse: 829.088\n",
      "Early stopping, best iteration is:\n",
      "[24]\ttraining's rmse: 482.115\tvalid_1's rmse: 816.939\n"
     ]
    },
    {
     "name": "stderr",
     "output_type": "stream",
     "text": [
      "num_leaves, val_score: 814.425851:  75%|###################################2           | 15/20 [00:02<00:00,  6.10it/s][I 2020-08-11 19:38:43,708] Trial 21 finished with value: 816.9393877524377 and parameters: {'num_leaves': 112}. Best is trial 8 with value: 816.9393877524377.\n",
      "num_leaves, val_score: 814.425851:  75%|###################################2           | 15/20 [00:02<00:00,  6.10it/s]"
     ]
    },
    {
     "name": "stdout",
     "output_type": "stream",
     "text": [
      "Training until validation scores don't improve for 20 rounds\n",
      "[10]\ttraining's rmse: 668.416\tvalid_1's rmse: 842.938\n",
      "[20]\ttraining's rmse: 525.102\tvalid_1's rmse: 820.426\n",
      "[30]\ttraining's rmse: 425.767\tvalid_1's rmse: 822.27\n",
      "[40]\ttraining's rmse: 354.987\tvalid_1's rmse: 829.088\n",
      "Early stopping, best iteration is:\n",
      "[24]\ttraining's rmse: 482.115\tvalid_1's rmse: 816.939\n"
     ]
    },
    {
     "name": "stderr",
     "output_type": "stream",
     "text": [
      "num_leaves, val_score: 814.425851:  80%|#####################################6         | 16/20 [00:02<00:00,  6.39it/s][I 2020-08-11 19:38:43,846] Trial 22 finished with value: 816.9393877524377 and parameters: {'num_leaves': 139}. Best is trial 8 with value: 816.9393877524377.\n",
      "num_leaves, val_score: 814.425851:  80%|#####################################6         | 16/20 [00:02<00:00,  6.39it/s]"
     ]
    },
    {
     "name": "stdout",
     "output_type": "stream",
     "text": [
      "Training until validation scores don't improve for 20 rounds\n",
      "[10]\ttraining's rmse: 747.987\tvalid_1's rmse: 846.493\n",
      "[20]\ttraining's rmse: 653.114\tvalid_1's rmse: 825.315\n",
      "[30]\ttraining's rmse: 594.908\tvalid_1's rmse: 825.303\n",
      "[40]\ttraining's rmse: 551.792\tvalid_1's rmse: 835.573\n",
      "Early stopping, best iteration is:\n",
      "[25]\ttraining's rmse: 623.067\tvalid_1's rmse: 823.844\n"
     ]
    },
    {
     "name": "stderr",
     "output_type": "stream",
     "text": [
      "num_leaves, val_score: 814.425851:  80%|#####################################6         | 16/20 [00:02<00:00,  6.39it/s][I 2020-08-11 19:38:43,930] Trial 23 finished with value: 823.843816884181 and parameters: {'num_leaves': 11}. Best is trial 8 with value: 816.9393877524377.\n",
      "num_leaves, val_score: 814.425851:  85%|#######################################9       | 17/20 [00:02<00:00,  6.39it/s]"
     ]
    },
    {
     "name": "stdout",
     "output_type": "stream",
     "text": [
      "Training until validation scores don't improve for 20 rounds\n",
      "[10]\ttraining's rmse: 668.416\tvalid_1's rmse: 842.938\n",
      "[20]\ttraining's rmse: 525.102\tvalid_1's rmse: 820.426\n",
      "[30]\ttraining's rmse: 425.767\tvalid_1's rmse: 822.27\n",
      "[40]\ttraining's rmse: 354.987\tvalid_1's rmse: 829.088\n",
      "Early stopping, best iteration is:\n",
      "[24]\ttraining's rmse: 482.115\tvalid_1's rmse: 816.939\n"
     ]
    },
    {
     "name": "stderr",
     "output_type": "stream",
     "text": [
      "num_leaves, val_score: 814.425851:  90%|##########################################3    | 18/20 [00:02<00:00,  6.97it/s][I 2020-08-11 19:38:44,074] Trial 24 finished with value: 816.9393877524377 and parameters: {'num_leaves': 243}. Best is trial 8 with value: 816.9393877524377.\n",
      "num_leaves, val_score: 814.425851:  90%|##########################################3    | 18/20 [00:02<00:00,  6.97it/s]"
     ]
    },
    {
     "name": "stdout",
     "output_type": "stream",
     "text": [
      "Training until validation scores don't improve for 20 rounds\n",
      "[10]\ttraining's rmse: 668.416\tvalid_1's rmse: 842.938\n",
      "[20]\ttraining's rmse: 525.102\tvalid_1's rmse: 820.426\n",
      "[30]\ttraining's rmse: 425.767\tvalid_1's rmse: 822.27\n",
      "[40]\ttraining's rmse: 354.987\tvalid_1's rmse: 829.088\n",
      "Early stopping, best iteration is:\n",
      "[24]\ttraining's rmse: 482.115\tvalid_1's rmse: 816.939\n"
     ]
    },
    {
     "name": "stderr",
     "output_type": "stream",
     "text": [
      "num_leaves, val_score: 814.425851:  95%|############################################6  | 19/20 [00:02<00:00,  6.98it/s][I 2020-08-11 19:38:44,217] Trial 25 finished with value: 816.9393877524377 and parameters: {'num_leaves': 157}. Best is trial 8 with value: 816.9393877524377.\n",
      "num_leaves, val_score: 814.425851:  95%|############################################6  | 19/20 [00:02<00:00,  6.98it/s]"
     ]
    },
    {
     "name": "stdout",
     "output_type": "stream",
     "text": [
      "Training until validation scores don't improve for 20 rounds\n",
      "[10]\ttraining's rmse: 668.416\tvalid_1's rmse: 842.938\n",
      "[20]\ttraining's rmse: 525.102\tvalid_1's rmse: 820.426\n",
      "[30]\ttraining's rmse: 425.767\tvalid_1's rmse: 822.27\n",
      "[40]\ttraining's rmse: 354.987\tvalid_1's rmse: 829.088\n",
      "Early stopping, best iteration is:\n",
      "[24]\ttraining's rmse: 482.115\tvalid_1's rmse: 816.939\n"
     ]
    },
    {
     "name": "stderr",
     "output_type": "stream",
     "text": [
      "num_leaves, val_score: 814.425851: 100%|###############################################| 20/20 [00:02<00:00,  7.01it/s][I 2020-08-11 19:38:44,359] Trial 26 finished with value: 816.9393877524377 and parameters: {'num_leaves': 155}. Best is trial 8 with value: 816.9393877524377.\n",
      "num_leaves, val_score: 814.425851: 100%|###############################################| 20/20 [00:02<00:00,  6.67it/s]\n",
      "bagging, val_score: 814.425851:   0%|                                                           | 0/10 [00:00<?, ?it/s]"
     ]
    },
    {
     "name": "stdout",
     "output_type": "stream",
     "text": [
      "Training until validation scores don't improve for 20 rounds\n",
      "[10]\ttraining's rmse: 677.537\tvalid_1's rmse: 836.857\n",
      "[20]\ttraining's rmse: 536.877\tvalid_1's rmse: 813.777\n",
      "[30]\ttraining's rmse: 442.621\tvalid_1's rmse: 823.43\n",
      "[40]\ttraining's rmse: 373.471\tvalid_1's rmse: 832.528\n",
      "Early stopping, best iteration is:\n",
      "[20]\ttraining's rmse: 536.877\tvalid_1's rmse: 813.777\n"
     ]
    },
    {
     "name": "stderr",
     "output_type": "stream",
     "text": [
      "bagging, val_score: 813.777419:  10%|#####1                                             | 1/10 [00:00<00:01,  7.05it/s][I 2020-08-11 19:38:44,510] Trial 27 finished with value: 813.7774186854746 and parameters: {'bagging_fraction': 0.9680168919662673, 'bagging_freq': 4}. Best is trial 27 with value: 813.7774186854746.\n",
      "bagging, val_score: 813.777419:  10%|#####1                                             | 1/10 [00:00<00:01,  7.05it/s]"
     ]
    },
    {
     "name": "stdout",
     "output_type": "stream",
     "text": [
      "Training until validation scores don't improve for 20 rounds\n",
      "[10]\ttraining's rmse: 676.967\tvalid_1's rmse: 832.105\n",
      "[20]\ttraining's rmse: 535.874\tvalid_1's rmse: 814.054\n",
      "[30]\ttraining's rmse: 442.183\tvalid_1's rmse: 814.524\n",
      "Early stopping, best iteration is:\n",
      "[19]\ttraining's rmse: 548.907\tvalid_1's rmse: 812.519\n"
     ]
    },
    {
     "name": "stderr",
     "output_type": "stream",
     "text": [
      "bagging, val_score: 812.518731:  20%|##########2                                        | 2/10 [00:00<00:01,  7.34it/s][I 2020-08-11 19:38:44,633] Trial 28 finished with value: 812.518731315291 and parameters: {'bagging_fraction': 0.9784492132497238, 'bagging_freq': 4}. Best is trial 28 with value: 812.518731315291.\n",
      "bagging, val_score: 812.518731:  20%|##########2                                        | 2/10 [00:00<00:01,  7.34it/s]"
     ]
    },
    {
     "name": "stdout",
     "output_type": "stream",
     "text": [
      "Training until validation scores don't improve for 20 rounds\n",
      "[10]\ttraining's rmse: 678.354\tvalid_1's rmse: 834.07\n",
      "[20]\ttraining's rmse: 534.803\tvalid_1's rmse: 818.052\n",
      "[30]\ttraining's rmse: 442.301\tvalid_1's rmse: 827.398\n",
      "Early stopping, best iteration is:\n",
      "[18]\ttraining's rmse: 557.162\tvalid_1's rmse: 816.279\n"
     ]
    },
    {
     "name": "stderr",
     "output_type": "stream",
     "text": [
      "bagging, val_score: 812.518731:  30%|###############3                                   | 3/10 [00:00<00:00,  7.72it/s][I 2020-08-11 19:38:44,747] Trial 29 finished with value: 816.2788999004858 and parameters: {'bagging_fraction': 0.9940332868436932, 'bagging_freq': 4}. Best is trial 28 with value: 812.518731315291.\n",
      "bagging, val_score: 812.518731:  30%|###############3                                   | 3/10 [00:00<00:00,  7.72it/s]"
     ]
    },
    {
     "name": "stdout",
     "output_type": "stream",
     "text": [
      "Training until validation scores don't improve for 20 rounds\n",
      "[10]\ttraining's rmse: 675.713\tvalid_1's rmse: 848.446\n",
      "[20]\ttraining's rmse: 537.468\tvalid_1's rmse: 829.755\n",
      "[30]\ttraining's rmse: 440.084\tvalid_1's rmse: 836.024\n",
      "[40]\ttraining's rmse: 372.694\tvalid_1's rmse: 843.138\n",
      "Early stopping, best iteration is:\n",
      "[20]\ttraining's rmse: 537.468\tvalid_1's rmse: 829.755\n"
     ]
    },
    {
     "name": "stderr",
     "output_type": "stream",
     "text": [
      "bagging, val_score: 812.518731:  40%|####################4                              | 4/10 [00:00<00:00,  7.61it/s][I 2020-08-11 19:38:44,883] Trial 30 finished with value: 829.755279136488 and parameters: {'bagging_fraction': 0.963285218345221, 'bagging_freq': 4}. Best is trial 28 with value: 812.518731315291.\n",
      "bagging, val_score: 812.518731:  40%|####################4                              | 4/10 [00:00<00:00,  7.61it/s]"
     ]
    },
    {
     "name": "stdout",
     "output_type": "stream",
     "text": [
      "Training until validation scores don't improve for 20 rounds\n",
      "[10]\ttraining's rmse: 679.032\tvalid_1's rmse: 840.955\n",
      "[20]\ttraining's rmse: 536.65\tvalid_1's rmse: 825.565\n",
      "[30]\ttraining's rmse: 442.661\tvalid_1's rmse: 833.833\n",
      "Early stopping, best iteration is:\n",
      "[18]\ttraining's rmse: 559.593\tvalid_1's rmse: 824.938\n"
     ]
    },
    {
     "name": "stderr",
     "output_type": "stream",
     "text": [
      "bagging, val_score: 812.518731:  50%|#########################5                         | 5/10 [00:00<00:00,  7.74it/s][I 2020-08-11 19:38:45,007] Trial 31 finished with value: 824.9379439900043 and parameters: {'bagging_fraction': 0.9711482387345051, 'bagging_freq': 4}. Best is trial 28 with value: 812.518731315291.\n",
      "bagging, val_score: 812.518731:  50%|#########################5                         | 5/10 [00:00<00:00,  7.74it/s]"
     ]
    },
    {
     "name": "stdout",
     "output_type": "stream",
     "text": [
      "Training until validation scores don't improve for 20 rounds\n",
      "[10]\ttraining's rmse: 676.032\tvalid_1's rmse: 847.5\n",
      "[20]\ttraining's rmse: 535.24\tvalid_1's rmse: 829.936\n",
      "[30]\ttraining's rmse: 446.162\tvalid_1's rmse: 834.786\n",
      "[40]\ttraining's rmse: 379.181\tvalid_1's rmse: 848.91\n",
      "Early stopping, best iteration is:\n",
      "[23]\ttraining's rmse: 505.452\tvalid_1's rmse: 829.135\n"
     ]
    },
    {
     "name": "stderr",
     "output_type": "stream",
     "text": [
      "bagging, val_score: 812.518731:  60%|##############################6                    | 6/10 [00:00<00:00,  7.40it/s][I 2020-08-11 19:38:45,156] Trial 32 finished with value: 829.1345644571439 and parameters: {'bagging_fraction': 0.9525294831582022, 'bagging_freq': 4}. Best is trial 28 with value: 812.518731315291.\n",
      "bagging, val_score: 812.518731:  60%|##############################6                    | 6/10 [00:00<00:00,  7.40it/s]"
     ]
    },
    {
     "name": "stdout",
     "output_type": "stream",
     "text": [
      "Training until validation scores don't improve for 20 rounds\n",
      "[10]\ttraining's rmse: 758.604\tvalid_1's rmse: 842.613\n",
      "[20]\ttraining's rmse: 674.785\tvalid_1's rmse: 824.74\n",
      "[30]\ttraining's rmse: 621.27\tvalid_1's rmse: 822.604\n",
      "[40]\ttraining's rmse: 592.287\tvalid_1's rmse: 824.583\n",
      "Early stopping, best iteration is:\n",
      "[26]\ttraining's rmse: 641.183\tvalid_1's rmse: 819.823\n"
     ]
    },
    {
     "name": "stderr",
     "output_type": "stream",
     "text": [
      "bagging, val_score: 812.518731:  70%|###################################6               | 7/10 [00:00<00:00,  7.88it/s][I 2020-08-11 19:38:45,263] Trial 33 finished with value: 819.8231677239185 and parameters: {'bagging_fraction': 0.4149418024351903, 'bagging_freq': 6}. Best is trial 28 with value: 812.518731315291.\n",
      "bagging, val_score: 812.518731:  70%|###################################6               | 7/10 [00:00<00:00,  7.88it/s]"
     ]
    },
    {
     "name": "stdout",
     "output_type": "stream",
     "text": [
      "Training until validation scores don't improve for 20 rounds\n",
      "[10]\ttraining's rmse: 676.022\tvalid_1's rmse: 834.516\n",
      "[20]\ttraining's rmse: 536.711\tvalid_1's rmse: 809.122\n",
      "[30]\ttraining's rmse: 440.68\tvalid_1's rmse: 807.082\n",
      "[40]\ttraining's rmse: 370.763\tvalid_1's rmse: 815.615\n",
      "Early stopping, best iteration is:\n",
      "[23]\ttraining's rmse: 504.828\tvalid_1's rmse: 805.937\n"
     ]
    },
    {
     "name": "stderr",
     "output_type": "stream",
     "text": [
      "bagging, val_score: 805.936798:  80%|########################################8          | 8/10 [00:01<00:00,  7.75it/s][I 2020-08-11 19:38:45,397] Trial 34 finished with value: 805.9367981212271 and parameters: {'bagging_fraction': 0.9947254986351809, 'bagging_freq': 2}. Best is trial 34 with value: 805.9367981212271.\n",
      "bagging, val_score: 805.936798:  80%|########################################8          | 8/10 [00:01<00:00,  7.75it/s]"
     ]
    },
    {
     "name": "stdout",
     "output_type": "stream",
     "text": [
      "Training until validation scores don't improve for 20 rounds\n",
      "[10]\ttraining's rmse: 696.07\tvalid_1's rmse: 837.621\n",
      "[20]\ttraining's rmse: 567.82\tvalid_1's rmse: 816.265\n",
      "[30]\ttraining's rmse: 485.728\tvalid_1's rmse: 821.306\n",
      "Early stopping, best iteration is:\n",
      "[18]\ttraining's rmse: 591.648\tvalid_1's rmse: 812.414\n"
     ]
    },
    {
     "name": "stderr",
     "output_type": "stream",
     "text": [
      "bagging, val_score: 805.936798:  90%|#############################################9     | 9/10 [00:01<00:00,  7.97it/s][I 2020-08-11 19:38:45,515] Trial 35 finished with value: 812.4140730743112 and parameters: {'bagging_fraction': 0.789446249411172, 'bagging_freq': 1}. Best is trial 34 with value: 805.9367981212271.\n",
      "bagging, val_score: 805.936798:  90%|#############################################9     | 9/10 [00:01<00:00,  7.97it/s]"
     ]
    },
    {
     "name": "stdout",
     "output_type": "stream",
     "text": [
      "Training until validation scores don't improve for 20 rounds\n",
      "[10]\ttraining's rmse: 704.693\tvalid_1's rmse: 843.302\n",
      "[20]\ttraining's rmse: 576.464\tvalid_1's rmse: 821.579\n",
      "[30]\ttraining's rmse: 493.606\tvalid_1's rmse: 826.79\n",
      "[40]\ttraining's rmse: 434.188\tvalid_1's rmse: 837.034\n",
      "Early stopping, best iteration is:\n",
      "[21]\ttraining's rmse: 565.545\tvalid_1's rmse: 820.586\n"
     ]
    },
    {
     "name": "stderr",
     "output_type": "stream",
     "text": [
      "bagging, val_score: 805.936798: 100%|##################################################| 10/10 [00:01<00:00,  8.16it/s][I 2020-08-11 19:38:45,630] Trial 36 finished with value: 820.586354574111 and parameters: {'bagging_fraction': 0.7318593692723891, 'bagging_freq': 1}. Best is trial 34 with value: 805.9367981212271.\n",
      "bagging, val_score: 805.936798: 100%|##################################################| 10/10 [00:01<00:00,  7.89it/s]\n",
      "feature_fraction_stage2, val_score: 805.936798:   0%|                                            | 0/6 [00:00<?, ?it/s]"
     ]
    },
    {
     "name": "stdout",
     "output_type": "stream",
     "text": [
      "Training until validation scores don't improve for 20 rounds\n",
      "[10]\ttraining's rmse: 678.36\tvalid_1's rmse: 839.932\n",
      "[20]\ttraining's rmse: 539.772\tvalid_1's rmse: 819.877\n",
      "[30]\ttraining's rmse: 444.598\tvalid_1's rmse: 827.216\n",
      "[40]\ttraining's rmse: 375.77\tvalid_1's rmse: 829.325\n",
      "Early stopping, best iteration is:\n",
      "[21]\ttraining's rmse: 528.688\tvalid_1's rmse: 818.055\n"
     ]
    },
    {
     "name": "stderr",
     "output_type": "stream",
     "text": [
      "feature_fraction_stage2, val_score: 805.936798:  17%|######                              | 1/6 [00:00<00:00,  8.93it/s][I 2020-08-11 19:38:45,751] Trial 37 finished with value: 818.0550507978014 and parameters: {'feature_fraction': 0.852}. Best is trial 37 with value: 818.0550507978014.\n",
      "feature_fraction_stage2, val_score: 805.936798:  17%|######                              | 1/6 [00:00<00:00,  8.93it/s]"
     ]
    },
    {
     "name": "stdout",
     "output_type": "stream",
     "text": [
      "Training until validation scores don't improve for 20 rounds\n",
      "[10]\ttraining's rmse: 674.178\tvalid_1's rmse: 842.564\n",
      "[20]\ttraining's rmse: 531.145\tvalid_1's rmse: 826.414\n",
      "[30]\ttraining's rmse: 441.719\tvalid_1's rmse: 830.352\n",
      "Early stopping, best iteration is:\n",
      "[19]\ttraining's rmse: 541.85\tvalid_1's rmse: 826.325\n"
     ]
    },
    {
     "name": "stderr",
     "output_type": "stream",
     "text": [
      "feature_fraction_stage2, val_score: 805.936798:  33%|############                        | 2/6 [00:00<00:00,  9.08it/s][I 2020-08-11 19:38:45,857] Trial 38 finished with value: 826.3250336805123 and parameters: {'feature_fraction': 0.948}. Best is trial 37 with value: 818.0550507978014.\n",
      "feature_fraction_stage2, val_score: 805.936798:  33%|############                        | 2/6 [00:00<00:00,  9.08it/s]"
     ]
    },
    {
     "name": "stdout",
     "output_type": "stream",
     "text": [
      "Training until validation scores don't improve for 20 rounds\n",
      "[10]\ttraining's rmse: 677.677\tvalid_1's rmse: 834.399\n",
      "[20]\ttraining's rmse: 535.504\tvalid_1's rmse: 819.015\n",
      "[30]\ttraining's rmse: 441.23\tvalid_1's rmse: 815.697\n",
      "[40]\ttraining's rmse: 375.116\tvalid_1's rmse: 819.383\n",
      "Early stopping, best iteration is:\n",
      "[24]\ttraining's rmse: 493.303\tvalid_1's rmse: 814.861\n"
     ]
    },
    {
     "name": "stderr",
     "output_type": "stream",
     "text": [
      "feature_fraction_stage2, val_score: 805.936798:  50%|##################                  | 3/6 [00:00<00:00,  8.91it/s][I 2020-08-11 19:38:45,974] Trial 39 finished with value: 814.8607057026337 and parameters: {'feature_fraction': 0.8839999999999999}. Best is trial 39 with value: 814.8607057026337.\n",
      "feature_fraction_stage2, val_score: 805.936798:  50%|##################                  | 3/6 [00:00<00:00,  8.91it/s]"
     ]
    },
    {
     "name": "stdout",
     "output_type": "stream",
     "text": [
      "Training until validation scores don't improve for 20 rounds\n",
      "[10]\ttraining's rmse: 676.55\tvalid_1's rmse: 842.462\n",
      "[20]\ttraining's rmse: 534.013\tvalid_1's rmse: 828.508\n",
      "[30]\ttraining's rmse: 444.634\tvalid_1's rmse: 834.212\n",
      "[40]\ttraining's rmse: 379.338\tvalid_1's rmse: 837.438\n",
      "Early stopping, best iteration is:\n",
      "[24]\ttraining's rmse: 494.772\tvalid_1's rmse: 826.606\n"
     ]
    },
    {
     "name": "stderr",
     "output_type": "stream",
     "text": [
      "feature_fraction_stage2, val_score: 805.936798:  67%|########################            | 4/6 [00:00<00:00,  8.64it/s][I 2020-08-11 19:38:46,098] Trial 40 finished with value: 826.6063354681644 and parameters: {'feature_fraction': 0.82}. Best is trial 39 with value: 814.8607057026337.\n",
      "feature_fraction_stage2, val_score: 805.936798:  67%|########################            | 4/6 [00:00<00:00,  8.64it/s]"
     ]
    },
    {
     "name": "stdout",
     "output_type": "stream",
     "text": [
      "Training until validation scores don't improve for 20 rounds\n",
      "[10]\ttraining's rmse: 674.207\tvalid_1's rmse: 843.2\n",
      "[20]\ttraining's rmse: 534.468\tvalid_1's rmse: 826.495\n",
      "[30]\ttraining's rmse: 440.807\tvalid_1's rmse: 830.538\n",
      "Early stopping, best iteration is:\n",
      "[19]\ttraining's rmse: 545.025\tvalid_1's rmse: 826.239\n"
     ]
    },
    {
     "name": "stderr",
     "output_type": "stream",
     "text": [
      "feature_fraction_stage2, val_score: 805.936798:  83%|##############################      | 5/6 [00:00<00:00,  8.75it/s][I 2020-08-11 19:38:46,209] Trial 41 finished with value: 826.2392684550942 and parameters: {'feature_fraction': 0.9799999999999999}. Best is trial 39 with value: 814.8607057026337.\n",
      "feature_fraction_stage2, val_score: 805.936798:  83%|##############################      | 5/6 [00:00<00:00,  8.75it/s]"
     ]
    },
    {
     "name": "stdout",
     "output_type": "stream",
     "text": [
      "Training until validation scores don't improve for 20 rounds\n",
      "[10]\ttraining's rmse: 676.022\tvalid_1's rmse: 834.516\n",
      "[20]\ttraining's rmse: 536.711\tvalid_1's rmse: 809.122\n",
      "[30]\ttraining's rmse: 440.68\tvalid_1's rmse: 807.082\n",
      "[40]\ttraining's rmse: 370.763\tvalid_1's rmse: 815.615\n",
      "Early stopping, best iteration is:\n",
      "[23]\ttraining's rmse: 504.828\tvalid_1's rmse: 805.937\n"
     ]
    },
    {
     "name": "stderr",
     "output_type": "stream",
     "text": [
      "feature_fraction_stage2, val_score: 805.936798: 100%|####################################| 6/6 [00:00<00:00,  8.69it/s][I 2020-08-11 19:38:46,326] Trial 42 finished with value: 805.9367981212271 and parameters: {'feature_fraction': 0.9159999999999999}. Best is trial 42 with value: 805.9367981212271.\n",
      "feature_fraction_stage2, val_score: 805.936798: 100%|####################################| 6/6 [00:00<00:00,  8.69it/s]\n",
      "regularization_factors, val_score: 805.936798:   0%|                                            | 0/20 [00:00<?, ?it/s]"
     ]
    },
    {
     "name": "stdout",
     "output_type": "stream",
     "text": [
      "Training until validation scores don't improve for 20 rounds\n",
      "[10]\ttraining's rmse: 676.028\tvalid_1's rmse: 834.518\n",
      "[20]\ttraining's rmse: 536.717\tvalid_1's rmse: 809.122\n",
      "[30]\ttraining's rmse: 440.687\tvalid_1's rmse: 807.082\n",
      "[40]\ttraining's rmse: 370.77\tvalid_1's rmse: 815.614\n",
      "Early stopping, best iteration is:\n",
      "[23]\ttraining's rmse: 504.835\tvalid_1's rmse: 805.937\n"
     ]
    },
    {
     "name": "stderr",
     "output_type": "stream",
     "text": [
      "regularization_factors, val_score: 805.936636:   5%|#8                                  | 1/20 [00:00<00:02,  7.52it/s][I 2020-08-11 19:38:46,468] Trial 43 finished with value: 805.9366358249762 and parameters: {'lambda_l1': 0.0052720822109385635, 'lambda_l2': 0.0010315935030131298}. Best is trial 43 with value: 805.9366358249762.\n",
      "regularization_factors, val_score: 805.936636:   5%|#8                                  | 1/20 [00:00<00:02,  7.52it/s]"
     ]
    },
    {
     "name": "stdout",
     "output_type": "stream",
     "text": [
      "Training until validation scores don't improve for 20 rounds\n",
      "[10]\ttraining's rmse: 675.543\tvalid_1's rmse: 834.69\n",
      "[20]\ttraining's rmse: 534.991\tvalid_1's rmse: 812.92\n",
      "[30]\ttraining's rmse: 437.635\tvalid_1's rmse: 815.21\n",
      "[40]\ttraining's rmse: 371.984\tvalid_1's rmse: 817.831\n",
      "Early stopping, best iteration is:\n",
      "[25]\ttraining's rmse: 481.464\tvalid_1's rmse: 811.373\n"
     ]
    },
    {
     "name": "stderr",
     "output_type": "stream",
     "text": [
      "regularization_factors, val_score: 805.936636:  10%|###6                                | 2/20 [00:00<00:02,  7.56it/s][I 2020-08-11 19:38:46,599] Trial 44 finished with value: 811.3726901742501 and parameters: {'lambda_l1': 0.009749317711827295, 'lambda_l2': 0.0014784095763881995}. Best is trial 43 with value: 805.9366358249762.\n",
      "regularization_factors, val_score: 805.936636:  10%|###6                                | 2/20 [00:00<00:02,  7.56it/s]"
     ]
    },
    {
     "name": "stdout",
     "output_type": "stream",
     "text": [
      "Training until validation scores don't improve for 20 rounds\n",
      "[10]\ttraining's rmse: 676.028\tvalid_1's rmse: 834.518\n",
      "[20]\ttraining's rmse: 536.718\tvalid_1's rmse: 809.122\n",
      "[30]\ttraining's rmse: 440.688\tvalid_1's rmse: 807.082\n",
      "[40]\ttraining's rmse: 370.771\tvalid_1's rmse: 815.614\n",
      "Early stopping, best iteration is:\n",
      "[23]\ttraining's rmse: 504.836\tvalid_1's rmse: 805.937\n"
     ]
    },
    {
     "name": "stderr",
     "output_type": "stream",
     "text": [
      "regularization_factors, val_score: 805.936624:  15%|#####3                              | 3/20 [00:00<00:02,  7.60it/s][I 2020-08-11 19:38:46,729] Trial 45 finished with value: 805.9366236261526 and parameters: {'lambda_l1': 0.008073102326596698, 'lambda_l2': 0.0011120041362558182}. Best is trial 45 with value: 805.9366236261526.\n",
      "regularization_factors, val_score: 805.936624:  15%|#####3                              | 3/20 [00:00<00:02,  7.60it/s]"
     ]
    },
    {
     "name": "stdout",
     "output_type": "stream",
     "text": [
      "Training until validation scores don't improve for 20 rounds\n",
      "[10]\ttraining's rmse: 675.544\tvalid_1's rmse: 834.69\n",
      "[20]\ttraining's rmse: 534.992\tvalid_1's rmse: 812.92\n",
      "[30]\ttraining's rmse: 437.635\tvalid_1's rmse: 815.209\n",
      "[40]\ttraining's rmse: 371.984\tvalid_1's rmse: 817.831\n",
      "Early stopping, best iteration is:\n",
      "[25]\ttraining's rmse: 481.464\tvalid_1's rmse: 811.373\n"
     ]
    },
    {
     "name": "stderr",
     "output_type": "stream",
     "text": [
      "regularization_factors, val_score: 805.936624:  20%|#######2                            | 4/20 [00:00<00:02,  7.51it/s][I 2020-08-11 19:38:46,865] Trial 46 finished with value: 811.3726721697632 and parameters: {'lambda_l1': 0.006452458994123339, 'lambda_l2': 0.0015295584776127602}. Best is trial 45 with value: 805.9366236261526.\n",
      "regularization_factors, val_score: 805.936624:  20%|#######2                            | 4/20 [00:00<00:02,  7.51it/s]"
     ]
    },
    {
     "name": "stdout",
     "output_type": "stream",
     "text": [
      "Training until validation scores don't improve for 20 rounds\n",
      "[10]\ttraining's rmse: 676.027\tvalid_1's rmse: 834.518\n",
      "[20]\ttraining's rmse: 536.717\tvalid_1's rmse: 809.122\n",
      "[30]\ttraining's rmse: 440.687\tvalid_1's rmse: 807.082\n",
      "[40]\ttraining's rmse: 370.769\tvalid_1's rmse: 815.614\n",
      "Early stopping, best iteration is:\n",
      "[23]\ttraining's rmse: 504.835\tvalid_1's rmse: 805.937\n"
     ]
    },
    {
     "name": "stderr",
     "output_type": "stream",
     "text": [
      "regularization_factors, val_score: 805.936624:  25%|#########                           | 5/20 [00:00<00:01,  7.51it/s][I 2020-08-11 19:38:46,998] Trial 47 finished with value: 805.9366488516157 and parameters: {'lambda_l1': 0.006443119479175942, 'lambda_l2': 0.0009501184363463358}. Best is trial 45 with value: 805.9366236261526.\n",
      "regularization_factors, val_score: 805.936624:  25%|#########                           | 5/20 [00:00<00:01,  7.51it/s]"
     ]
    },
    {
     "name": "stdout",
     "output_type": "stream",
     "text": [
      "Training until validation scores don't improve for 20 rounds\n",
      "[10]\ttraining's rmse: 676.024\tvalid_1's rmse: 834.517\n",
      "[20]\ttraining's rmse: 536.714\tvalid_1's rmse: 809.122\n",
      "[30]\ttraining's rmse: 440.683\tvalid_1's rmse: 807.082\n",
      "[40]\ttraining's rmse: 370.766\tvalid_1's rmse: 815.615\n",
      "Early stopping, best iteration is:\n",
      "[23]\ttraining's rmse: 504.831\tvalid_1's rmse: 805.937\n"
     ]
    },
    {
     "name": "stderr",
     "output_type": "stream",
     "text": [
      "regularization_factors, val_score: 805.936624:  30%|##########7                         | 6/20 [00:00<00:01,  7.50it/s][I 2020-08-11 19:38:47,132] Trial 48 finished with value: 805.9367275181049 and parameters: {'lambda_l1': 0.0033651616272248417, 'lambda_l2': 0.0004495067860019623}. Best is trial 45 with value: 805.9366236261526.\n",
      "regularization_factors, val_score: 805.936624:  30%|##########7                         | 6/20 [00:00<00:01,  7.50it/s]"
     ]
    },
    {
     "name": "stdout",
     "output_type": "stream",
     "text": [
      "Training until validation scores don't improve for 20 rounds\n",
      "[10]\ttraining's rmse: 676.024\tvalid_1's rmse: 834.517\n",
      "[20]\ttraining's rmse: 536.714\tvalid_1's rmse: 809.122\n",
      "[30]\ttraining's rmse: 440.683\tvalid_1's rmse: 807.082\n",
      "[40]\ttraining's rmse: 370.766\tvalid_1's rmse: 815.615\n",
      "Early stopping, best iteration is:\n",
      "[23]\ttraining's rmse: 504.831\tvalid_1's rmse: 805.937\n"
     ]
    },
    {
     "name": "stderr",
     "output_type": "stream",
     "text": [
      "regularization_factors, val_score: 805.936624:  35%|############6                       | 7/20 [00:00<00:01,  7.61it/s][I 2020-08-11 19:38:47,259] Trial 49 finished with value: 805.9367262197488 and parameters: {'lambda_l1': 0.003765282920556224, 'lambda_l2': 0.0004579256940276552}. Best is trial 45 with value: 805.9366236261526.\n",
      "regularization_factors, val_score: 805.936624:  35%|############6                       | 7/20 [00:00<00:01,  7.61it/s]"
     ]
    },
    {
     "name": "stdout",
     "output_type": "stream",
     "text": [
      "Training until validation scores don't improve for 20 rounds\n",
      "[10]\ttraining's rmse: 676.025\tvalid_1's rmse: 834.517\n",
      "[20]\ttraining's rmse: 536.714\tvalid_1's rmse: 809.122\n",
      "[30]\ttraining's rmse: 440.684\tvalid_1's rmse: 807.082\n",
      "[40]\ttraining's rmse: 370.766\tvalid_1's rmse: 815.615\n",
      "Early stopping, best iteration is:\n",
      "[23]\ttraining's rmse: 504.832\tvalid_1's rmse: 805.937\n"
     ]
    },
    {
     "name": "stderr",
     "output_type": "stream",
     "text": [
      "regularization_factors, val_score: 805.936624:  40%|##############4                     | 8/20 [00:01<00:01,  7.71it/s][I 2020-08-11 19:38:47,386] Trial 50 finished with value: 805.9367196449791 and parameters: {'lambda_l1': 0.004207306641788967, 'lambda_l2': 0.0005006412513138275}. Best is trial 45 with value: 805.9366236261526.\n",
      "regularization_factors, val_score: 805.936624:  40%|##############4                     | 8/20 [00:01<00:01,  7.71it/s]"
     ]
    },
    {
     "name": "stdout",
     "output_type": "stream",
     "text": [
      "Training until validation scores don't improve for 20 rounds\n",
      "[10]\ttraining's rmse: 676.024\tvalid_1's rmse: 834.517\n",
      "[20]\ttraining's rmse: 536.714\tvalid_1's rmse: 809.122\n",
      "[30]\ttraining's rmse: 440.683\tvalid_1's rmse: 807.082\n",
      "[40]\ttraining's rmse: 370.766\tvalid_1's rmse: 815.615\n",
      "Early stopping, best iteration is:\n",
      "[23]\ttraining's rmse: 504.832\tvalid_1's rmse: 805.937\n"
     ]
    },
    {
     "name": "stderr",
     "output_type": "stream",
     "text": [
      "regularization_factors, val_score: 805.936624:  45%|################2                   | 9/20 [00:01<00:01,  7.69it/s][I 2020-08-11 19:38:47,516] Trial 51 finished with value: 805.9367234455365 and parameters: {'lambda_l1': 0.0036231349414605676, 'lambda_l2': 0.0004754470038928644}. Best is trial 45 with value: 805.9366236261526.\n",
      "regularization_factors, val_score: 805.936624:  45%|################2                   | 9/20 [00:01<00:01,  7.69it/s]"
     ]
    },
    {
     "name": "stdout",
     "output_type": "stream",
     "text": [
      "Training until validation scores don't improve for 20 rounds\n",
      "[10]\ttraining's rmse: 676.024\tvalid_1's rmse: 834.517\n",
      "[20]\ttraining's rmse: 536.714\tvalid_1's rmse: 809.122\n",
      "[30]\ttraining's rmse: 440.683\tvalid_1's rmse: 807.082\n",
      "[40]\ttraining's rmse: 370.766\tvalid_1's rmse: 815.615\n",
      "Early stopping, best iteration is:\n",
      "[23]\ttraining's rmse: 504.832\tvalid_1's rmse: 805.937\n"
     ]
    },
    {
     "name": "stderr",
     "output_type": "stream",
     "text": [
      "regularization_factors, val_score: 805.936624:  50%|#################5                 | 10/20 [00:01<00:01,  7.55it/s][I 2020-08-11 19:38:47,655] Trial 52 finished with value: 805.9367222194217 and parameters: {'lambda_l1': 0.004647362287856957, 'lambda_l2': 0.00048450859490402077}. Best is trial 45 with value: 805.9366236261526.\n",
      "regularization_factors, val_score: 805.936624:  50%|#################5                 | 10/20 [00:01<00:01,  7.55it/s]"
     ]
    },
    {
     "name": "stdout",
     "output_type": "stream",
     "text": [
      "Training until validation scores don't improve for 20 rounds\n",
      "[10]\ttraining's rmse: 676.025\tvalid_1's rmse: 834.518\n",
      "[20]\ttraining's rmse: 536.715\tvalid_1's rmse: 809.122\n",
      "[30]\ttraining's rmse: 440.684\tvalid_1's rmse: 807.082\n",
      "[40]\ttraining's rmse: 370.767\tvalid_1's rmse: 815.615\n",
      "Early stopping, best iteration is:\n",
      "[23]\ttraining's rmse: 504.832\tvalid_1's rmse: 805.937\n"
     ]
    },
    {
     "name": "stderr",
     "output_type": "stream",
     "text": [
      "regularization_factors, val_score: 805.936624:  55%|###################2               | 11/20 [00:01<00:01,  7.56it/s][I 2020-08-11 19:38:47,787] Trial 53 finished with value: 805.9367016140781 and parameters: {'lambda_l1': 0.0038166576194376693, 'lambda_l2': 0.0006152702355772131}. Best is trial 45 with value: 805.9366236261526.\n",
      "regularization_factors, val_score: 805.936624:  55%|###################2               | 11/20 [00:01<00:01,  7.56it/s]"
     ]
    },
    {
     "name": "stdout",
     "output_type": "stream",
     "text": [
      "Training until validation scores don't improve for 20 rounds\n",
      "[10]\ttraining's rmse: 676.026\tvalid_1's rmse: 834.518\n",
      "[20]\ttraining's rmse: 536.716\tvalid_1's rmse: 809.122\n",
      "[30]\ttraining's rmse: 440.685\tvalid_1's rmse: 807.082\n",
      "[40]\ttraining's rmse: 370.768\tvalid_1's rmse: 815.614\n",
      "Early stopping, best iteration is:\n",
      "[23]\ttraining's rmse: 504.833\tvalid_1's rmse: 805.937\n"
     ]
    },
    {
     "name": "stderr",
     "output_type": "stream",
     "text": [
      "regularization_factors, val_score: 805.936624:  60%|#####################              | 12/20 [00:01<00:01,  7.57it/s][I 2020-08-11 19:38:47,918] Trial 54 finished with value: 805.936680411728 and parameters: {'lambda_l1': 0.008528704171015481, 'lambda_l2': 0.0007530151819316679}. Best is trial 45 with value: 805.9366236261526.\n",
      "regularization_factors, val_score: 805.936624:  60%|#####################              | 12/20 [00:01<00:01,  7.57it/s]"
     ]
    },
    {
     "name": "stdout",
     "output_type": "stream",
     "text": [
      "Training until validation scores don't improve for 20 rounds\n",
      "[10]\ttraining's rmse: 676.788\tvalid_1's rmse: 830.674\n",
      "[20]\ttraining's rmse: 532.729\tvalid_1's rmse: 810.813\n",
      "[30]\ttraining's rmse: 440.588\tvalid_1's rmse: 815.459\n",
      "[40]\ttraining's rmse: 371.769\tvalid_1's rmse: 821.483\n",
      "Early stopping, best iteration is:\n",
      "[25]\ttraining's rmse: 482.114\tvalid_1's rmse: 810.404\n"
     ]
    },
    {
     "name": "stderr",
     "output_type": "stream",
     "text": [
      "regularization_factors, val_score: 805.936624:  65%|######################7            | 13/20 [00:01<00:00,  7.60it/s][I 2020-08-11 19:38:48,047] Trial 55 finished with value: 810.4044799207537 and parameters: {'lambda_l1': 0.9345516162460944, 'lambda_l2': 0.0872440112525705}. Best is trial 45 with value: 805.9366236261526.\n",
      "regularization_factors, val_score: 805.936624:  65%|######################7            | 13/20 [00:01<00:00,  7.60it/s]"
     ]
    },
    {
     "name": "stdout",
     "output_type": "stream",
     "text": [
      "Training until validation scores don't improve for 20 rounds\n",
      "[10]\ttraining's rmse: 675.579\tvalid_1's rmse: 834.702\n",
      "[20]\ttraining's rmse: 535.03\tvalid_1's rmse: 812.92\n",
      "[30]\ttraining's rmse: 437.677\tvalid_1's rmse: 815.205\n",
      "[40]\ttraining's rmse: 372.028\tvalid_1's rmse: 817.825\n",
      "Early stopping, best iteration is:\n",
      "[25]\ttraining's rmse: 481.504\tvalid_1's rmse: 811.37\n"
     ]
    },
    {
     "name": "stderr",
     "output_type": "stream",
     "text": [
      "regularization_factors, val_score: 805.936624:  70%|########################5          | 14/20 [00:01<00:00,  7.56it/s][I 2020-08-11 19:38:48,182] Trial 56 finished with value: 811.3700418419411 and parameters: {'lambda_l1': 0.07517481119150461, 'lambda_l2': 0.007639279898153677}. Best is trial 45 with value: 805.9366236261526.\n",
      "regularization_factors, val_score: 805.936624:  70%|########################5          | 14/20 [00:01<00:00,  7.56it/s]"
     ]
    },
    {
     "name": "stdout",
     "output_type": "stream",
     "text": [
      "Training until validation scores don't improve for 20 rounds\n",
      "[10]\ttraining's rmse: 676.022\tvalid_1's rmse: 834.516\n",
      "[20]\ttraining's rmse: 536.711\tvalid_1's rmse: 809.122\n",
      "[30]\ttraining's rmse: 440.68\tvalid_1's rmse: 807.082\n",
      "[40]\ttraining's rmse: 370.763\tvalid_1's rmse: 815.615\n",
      "Early stopping, best iteration is:\n",
      "[23]\ttraining's rmse: 504.828\tvalid_1's rmse: 805.937\n"
     ]
    },
    {
     "name": "stderr",
     "output_type": "stream",
     "text": [
      "regularization_factors, val_score: 805.936624:  75%|##########################2        | 15/20 [00:01<00:00,  7.65it/s][I 2020-08-11 19:38:48,310] Trial 57 finished with value: 805.93679797083 and parameters: {'lambda_l1': 4.740263332344549e-06, 'lambda_l2': 1.1153987200150617e-06}. Best is trial 45 with value: 805.9366236261526.\n",
      "regularization_factors, val_score: 805.936624:  75%|##########################2        | 15/20 [00:01<00:00,  7.65it/s]"
     ]
    },
    {
     "name": "stdout",
     "output_type": "stream",
     "text": [
      "Training until validation scores don't improve for 20 rounds\n",
      "[10]\ttraining's rmse: 676.022\tvalid_1's rmse: 834.516\n",
      "[20]\ttraining's rmse: 536.711\tvalid_1's rmse: 809.122\n",
      "[30]\ttraining's rmse: 440.68\tvalid_1's rmse: 807.082\n",
      "[40]\ttraining's rmse: 370.763\tvalid_1's rmse: 815.615\n",
      "Early stopping, best iteration is:\n",
      "[23]\ttraining's rmse: 504.828\tvalid_1's rmse: 805.937\n"
     ]
    },
    {
     "name": "stderr",
     "output_type": "stream",
     "text": [
      "regularization_factors, val_score: 805.936624:  80%|############################       | 16/20 [00:02<00:00,  7.61it/s][I 2020-08-11 19:38:48,442] Trial 58 finished with value: 805.9367973450336 and parameters: {'lambda_l1': 0.0002577056938048574, 'lambda_l2': 4.61018001364769e-06}. Best is trial 45 with value: 805.9366236261526.\n",
      "regularization_factors, val_score: 805.936624:  80%|############################       | 16/20 [00:02<00:00,  7.61it/s]"
     ]
    },
    {
     "name": "stdout",
     "output_type": "stream",
     "text": [
      "Training until validation scores don't improve for 20 rounds\n",
      "[10]\ttraining's rmse: 676.022\tvalid_1's rmse: 834.517\n",
      "[20]\ttraining's rmse: 536.711\tvalid_1's rmse: 809.122\n",
      "[30]\ttraining's rmse: 440.68\tvalid_1's rmse: 807.082\n",
      "[40]\ttraining's rmse: 370.763\tvalid_1's rmse: 815.615\n",
      "Early stopping, best iteration is:\n",
      "[23]\ttraining's rmse: 504.829\tvalid_1's rmse: 805.937\n"
     ]
    },
    {
     "name": "stderr",
     "output_type": "stream",
     "text": [
      "regularization_factors, val_score: 805.936624:  85%|#############################7     | 17/20 [00:02<00:00,  7.49it/s][I 2020-08-11 19:38:48,580] Trial 59 finished with value: 805.9367925371404 and parameters: {'lambda_l1': 0.0002104707729995909, 'lambda_l2': 3.563201780555228e-05}. Best is trial 45 with value: 805.9366236261526.\n",
      "regularization_factors, val_score: 805.936624:  85%|#############################7     | 17/20 [00:02<00:00,  7.49it/s]"
     ]
    },
    {
     "name": "stdout",
     "output_type": "stream",
     "text": [
      "Training until validation scores don't improve for 20 rounds\n",
      "[10]\ttraining's rmse: 675.678\tvalid_1's rmse: 834.733\n",
      "[20]\ttraining's rmse: 535.136\tvalid_1's rmse: 812.921\n",
      "[30]\ttraining's rmse: 437.792\tvalid_1's rmse: 815.193\n",
      "[40]\ttraining's rmse: 372.149\tvalid_1's rmse: 817.809\n",
      "Early stopping, best iteration is:\n",
      "[25]\ttraining's rmse: 481.615\tvalid_1's rmse: 811.363\n"
     ]
    },
    {
     "name": "stderr",
     "output_type": "stream",
     "text": [
      "regularization_factors, val_score: 805.936624:  90%|###############################5   | 18/20 [00:02<00:00,  7.46it/s][I 2020-08-11 19:38:48,715] Trial 60 finished with value: 811.3626774734877 and parameters: {'lambda_l1': 0.119009531838547, 'lambda_l2': 0.0251615705706286}. Best is trial 45 with value: 805.9366236261526.\n",
      "regularization_factors, val_score: 805.936624:  90%|###############################5   | 18/20 [00:02<00:00,  7.46it/s]"
     ]
    },
    {
     "name": "stdout",
     "output_type": "stream",
     "text": [
      "Training until validation scores don't improve for 20 rounds\n",
      "[10]\ttraining's rmse: 676.022\tvalid_1's rmse: 834.517\n",
      "[20]\ttraining's rmse: 536.712\tvalid_1's rmse: 809.122\n",
      "[30]\ttraining's rmse: 440.681\tvalid_1's rmse: 807.082\n",
      "[40]\ttraining's rmse: 370.763\tvalid_1's rmse: 815.615\n",
      "Early stopping, best iteration is:\n",
      "[23]\ttraining's rmse: 504.829\tvalid_1's rmse: 805.937\n"
     ]
    },
    {
     "name": "stderr",
     "output_type": "stream",
     "text": [
      "regularization_factors, val_score: 805.936624:  95%|#################################2 | 19/20 [00:02<00:00,  7.53it/s][I 2020-08-11 19:38:48,845] Trial 61 finished with value: 805.9367865253671 and parameters: {'lambda_l1': 0.012286733713481476, 'lambda_l2': 8.357571995211862e-05}. Best is trial 45 with value: 805.9366236261526.\n",
      "regularization_factors, val_score: 805.936624:  95%|#################################2 | 19/20 [00:02<00:00,  7.53it/s]"
     ]
    },
    {
     "name": "stdout",
     "output_type": "stream",
     "text": [
      "Training until validation scores don't improve for 20 rounds\n",
      "[10]\ttraining's rmse: 675.555\tvalid_1's rmse: 834.694\n",
      "[20]\ttraining's rmse: 535.003\tvalid_1's rmse: 812.92\n",
      "[30]\ttraining's rmse: 437.648\tvalid_1's rmse: 815.208\n",
      "[40]\ttraining's rmse: 371.998\tvalid_1's rmse: 817.829\n",
      "Early stopping, best iteration is:\n",
      "[25]\ttraining's rmse: 481.476\tvalid_1's rmse: 811.372\n"
     ]
    },
    {
     "name": "stderr",
     "output_type": "stream",
     "text": [
      "regularization_factors, val_score: 805.936624: 100%|###################################| 20/20 [00:02<00:00,  6.96it/s][I 2020-08-11 19:38:49,014] Trial 62 finished with value: 811.3718546311023 and parameters: {'lambda_l1': 0.0012035085690651746, 'lambda_l2': 0.003494168852600382}. Best is trial 45 with value: 805.9366236261526.\n",
      "regularization_factors, val_score: 805.936624: 100%|###################################| 20/20 [00:02<00:00,  7.45it/s]\n",
      "min_data_in_leaf, val_score: 805.936624:   0%|                                                   | 0/5 [00:00<?, ?it/s]"
     ]
    },
    {
     "name": "stdout",
     "output_type": "stream",
     "text": [
      "Training until validation scores don't improve for 20 rounds\n",
      "[10]\ttraining's rmse: 749.271\tvalid_1's rmse: 842.693\n",
      "[20]\ttraining's rmse: 655.685\tvalid_1's rmse: 819.817\n",
      "[30]\ttraining's rmse: 593.93\tvalid_1's rmse: 823.2\n",
      "[40]\ttraining's rmse: 549.618\tvalid_1's rmse: 824.027\n",
      "Early stopping, best iteration is:\n",
      "[21]\ttraining's rmse: 649.067\tvalid_1's rmse: 819.378\n"
     ]
    },
    {
     "name": "stderr",
     "output_type": "stream",
     "text": [
      "min_data_in_leaf, val_score: 805.936624:   0%|                                                   | 0/5 [00:00<?, ?it/s][I 2020-08-11 19:38:49,110] Trial 63 finished with value: 819.3784368277314 and parameters: {'min_child_samples': 50}. Best is trial 63 with value: 819.3784368277314.\n",
      "min_data_in_leaf, val_score: 805.936624:  20%|########6                                  | 1/5 [00:00<00:00, 10.01it/s]"
     ]
    },
    {
     "name": "stdout",
     "output_type": "stream",
     "text": [
      "Training until validation scores don't improve for 20 rounds\n",
      "[10]\ttraining's rmse: 784.107\tvalid_1's rmse: 851.848\n",
      "[20]\ttraining's rmse: 714.607\tvalid_1's rmse: 821.866\n",
      "[30]\ttraining's rmse: 674.159\tvalid_1's rmse: 816.107\n",
      "[40]\ttraining's rmse: 645.652\tvalid_1's rmse: 815.061\n",
      "[50]\ttraining's rmse: 621.071\tvalid_1's rmse: 817.691\n",
      "Early stopping, best iteration is:\n",
      "[35]\ttraining's rmse: 657.956\tvalid_1's rmse: 814.099\n"
     ]
    },
    {
     "name": "stderr",
     "output_type": "stream",
     "text": [
      "min_data_in_leaf, val_score: 805.936624:  40%|#################2                         | 2/5 [00:00<00:00, 11.84it/s][I 2020-08-11 19:38:49,193] Trial 64 finished with value: 814.0991608170496 and parameters: {'min_child_samples': 100}. Best is trial 64 with value: 814.0991608170496.\n",
      "min_data_in_leaf, val_score: 805.936624:  40%|#################2                         | 2/5 [00:00<00:00, 11.84it/s]"
     ]
    },
    {
     "name": "stdout",
     "output_type": "stream",
     "text": [
      "Training until validation scores don't improve for 20 rounds\n",
      "[10]\ttraining's rmse: 699.594\tvalid_1's rmse: 841.518\n",
      "[20]\ttraining's rmse: 566.947\tvalid_1's rmse: 823.368\n",
      "[30]\ttraining's rmse: 480.417\tvalid_1's rmse: 824.035\n",
      "[40]\ttraining's rmse: 416.787\tvalid_1's rmse: 828.246\n",
      "Early stopping, best iteration is:\n",
      "[22]\ttraining's rmse: 547.158\tvalid_1's rmse: 821.077\n"
     ]
    },
    {
     "name": "stderr",
     "output_type": "stream",
     "text": [
      "min_data_in_leaf, val_score: 805.936624:  60%|#########################8                 | 3/5 [00:00<00:00, 10.48it/s][I 2020-08-11 19:38:49,313] Trial 65 finished with value: 821.0767153135912 and parameters: {'min_child_samples': 25}. Best is trial 64 with value: 814.0991608170496.\n",
      "min_data_in_leaf, val_score: 805.936624:  60%|#########################8                 | 3/5 [00:00<00:00, 10.48it/s]"
     ]
    },
    {
     "name": "stdout",
     "output_type": "stream",
     "text": [
      "Training until validation scores don't improve for 20 rounds\n",
      "[10]\ttraining's rmse: 646.909\tvalid_1's rmse: 838.421\n",
      "[20]\ttraining's rmse: 489.781\tvalid_1's rmse: 823.876\n",
      "[30]\ttraining's rmse: 391.77\tvalid_1's rmse: 828.142\n",
      "[40]\ttraining's rmse: 321.589\tvalid_1's rmse: 836.151\n",
      "Early stopping, best iteration is:\n",
      "[24]\ttraining's rmse: 446.475\tvalid_1's rmse: 821.603\n"
     ]
    },
    {
     "name": "stderr",
     "output_type": "stream",
     "text": [
      "min_data_in_leaf, val_score: 805.936624:  80%|##################################4        | 4/5 [00:00<00:00,  9.07it/s][I 2020-08-11 19:38:49,458] Trial 66 finished with value: 821.6031961211413 and parameters: {'min_child_samples': 10}. Best is trial 64 with value: 814.0991608170496.\n",
      "min_data_in_leaf, val_score: 805.936624:  80%|##################################4        | 4/5 [00:00<00:00,  9.07it/s]"
     ]
    },
    {
     "name": "stdout",
     "output_type": "stream",
     "text": [
      "Training until validation scores don't improve for 20 rounds\n",
      "[10]\ttraining's rmse: 638.47\tvalid_1's rmse: 843.18\n",
      "[20]\ttraining's rmse: 476.98\tvalid_1's rmse: 826.484\n",
      "[30]\ttraining's rmse: 375.371\tvalid_1's rmse: 829.187\n",
      "[40]\ttraining's rmse: 306.147\tvalid_1's rmse: 835.635\n",
      "Early stopping, best iteration is:\n",
      "[23]\ttraining's rmse: 443.402\tvalid_1's rmse: 823.278\n"
     ]
    },
    {
     "name": "stderr",
     "output_type": "stream",
     "text": [
      "min_data_in_leaf, val_score: 805.936624: 100%|###########################################| 5/5 [00:00<00:00,  7.86it/s][I 2020-08-11 19:38:49,625] Trial 67 finished with value: 823.2780061305917 and parameters: {'min_child_samples': 5}. Best is trial 64 with value: 814.0991608170496.\n",
      "min_data_in_leaf, val_score: 805.936624: 100%|###########################################| 5/5 [00:00<00:00,  8.24it/s]\n"
     ]
    },
    {
     "name": "stdout",
     "output_type": "stream",
     "text": [
      "=====Params======\n",
      "  objective: regression\n",
      "  metric: rmse\n",
      "  random_seed: 0\n",
      "  lambda_l1: 0.008073102326596698\n",
      "  lambda_l2: 0.0011120041362558182\n",
      "  num_leaves: 31\n",
      "  feature_fraction: 0.8999999999999999\n",
      "  bagging_fraction: 0.9947254986351809\n",
      "  bagging_freq: 2\n",
      "  min_child_samples: 20\n",
      "=====Val score======\n",
      "  Val rmse score is 806.9167774509904.\n"
     ]
    }
   ],
   "source": [
    "# lightGBM用のデータセットを作成\n",
    "lgb_train = lgb_opt.Dataset(x_train[features], y_train, categorical_feature = categorical_features, free_raw_data=False)\n",
    "lgb_eval = lgb_opt.Dataset(x_valid[features], y_valid, categorical_feature = categorical_features, free_raw_data=False)\n",
    "\n",
    "# モデルの作成\n",
    "evals_result = {}\n",
    "best_params = {}\n",
    "model = lgb_opt.train(params = lgb_params,\n",
    "                      train_set = lgb_train,\n",
    "                      valid_sets = [lgb_train, lgb_eval],\n",
    "                      categorical_feature = categorical_features,\n",
    "                      verbose_eval = 10,\n",
    "                      num_boost_round = 1000,\n",
    "                      early_stopping_rounds = 20\n",
    ")\n",
    "\n",
    "# ベストパラメータの出力\n",
    "best_params = model.params\n",
    "print('=====Params======')\n",
    "for key, value in best_params.items():\n",
    "    print(\"  {}: {}\".format(key, value))\n",
    "\n",
    "# モデル精度の表示\n",
    "valid_pred = model.predict(x_valid[features])\n",
    "model_score = np.sqrt(metrics.mean_squared_error(valid_pred, y_valid))\n",
    "print('=====Val score======')\n",
    "print('  Val rmse score is {model_score}.'.format(model_score = model_score))\n",
    "\n",
    "# テストデータの予測\n",
    "y_pred = model.predict(test[features])"
   ]
  },
  {
   "cell_type": "code",
   "execution_count": 24,
   "metadata": {},
   "outputs": [
    {
     "data": {
      "image/png": "[encoded data removed]",
      "text/plain": [
       "<Figure size 864x432 with 1 Axes>"
      ]
     },
     "metadata": {},
     "output_type": "display_data"
    }
   ],
   "source": [
    "lgb.plot_importance(model, figsize=(12, 6))\n",
    "plt.show()"
   ]
  },
  {
   "cell_type": "markdown",
   "metadata": {},
   "source": [
    "### 出力"
   ]
  },
  {
   "cell_type": "code",
   "execution_count": 25,
   "metadata": {},
   "outputs": [],
   "source": [
    "# 提出用データの作成\n",
    "sub = test[['id', 'time_played']].copy()\n",
    "sub['time_played'] = y_pred\n",
    "\n",
    "# csvの出力\n",
    "now = datetime.datetime.now()\n",
    "sub_name = '特徴量追加(event_play)'\n",
    "file_name = '../data/output/sub_' + sub_name + '_' + now.strftime('%Y%m%d_%H%M%S') + '.csv'\n",
    "sub.to_csv(file_name, index=False)"
   ]
  }
 ],
 "metadata": {
  "kernelspec": {
   "display_name": "Python 3",
   "language": "python",
   "name": "python3"
  },
  "language_info": {
   "codemirror_mode": {
    "name": "ipython",
    "version": 3
   },
   "file_extension": ".py",
   "mimetype": "text/x-python",
   "name": "python",
   "nbconvert_exporter": "python",
   "pygments_lexer": "ipython3",
   "version": "3.7.7"
  }
 },
 "nbformat": 4,
 "nbformat_minor": 4
}
