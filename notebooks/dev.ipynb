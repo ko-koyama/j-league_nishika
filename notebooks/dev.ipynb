{
 "cells": [
  {
   "cell_type": "code",
   "execution_count": 1,
   "metadata": {},
   "outputs": [],
   "source": [
    "import datetime\n",
    "\n",
    "import pandas as pd\n",
    "import pandas_profiling as pdp\n",
    "import numpy as np\n",
    "from matplotlib import pyplot as plt\n",
    "\n",
    "from sklearn.preprocessing import LabelEncoder\n",
    "from sklearn import metrics\n",
    "from sklearn.model_selection import train_test_split\n",
    "from sklearn.metrics import accuracy_score\n",
    "\n",
    "import lightgbm as lgb\n",
    "import optuna.integration.lightgbm as lgb_opt\n",
    "\n",
    "pd.set_option('display.max_columns', 100)\n",
    "pd.set_option('display.max_rows', 150)"
   ]
  },
  {
   "cell_type": "code",
   "execution_count": 2,
   "metadata": {},
   "outputs": [],
   "source": [
    "# データロード\n",
    "train_2018_df = pd.read_csv('../data/input/train_2018.csv')\n",
    "train_2017_df = pd.read_csv('../data/input/train_2017.csv')\n",
    "train_2016_df = pd.read_csv('../data/input/train_2016.csv')\n",
    "train_2018_df['year'] = 2018\n",
    "train_2017_df['year'] = 2017\n",
    "train_2016_df['year'] = 2016\n",
    "\n",
    "test_df = pd.read_csv('../data/input/test.csv')\n",
    "test_df['year'] = 2019"
   ]
  },
  {
   "cell_type": "code",
   "execution_count": 3,
   "metadata": {},
   "outputs": [],
   "source": [
    "# 教師データとテストデータのunion\n",
    "all_df = pd.concat([train_2016_df, train_2017_df, train_2018_df, test_df], axis = 0).reset_index(drop=True)"
   ]
  },
  {
   "cell_type": "markdown",
   "metadata": {},
   "source": [
    "### 特徴量エンジニアリング"
   ]
  },
  {
   "cell_type": "code",
   "execution_count": 4,
   "metadata": {},
   "outputs": [
    {
     "name": "stdout",
     "output_type": "stream",
     "text": [
      "<class 'pandas.core.frame.DataFrame'>\n",
      "RangeIndex: 1902 entries, 0 to 1901\n",
      "Data columns (total 37 columns):\n",
      " #   Column               Non-Null Count  Dtype  \n",
      "---  ------               --------------  -----  \n",
      " 0   id                   1902 non-null   int64  \n",
      " 1   team                 1902 non-null   object \n",
      " 2   No                   1902 non-null   float64\n",
      " 3   name                 1902 non-null   object \n",
      " 4   time_played          1414 non-null   float64\n",
      " 5   position             1902 non-null   object \n",
      " 6   birthdate            1902 non-null   object \n",
      " 7   height               1902 non-null   float64\n",
      " 8   weight               1902 non-null   float64\n",
      " 9   salary               1902 non-null   object \n",
      " 10  nth_year             1902 non-null   float64\n",
      " 11  is_youth             341 non-null    float64\n",
      " 12  nationality          276 non-null    object \n",
      " 13  j1_total_num_played  1640 non-null   float64\n",
      " 14  j1_total_scores      1554 non-null   float64\n",
      " 15  j2_total_num_played  1134 non-null   float64\n",
      " 16  j2_total_scores      1070 non-null   float64\n",
      " 17  j3_total_num_played  343 non-null    float64\n",
      " 18  j3_total_scores      289 non-null    float64\n",
      " 19  na_total_num_played  429 non-null    float64\n",
      " 20  na_total_scores      367 non-null    float64\n",
      " 21  prev3_team           1902 non-null   object \n",
      " 22  prev2_team           1902 non-null   object \n",
      " 23  prev1_team           1902 non-null   object \n",
      " 24  prev3_div            1902 non-null   object \n",
      " 25  prev2_div            1902 non-null   object \n",
      " 26  prev1_div            1902 non-null   object \n",
      " 27  prev3_num_played     1902 non-null   object \n",
      " 28  prev2_num_played     1902 non-null   object \n",
      " 29  prev1_num_played     1902 non-null   object \n",
      " 30  prev3_scores         1902 non-null   object \n",
      " 31  prev2_scores         1902 non-null   object \n",
      " 32  prev1_scores         1902 non-null   object \n",
      " 33  prev3_time_played    1902 non-null   object \n",
      " 34  prev2_time_played    1902 non-null   object \n",
      " 35  prev1_time_played    1902 non-null   object \n",
      " 36  year                 1902 non-null   int64  \n",
      "dtypes: float64(14), int64(2), object(21)\n",
      "memory usage: 549.9+ KB\n"
     ]
    }
   ],
   "source": [
    "# データ概要\n",
    "all_df.info()"
   ]
  },
  {
   "cell_type": "code",
   "execution_count": 5,
   "metadata": {},
   "outputs": [],
   "source": [
    "# nationalityのNaN→Japan補完\n",
    "all_df['nationality'] = all_df['nationality'].fillna('japan')"
   ]
  },
  {
   "cell_type": "code",
   "execution_count": 6,
   "metadata": {},
   "outputs": [],
   "source": [
    "# team, name, position, nationalityのLabelEncoding\n",
    "le = LabelEncoder()\n",
    "\n",
    "for col in ['team', 'name', 'position', 'nationality']:\n",
    "    le = le.fit(all_df[col])\n",
    "    all_df[col] = le.transform(all_df[col])"
   ]
  },
  {
   "cell_type": "code",
   "execution_count": 7,
   "metadata": {},
   "outputs": [],
   "source": [
    "# birthdateの年抽出\n",
    "all_df['birthdate'] = pd.to_datetime(all_df['birthdate'])\n",
    "all_df['birthdate_year'] = all_df['birthdate'].dt.year"
   ]
  },
  {
   "cell_type": "code",
   "execution_count": 8,
   "metadata": {},
   "outputs": [],
   "source": [
    "# salaryのNaN→中央値補完\n",
    "med_salary = all_df[all_df['salary'] != '-']['salary'].median()\n",
    "all_df['salary'] = all_df['salary'].mask(all_df['salary'] == '-', med_salary)\n",
    "all_df['salary'] = all_df['salary'].astype(float)"
   ]
  },
  {
   "cell_type": "markdown",
   "metadata": {},
   "source": [
    "### 学習"
   ]
  },
  {
   "cell_type": "code",
   "execution_count": 9,
   "metadata": {},
   "outputs": [],
   "source": [
    "# 教師, 検証データ\n",
    "x_train_valid_df = all_df[all_df['year'] < 2019]\n",
    "y_train_valid_df = x_train_valid_df['time_played']\n",
    "\n",
    "# バリデーション\n",
    "x_train, x_valid, y_train, y_valid = train_test_split(x_train_valid_df, y_train_valid_df, test_size=0.33, random_state=0)\n",
    "\n",
    "# テストデータ\n",
    "test = all_df[all_df['year'] == 2019]"
   ]
  },
  {
   "cell_type": "code",
   "execution_count": 10,
   "metadata": {},
   "outputs": [],
   "source": [
    "# 入力する特徴量\n",
    "features = [\n",
    "    'team',\n",
    "    'position',\n",
    "    'height',\n",
    "    'weight',\n",
    "    'salary',\n",
    "    'nth_year',\n",
    "    'is_youth',\n",
    "    'nationality',\n",
    "    'birthdate_year',\n",
    "    'year'\n",
    "]"
   ]
  },
  {
   "cell_type": "code",
   "execution_count": 11,
   "metadata": {},
   "outputs": [],
   "source": [
    "# カテゴリ変数\n",
    "categorical_features = ['team', 'position', 'is_youth', 'nationality']"
   ]
  },
  {
   "cell_type": "code",
   "execution_count": 12,
   "metadata": {},
   "outputs": [],
   "source": [
    "# lightgbmパラメータ\n",
    "lgb_params = {\n",
    "    'objective': 'regression',\n",
    "    'metric': 'rmse',\n",
    "    'random_seed' : 0\n",
    "}"
   ]
  },
  {
   "cell_type": "code",
   "execution_count": 13,
   "metadata": {},
   "outputs": [
    {
     "name": "stderr",
     "output_type": "stream",
     "text": [
      "feature_fraction, val_score: inf:   0%|                                                          | 0/7 [00:00<?, ?it/s]"
     ]
    },
    {
     "name": "stdout",
     "output_type": "stream",
     "text": [
      "Training until validation scores don't improve for 10 rounds\n",
      "[10]\ttraining's rmse: 838.449\tvalid_1's rmse: 915.758\n",
      "[20]\ttraining's rmse: 758.009\tvalid_1's rmse: 888.598\n",
      "[30]\ttraining's rmse: 693.526\tvalid_1's rmse: 870.034\n",
      "[40]\ttraining's rmse: 645.542\tvalid_1's rmse: 861.82\n",
      "[50]\ttraining's rmse: 607.796\tvalid_1's rmse: 859.847\n",
      "[60]\ttraining's rmse: 576.325\tvalid_1's rmse: 861.219\n",
      "Early stopping, best iteration is:\n",
      "[53]\ttraining's rmse: 598.766\tvalid_1's rmse: 859.813\n"
     ]
    },
    {
     "name": "stderr",
     "output_type": "stream",
     "text": [
      "feature_fraction, val_score: 859.813101:  14%|######1                                    | 1/7 [00:00<00:00,  9.18it/s][I 2020-08-02 14:45:50,106] Trial 0 finished with value: 859.8131014447883 and parameters: {'feature_fraction': 0.5}. Best is trial 0 with value: 859.8131014447883.\n",
      "feature_fraction, val_score: 859.813101:  14%|######1                                    | 1/7 [00:00<00:00,  9.18it/s]"
     ]
    },
    {
     "name": "stdout",
     "output_type": "stream",
     "text": [
      "Training until validation scores don't improve for 10 rounds\n",
      "[10]\ttraining's rmse: 825.026\tvalid_1's rmse: 923.663\n",
      "[20]\ttraining's rmse: 733.471\tvalid_1's rmse: 885.945\n",
      "[30]\ttraining's rmse: 671.686\tvalid_1's rmse: 869.392\n",
      "[40]\ttraining's rmse: 622.608\tvalid_1's rmse: 867.795\n",
      "Early stopping, best iteration is:\n",
      "[39]\ttraining's rmse: 627.543\tvalid_1's rmse: 866.752\n"
     ]
    },
    {
     "name": "stderr",
     "output_type": "stream",
     "text": [
      "feature_fraction, val_score: 859.813101:  14%|######1                                    | 1/7 [00:00<00:00,  9.18it/s][I 2020-08-02 14:45:50,188] Trial 1 finished with value: 866.7522129116558 and parameters: {'feature_fraction': 0.6}. Best is trial 0 with value: 859.8131014447883.\n",
      "feature_fraction, val_score: 859.813101:  29%|############2                              | 2/7 [00:00<00:00,  9.18it/s]"
     ]
    },
    {
     "name": "stdout",
     "output_type": "stream",
     "text": [
      "Training until validation scores don't improve for 10 rounds\n",
      "[10]\ttraining's rmse: 794.104\tvalid_1's rmse: 905.419\n",
      "[20]\ttraining's rmse: 702.282\tvalid_1's rmse: 872.12\n",
      "[30]\ttraining's rmse: 636.896\tvalid_1's rmse: 856.6\n",
      "[40]\ttraining's rmse: 587.662\tvalid_1's rmse: 858.586\n",
      "Early stopping, best iteration is:\n",
      "[30]\ttraining's rmse: 636.896\tvalid_1's rmse: 856.6\n"
     ]
    },
    {
     "name": "stderr",
     "output_type": "stream",
     "text": [
      "feature_fraction, val_score: 856.600347:  43%|##################4                        | 3/7 [00:00<00:00,  9.93it/s][I 2020-08-02 14:45:50,270] Trial 2 finished with value: 856.6003472793179 and parameters: {'feature_fraction': 0.8}. Best is trial 2 with value: 856.6003472793179.\n",
      "feature_fraction, val_score: 856.600347:  43%|##################4                        | 3/7 [00:00<00:00,  9.93it/s]"
     ]
    },
    {
     "name": "stdout",
     "output_type": "stream",
     "text": [
      "Training until validation scores don't improve for 10 rounds\n",
      "[10]\ttraining's rmse: 850.462\tvalid_1's rmse: 939.437\n",
      "[20]\ttraining's rmse: 781.865\tvalid_1's rmse: 913.289\n",
      "[30]\ttraining's rmse: 721.664\tvalid_1's rmse: 897.717\n",
      "[40]\ttraining's rmse: 681.722\tvalid_1's rmse: 893.824\n",
      "[50]\ttraining's rmse: 645.828\tvalid_1's rmse: 889.786\n",
      "[60]\ttraining's rmse: 608.996\tvalid_1's rmse: 884.276\n",
      "[70]\ttraining's rmse: 578.833\tvalid_1's rmse: 881.971\n",
      "[80]\ttraining's rmse: 551.547\tvalid_1's rmse: 879.216\n",
      "Early stopping, best iteration is:\n",
      "[79]\ttraining's rmse: 553.533\tvalid_1's rmse: 878.545\n"
     ]
    },
    {
     "name": "stderr",
     "output_type": "stream",
     "text": [
      "feature_fraction, val_score: 856.600347:  57%|########################5                  | 4/7 [00:00<00:00,  8.62it/s][I 2020-08-02 14:45:50,423] Trial 3 finished with value: 878.5450279109815 and parameters: {'feature_fraction': 0.4}. Best is trial 2 with value: 856.6003472793179.\n",
      "feature_fraction, val_score: 856.600347:  57%|########################5                  | 4/7 [00:00<00:00,  8.62it/s]"
     ]
    },
    {
     "name": "stdout",
     "output_type": "stream",
     "text": [
      "Training until validation scores don't improve for 10 rounds\n",
      "[10]\ttraining's rmse: 786.263\tvalid_1's rmse: 905.149\n",
      "[20]\ttraining's rmse: 687.943\tvalid_1's rmse: 870.706\n",
      "[30]\ttraining's rmse: 619.356\tvalid_1's rmse: 857.983\n",
      "[40]\ttraining's rmse: 568.904\tvalid_1's rmse: 859.241\n",
      "[50]\ttraining's rmse: 523.944\tvalid_1's rmse: 855.388\n",
      "Early stopping, best iteration is:\n",
      "[47]\ttraining's rmse: 536.23\tvalid_1's rmse: 853.522\n"
     ]
    },
    {
     "name": "stderr",
     "output_type": "stream",
     "text": [
      "feature_fraction, val_score: 853.522095:  71%|##############################7            | 5/7 [00:00<00:00,  8.60it/s][I 2020-08-02 14:45:50,539] Trial 4 finished with value: 853.522094551548 and parameters: {'feature_fraction': 1.0}. Best is trial 4 with value: 853.522094551548.\n",
      "feature_fraction, val_score: 853.522095:  71%|##############################7            | 5/7 [00:00<00:00,  8.60it/s]"
     ]
    },
    {
     "name": "stdout",
     "output_type": "stream",
     "text": [
      "Training until validation scores don't improve for 10 rounds\n",
      "[10]\ttraining's rmse: 788.043\tvalid_1's rmse: 905.834\n",
      "[20]\ttraining's rmse: 689.003\tvalid_1's rmse: 872.737\n",
      "[30]\ttraining's rmse: 624.851\tvalid_1's rmse: 862.679\n",
      "[40]\ttraining's rmse: 573.547\tvalid_1's rmse: 859.665\n",
      "Early stopping, best iteration is:\n",
      "[36]\ttraining's rmse: 591.882\tvalid_1's rmse: 857.59\n"
     ]
    },
    {
     "name": "stderr",
     "output_type": "stream",
     "text": [
      "feature_fraction, val_score: 853.522095:  86%|####################################8      | 6/7 [00:00<00:00,  8.90it/s][I 2020-08-02 14:45:50,642] Trial 5 finished with value: 857.5898217238747 and parameters: {'feature_fraction': 0.8999999999999999}. Best is trial 4 with value: 853.522094551548.\n",
      "feature_fraction, val_score: 853.522095:  86%|####################################8      | 6/7 [00:00<00:00,  8.90it/s]"
     ]
    },
    {
     "name": "stdout",
     "output_type": "stream",
     "text": [
      "Training until validation scores don't improve for 10 rounds\n",
      "[10]\ttraining's rmse: 806.71\tvalid_1's rmse: 900.656\n",
      "[20]\ttraining's rmse: 713.957\tvalid_1's rmse: 865.837\n",
      "[30]\ttraining's rmse: 647.886\tvalid_1's rmse: 851.566\n",
      "[40]\ttraining's rmse: 597.283\tvalid_1's rmse: 848.765\n",
      "Early stopping, best iteration is:\n",
      "[38]\ttraining's rmse: 605.311\tvalid_1's rmse: 848.457\n"
     ]
    },
    {
     "name": "stderr",
     "output_type": "stream",
     "text": [
      "feature_fraction, val_score: 848.456840: 100%|###########################################| 7/7 [00:00<00:00,  8.80it/s][I 2020-08-02 14:45:50,759] Trial 6 finished with value: 848.4568401100352 and parameters: {'feature_fraction': 0.7}. Best is trial 6 with value: 848.4568401100352.\n",
      "feature_fraction, val_score: 848.456840: 100%|###########################################| 7/7 [00:00<00:00,  9.16it/s]\n",
      "num_leaves, val_score: 848.456840:   0%|                                                        | 0/20 [00:00<?, ?it/s]"
     ]
    },
    {
     "name": "stdout",
     "output_type": "stream",
     "text": [
      "Training until validation scores don't improve for 10 rounds\n",
      "[10]\ttraining's rmse: 803.659\tvalid_1's rmse: 905.813\n",
      "[20]\ttraining's rmse: 704.936\tvalid_1's rmse: 877.037\n",
      "[30]\ttraining's rmse: 639.786\tvalid_1's rmse: 863.379\n",
      "[40]\ttraining's rmse: 586.06\tvalid_1's rmse: 859.089\n",
      "[50]\ttraining's rmse: 545.874\tvalid_1's rmse: 858.775\n",
      "[60]\ttraining's rmse: 511.349\tvalid_1's rmse: 858.92\n",
      "Early stopping, best iteration is:\n",
      "[57]\ttraining's rmse: 520.569\tvalid_1's rmse: 857.325\n"
     ]
    },
    {
     "name": "stderr",
     "output_type": "stream",
     "text": [
      "num_leaves, val_score: 848.456840:   5%|##4                                             | 1/20 [00:00<00:02,  7.20it/s][I 2020-08-02 14:45:50,909] Trial 7 finished with value: 857.3252729201363 and parameters: {'num_leaves': 202}. Best is trial 7 with value: 857.3252729201363.\n",
      "num_leaves, val_score: 848.456840:   5%|##4                                             | 1/20 [00:00<00:02,  7.20it/s]"
     ]
    },
    {
     "name": "stdout",
     "output_type": "stream",
     "text": [
      "Training until validation scores don't improve for 10 rounds\n",
      "[10]\ttraining's rmse: 835.279\tvalid_1's rmse: 911.429\n",
      "[20]\ttraining's rmse: 761.904\tvalid_1's rmse: 877.952\n",
      "[30]\ttraining's rmse: 709.675\tvalid_1's rmse: 864.502\n",
      "[40]\ttraining's rmse: 672.609\tvalid_1's rmse: 857.22\n",
      "[50]\ttraining's rmse: 641.564\tvalid_1's rmse: 853.758\n",
      "[60]\ttraining's rmse: 615.646\tvalid_1's rmse: 852.783\n",
      "[70]\ttraining's rmse: 588.953\tvalid_1's rmse: 850.162\n",
      "[80]\ttraining's rmse: 564.833\tvalid_1's rmse: 848.934\n",
      "[90]\ttraining's rmse: 546.081\tvalid_1's rmse: 850.587\n",
      "Early stopping, best iteration is:\n",
      "[82]\ttraining's rmse: 561.498\tvalid_1's rmse: 848.506\n"
     ]
    },
    {
     "name": "stderr",
     "output_type": "stream",
     "text": [
      "num_leaves, val_score: 848.456840:  10%|####8                                           | 2/20 [00:00<00:02,  7.06it/s][I 2020-08-02 14:45:51,057] Trial 8 finished with value: 848.5064524600216 and parameters: {'num_leaves': 17}. Best is trial 8 with value: 848.5064524600216.\n",
      "num_leaves, val_score: 848.456840:  10%|####8                                           | 2/20 [00:00<00:02,  7.06it/s]"
     ]
    },
    {
     "name": "stdout",
     "output_type": "stream",
     "text": [
      "Training until validation scores don't improve for 10 rounds\n",
      "[10]\ttraining's rmse: 803.659\tvalid_1's rmse: 905.813\n",
      "[20]\ttraining's rmse: 704.936\tvalid_1's rmse: 877.037\n",
      "[30]\ttraining's rmse: 639.786\tvalid_1's rmse: 863.379\n",
      "[40]\ttraining's rmse: 586.06\tvalid_1's rmse: 859.089\n",
      "[50]\ttraining's rmse: 545.874\tvalid_1's rmse: 858.775\n",
      "[60]\ttraining's rmse: 511.349\tvalid_1's rmse: 858.92\n",
      "Early stopping, best iteration is:\n",
      "[57]\ttraining's rmse: 520.569\tvalid_1's rmse: 857.325\n"
     ]
    },
    {
     "name": "stderr",
     "output_type": "stream",
     "text": [
      "num_leaves, val_score: 848.456840:  15%|#######2                                        | 3/20 [00:00<00:02,  6.53it/s][I 2020-08-02 14:45:51,237] Trial 9 finished with value: 857.3252729201363 and parameters: {'num_leaves': 152}. Best is trial 8 with value: 848.5064524600216.\n",
      "num_leaves, val_score: 848.456840:  15%|#######2                                        | 3/20 [00:00<00:02,  6.53it/s]"
     ]
    },
    {
     "name": "stdout",
     "output_type": "stream",
     "text": [
      "Training until validation scores don't improve for 10 rounds\n",
      "[10]\ttraining's rmse: 841.078\tvalid_1's rmse: 911.091\n",
      "[20]\ttraining's rmse: 767.095\tvalid_1's rmse: 875.553\n",
      "[30]\ttraining's rmse: 718.819\tvalid_1's rmse: 856.301\n",
      "[40]\ttraining's rmse: 681.621\tvalid_1's rmse: 848.921\n",
      "[50]\ttraining's rmse: 655.097\tvalid_1's rmse: 847.645\n",
      "Early stopping, best iteration is:\n",
      "[46]\ttraining's rmse: 665.739\tvalid_1's rmse: 846.53\n"
     ]
    },
    {
     "name": "stderr",
     "output_type": "stream",
     "text": [
      "num_leaves, val_score: 846.530432:  15%|#######2                                        | 3/20 [00:00<00:02,  6.53it/s][I 2020-08-02 14:45:51,313] Trial 10 finished with value: 846.5304319069129 and parameters: {'num_leaves': 16}. Best is trial 10 with value: 846.5304319069129.\n",
      "num_leaves, val_score: 846.530432:  20%|#########6                                      | 4/20 [00:00<00:02,  6.53it/s]"
     ]
    },
    {
     "name": "stdout",
     "output_type": "stream",
     "text": [
      "Training until validation scores don't improve for 10 rounds\n",
      "[10]\ttraining's rmse: 904.128\tvalid_1's rmse: 942.868\n",
      "[20]\ttraining's rmse: 861.412\tvalid_1's rmse: 909.544\n",
      "[30]\ttraining's rmse: 833.668\tvalid_1's rmse: 890.902\n",
      "[40]\ttraining's rmse: 813.652\tvalid_1's rmse: 880.276\n",
      "[50]\ttraining's rmse: 794.738\tvalid_1's rmse: 872.734\n",
      "[60]\ttraining's rmse: 779.957\tvalid_1's rmse: 862.684\n",
      "[70]\ttraining's rmse: 767.652\tvalid_1's rmse: 861.952\n",
      "[80]\ttraining's rmse: 755.337\tvalid_1's rmse: 859.354\n",
      "[90]\ttraining's rmse: 745.851\tvalid_1's rmse: 856.48\n",
      "[100]\ttraining's rmse: 737.655\tvalid_1's rmse: 853.346\n",
      "[110]\ttraining's rmse: 730.702\tvalid_1's rmse: 852.246\n",
      "Early stopping, best iteration is:\n",
      "[109]\ttraining's rmse: 731.643\tvalid_1's rmse: 851.965\n"
     ]
    },
    {
     "name": "stderr",
     "output_type": "stream",
     "text": [
      "num_leaves, val_score: 846.530432:  25%|############                                    | 5/20 [00:00<00:02,  7.50it/s][I 2020-08-02 14:45:51,412] Trial 11 finished with value: 851.9652956005325 and parameters: {'num_leaves': 5}. Best is trial 10 with value: 846.5304319069129.\n",
      "num_leaves, val_score: 846.530432:  25%|############                                    | 5/20 [00:00<00:02,  7.50it/s]"
     ]
    },
    {
     "name": "stdout",
     "output_type": "stream",
     "text": [
      "Training until validation scores don't improve for 10 rounds\n",
      "[10]\ttraining's rmse: 803.659\tvalid_1's rmse: 905.813\n",
      "[20]\ttraining's rmse: 704.936\tvalid_1's rmse: 877.037\n",
      "[30]\ttraining's rmse: 639.786\tvalid_1's rmse: 863.379\n",
      "[40]\ttraining's rmse: 586.06\tvalid_1's rmse: 859.089\n",
      "[50]\ttraining's rmse: 545.874\tvalid_1's rmse: 858.775\n",
      "[60]\ttraining's rmse: 511.349\tvalid_1's rmse: 858.92\n",
      "Early stopping, best iteration is:\n",
      "[57]\ttraining's rmse: 520.569\tvalid_1's rmse: 857.325\n"
     ]
    },
    {
     "name": "stderr",
     "output_type": "stream",
     "text": [
      "num_leaves, val_score: 846.530432:  30%|##############4                                 | 6/20 [00:00<00:01,  7.49it/s][I 2020-08-02 14:45:51,547] Trial 12 finished with value: 857.3252729201363 and parameters: {'num_leaves': 74}. Best is trial 10 with value: 846.5304319069129.\n",
      "num_leaves, val_score: 846.530432:  30%|##############4                                 | 6/20 [00:00<00:01,  7.49it/s]"
     ]
    },
    {
     "name": "stdout",
     "output_type": "stream",
     "text": [
      "Training until validation scores don't improve for 10 rounds\n",
      "[10]\ttraining's rmse: 803.659\tvalid_1's rmse: 905.813\n",
      "[20]\ttraining's rmse: 704.936\tvalid_1's rmse: 877.037\n",
      "[30]\ttraining's rmse: 639.786\tvalid_1's rmse: 863.379\n",
      "[40]\ttraining's rmse: 586.06\tvalid_1's rmse: 859.089\n",
      "[50]\ttraining's rmse: 545.874\tvalid_1's rmse: 858.775\n",
      "[60]\ttraining's rmse: 511.349\tvalid_1's rmse: 858.92\n",
      "Early stopping, best iteration is:\n",
      "[57]\ttraining's rmse: 520.569\tvalid_1's rmse: 857.325\n"
     ]
    },
    {
     "name": "stderr",
     "output_type": "stream",
     "text": [
      "num_leaves, val_score: 846.530432:  35%|################7                               | 7/20 [00:00<00:01,  7.35it/s][I 2020-08-02 14:45:51,687] Trial 13 finished with value: 857.3252729201363 and parameters: {'num_leaves': 76}. Best is trial 10 with value: 846.5304319069129.\n",
      "num_leaves, val_score: 846.530432:  35%|################7                               | 7/20 [00:00<00:01,  7.35it/s]"
     ]
    },
    {
     "name": "stdout",
     "output_type": "stream",
     "text": [
      "Training until validation scores don't improve for 10 rounds\n",
      "[10]\ttraining's rmse: 803.659\tvalid_1's rmse: 905.813\n",
      "[20]\ttraining's rmse: 704.936\tvalid_1's rmse: 877.037\n",
      "[30]\ttraining's rmse: 639.786\tvalid_1's rmse: 863.379\n",
      "[40]\ttraining's rmse: 586.06\tvalid_1's rmse: 859.089\n",
      "[50]\ttraining's rmse: 545.874\tvalid_1's rmse: 858.775\n",
      "[60]\ttraining's rmse: 511.349\tvalid_1's rmse: 858.92\n",
      "Early stopping, best iteration is:\n",
      "[57]\ttraining's rmse: 520.569\tvalid_1's rmse: 857.325\n"
     ]
    },
    {
     "name": "stderr",
     "output_type": "stream",
     "text": [
      "num_leaves, val_score: 846.530432:  40%|###################2                            | 8/20 [00:01<00:01,  7.24it/s][I 2020-08-02 14:45:51,830] Trial 14 finished with value: 857.3252729201363 and parameters: {'num_leaves': 252}. Best is trial 10 with value: 846.5304319069129.\n",
      "num_leaves, val_score: 846.530432:  40%|###################2                            | 8/20 [00:01<00:01,  7.24it/s]"
     ]
    },
    {
     "name": "stdout",
     "output_type": "stream",
     "text": [
      "Training until validation scores don't improve for 10 rounds\n",
      "[10]\ttraining's rmse: 803.659\tvalid_1's rmse: 905.813\n",
      "[20]\ttraining's rmse: 704.936\tvalid_1's rmse: 877.037\n",
      "[30]\ttraining's rmse: 639.786\tvalid_1's rmse: 863.379\n",
      "[40]\ttraining's rmse: 586.06\tvalid_1's rmse: 859.089\n",
      "[50]\ttraining's rmse: 545.874\tvalid_1's rmse: 858.775\n",
      "[60]\ttraining's rmse: 511.349\tvalid_1's rmse: 858.92\n",
      "Early stopping, best iteration is:\n",
      "[57]\ttraining's rmse: 520.569\tvalid_1's rmse: 857.325\n"
     ]
    },
    {
     "name": "stderr",
     "output_type": "stream",
     "text": [
      "num_leaves, val_score: 846.530432:  45%|#####################6                          | 9/20 [00:01<00:01,  7.13it/s][I 2020-08-02 14:45:51,975] Trial 15 finished with value: 857.3252729201363 and parameters: {'num_leaves': 61}. Best is trial 10 with value: 846.5304319069129.\n",
      "num_leaves, val_score: 846.530432:  45%|#####################6                          | 9/20 [00:01<00:01,  7.13it/s]"
     ]
    },
    {
     "name": "stdout",
     "output_type": "stream",
     "text": [
      "Training until validation scores don't improve for 10 rounds\n",
      "[10]\ttraining's rmse: 803.659\tvalid_1's rmse: 905.813\n",
      "[20]\ttraining's rmse: 704.936\tvalid_1's rmse: 877.037\n",
      "[30]\ttraining's rmse: 639.786\tvalid_1's rmse: 863.379\n",
      "[40]\ttraining's rmse: 586.06\tvalid_1's rmse: 859.089\n",
      "[50]\ttraining's rmse: 545.874\tvalid_1's rmse: 858.775\n",
      "[60]\ttraining's rmse: 511.349\tvalid_1's rmse: 858.92\n",
      "Early stopping, best iteration is:\n",
      "[57]\ttraining's rmse: 520.569\tvalid_1's rmse: 857.325\n"
     ]
    },
    {
     "name": "stderr",
     "output_type": "stream",
     "text": [
      "num_leaves, val_score: 846.530432:  50%|#######################5                       | 10/20 [00:01<00:01,  5.76it/s][I 2020-08-02 14:45:52,228] Trial 16 finished with value: 857.3252729201363 and parameters: {'num_leaves': 137}. Best is trial 10 with value: 846.5304319069129.\n",
      "num_leaves, val_score: 846.530432:  50%|#######################5                       | 10/20 [00:01<00:01,  5.76it/s]"
     ]
    },
    {
     "name": "stdout",
     "output_type": "stream",
     "text": [
      "Training until validation scores don't improve for 10 rounds\n",
      "[10]\ttraining's rmse: 931.306\tvalid_1's rmse: 957.361\n",
      "[20]\ttraining's rmse: 899.535\tvalid_1's rmse: 927.56\n",
      "[30]\ttraining's rmse: 882.787\tvalid_1's rmse: 912.917\n",
      "[40]\ttraining's rmse: 868.594\tvalid_1's rmse: 905.17\n",
      "[50]\ttraining's rmse: 856.189\tvalid_1's rmse: 901.632\n",
      "[60]\ttraining's rmse: 845.514\tvalid_1's rmse: 896.465\n",
      "[70]\ttraining's rmse: 835.669\tvalid_1's rmse: 893.971\n",
      "[80]\ttraining's rmse: 827.533\tvalid_1's rmse: 890.407\n",
      "[90]\ttraining's rmse: 820.686\tvalid_1's rmse: 886.294\n",
      "[100]\ttraining's rmse: 813.334\tvalid_1's rmse: 882.811\n",
      "[110]\ttraining's rmse: 807.307\tvalid_1's rmse: 879.607\n",
      "[120]\ttraining's rmse: 801.493\tvalid_1's rmse: 877.256\n",
      "[130]\ttraining's rmse: 796.203\tvalid_1's rmse: 875.735\n",
      "[140]\ttraining's rmse: 791.941\tvalid_1's rmse: 872.859\n",
      "[150]\ttraining's rmse: 787.05\tvalid_1's rmse: 872.842\n",
      "Early stopping, best iteration is:\n",
      "[141]\ttraining's rmse: 791.5\tvalid_1's rmse: 871.783\n"
     ]
    },
    {
     "name": "stderr",
     "output_type": "stream",
     "text": [
      "num_leaves, val_score: 846.530432:  55%|#########################8                     | 11/20 [00:01<00:01,  6.56it/s][I 2020-08-02 14:45:52,330] Trial 17 finished with value: 871.7826329781631 and parameters: {'num_leaves': 3}. Best is trial 10 with value: 846.5304319069129.\n",
      "num_leaves, val_score: 846.530432:  55%|#########################8                     | 11/20 [00:01<00:01,  6.56it/s]"
     ]
    },
    {
     "name": "stdout",
     "output_type": "stream",
     "text": [
      "Training until validation scores don't improve for 10 rounds\n",
      "[10]\ttraining's rmse: 803.659\tvalid_1's rmse: 905.813\n",
      "[20]\ttraining's rmse: 704.936\tvalid_1's rmse: 877.037\n",
      "[30]\ttraining's rmse: 639.786\tvalid_1's rmse: 863.379\n",
      "[40]\ttraining's rmse: 586.06\tvalid_1's rmse: 859.089\n",
      "[50]\ttraining's rmse: 545.874\tvalid_1's rmse: 858.775\n",
      "[60]\ttraining's rmse: 511.349\tvalid_1's rmse: 858.92\n",
      "Early stopping, best iteration is:\n",
      "[57]\ttraining's rmse: 520.569\tvalid_1's rmse: 857.325\n"
     ]
    },
    {
     "name": "stderr",
     "output_type": "stream",
     "text": [
      "num_leaves, val_score: 846.530432:  60%|############################2                  | 12/20 [00:01<00:01,  6.78it/s][I 2020-08-02 14:45:52,466] Trial 18 finished with value: 857.3252729201363 and parameters: {'num_leaves': 48}. Best is trial 10 with value: 846.5304319069129.\n",
      "num_leaves, val_score: 846.530432:  60%|############################2                  | 12/20 [00:01<00:01,  6.78it/s]"
     ]
    },
    {
     "name": "stdout",
     "output_type": "stream",
     "text": [
      "Training until validation scores don't improve for 10 rounds\n",
      "[10]\ttraining's rmse: 803.659\tvalid_1's rmse: 905.813\n",
      "[20]\ttraining's rmse: 704.936\tvalid_1's rmse: 877.037\n",
      "[30]\ttraining's rmse: 639.786\tvalid_1's rmse: 863.379\n",
      "[40]\ttraining's rmse: 586.06\tvalid_1's rmse: 859.089\n",
      "[50]\ttraining's rmse: 545.874\tvalid_1's rmse: 858.775\n",
      "[60]\ttraining's rmse: 511.349\tvalid_1's rmse: 858.92\n",
      "Early stopping, best iteration is:\n",
      "[57]\ttraining's rmse: 520.569\tvalid_1's rmse: 857.325\n"
     ]
    },
    {
     "name": "stderr",
     "output_type": "stream",
     "text": [
      "num_leaves, val_score: 846.530432:  65%|##############################5                | 13/20 [00:01<00:01,  6.99it/s][I 2020-08-02 14:45:52,598] Trial 19 finished with value: 857.3252729201363 and parameters: {'num_leaves': 101}. Best is trial 10 with value: 846.5304319069129.\n",
      "num_leaves, val_score: 846.530432:  65%|##############################5                | 13/20 [00:01<00:01,  6.99it/s]"
     ]
    },
    {
     "name": "stdout",
     "output_type": "stream",
     "text": [
      "Training until validation scores don't improve for 10 rounds\n",
      "[10]\ttraining's rmse: 803.659\tvalid_1's rmse: 905.813\n",
      "[20]\ttraining's rmse: 704.936\tvalid_1's rmse: 877.037\n",
      "[30]\ttraining's rmse: 639.786\tvalid_1's rmse: 863.379\n",
      "[40]\ttraining's rmse: 586.06\tvalid_1's rmse: 859.089\n",
      "[50]\ttraining's rmse: 545.874\tvalid_1's rmse: 858.775\n",
      "[60]\ttraining's rmse: 511.349\tvalid_1's rmse: 858.92\n",
      "Early stopping, best iteration is:\n",
      "[57]\ttraining's rmse: 520.569\tvalid_1's rmse: 857.325\n"
     ]
    },
    {
     "name": "stderr",
     "output_type": "stream",
     "text": [
      "num_leaves, val_score: 846.530432:  70%|################################9              | 14/20 [00:01<00:00,  7.02it/s][I 2020-08-02 14:45:52,740] Trial 20 finished with value: 857.3252729201363 and parameters: {'num_leaves': 166}. Best is trial 10 with value: 846.5304319069129.\n",
      "num_leaves, val_score: 846.530432:  70%|################################9              | 14/20 [00:01<00:00,  7.02it/s]"
     ]
    },
    {
     "name": "stdout",
     "output_type": "stream",
     "text": [
      "Training until validation scores don't improve for 10 rounds\n",
      "[10]\ttraining's rmse: 819.242\tvalid_1's rmse: 907.343\n",
      "[20]\ttraining's rmse: 736.888\tvalid_1's rmse: 874.156\n",
      "[30]\ttraining's rmse: 679.625\tvalid_1's rmse: 857.954\n",
      "[40]\ttraining's rmse: 637.147\tvalid_1's rmse: 854.625\n",
      "Early stopping, best iteration is:\n",
      "[38]\ttraining's rmse: 645.005\tvalid_1's rmse: 853.226\n"
     ]
    },
    {
     "name": "stderr",
     "output_type": "stream",
     "text": [
      "num_leaves, val_score: 846.530432:  70%|################################9              | 14/20 [00:02<00:00,  7.02it/s][I 2020-08-02 14:45:52,815] Trial 21 finished with value: 853.2260635330922 and parameters: {'num_leaves': 22}. Best is trial 10 with value: 846.5304319069129.\n",
      "num_leaves, val_score: 846.530432:  75%|###################################2           | 15/20 [00:02<00:00,  7.02it/s]"
     ]
    },
    {
     "name": "stdout",
     "output_type": "stream",
     "text": [
      "Training until validation scores don't improve for 10 rounds\n",
      "[10]\ttraining's rmse: 806.975\tvalid_1's rmse: 900.603\n",
      "[20]\ttraining's rmse: 716.842\tvalid_1's rmse: 866.862\n",
      "[30]\ttraining's rmse: 650.768\tvalid_1's rmse: 852.116\n",
      "[40]\ttraining's rmse: 602.447\tvalid_1's rmse: 852.466\n",
      "Early stopping, best iteration is:\n",
      "[31]\ttraining's rmse: 646.017\tvalid_1's rmse: 851.794\n"
     ]
    },
    {
     "name": "stderr",
     "output_type": "stream",
     "text": [
      "num_leaves, val_score: 846.530432:  80%|#####################################6         | 16/20 [00:02<00:00,  8.17it/s][I 2020-08-02 14:45:52,892] Trial 22 finished with value: 851.794073362385 and parameters: {'num_leaves': 30}. Best is trial 10 with value: 846.5304319069129.\n",
      "num_leaves, val_score: 846.530432:  80%|#####################################6         | 16/20 [00:02<00:00,  8.17it/s]"
     ]
    },
    {
     "name": "stdout",
     "output_type": "stream",
     "text": [
      "Training until validation scores don't improve for 10 rounds\n",
      "[10]\ttraining's rmse: 803.659\tvalid_1's rmse: 905.813\n",
      "[20]\ttraining's rmse: 704.936\tvalid_1's rmse: 877.037\n",
      "[30]\ttraining's rmse: 639.786\tvalid_1's rmse: 863.379\n",
      "[40]\ttraining's rmse: 586.06\tvalid_1's rmse: 859.089\n",
      "[50]\ttraining's rmse: 545.874\tvalid_1's rmse: 858.775\n",
      "[60]\ttraining's rmse: 511.349\tvalid_1's rmse: 858.92\n",
      "Early stopping, best iteration is:\n",
      "[57]\ttraining's rmse: 520.569\tvalid_1's rmse: 857.325\n"
     ]
    },
    {
     "name": "stderr",
     "output_type": "stream",
     "text": [
      "num_leaves, val_score: 846.530432:  85%|#######################################9       | 17/20 [00:02<00:00,  7.89it/s][I 2020-08-02 14:45:53,028] Trial 23 finished with value: 857.3252729201363 and parameters: {'num_leaves': 108}. Best is trial 10 with value: 846.5304319069129.\n",
      "num_leaves, val_score: 846.530432:  85%|#######################################9       | 17/20 [00:02<00:00,  7.89it/s]"
     ]
    },
    {
     "name": "stdout",
     "output_type": "stream",
     "text": [
      "Training until validation scores don't improve for 10 rounds\n",
      "[10]\ttraining's rmse: 947.762\tvalid_1's rmse: 967.844\n",
      "[20]\ttraining's rmse: 926.865\tvalid_1's rmse: 942.505\n",
      "[30]\ttraining's rmse: 915.424\tvalid_1's rmse: 931.072\n",
      "[40]\ttraining's rmse: 907.069\tvalid_1's rmse: 923.452\n",
      "[50]\ttraining's rmse: 900.402\tvalid_1's rmse: 916.345\n",
      "[60]\ttraining's rmse: 894.805\tvalid_1's rmse: 912.048\n",
      "[70]\ttraining's rmse: 889.964\tvalid_1's rmse: 908.29\n",
      "[80]\ttraining's rmse: 885.558\tvalid_1's rmse: 905.082\n",
      "[90]\ttraining's rmse: 881.638\tvalid_1's rmse: 904.87\n",
      "[100]\ttraining's rmse: 877.947\tvalid_1's rmse: 901.086\n",
      "[110]\ttraining's rmse: 874.611\tvalid_1's rmse: 899.189\n",
      "[120]\ttraining's rmse: 871.579\tvalid_1's rmse: 898.108\n",
      "[130]\ttraining's rmse: 868.729\tvalid_1's rmse: 896.709\n",
      "[140]\ttraining's rmse: 866.093\tvalid_1's rmse: 895.348\n",
      "[150]\ttraining's rmse: 863.672\tvalid_1's rmse: 893.804\n",
      "[160]\ttraining's rmse: 861.398\tvalid_1's rmse: 892.19\n",
      "[170]\ttraining's rmse: 859.266\tvalid_1's rmse: 891.3\n",
      "[180]\ttraining's rmse: 857.24\tvalid_1's rmse: 889.646\n",
      "[190]\ttraining's rmse: 855.367\tvalid_1's rmse: 887.539\n",
      "[200]\ttraining's rmse: 853.618\tvalid_1's rmse: 887.213\n",
      "[210]\ttraining's rmse: 851.916\tvalid_1's rmse: 886.543\n",
      "[220]\ttraining's rmse: 850.36\tvalid_1's rmse: 884.847\n",
      "[230]\ttraining's rmse: 848.884\tvalid_1's rmse: 884.359\n",
      "[240]\ttraining's rmse: 847.486\tvalid_1's rmse: 883.602\n",
      "[250]\ttraining's rmse: 846.147\tvalid_1's rmse: 882.931\n",
      "[260]\ttraining's rmse: 844.88\tvalid_1's rmse: 881.996\n",
      "Early stopping, best iteration is:\n",
      "[253]\ttraining's rmse: 845.763\tvalid_1's rmse: 881.75\n"
     ]
    },
    {
     "name": "stderr",
     "output_type": "stream",
     "text": [
      "num_leaves, val_score: 846.530432:  90%|##########################################3    | 18/20 [00:02<00:00,  7.62it/s][I 2020-08-02 14:45:53,170] Trial 24 finished with value: 881.7504219739185 and parameters: {'num_leaves': 2}. Best is trial 10 with value: 846.5304319069129.\n",
      "num_leaves, val_score: 846.530432:  90%|##########################################3    | 18/20 [00:02<00:00,  7.62it/s]"
     ]
    },
    {
     "name": "stdout",
     "output_type": "stream",
     "text": [
      "Training until validation scores don't improve for 10 rounds\n",
      "[10]\ttraining's rmse: 806.71\tvalid_1's rmse: 900.656\n",
      "[20]\ttraining's rmse: 713.957\tvalid_1's rmse: 865.837\n",
      "[30]\ttraining's rmse: 647.886\tvalid_1's rmse: 851.566\n",
      "[40]\ttraining's rmse: 597.283\tvalid_1's rmse: 848.765\n",
      "Early stopping, best iteration is:\n",
      "[38]\ttraining's rmse: 605.311\tvalid_1's rmse: 848.457\n"
     ]
    },
    {
     "name": "stderr",
     "output_type": "stream",
     "text": [
      "num_leaves, val_score: 846.530432:  90%|##########################################3    | 18/20 [00:02<00:00,  7.62it/s][I 2020-08-02 14:45:53,255] Trial 25 finished with value: 848.4568401100352 and parameters: {'num_leaves': 31}. Best is trial 10 with value: 846.5304319069129.\n",
      "num_leaves, val_score: 846.530432:  95%|############################################6  | 19/20 [00:02<00:00,  7.62it/s]"
     ]
    },
    {
     "name": "stdout",
     "output_type": "stream",
     "text": [
      "Training until validation scores don't improve for 10 rounds\n",
      "[10]\ttraining's rmse: 803.659\tvalid_1's rmse: 905.813\n",
      "[20]\ttraining's rmse: 704.936\tvalid_1's rmse: 877.037\n",
      "[30]\ttraining's rmse: 639.786\tvalid_1's rmse: 863.379\n",
      "[40]\ttraining's rmse: 586.06\tvalid_1's rmse: 859.089\n",
      "[50]\ttraining's rmse: 545.874\tvalid_1's rmse: 858.775\n",
      "[60]\ttraining's rmse: 511.349\tvalid_1's rmse: 858.92\n",
      "Early stopping, best iteration is:\n",
      "[57]\ttraining's rmse: 520.569\tvalid_1's rmse: 857.325\n"
     ]
    },
    {
     "name": "stderr",
     "output_type": "stream",
     "text": [
      "num_leaves, val_score: 846.530432: 100%|###############################################| 20/20 [00:02<00:00,  8.01it/s][I 2020-08-02 14:45:53,389] Trial 26 finished with value: 857.3252729201363 and parameters: {'num_leaves': 41}. Best is trial 10 with value: 846.5304319069129.\n",
      "num_leaves, val_score: 846.530432: 100%|###############################################| 20/20 [00:02<00:00,  7.62it/s]\n",
      "bagging, val_score: 846.530432:   0%|                                                           | 0/10 [00:00<?, ?it/s]"
     ]
    },
    {
     "name": "stdout",
     "output_type": "stream",
     "text": [
      "Training until validation scores don't improve for 10 rounds\n",
      "[10]\ttraining's rmse: 877.433\tvalid_1's rmse: 918.402\n",
      "[20]\ttraining's rmse: 813.626\tvalid_1's rmse: 882.171\n",
      "[30]\ttraining's rmse: 773.591\tvalid_1's rmse: 878.034\n",
      "Early stopping, best iteration is:\n",
      "[24]\ttraining's rmse: 795.794\tvalid_1's rmse: 875.42\n"
     ]
    },
    {
     "name": "stderr",
     "output_type": "stream",
     "text": [
      "bagging, val_score: 846.530432:   0%|                                                           | 0/10 [00:00<?, ?it/s][I 2020-08-02 14:45:53,457] Trial 27 finished with value: 875.4195502946277 and parameters: {'bagging_fraction': 0.5248605870311902, 'bagging_freq': 7}. Best is trial 27 with value: 875.4195502946277.\n",
      "bagging, val_score: 846.530432:  10%|#####1                                             | 1/10 [00:00<00:00, 15.88it/s]"
     ]
    },
    {
     "name": "stdout",
     "output_type": "stream",
     "text": [
      "Training until validation scores don't improve for 10 rounds\n",
      "[10]\ttraining's rmse: 838.164\tvalid_1's rmse: 909.131\n",
      "[20]\ttraining's rmse: 762.722\tvalid_1's rmse: 870.812\n",
      "[30]\ttraining's rmse: 713.843\tvalid_1's rmse: 852.996\n",
      "[40]\ttraining's rmse: 677.348\tvalid_1's rmse: 849.499\n",
      "[50]\ttraining's rmse: 646.443\tvalid_1's rmse: 845.79\n",
      "[60]\ttraining's rmse: 622.491\tvalid_1's rmse: 844.638\n",
      "Early stopping, best iteration is:\n",
      "[54]\ttraining's rmse: 635.804\tvalid_1's rmse: 843.656\n"
     ]
    },
    {
     "name": "stderr",
     "output_type": "stream",
     "text": [
      "bagging, val_score: 843.655669:  20%|##########2                                        | 2/10 [00:00<00:00, 13.17it/s][I 2020-08-02 14:45:53,550] Trial 28 finished with value: 843.6556690463276 and parameters: {'bagging_fraction': 0.962905450103474, 'bagging_freq': 1}. Best is trial 28 with value: 843.6556690463276.\n",
      "bagging, val_score: 843.655669:  20%|##########2                                        | 2/10 [00:00<00:00, 13.17it/s]"
     ]
    },
    {
     "name": "stdout",
     "output_type": "stream",
     "text": [
      "Training until validation scores don't improve for 10 rounds\n",
      "[10]\ttraining's rmse: 839.764\tvalid_1's rmse: 910.375\n",
      "[20]\ttraining's rmse: 767.839\tvalid_1's rmse: 872.374\n",
      "[30]\ttraining's rmse: 717.901\tvalid_1's rmse: 860.365\n",
      "[40]\ttraining's rmse: 681.373\tvalid_1's rmse: 854.035\n",
      "[50]\ttraining's rmse: 651.775\tvalid_1's rmse: 855.068\n",
      "[60]\ttraining's rmse: 627.11\tvalid_1's rmse: 854.525\n",
      "Early stopping, best iteration is:\n",
      "[52]\ttraining's rmse: 646.762\tvalid_1's rmse: 853.161\n"
     ]
    },
    {
     "name": "stderr",
     "output_type": "stream",
     "text": [
      "bagging, val_score: 843.655669:  20%|##########2                                        | 2/10 [00:00<00:00, 13.17it/s][I 2020-08-02 14:45:53,642] Trial 29 finished with value: 853.1611493986987 and parameters: {'bagging_fraction': 0.9786329388265196, 'bagging_freq': 1}. Best is trial 28 with value: 843.6556690463276.\n",
      "bagging, val_score: 843.655669:  30%|###############3                                   | 3/10 [00:00<00:00, 13.17it/s]"
     ]
    },
    {
     "name": "stdout",
     "output_type": "stream",
     "text": [
      "Training until validation scores don't improve for 10 rounds\n",
      "[10]\ttraining's rmse: 838.585\tvalid_1's rmse: 912.913\n",
      "[20]\ttraining's rmse: 765.949\tvalid_1's rmse: 873.983\n",
      "[30]\ttraining's rmse: 717.189\tvalid_1's rmse: 861.459\n",
      "[40]\ttraining's rmse: 682.427\tvalid_1's rmse: 853.604\n",
      "Early stopping, best iteration is:\n",
      "[38]\ttraining's rmse: 688.936\tvalid_1's rmse: 852.286\n"
     ]
    },
    {
     "name": "stderr",
     "output_type": "stream",
     "text": [
      "bagging, val_score: 843.655669:  40%|####################4                              | 4/10 [00:00<00:00, 12.62it/s][I 2020-08-02 14:45:53,725] Trial 30 finished with value: 852.2862465193755 and parameters: {'bagging_fraction': 0.9917976699472308, 'bagging_freq': 1}. Best is trial 28 with value: 843.6556690463276.\n",
      "bagging, val_score: 843.655669:  40%|####################4                              | 4/10 [00:00<00:00, 12.62it/s]"
     ]
    },
    {
     "name": "stdout",
     "output_type": "stream",
     "text": [
      "Training until validation scores don't improve for 10 rounds\n",
      "[10]\ttraining's rmse: 848.953\tvalid_1's rmse: 911.47\n",
      "[20]\ttraining's rmse: 776.225\tvalid_1's rmse: 872.543\n",
      "[30]\ttraining's rmse: 733.771\tvalid_1's rmse: 862.48\n",
      "[40]\ttraining's rmse: 698.31\tvalid_1's rmse: 859.354\n",
      "[50]\ttraining's rmse: 669.179\tvalid_1's rmse: 858.939\n",
      "[60]\ttraining's rmse: 642.601\tvalid_1's rmse: 855.954\n",
      "[70]\ttraining's rmse: 620.052\tvalid_1's rmse: 854.356\n",
      "[80]\ttraining's rmse: 599.279\tvalid_1's rmse: 853.098\n",
      "[90]\ttraining's rmse: 580.687\tvalid_1's rmse: 854.825\n",
      "Early stopping, best iteration is:\n",
      "[80]\ttraining's rmse: 599.279\tvalid_1's rmse: 853.098\n"
     ]
    },
    {
     "name": "stderr",
     "output_type": "stream",
     "text": [
      "bagging, val_score: 843.655669:  50%|#########################5                         | 5/10 [00:00<00:00, 10.90it/s][I 2020-08-02 14:45:53,845] Trial 31 finished with value: 853.0978593495843 and parameters: {'bagging_fraction': 0.7695980734448435, 'bagging_freq': 4}. Best is trial 28 with value: 843.6556690463276.\n",
      "bagging, val_score: 843.655669:  50%|#########################5                         | 5/10 [00:00<00:00, 10.90it/s]"
     ]
    },
    {
     "name": "stdout",
     "output_type": "stream",
     "text": [
      "Training until validation scores don't improve for 10 rounds\n",
      "[10]\ttraining's rmse: 852.354\tvalid_1's rmse: 908.968\n",
      "[20]\ttraining's rmse: 775.766\tvalid_1's rmse: 872.921\n",
      "[30]\ttraining's rmse: 732.284\tvalid_1's rmse: 856.728\n",
      "[40]\ttraining's rmse: 694.991\tvalid_1's rmse: 856.451\n",
      "Early stopping, best iteration is:\n",
      "[39]\ttraining's rmse: 697.41\tvalid_1's rmse: 854.772\n"
     ]
    },
    {
     "name": "stderr",
     "output_type": "stream",
     "text": [
      "bagging, val_score: 843.655669:  50%|#########################5                         | 5/10 [00:00<00:00, 10.90it/s][I 2020-08-02 14:45:53,922] Trial 32 finished with value: 854.7722729458189 and parameters: {'bagging_fraction': 0.7747647755932301, 'bagging_freq': 3}. Best is trial 28 with value: 843.6556690463276.\n",
      "bagging, val_score: 843.655669:  60%|##############################6                    | 6/10 [00:00<00:00, 10.90it/s]"
     ]
    },
    {
     "name": "stdout",
     "output_type": "stream",
     "text": [
      "Training until validation scores don't improve for 10 rounds\n",
      "[10]\ttraining's rmse: 877.957\tvalid_1's rmse: 919.364\n",
      "[20]\ttraining's rmse: 819.479\tvalid_1's rmse: 885.661\n",
      "[30]\ttraining's rmse: 786.007\tvalid_1's rmse: 873.629\n",
      "[40]\ttraining's rmse: 757.922\tvalid_1's rmse: 876.599\n",
      "Early stopping, best iteration is:\n",
      "[30]\ttraining's rmse: 786.007\tvalid_1's rmse: 873.629\n"
     ]
    },
    {
     "name": "stderr",
     "output_type": "stream",
     "text": [
      "bagging, val_score: 843.655669:  70%|###################################6               | 7/10 [00:00<00:00, 11.51it/s][I 2020-08-02 14:45:53,996] Trial 33 finished with value: 873.6292210011117 and parameters: {'bagging_fraction': 0.41972109896076093, 'bagging_freq': 4}. Best is trial 28 with value: 843.6556690463276.\n",
      "bagging, val_score: 843.655669:  70%|###################################6               | 7/10 [00:00<00:00, 11.51it/s]"
     ]
    },
    {
     "name": "stdout",
     "output_type": "stream",
     "text": [
      "Training until validation scores don't improve for 10 rounds\n",
      "[10]\ttraining's rmse: 843.707\tvalid_1's rmse: 914.042\n",
      "[20]\ttraining's rmse: 767.556\tvalid_1's rmse: 874.001\n",
      "[30]\ttraining's rmse: 721.583\tvalid_1's rmse: 867.748\n",
      "[40]\ttraining's rmse: 683.668\tvalid_1's rmse: 862.585\n",
      "[50]\ttraining's rmse: 656.211\tvalid_1's rmse: 858.518\n",
      "[60]\ttraining's rmse: 631.577\tvalid_1's rmse: 855.692\n",
      "[70]\ttraining's rmse: 606.912\tvalid_1's rmse: 856.993\n",
      "Early stopping, best iteration is:\n",
      "[60]\ttraining's rmse: 631.577\tvalid_1's rmse: 855.692\n"
     ]
    },
    {
     "name": "stderr",
     "output_type": "stream",
     "text": [
      "bagging, val_score: 843.655669:  80%|########################################8          | 8/10 [00:00<00:00, 10.66it/s][I 2020-08-02 14:45:54,106] Trial 34 finished with value: 855.691863440646 and parameters: {'bagging_fraction': 0.9053655411583112, 'bagging_freq': 7}. Best is trial 28 with value: 843.6556690463276.\n",
      "bagging, val_score: 843.655669:  80%|########################################8          | 8/10 [00:00<00:00, 10.66it/s]"
     ]
    },
    {
     "name": "stdout",
     "output_type": "stream",
     "text": [
      "Training until validation scores don't improve for 10 rounds\n",
      "[10]\ttraining's rmse: 858.17\tvalid_1's rmse: 910.127\n",
      "[20]\ttraining's rmse: 790.095\tvalid_1's rmse: 875.498\n",
      "[30]\ttraining's rmse: 751.883\tvalid_1's rmse: 866.008\n",
      "[40]\ttraining's rmse: 718.82\tvalid_1's rmse: 863.48\n",
      "[50]\ttraining's rmse: 692.013\tvalid_1's rmse: 861.635\n",
      "[60]\ttraining's rmse: 669.929\tvalid_1's rmse: 857.535\n",
      "[70]\ttraining's rmse: 648.613\tvalid_1's rmse: 866.193\n",
      "Early stopping, best iteration is:\n",
      "[60]\ttraining's rmse: 669.929\tvalid_1's rmse: 857.535\n"
     ]
    },
    {
     "name": "stderr",
     "output_type": "stream",
     "text": [
      "bagging, val_score: 843.655669:  90%|#############################################9     | 9/10 [00:00<00:00, 10.32it/s][I 2020-08-02 14:45:54,210] Trial 35 finished with value: 857.5347260905322 and parameters: {'bagging_fraction': 0.6066786616795701, 'bagging_freq': 2}. Best is trial 28 with value: 843.6556690463276.\n",
      "bagging, val_score: 843.655669:  90%|#############################################9     | 9/10 [00:00<00:00, 10.32it/s]"
     ]
    },
    {
     "name": "stdout",
     "output_type": "stream",
     "text": [
      "Training until validation scores don't improve for 10 rounds\n",
      "[10]\ttraining's rmse: 852.295\tvalid_1's rmse: 913.343\n",
      "[20]\ttraining's rmse: 778.082\tvalid_1's rmse: 874.111\n",
      "[30]\ttraining's rmse: 731.738\tvalid_1's rmse: 857.225\n",
      "[40]\ttraining's rmse: 697.005\tvalid_1's rmse: 851.15\n",
      "Early stopping, best iteration is:\n",
      "[38]\ttraining's rmse: 703.183\tvalid_1's rmse: 850.33\n"
     ]
    },
    {
     "name": "stderr",
     "output_type": "stream",
     "text": [
      "bagging, val_score: 843.655669:  90%|#############################################9     | 9/10 [00:00<00:00, 10.32it/s][I 2020-08-02 14:45:54,291] Trial 36 finished with value: 850.3304652617214 and parameters: {'bagging_fraction': 0.8610858846141936, 'bagging_freq': 5}. Best is trial 28 with value: 843.6556690463276.\n",
      "bagging, val_score: 843.655669: 100%|##################################################| 10/10 [00:00<00:00, 11.13it/s]\n",
      "feature_fraction_stage2, val_score: 843.655669:   0%|                                            | 0/6 [00:00<?, ?it/s]"
     ]
    },
    {
     "name": "stdout",
     "output_type": "stream",
     "text": [
      "Training until validation scores don't improve for 10 rounds\n",
      "[10]\ttraining's rmse: 838.164\tvalid_1's rmse: 909.131\n",
      "[20]\ttraining's rmse: 762.722\tvalid_1's rmse: 870.812\n",
      "[30]\ttraining's rmse: 713.843\tvalid_1's rmse: 852.996\n",
      "[40]\ttraining's rmse: 677.348\tvalid_1's rmse: 849.499\n",
      "[50]\ttraining's rmse: 646.443\tvalid_1's rmse: 845.79\n",
      "[60]\ttraining's rmse: 622.491\tvalid_1's rmse: 844.638\n",
      "Early stopping, best iteration is:\n",
      "[54]\ttraining's rmse: 635.804\tvalid_1's rmse: 843.656\n"
     ]
    },
    {
     "name": "stderr",
     "output_type": "stream",
     "text": [
      "feature_fraction_stage2, val_score: 843.655669:   0%|                                            | 0/6 [00:00<?, ?it/s][I 2020-08-02 14:45:54,394] Trial 37 finished with value: 843.6556690463276 and parameters: {'feature_fraction': 0.6839999999999999}. Best is trial 37 with value: 843.6556690463276.\n",
      "feature_fraction_stage2, val_score: 843.655669:  17%|######                              | 1/6 [00:00<00:00,  9.62it/s]"
     ]
    },
    {
     "name": "stdout",
     "output_type": "stream",
     "text": [
      "Training until validation scores don't improve for 10 rounds\n",
      "[10]\ttraining's rmse: 838.164\tvalid_1's rmse: 909.131\n",
      "[20]\ttraining's rmse: 762.722\tvalid_1's rmse: 870.812\n",
      "[30]\ttraining's rmse: 713.843\tvalid_1's rmse: 852.996\n",
      "[40]\ttraining's rmse: 677.348\tvalid_1's rmse: 849.499\n",
      "[50]\ttraining's rmse: 646.443\tvalid_1's rmse: 845.79\n",
      "[60]\ttraining's rmse: 622.491\tvalid_1's rmse: 844.638\n",
      "Early stopping, best iteration is:\n",
      "[54]\ttraining's rmse: 635.804\tvalid_1's rmse: 843.656\n"
     ]
    },
    {
     "name": "stderr",
     "output_type": "stream",
     "text": [
      "feature_fraction_stage2, val_score: 843.655669:  33%|############                        | 2/6 [00:00<00:00,  9.22it/s][I 2020-08-02 14:45:54,520] Trial 38 finished with value: 843.6556690463276 and parameters: {'feature_fraction': 0.652}. Best is trial 37 with value: 843.6556690463276.\n",
      "feature_fraction_stage2, val_score: 843.655669:  33%|############                        | 2/6 [00:00<00:00,  9.22it/s]"
     ]
    },
    {
     "name": "stdout",
     "output_type": "stream",
     "text": [
      "Training until validation scores don't improve for 10 rounds\n",
      "[10]\ttraining's rmse: 838.164\tvalid_1's rmse: 909.131\n",
      "[20]\ttraining's rmse: 762.722\tvalid_1's rmse: 870.812\n",
      "[30]\ttraining's rmse: 713.843\tvalid_1's rmse: 852.996\n",
      "[40]\ttraining's rmse: 677.348\tvalid_1's rmse: 849.499\n",
      "[50]\ttraining's rmse: 646.443\tvalid_1's rmse: 845.79\n",
      "[60]\ttraining's rmse: 622.491\tvalid_1's rmse: 844.638\n",
      "Early stopping, best iteration is:\n",
      "[54]\ttraining's rmse: 635.804\tvalid_1's rmse: 843.656\n"
     ]
    },
    {
     "name": "stderr",
     "output_type": "stream",
     "text": [
      "feature_fraction_stage2, val_score: 843.655669:  50%|##################                  | 3/6 [00:00<00:00,  9.06it/s][I 2020-08-02 14:45:54,634] Trial 39 finished with value: 843.6556690463276 and parameters: {'feature_fraction': 0.716}. Best is trial 37 with value: 843.6556690463276.\n",
      "feature_fraction_stage2, val_score: 843.655669:  50%|##################                  | 3/6 [00:00<00:00,  9.06it/s]"
     ]
    },
    {
     "name": "stdout",
     "output_type": "stream",
     "text": [
      "Training until validation scores don't improve for 10 rounds\n",
      "[10]\ttraining's rmse: 851.521\tvalid_1's rmse: 924.308\n",
      "[20]\ttraining's rmse: 778.899\tvalid_1's rmse: 887.515\n",
      "[30]\ttraining's rmse: 730.79\tvalid_1's rmse: 863.677\n",
      "[40]\ttraining's rmse: 694.999\tvalid_1's rmse: 854.011\n",
      "Early stopping, best iteration is:\n",
      "[38]\ttraining's rmse: 702.402\tvalid_1's rmse: 853.901\n"
     ]
    },
    {
     "name": "stderr",
     "output_type": "stream",
     "text": [
      "feature_fraction_stage2, val_score: 843.655669:  67%|########################            | 4/6 [00:00<00:00,  9.32it/s][I 2020-08-02 14:45:54,735] Trial 40 finished with value: 853.901286862291 and parameters: {'feature_fraction': 0.62}. Best is trial 37 with value: 843.6556690463276.\n",
      "feature_fraction_stage2, val_score: 843.655669:  67%|########################            | 4/6 [00:00<00:00,  9.32it/s]"
     ]
    },
    {
     "name": "stdout",
     "output_type": "stream",
     "text": [
      "Training until validation scores don't improve for 10 rounds\n",
      "[10]\ttraining's rmse: 838.164\tvalid_1's rmse: 909.131\n",
      "[20]\ttraining's rmse: 762.722\tvalid_1's rmse: 870.812\n",
      "[30]\ttraining's rmse: 713.843\tvalid_1's rmse: 852.996\n",
      "[40]\ttraining's rmse: 677.348\tvalid_1's rmse: 849.499\n",
      "[50]\ttraining's rmse: 646.443\tvalid_1's rmse: 845.79\n",
      "[60]\ttraining's rmse: 622.491\tvalid_1's rmse: 844.638\n",
      "Early stopping, best iteration is:\n",
      "[54]\ttraining's rmse: 635.804\tvalid_1's rmse: 843.656\n"
     ]
    },
    {
     "name": "stderr",
     "output_type": "stream",
     "text": [
      "feature_fraction_stage2, val_score: 843.655669:  67%|########################            | 4/6 [00:00<00:00,  9.32it/s][I 2020-08-02 14:45:54,831] Trial 41 finished with value: 843.6556690463276 and parameters: {'feature_fraction': 0.748}. Best is trial 37 with value: 843.6556690463276.\n",
      "feature_fraction_stage2, val_score: 843.655669:  83%|##############################      | 5/6 [00:00<00:00,  9.32it/s]"
     ]
    },
    {
     "name": "stdout",
     "output_type": "stream",
     "text": [
      "Training until validation scores don't improve for 10 rounds\n",
      "[10]\ttraining's rmse: 830.133\tvalid_1's rmse: 907.463\n",
      "[20]\ttraining's rmse: 760.564\tvalid_1's rmse: 872.001\n",
      "[30]\ttraining's rmse: 711.716\tvalid_1's rmse: 857.664\n",
      "[40]\ttraining's rmse: 674.865\tvalid_1's rmse: 854.984\n",
      "Early stopping, best iteration is:\n",
      "[36]\ttraining's rmse: 689.216\tvalid_1's rmse: 853.463\n"
     ]
    },
    {
     "name": "stderr",
     "output_type": "stream",
     "text": [
      "feature_fraction_stage2, val_score: 843.655669: 100%|####################################| 6/6 [00:00<00:00,  9.97it/s][I 2020-08-02 14:45:54,901] Trial 42 finished with value: 853.4630213785138 and parameters: {'feature_fraction': 0.7799999999999999}. Best is trial 37 with value: 843.6556690463276.\n",
      "feature_fraction_stage2, val_score: 843.655669: 100%|####################################| 6/6 [00:00<00:00,  9.92it/s]\n",
      "regularization_factors, val_score: 843.655669:   0%|                                            | 0/20 [00:00<?, ?it/s]"
     ]
    },
    {
     "name": "stdout",
     "output_type": "stream",
     "text": [
      "Training until validation scores don't improve for 10 rounds\n",
      "[10]\ttraining's rmse: 838.165\tvalid_1's rmse: 909.131\n",
      "[20]\ttraining's rmse: 762.723\tvalid_1's rmse: 870.812\n",
      "[30]\ttraining's rmse: 713.844\tvalid_1's rmse: 852.996\n",
      "[40]\ttraining's rmse: 677.349\tvalid_1's rmse: 849.5\n",
      "[50]\ttraining's rmse: 646.445\tvalid_1's rmse: 845.79\n",
      "[60]\ttraining's rmse: 622.493\tvalid_1's rmse: 844.638\n",
      "Early stopping, best iteration is:\n",
      "[54]\ttraining's rmse: 635.807\tvalid_1's rmse: 843.656\n"
     ]
    },
    {
     "name": "stderr",
     "output_type": "stream",
     "text": [
      "regularization_factors, val_score: 843.655669:   5%|#8                                  | 1/20 [00:00<00:02,  9.34it/s][I 2020-08-02 14:45:55,019] Trial 43 finished with value: 843.6556999276692 and parameters: {'lambda_l1': 0.1739557833934281, 'lambda_l2': 7.198986173688077e-06}. Best is trial 43 with value: 843.6556999276692.\n",
      "regularization_factors, val_score: 843.655669:   5%|#8                                  | 1/20 [00:00<00:02,  9.34it/s]"
     ]
    },
    {
     "name": "stdout",
     "output_type": "stream",
     "text": [
      "Training until validation scores don't improve for 10 rounds\n",
      "[10]\ttraining's rmse: 845.956\tvalid_1's rmse: 914.578\n",
      "[20]\ttraining's rmse: 774.389\tvalid_1's rmse: 878.788\n",
      "[30]\ttraining's rmse: 725.623\tvalid_1's rmse: 864.93\n",
      "[40]\ttraining's rmse: 690.49\tvalid_1's rmse: 862.013\n",
      "[50]\ttraining's rmse: 659.529\tvalid_1's rmse: 857.807\n",
      "[60]\ttraining's rmse: 635.41\tvalid_1's rmse: 854.985\n",
      "[70]\ttraining's rmse: 609.255\tvalid_1's rmse: 853.426\n",
      "Early stopping, best iteration is:\n",
      "[64]\ttraining's rmse: 623.917\tvalid_1's rmse: 852.789\n"
     ]
    },
    {
     "name": "stderr",
     "output_type": "stream",
     "text": [
      "regularization_factors, val_score: 843.655669:  10%|###6                                | 2/20 [00:00<00:02,  8.64it/s][I 2020-08-02 14:45:55,155] Trial 44 finished with value: 852.7886812914822 and parameters: {'lambda_l1': 3.458195266674419e-07, 'lambda_l2': 2.4559405031162425}. Best is trial 43 with value: 843.6556999276692.\n",
      "regularization_factors, val_score: 843.655669:  10%|###6                                | 2/20 [00:00<00:02,  8.64it/s]"
     ]
    },
    {
     "name": "stdout",
     "output_type": "stream",
     "text": [
      "Training until validation scores don't improve for 10 rounds\n",
      "[10]\ttraining's rmse: 849.917\tvalid_1's rmse: 915.934\n",
      "[20]\ttraining's rmse: 773.64\tvalid_1's rmse: 874.199\n",
      "[30]\ttraining's rmse: 728.496\tvalid_1's rmse: 861.336\n",
      "[40]\ttraining's rmse: 693.169\tvalid_1's rmse: 857.552\n",
      "[50]\ttraining's rmse: 663.482\tvalid_1's rmse: 855.71\n",
      "Early stopping, best iteration is:\n",
      "[45]\ttraining's rmse: 677.485\tvalid_1's rmse: 854.856\n"
     ]
    },
    {
     "name": "stderr",
     "output_type": "stream",
     "text": [
      "regularization_factors, val_score: 843.655669:  15%|#####3                              | 3/20 [00:00<00:01,  8.66it/s][I 2020-08-02 14:45:55,272] Trial 45 finished with value: 854.8556511814157 and parameters: {'lambda_l1': 5.090626611669821, 'lambda_l2': 4.153278651808108}. Best is trial 43 with value: 843.6556999276692.\n",
      "regularization_factors, val_score: 843.655669:  15%|#####3                              | 3/20 [00:00<00:01,  8.66it/s]"
     ]
    },
    {
     "name": "stdout",
     "output_type": "stream",
     "text": [
      "Training until validation scores don't improve for 10 rounds\n",
      "[10]\ttraining's rmse: 838.164\tvalid_1's rmse: 909.131\n",
      "[20]\ttraining's rmse: 762.722\tvalid_1's rmse: 870.812\n",
      "[30]\ttraining's rmse: 713.843\tvalid_1's rmse: 852.996\n",
      "[40]\ttraining's rmse: 677.348\tvalid_1's rmse: 849.499\n",
      "[50]\ttraining's rmse: 646.443\tvalid_1's rmse: 845.79\n",
      "[60]\ttraining's rmse: 622.491\tvalid_1's rmse: 844.638\n",
      "Early stopping, best iteration is:\n",
      "[54]\ttraining's rmse: 635.804\tvalid_1's rmse: 843.656\n"
     ]
    },
    {
     "name": "stderr",
     "output_type": "stream",
     "text": [
      "regularization_factors, val_score: 843.655669:  20%|#######2                            | 4/20 [00:00<00:01,  8.36it/s][I 2020-08-02 14:45:55,399] Trial 46 finished with value: 843.6556690382903 and parameters: {'lambda_l1': 1.3486146327307462e-08, 'lambda_l2': 1.1943381040383762e-08}. Best is trial 46 with value: 843.6556690382903.\n",
      "regularization_factors, val_score: 843.655669:  20%|#######2                            | 4/20 [00:00<00:01,  8.36it/s]"
     ]
    },
    {
     "name": "stdout",
     "output_type": "stream",
     "text": [
      "Training until validation scores don't improve for 10 rounds\n",
      "[10]\ttraining's rmse: 838.164\tvalid_1's rmse: 909.131\n",
      "[20]\ttraining's rmse: 762.722\tvalid_1's rmse: 870.812\n",
      "[30]\ttraining's rmse: 713.843\tvalid_1's rmse: 852.996\n",
      "[40]\ttraining's rmse: 677.348\tvalid_1's rmse: 849.499\n",
      "[50]\ttraining's rmse: 646.443\tvalid_1's rmse: 845.79\n",
      "[60]\ttraining's rmse: 622.491\tvalid_1's rmse: 844.638\n",
      "Early stopping, best iteration is:\n",
      "[54]\ttraining's rmse: 635.804\tvalid_1's rmse: 843.656\n"
     ]
    },
    {
     "name": "stderr",
     "output_type": "stream",
     "text": [
      "regularization_factors, val_score: 843.655669:  25%|#########                           | 5/20 [00:00<00:01,  8.75it/s][I 2020-08-02 14:45:55,501] Trial 47 finished with value: 843.6556690504317 and parameters: {'lambda_l1': 2.4859542685262047e-08, 'lambda_l2': 2.3236847703867067e-08}. Best is trial 46 with value: 843.6556690382903.\n",
      "regularization_factors, val_score: 843.655669:  25%|#########                           | 5/20 [00:00<00:01,  8.75it/s]"
     ]
    },
    {
     "name": "stdout",
     "output_type": "stream",
     "text": [
      "Training until validation scores don't improve for 10 rounds\n",
      "[10]\ttraining's rmse: 838.164\tvalid_1's rmse: 909.131\n",
      "[20]\ttraining's rmse: 762.722\tvalid_1's rmse: 870.812\n",
      "[30]\ttraining's rmse: 713.843\tvalid_1's rmse: 852.996\n",
      "[40]\ttraining's rmse: 677.348\tvalid_1's rmse: 849.499\n",
      "[50]\ttraining's rmse: 646.443\tvalid_1's rmse: 845.79\n",
      "[60]\ttraining's rmse: 622.491\tvalid_1's rmse: 844.638\n",
      "Early stopping, best iteration is:\n",
      "[54]\ttraining's rmse: 635.804\tvalid_1's rmse: 843.656\n"
     ]
    },
    {
     "name": "stderr",
     "output_type": "stream",
     "text": [
      "regularization_factors, val_score: 843.655669:  30%|##########7                         | 6/20 [00:00<00:01,  8.99it/s][I 2020-08-02 14:45:55,605] Trial 48 finished with value: 843.6556690602362 and parameters: {'lambda_l1': 5.7673415943842596e-05, 'lambda_l2': 1.730837694497546e-08}. Best is trial 46 with value: 843.6556690382903.\n",
      "regularization_factors, val_score: 843.655669:  30%|##########7                         | 6/20 [00:00<00:01,  8.99it/s]"
     ]
    },
    {
     "name": "stdout",
     "output_type": "stream",
     "text": [
      "Training until validation scores don't improve for 10 rounds\n",
      "[10]\ttraining's rmse: 838.165\tvalid_1's rmse: 909.131\n",
      "[20]\ttraining's rmse: 762.723\tvalid_1's rmse: 870.812\n",
      "[30]\ttraining's rmse: 713.844\tvalid_1's rmse: 852.996\n",
      "[40]\ttraining's rmse: 677.349\tvalid_1's rmse: 849.499\n",
      "[50]\ttraining's rmse: 646.444\tvalid_1's rmse: 845.79\n",
      "[60]\ttraining's rmse: 622.492\tvalid_1's rmse: 844.638\n",
      "Early stopping, best iteration is:\n",
      "[54]\ttraining's rmse: 635.805\tvalid_1's rmse: 843.656\n"
     ]
    },
    {
     "name": "stderr",
     "output_type": "stream",
     "text": [
      "regularization_factors, val_score: 843.655643:  35%|############6                       | 7/20 [00:00<00:01,  9.10it/s][I 2020-08-02 14:45:55,712] Trial 49 finished with value: 843.6556432120373 and parameters: {'lambda_l1': 2.0361005803851994e-05, 'lambda_l2': 0.00031223321067136645}. Best is trial 49 with value: 843.6556432120373.\n",
      "regularization_factors, val_score: 843.655643:  35%|############6                       | 7/20 [00:00<00:01,  9.10it/s]"
     ]
    },
    {
     "name": "stdout",
     "output_type": "stream",
     "text": [
      "Training until validation scores don't improve for 10 rounds\n",
      "[10]\ttraining's rmse: 838.167\tvalid_1's rmse: 909.132\n",
      "[20]\ttraining's rmse: 762.725\tvalid_1's rmse: 870.813\n",
      "[30]\ttraining's rmse: 713.846\tvalid_1's rmse: 852.997\n",
      "[40]\ttraining's rmse: 677.352\tvalid_1's rmse: 849.5\n",
      "[50]\ttraining's rmse: 646.448\tvalid_1's rmse: 845.79\n",
      "[60]\ttraining's rmse: 622.496\tvalid_1's rmse: 844.638\n",
      "Early stopping, best iteration is:\n",
      "[54]\ttraining's rmse: 635.809\tvalid_1's rmse: 843.656\n"
     ]
    },
    {
     "name": "stderr",
     "output_type": "stream",
     "text": [
      "regularization_factors, val_score: 843.655569:  40%|##############4                     | 8/20 [00:00<00:01,  9.30it/s][I 2020-08-02 14:45:55,814] Trial 50 finished with value: 843.6555685071836 and parameters: {'lambda_l1': 2.388981152872062e-05, 'lambda_l2': 0.0012135540397611112}. Best is trial 50 with value: 843.6555685071836.\n",
      "regularization_factors, val_score: 843.655569:  40%|##############4                     | 8/20 [00:00<00:01,  9.30it/s]"
     ]
    },
    {
     "name": "stdout",
     "output_type": "stream",
     "text": [
      "Training until validation scores don't improve for 10 rounds\n",
      "[10]\ttraining's rmse: 838.183\tvalid_1's rmse: 909.141\n",
      "[20]\ttraining's rmse: 762.743\tvalid_1's rmse: 870.818\n",
      "[30]\ttraining's rmse: 713.866\tvalid_1's rmse: 853\n",
      "[40]\ttraining's rmse: 677.374\tvalid_1's rmse: 849.501\n",
      "[50]\ttraining's rmse: 646.472\tvalid_1's rmse: 845.789\n",
      "[60]\ttraining's rmse: 622.521\tvalid_1's rmse: 844.636\n",
      "Early stopping, best iteration is:\n",
      "[54]\ttraining's rmse: 635.834\tvalid_1's rmse: 843.655\n"
     ]
    },
    {
     "name": "stderr",
     "output_type": "stream",
     "text": [
      "regularization_factors, val_score: 843.655029:  45%|################2                   | 9/20 [00:01<00:01,  9.34it/s][I 2020-08-02 14:45:55,920] Trial 51 finished with value: 843.655028655349 and parameters: {'lambda_l1': 4.085423329930291e-05, 'lambda_l2': 0.00777212114785804}. Best is trial 51 with value: 843.655028655349.\n",
      "regularization_factors, val_score: 843.655029:  45%|################2                   | 9/20 [00:01<00:01,  9.34it/s]"
     ]
    },
    {
     "name": "stdout",
     "output_type": "stream",
     "text": [
      "Training until validation scores don't improve for 10 rounds\n",
      "[10]\ttraining's rmse: 838.17\tvalid_1's rmse: 909.134\n",
      "[20]\ttraining's rmse: 762.728\tvalid_1's rmse: 870.814\n",
      "[30]\ttraining's rmse: 713.85\tvalid_1's rmse: 852.997\n",
      "[40]\ttraining's rmse: 677.355\tvalid_1's rmse: 849.5\n",
      "[50]\ttraining's rmse: 646.451\tvalid_1's rmse: 845.79\n",
      "[60]\ttraining's rmse: 622.5\tvalid_1's rmse: 844.637\n",
      "Early stopping, best iteration is:\n",
      "[54]\ttraining's rmse: 635.813\tvalid_1's rmse: 843.655\n"
     ]
    },
    {
     "name": "stderr",
     "output_type": "stream",
     "text": [
      "regularization_factors, val_score: 843.655029:  50%|#################5                 | 10/20 [00:01<00:01,  9.50it/s][I 2020-08-02 14:45:56,021] Trial 52 finished with value: 843.6554818090807 and parameters: {'lambda_l1': 4.956684914144741e-05, 'lambda_l2': 0.00226676199203851}. Best is trial 51 with value: 843.655028655349.\n",
      "regularization_factors, val_score: 843.655029:  50%|#################5                 | 10/20 [00:01<00:01,  9.50it/s]"
     ]
    },
    {
     "name": "stdout",
     "output_type": "stream",
     "text": [
      "Training until validation scores don't improve for 10 rounds\n",
      "[10]\ttraining's rmse: 838.174\tvalid_1's rmse: 909.136\n",
      "[20]\ttraining's rmse: 762.733\tvalid_1's rmse: 870.815\n",
      "[30]\ttraining's rmse: 713.855\tvalid_1's rmse: 852.998\n",
      "[40]\ttraining's rmse: 677.361\tvalid_1's rmse: 849.5\n",
      "[50]\ttraining's rmse: 646.458\tvalid_1's rmse: 845.789\n",
      "[60]\ttraining's rmse: 622.506\tvalid_1's rmse: 844.637\n",
      "Early stopping, best iteration is:\n",
      "[54]\ttraining's rmse: 635.82\tvalid_1's rmse: 843.655\n"
     ]
    },
    {
     "name": "stderr",
     "output_type": "stream",
     "text": [
      "regularization_factors, val_score: 843.655029:  55%|###################2               | 11/20 [00:01<00:00,  9.53it/s][I 2020-08-02 14:45:56,125] Trial 53 finished with value: 843.655334686789 and parameters: {'lambda_l1': 6.525107493786843e-05, 'lambda_l2': 0.004052089346851685}. Best is trial 51 with value: 843.655028655349.\n",
      "regularization_factors, val_score: 843.655029:  55%|###################2               | 11/20 [00:01<00:00,  9.53it/s]"
     ]
    },
    {
     "name": "stdout",
     "output_type": "stream",
     "text": [
      "Training until validation scores don't improve for 10 rounds\n",
      "[10]\ttraining's rmse: 838.175\tvalid_1's rmse: 909.137\n",
      "[20]\ttraining's rmse: 762.735\tvalid_1's rmse: 870.816\n",
      "[30]\ttraining's rmse: 713.857\tvalid_1's rmse: 852.998\n",
      "[40]\ttraining's rmse: 677.363\tvalid_1's rmse: 849.5\n",
      "[50]\ttraining's rmse: 646.46\tvalid_1's rmse: 845.789\n",
      "[60]\ttraining's rmse: 622.509\tvalid_1's rmse: 844.637\n",
      "Early stopping, best iteration is:\n",
      "[54]\ttraining's rmse: 635.822\tvalid_1's rmse: 843.655\n"
     ]
    },
    {
     "name": "stderr",
     "output_type": "stream",
     "text": [
      "regularization_factors, val_score: 843.655029:  60%|#####################              | 12/20 [00:01<00:00,  9.50it/s][I 2020-08-02 14:45:56,231] Trial 54 finished with value: 843.6552820186116 and parameters: {'lambda_l1': 4.9632912652087444e-05, 'lambda_l2': 0.004690299786645443}. Best is trial 51 with value: 843.655028655349.\n",
      "regularization_factors, val_score: 843.655029:  60%|#####################              | 12/20 [00:01<00:00,  9.50it/s]"
     ]
    },
    {
     "name": "stdout",
     "output_type": "stream",
     "text": [
      "Training until validation scores don't improve for 10 rounds\n",
      "[10]\ttraining's rmse: 838.172\tvalid_1's rmse: 909.135\n",
      "[20]\ttraining's rmse: 762.73\tvalid_1's rmse: 870.814\n",
      "[30]\ttraining's rmse: 713.852\tvalid_1's rmse: 852.997\n",
      "[40]\ttraining's rmse: 677.358\tvalid_1's rmse: 849.5\n",
      "[50]\ttraining's rmse: 646.455\tvalid_1's rmse: 845.79\n",
      "[60]\ttraining's rmse: 622.503\tvalid_1's rmse: 844.637\n",
      "Early stopping, best iteration is:\n",
      "[54]\ttraining's rmse: 635.816\tvalid_1's rmse: 843.655\n"
     ]
    },
    {
     "name": "stderr",
     "output_type": "stream",
     "text": [
      "regularization_factors, val_score: 843.655029:  65%|######################7            | 13/20 [00:01<00:00,  9.59it/s][I 2020-08-02 14:45:56,333] Trial 55 finished with value: 843.6554110845381 and parameters: {'lambda_l1': 7.018402359896981e-05, 'lambda_l2': 0.0031246526551483886}. Best is trial 51 with value: 843.655028655349.\n",
      "regularization_factors, val_score: 843.655029:  65%|######################7            | 13/20 [00:01<00:00,  9.59it/s]"
     ]
    },
    {
     "name": "stdout",
     "output_type": "stream",
     "text": [
      "Training until validation scores don't improve for 10 rounds\n",
      "[10]\ttraining's rmse: 838.178\tvalid_1's rmse: 909.138\n",
      "[20]\ttraining's rmse: 762.738\tvalid_1's rmse: 870.817\n",
      "[30]\ttraining's rmse: 713.86\tvalid_1's rmse: 852.999\n",
      "[40]\ttraining's rmse: 677.367\tvalid_1's rmse: 849.5\n",
      "[50]\ttraining's rmse: 646.465\tvalid_1's rmse: 845.789\n",
      "[60]\ttraining's rmse: 622.513\tvalid_1's rmse: 844.636\n",
      "Early stopping, best iteration is:\n",
      "[54]\ttraining's rmse: 635.826\tvalid_1's rmse: 843.655\n"
     ]
    },
    {
     "name": "stderr",
     "output_type": "stream",
     "text": [
      "regularization_factors, val_score: 843.655029:  70%|########################5          | 14/20 [00:01<00:00,  9.10it/s][I 2020-08-02 14:45:56,456] Trial 56 finished with value: 843.6551851439582 and parameters: {'lambda_l1': 5.512666717190475e-05, 'lambda_l2': 0.005869357707633747}. Best is trial 51 with value: 843.655028655349.\n",
      "regularization_factors, val_score: 843.655029:  70%|########################5          | 14/20 [00:01<00:00,  9.10it/s]"
     ]
    },
    {
     "name": "stdout",
     "output_type": "stream",
     "text": [
      "Training until validation scores don't improve for 10 rounds\n",
      "[10]\ttraining's rmse: 838.179\tvalid_1's rmse: 909.138\n",
      "[20]\ttraining's rmse: 762.738\tvalid_1's rmse: 870.817\n",
      "[30]\ttraining's rmse: 713.861\tvalid_1's rmse: 852.999\n",
      "[40]\ttraining's rmse: 677.368\tvalid_1's rmse: 849.5\n",
      "[50]\ttraining's rmse: 646.465\tvalid_1's rmse: 845.789\n",
      "[60]\ttraining's rmse: 622.514\tvalid_1's rmse: 844.636\n",
      "Early stopping, best iteration is:\n",
      "[54]\ttraining's rmse: 635.827\tvalid_1's rmse: 843.655\n"
     ]
    },
    {
     "name": "stderr",
     "output_type": "stream",
     "text": [
      "regularization_factors, val_score: 843.655029:  75%|##########################2        | 15/20 [00:01<00:00,  9.30it/s][I 2020-08-02 14:45:56,558] Trial 57 finished with value: 843.6551711666835 and parameters: {'lambda_l1': 0.0002977977944471714, 'lambda_l2': 0.00603848815077337}. Best is trial 51 with value: 843.655028655349.\n",
      "regularization_factors, val_score: 843.655029:  75%|##########################2        | 15/20 [00:01<00:00,  9.30it/s]"
     ]
    },
    {
     "name": "stdout",
     "output_type": "stream",
     "text": [
      "Training until validation scores don't improve for 10 rounds\n",
      "[10]\ttraining's rmse: 838.229\tvalid_1's rmse: 909.166\n",
      "[20]\ttraining's rmse: 762.796\tvalid_1's rmse: 870.834\n",
      "[30]\ttraining's rmse: 713.925\tvalid_1's rmse: 853.009\n",
      "[40]\ttraining's rmse: 677.153\tvalid_1's rmse: 849.69\n",
      "[50]\ttraining's rmse: 647.129\tvalid_1's rmse: 849.995\n",
      "Early stopping, best iteration is:\n",
      "[47]\ttraining's rmse: 655.462\tvalid_1's rmse: 847.702\n"
     ]
    },
    {
     "name": "stderr",
     "output_type": "stream",
     "text": [
      "regularization_factors, val_score: 843.655029:  80%|############################       | 16/20 [00:01<00:00,  9.45it/s][I 2020-08-02 14:45:56,660] Trial 58 finished with value: 847.7022582607564 and parameters: {'lambda_l1': 0.002059319819628569, 'lambda_l2': 0.027281677139744203}. Best is trial 51 with value: 843.655028655349.\n",
      "regularization_factors, val_score: 843.655029:  80%|############################       | 16/20 [00:01<00:00,  9.45it/s]"
     ]
    },
    {
     "name": "stdout",
     "output_type": "stream",
     "text": [
      "Training until validation scores don't improve for 10 rounds\n",
      "[10]\ttraining's rmse: 838.228\tvalid_1's rmse: 909.165\n",
      "[20]\ttraining's rmse: 762.794\tvalid_1's rmse: 870.834\n",
      "[30]\ttraining's rmse: 713.923\tvalid_1's rmse: 853.008\n",
      "[40]\ttraining's rmse: 677.15\tvalid_1's rmse: 849.69\n",
      "[50]\ttraining's rmse: 647.127\tvalid_1's rmse: 849.995\n",
      "Early stopping, best iteration is:\n",
      "[47]\ttraining's rmse: 655.46\tvalid_1's rmse: 847.702\n"
     ]
    },
    {
     "name": "stderr",
     "output_type": "stream",
     "text": [
      "regularization_factors, val_score: 843.655029:  80%|############################       | 16/20 [00:01<00:00,  9.45it/s][I 2020-08-02 14:45:56,752] Trial 59 finished with value: 847.7022759911148 and parameters: {'lambda_l1': 0.0020199498395260603, 'lambda_l2': 0.02658298616504683}. Best is trial 51 with value: 843.655028655349.\n",
      "regularization_factors, val_score: 843.655029:  85%|#############################7     | 17/20 [00:01<00:00,  9.45it/s]"
     ]
    },
    {
     "name": "stdout",
     "output_type": "stream",
     "text": [
      "Training until validation scores don't improve for 10 rounds\n",
      "[10]\ttraining's rmse: 838.202\tvalid_1's rmse: 909.151\n",
      "[20]\ttraining's rmse: 762.765\tvalid_1's rmse: 870.825\n",
      "[30]\ttraining's rmse: 713.89\tvalid_1's rmse: 853.003\n",
      "[40]\ttraining's rmse: 677.4\tvalid_1's rmse: 849.502\n",
      "[50]\ttraining's rmse: 646.502\tvalid_1's rmse: 845.789\n",
      "[60]\ttraining's rmse: 622.551\tvalid_1's rmse: 844.634\n",
      "Early stopping, best iteration is:\n",
      "[54]\ttraining's rmse: 635.864\tvalid_1's rmse: 843.654\n"
     ]
    },
    {
     "name": "stderr",
     "output_type": "stream",
     "text": [
      "regularization_factors, val_score: 843.654374:  90%|###############################5   | 18/20 [00:01<00:00,  9.69it/s][I 2020-08-02 14:45:56,855] Trial 60 finished with value: 843.6543741652542 and parameters: {'lambda_l1': 0.0003345077164843167, 'lambda_l2': 0.01577389708323351}. Best is trial 60 with value: 843.6543741652542.\n",
      "regularization_factors, val_score: 843.654374:  90%|###############################5   | 18/20 [00:01<00:00,  9.69it/s]"
     ]
    },
    {
     "name": "stdout",
     "output_type": "stream",
     "text": [
      "Training until validation scores don't improve for 10 rounds\n",
      "[10]\ttraining's rmse: 838.198\tvalid_1's rmse: 909.149\n",
      "[20]\ttraining's rmse: 762.761\tvalid_1's rmse: 870.824\n",
      "[30]\ttraining's rmse: 713.886\tvalid_1's rmse: 853.003\n",
      "[40]\ttraining's rmse: 677.396\tvalid_1's rmse: 849.502\n",
      "[50]\ttraining's rmse: 646.496\tvalid_1's rmse: 845.789\n",
      "[60]\ttraining's rmse: 622.546\tvalid_1's rmse: 844.634\n",
      "Early stopping, best iteration is:\n",
      "[54]\ttraining's rmse: 635.858\tvalid_1's rmse: 843.654\n"
     ]
    },
    {
     "name": "stderr",
     "output_type": "stream",
     "text": [
      "regularization_factors, val_score: 843.654374:  95%|#################################2 | 19/20 [00:02<00:00,  9.75it/s][I 2020-08-02 14:45:56,955] Trial 61 finished with value: 843.6544919429507 and parameters: {'lambda_l1': 0.00027349107153758917, 'lambda_l2': 0.014329888040645502}. Best is trial 60 with value: 843.6543741652542.\n",
      "regularization_factors, val_score: 843.654374:  95%|#################################2 | 19/20 [00:02<00:00,  9.75it/s]"
     ]
    },
    {
     "name": "stdout",
     "output_type": "stream",
     "text": [
      "Training until validation scores don't improve for 10 rounds\n",
      "[10]\ttraining's rmse: 838.253\tvalid_1's rmse: 909.18\n",
      "[20]\ttraining's rmse: 762.824\tvalid_1's rmse: 870.842\n",
      "[30]\ttraining's rmse: 713.956\tvalid_1's rmse: 853.013\n",
      "[40]\ttraining's rmse: 677.186\tvalid_1's rmse: 849.691\n",
      "[50]\ttraining's rmse: 647.165\tvalid_1's rmse: 849.993\n",
      "Early stopping, best iteration is:\n",
      "[47]\ttraining's rmse: 655.497\tvalid_1's rmse: 847.702\n"
     ]
    },
    {
     "name": "stderr",
     "output_type": "stream",
     "text": [
      "regularization_factors, val_score: 843.654374:  95%|#################################2 | 19/20 [00:02<00:00,  9.75it/s][I 2020-08-02 14:45:57,045] Trial 62 finished with value: 847.7020066470328 and parameters: {'lambda_l1': 0.0007202659313174362, 'lambda_l2': 0.037447745380162004}. Best is trial 60 with value: 843.6543741652542.\n",
      "regularization_factors, val_score: 843.654374: 100%|###################################| 20/20 [00:02<00:00,  9.35it/s]\n",
      "min_data_in_leaf, val_score: 843.654374:   0%|                                                   | 0/5 [00:00<?, ?it/s]"
     ]
    },
    {
     "name": "stdout",
     "output_type": "stream",
     "text": [
      "Training until validation scores don't improve for 10 rounds\n",
      "[10]\ttraining's rmse: 829.335\tvalid_1's rmse: 915.16\n",
      "[20]\ttraining's rmse: 748.992\tvalid_1's rmse: 876.108\n",
      "[30]\ttraining's rmse: 692.978\tvalid_1's rmse: 858.887\n",
      "[40]\ttraining's rmse: 652.478\tvalid_1's rmse: 854.884\n",
      "[50]\ttraining's rmse: 615.548\tvalid_1's rmse: 856.207\n",
      "Early stopping, best iteration is:\n",
      "[40]\ttraining's rmse: 652.478\tvalid_1's rmse: 854.884\n"
     ]
    },
    {
     "name": "stderr",
     "output_type": "stream",
     "text": [
      "min_data_in_leaf, val_score: 843.654374:   0%|                                                   | 0/5 [00:00<?, ?it/s][I 2020-08-02 14:45:57,142] Trial 63 finished with value: 854.8842193932617 and parameters: {'min_child_samples': 5}. Best is trial 63 with value: 854.8842193932617.\n",
      "min_data_in_leaf, val_score: 843.654374:  20%|########6                                  | 1/5 [00:00<00:00,  9.90it/s]"
     ]
    },
    {
     "name": "stdout",
     "output_type": "stream",
     "text": [
      "Training until validation scores don't improve for 10 rounds\n",
      "[10]\ttraining's rmse: 833.478\tvalid_1's rmse: 912.944\n",
      "[20]\ttraining's rmse: 755.281\tvalid_1's rmse: 872.606\n",
      "[30]\ttraining's rmse: 704.212\tvalid_1's rmse: 862.278\n",
      "[40]\ttraining's rmse: 662.129\tvalid_1's rmse: 862.007\n",
      "Early stopping, best iteration is:\n",
      "[38]\ttraining's rmse: 668.337\tvalid_1's rmse: 861.339\n"
     ]
    },
    {
     "name": "stderr",
     "output_type": "stream",
     "text": [
      "min_data_in_leaf, val_score: 843.654374:  40%|#################2                         | 2/5 [00:00<00:00, 12.12it/s][I 2020-08-02 14:45:57,220] Trial 64 finished with value: 861.3394890967686 and parameters: {'min_child_samples': 10}. Best is trial 63 with value: 854.8842193932617.\n",
      "min_data_in_leaf, val_score: 843.654374:  40%|#################2                         | 2/5 [00:00<00:00, 12.12it/s]"
     ]
    },
    {
     "name": "stdout",
     "output_type": "stream",
     "text": [
      "Training until validation scores don't improve for 10 rounds\n",
      "[10]\ttraining's rmse: 870.175\tvalid_1's rmse: 919.888\n",
      "[20]\ttraining's rmse: 809.548\tvalid_1's rmse: 880.285\n",
      "[30]\ttraining's rmse: 773.559\tvalid_1's rmse: 865.993\n",
      "[40]\ttraining's rmse: 745.814\tvalid_1's rmse: 861.253\n",
      "[50]\ttraining's rmse: 723.19\tvalid_1's rmse: 857.85\n",
      "[60]\ttraining's rmse: 703.847\tvalid_1's rmse: 858.911\n",
      "Early stopping, best iteration is:\n",
      "[51]\ttraining's rmse: 721.047\tvalid_1's rmse: 856.431\n"
     ]
    },
    {
     "name": "stderr",
     "output_type": "stream",
     "text": [
      "min_data_in_leaf, val_score: 843.654374:  40%|#################2                         | 2/5 [00:00<00:00, 12.12it/s][I 2020-08-02 14:45:57,313] Trial 65 finished with value: 856.4311410628043 and parameters: {'min_child_samples': 50}. Best is trial 63 with value: 854.8842193932617.\n",
      "min_data_in_leaf, val_score: 843.654374:  60%|#########################8                 | 3/5 [00:00<00:00, 12.12it/s]"
     ]
    },
    {
     "name": "stdout",
     "output_type": "stream",
     "text": [
      "Training until validation scores don't improve for 10 rounds\n",
      "[10]\ttraining's rmse: 841.915\tvalid_1's rmse: 909.642\n",
      "[20]\ttraining's rmse: 767.474\tvalid_1's rmse: 874.709\n",
      "[30]\ttraining's rmse: 720.388\tvalid_1's rmse: 863.887\n",
      "[40]\ttraining's rmse: 687.331\tvalid_1's rmse: 855.074\n",
      "[50]\ttraining's rmse: 657.081\tvalid_1's rmse: 851.425\n",
      "[60]\ttraining's rmse: 632.266\tvalid_1's rmse: 851.55\n",
      "Early stopping, best iteration is:\n",
      "[51]\ttraining's rmse: 653.689\tvalid_1's rmse: 849.879\n"
     ]
    },
    {
     "name": "stderr",
     "output_type": "stream",
     "text": [
      "min_data_in_leaf, val_score: 843.654374:  80%|##################################4        | 4/5 [00:00<00:00, 11.84it/s][I 2020-08-02 14:45:57,398] Trial 66 finished with value: 849.8793379137243 and parameters: {'min_child_samples': 25}. Best is trial 66 with value: 849.8793379137243.\n",
      "min_data_in_leaf, val_score: 843.654374:  80%|##################################4        | 4/5 [00:00<00:00, 11.84it/s]"
     ]
    },
    {
     "name": "stdout",
     "output_type": "stream",
     "text": [
      "Training until validation scores don't improve for 10 rounds\n",
      "[10]\ttraining's rmse: 899.07\tvalid_1's rmse: 936.306\n",
      "[20]\ttraining's rmse: 854.658\tvalid_1's rmse: 902.706\n",
      "[30]\ttraining's rmse: 825.538\tvalid_1's rmse: 883.204\n",
      "[40]\ttraining's rmse: 805.741\tvalid_1's rmse: 875.107\n",
      "[50]\ttraining's rmse: 789.641\tvalid_1's rmse: 868.75\n",
      "[60]\ttraining's rmse: 777.654\tvalid_1's rmse: 863.851\n",
      "[70]\ttraining's rmse: 764.88\tvalid_1's rmse: 863.997\n",
      "[80]\ttraining's rmse: 754.868\tvalid_1's rmse: 860.447\n",
      "[90]\ttraining's rmse: 746.903\tvalid_1's rmse: 858.654\n",
      "Early stopping, best iteration is:\n",
      "[84]\ttraining's rmse: 751.794\tvalid_1's rmse: 857.206\n"
     ]
    },
    {
     "name": "stderr",
     "output_type": "stream",
     "text": [
      "min_data_in_leaf, val_score: 843.654374: 100%|###########################################| 5/5 [00:00<00:00, 10.89it/s][I 2020-08-02 14:45:57,507] Trial 67 finished with value: 857.2064861590742 and parameters: {'min_child_samples': 100}. Best is trial 66 with value: 849.8793379137243.\n",
      "min_data_in_leaf, val_score: 843.654374: 100%|###########################################| 5/5 [00:00<00:00, 10.94it/s]\n"
     ]
    },
    {
     "name": "stdout",
     "output_type": "stream",
     "text": [
      "=====Params======\n",
      "  objective: regression\n",
      "  metric: rmse\n",
      "  random_seed: 0\n",
      "  lambda_l1: 0.0003345077164843167\n",
      "  lambda_l2: 0.01577389708323351\n",
      "  num_leaves: 16\n",
      "  feature_fraction: 0.7\n",
      "  bagging_fraction: 0.962905450103474\n",
      "  bagging_freq: 1\n",
      "  min_child_samples: 20\n",
      "=====Val score======\n",
      "  Val rmse score is 843.6543741652541.\n"
     ]
    }
   ],
   "source": [
    "# lightGBM用のデータセットを作成\n",
    "lgb_train = lgb_opt.Dataset(x_train[features], y_train, categorical_feature = categorical_features, free_raw_data=False)\n",
    "lgb_eval = lgb_opt.Dataset(x_valid[features], y_valid, categorical_feature = categorical_features, free_raw_data=False)\n",
    "\n",
    "# モデルの作成\n",
    "evals_result = {}\n",
    "best_params = {}\n",
    "model = lgb_opt.train(params = lgb_params,\n",
    "                      train_set = lgb_train,\n",
    "                      valid_sets = [lgb_train, lgb_eval],\n",
    "                      categorical_feature = categorical_features,\n",
    "                      verbose_eval = 10,\n",
    "                      num_boost_round = 1000,\n",
    "                      early_stopping_rounds = 10\n",
    ")\n",
    "\n",
    "# ベストパラメータの出力\n",
    "best_params = model.params\n",
    "print('=====Params======')\n",
    "for key, value in best_params.items():\n",
    "    print(\"  {}: {}\".format(key, value))\n",
    "\n",
    "# モデル精度の表示\n",
    "valid_pred = model.predict(x_valid[features])\n",
    "model_score = np.sqrt(metrics.mean_squared_error(valid_pred, y_valid))\n",
    "print('=====Val score======')\n",
    "print('  Val rmse score is {model_score}.'.format(model_score = model_score))\n",
    "\n",
    "# テストデータの予測\n",
    "y_pred = model.predict(test[features])"
   ]
  },
  {
   "cell_type": "code",
   "execution_count": 14,
   "metadata": {},
   "outputs": [
    {
     "data": {
      "image/png": "[encoded data removed]",
      "text/plain": [
       "<Figure size 864x432 with 1 Axes>"
      ]
     },
     "metadata": {},
     "output_type": "display_data"
    }
   ],
   "source": [
    "lgb.plot_importance(model, figsize=(12, 6))\n",
    "plt.show()"
   ]
  },
  {
   "cell_type": "markdown",
   "metadata": {},
   "source": [
    "### 出力"
   ]
  },
  {
   "cell_type": "code",
   "execution_count": 15,
   "metadata": {},
   "outputs": [],
   "source": [
    "# 提出用データの作成\n",
    "sub = test[['id', 'time_played']].copy()\n",
    "sub['time_played'] = y_pred\n",
    "\n",
    "# csvの出力\n",
    "now = datetime.datetime.now()\n",
    "sub_name = 'optuna実装'\n",
    "file_name = '../data/output/sub_' + sub_name + '_' + now.strftime('%Y%m%d_%H%M%S') + '.csv'\n",
    "sub.to_csv(file_name, index=False)"
   ]
  }
 ],
 "metadata": {
  "kernelspec": {
   "display_name": "Python 3",
   "language": "python",
   "name": "python3"
  },
  "language_info": {
   "codemirror_mode": {
    "name": "ipython",
    "version": 3
   },
   "file_extension": ".py",
   "mimetype": "text/x-python",
   "name": "python",
   "nbconvert_exporter": "python",
   "pygments_lexer": "ipython3",
   "version": "3.7.7"
  }
 },
 "nbformat": 4,
 "nbformat_minor": 4
}
