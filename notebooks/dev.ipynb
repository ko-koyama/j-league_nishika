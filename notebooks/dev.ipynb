{
 "cells": [
  {
   "cell_type": "code",
   "execution_count": 15,
   "metadata": {},
   "outputs": [],
   "source": [
    "import datetime\n",
    "\n",
    "import pandas as pd\n",
    "import pandas_profiling as pdp\n",
    "import numpy as np\n",
    "from matplotlib import pyplot as plt\n",
    "\n",
    "from sklearn.preprocessing import LabelEncoder\n",
    "from sklearn import metrics\n",
    "from sklearn.model_selection import train_test_split\n",
    "from sklearn.metrics import accuracy_score\n",
    "\n",
    "import lightgbm as lgb\n",
    "import optuna.integration.lightgbm as lgb_opt\n",
    "\n",
    "pd.set_option('display.max_columns', 100)\n",
    "pd.set_option('display.max_rows', 150)"
   ]
  },
  {
   "cell_type": "code",
   "execution_count": 16,
   "metadata": {},
   "outputs": [],
   "source": [
    "# データロード\n",
    "train_2018_df = pd.read_csv('../data/input/train_2018.csv')\n",
    "train_2017_df = pd.read_csv('../data/input/train_2017.csv')\n",
    "train_2016_df = pd.read_csv('../data/input/train_2016.csv')\n",
    "train_2018_df['year'] = 2018\n",
    "train_2017_df['year'] = 2017\n",
    "train_2016_df['year'] = 2016\n",
    "\n",
    "test_df = pd.read_csv('../data/input/test.csv')\n",
    "test_df['year'] = 2019"
   ]
  },
  {
   "cell_type": "code",
   "execution_count": 17,
   "metadata": {},
   "outputs": [],
   "source": [
    "# 教師データとテストデータのunion\n",
    "all_df = pd.concat([train_2016_df, train_2017_df, train_2018_df, test_df], axis = 0).reset_index(drop=True)"
   ]
  },
  {
   "cell_type": "markdown",
   "metadata": {},
   "source": [
    "### 特徴量エンジニアリング"
   ]
  },
  {
   "cell_type": "code",
   "execution_count": 18,
   "metadata": {},
   "outputs": [
    {
     "name": "stdout",
     "output_type": "stream",
     "text": [
      "<class 'pandas.core.frame.DataFrame'>\n",
      "RangeIndex: 1902 entries, 0 to 1901\n",
      "Data columns (total 37 columns):\n",
      " #   Column               Non-Null Count  Dtype  \n",
      "---  ------               --------------  -----  \n",
      " 0   id                   1902 non-null   int64  \n",
      " 1   team                 1902 non-null   object \n",
      " 2   No                   1902 non-null   float64\n",
      " 3   name                 1902 non-null   object \n",
      " 4   time_played          1414 non-null   float64\n",
      " 5   position             1902 non-null   object \n",
      " 6   birthdate            1902 non-null   object \n",
      " 7   height               1902 non-null   float64\n",
      " 8   weight               1902 non-null   float64\n",
      " 9   salary               1902 non-null   object \n",
      " 10  nth_year             1902 non-null   float64\n",
      " 11  is_youth             341 non-null    float64\n",
      " 12  nationality          276 non-null    object \n",
      " 13  j1_total_num_played  1640 non-null   float64\n",
      " 14  j1_total_scores      1554 non-null   float64\n",
      " 15  j2_total_num_played  1134 non-null   float64\n",
      " 16  j2_total_scores      1070 non-null   float64\n",
      " 17  j3_total_num_played  343 non-null    float64\n",
      " 18  j3_total_scores      289 non-null    float64\n",
      " 19  na_total_num_played  429 non-null    float64\n",
      " 20  na_total_scores      367 non-null    float64\n",
      " 21  prev3_team           1902 non-null   object \n",
      " 22  prev2_team           1902 non-null   object \n",
      " 23  prev1_team           1902 non-null   object \n",
      " 24  prev3_div            1902 non-null   object \n",
      " 25  prev2_div            1902 non-null   object \n",
      " 26  prev1_div            1902 non-null   object \n",
      " 27  prev3_num_played     1902 non-null   object \n",
      " 28  prev2_num_played     1902 non-null   object \n",
      " 29  prev1_num_played     1902 non-null   object \n",
      " 30  prev3_scores         1902 non-null   object \n",
      " 31  prev2_scores         1902 non-null   object \n",
      " 32  prev1_scores         1902 non-null   object \n",
      " 33  prev3_time_played    1902 non-null   object \n",
      " 34  prev2_time_played    1902 non-null   object \n",
      " 35  prev1_time_played    1902 non-null   object \n",
      " 36  year                 1902 non-null   int64  \n",
      "dtypes: float64(14), int64(2), object(21)\n",
      "memory usage: 549.9+ KB\n"
     ]
    }
   ],
   "source": [
    "# データ概要\n",
    "all_df.info()"
   ]
  },
  {
   "cell_type": "code",
   "execution_count": 19,
   "metadata": {},
   "outputs": [],
   "source": [
    "# is_youthのboolean変換\n",
    "all_df['is_youth'] = all_df['is_youth'].notnull()"
   ]
  },
  {
   "cell_type": "code",
   "execution_count": 20,
   "metadata": {},
   "outputs": [],
   "source": [
    "# nationalityのNaN→Japan補完\n",
    "all_df['nationality'] = all_df['nationality'].fillna('japan')"
   ]
  },
  {
   "cell_type": "code",
   "execution_count": 21,
   "metadata": {},
   "outputs": [],
   "source": [
    "# team, name, position, nationalityのLabelEncoding\n",
    "le = LabelEncoder()\n",
    "\n",
    "for col in ['team', 'name', 'position', 'nationality']:\n",
    "    le = le.fit(all_df[col])\n",
    "    all_df[col] = le.transform(all_df[col])"
   ]
  },
  {
   "cell_type": "code",
   "execution_count": 22,
   "metadata": {},
   "outputs": [],
   "source": [
    "# birthdateの年抽出\n",
    "all_df['birthdate'] = pd.to_datetime(all_df['birthdate'])\n",
    "all_df['birthdate_year'] = all_df['birthdate'].dt.year"
   ]
  },
  {
   "cell_type": "code",
   "execution_count": 23,
   "metadata": {},
   "outputs": [],
   "source": [
    "# salaryのNaN→中央値補完\n",
    "med_salary = all_df[all_df['salary'] != '-']['salary'].median()\n",
    "all_df['salary'] = all_df['salary'].mask(all_df['salary'] == '-', med_salary)\n",
    "all_df['salary'] = all_df['salary'].astype(float)"
   ]
  },
  {
   "cell_type": "markdown",
   "metadata": {},
   "source": [
    "### 学習"
   ]
  },
  {
   "cell_type": "code",
   "execution_count": 24,
   "metadata": {},
   "outputs": [],
   "source": [
    "# 教師, 検証データ\n",
    "x_train_valid_df = all_df[all_df['year'] < 2019]\n",
    "y_train_valid_df = x_train_valid_df['time_played']\n",
    "\n",
    "# バリデーション\n",
    "x_train, x_valid, y_train, y_valid = train_test_split(x_train_valid_df, y_train_valid_df, test_size=0.33, random_state=0, stratify = x_train_valid_df['year'])\n",
    "\n",
    "# テストデータ\n",
    "test = all_df[all_df['year'] == 2019]"
   ]
  },
  {
   "cell_type": "code",
   "execution_count": 25,
   "metadata": {},
   "outputs": [],
   "source": [
    "# 入力する特徴量\n",
    "features = [\n",
    "    'team',\n",
    "    'position',\n",
    "    'height',\n",
    "    'weight',\n",
    "    'salary',\n",
    "    'nth_year',\n",
    "    'is_youth',\n",
    "    'nationality',\n",
    "    'birthdate_year',\n",
    "    'year',\n",
    "    'j1_total_num_played',\n",
    "    'j1_total_scores',\n",
    "    'j2_total_num_played',\n",
    "    'j2_total_scores',\n",
    "    'j3_total_num_played',\n",
    "    'j3_total_scores',\n",
    "    'na_total_num_played',\n",
    "    'na_total_scores'\n",
    "]"
   ]
  },
  {
   "cell_type": "code",
   "execution_count": 26,
   "metadata": {},
   "outputs": [],
   "source": [
    "# カテゴリ変数\n",
    "categorical_features = ['team', 'position', 'is_youth', 'nationality']"
   ]
  },
  {
   "cell_type": "code",
   "execution_count": 27,
   "metadata": {},
   "outputs": [],
   "source": [
    "# lightgbmパラメータ\n",
    "lgb_params = {\n",
    "    'objective': 'regression',\n",
    "    'metric': 'rmse',\n",
    "    'random_seed' : 0\n",
    "}"
   ]
  },
  {
   "cell_type": "code",
   "execution_count": 28,
   "metadata": {},
   "outputs": [
    {
     "name": "stderr",
     "output_type": "stream",
     "text": [
      "feature_fraction, val_score: inf:   0%|                                                          | 0/7 [00:00<?, ?it/s]"
     ]
    },
    {
     "name": "stdout",
     "output_type": "stream",
     "text": [
      "Training until validation scores don't improve for 10 rounds\n",
      "[10]\ttraining's rmse: 767.929\tvalid_1's rmse: 884.248\n",
      "[20]\ttraining's rmse: 647.201\tvalid_1's rmse: 845.886\n",
      "[30]\ttraining's rmse: 566.252\tvalid_1's rmse: 830.388\n",
      "[40]\ttraining's rmse: 505.661\tvalid_1's rmse: 828.226\n",
      "[50]\ttraining's rmse: 453.91\tvalid_1's rmse: 829.462\n",
      "Early stopping, best iteration is:\n",
      "[42]\ttraining's rmse: 494.25\tvalid_1's rmse: 828.071\n"
     ]
    },
    {
     "name": "stderr",
     "output_type": "stream",
     "text": [
      "feature_fraction, val_score: 828.070948:  14%|######1                                    | 1/7 [00:00<00:00,  8.14it/s][I 2020-08-03 00:44:28,922] Trial 0 finished with value: 828.0709475933442 and parameters: {'feature_fraction': 0.8999999999999999}. Best is trial 0 with value: 828.0709475933442.\n",
      "feature_fraction, val_score: 828.070948:  14%|######1                                    | 1/7 [00:00<00:00,  8.14it/s]"
     ]
    },
    {
     "name": "stdout",
     "output_type": "stream",
     "text": [
      "Training until validation scores don't improve for 10 rounds\n",
      "[10]\ttraining's rmse: 766.617\tvalid_1's rmse: 883.301\n",
      "[20]\ttraining's rmse: 646.495\tvalid_1's rmse: 850.36\n",
      "[30]\ttraining's rmse: 562.178\tvalid_1's rmse: 842.091\n",
      "[40]\ttraining's rmse: 500.577\tvalid_1's rmse: 845.42\n",
      "Early stopping, best iteration is:\n",
      "[30]\ttraining's rmse: 562.178\tvalid_1's rmse: 842.091\n"
     ]
    },
    {
     "name": "stderr",
     "output_type": "stream",
     "text": [
      "feature_fraction, val_score: 828.070948:  14%|######1                                    | 1/7 [00:00<00:00,  8.14it/s][I 2020-08-03 00:44:29,006] Trial 1 finished with value: 842.0905362023975 and parameters: {'feature_fraction': 1.0}. Best is trial 0 with value: 828.0709475933442.\n",
      "feature_fraction, val_score: 828.070948:  29%|############2                              | 2/7 [00:00<00:00,  8.14it/s]"
     ]
    },
    {
     "name": "stdout",
     "output_type": "stream",
     "text": [
      "Training until validation scores don't improve for 10 rounds\n",
      "[10]\ttraining's rmse: 819.331\tvalid_1's rmse: 907.831\n",
      "[20]\ttraining's rmse: 709.013\tvalid_1's rmse: 860.984\n",
      "[30]\ttraining's rmse: 639.147\tvalid_1's rmse: 845.061\n",
      "[40]\ttraining's rmse: 584.427\tvalid_1's rmse: 840.064\n",
      "[50]\ttraining's rmse: 537.792\tvalid_1's rmse: 837.62\n",
      "[60]\ttraining's rmse: 498.912\tvalid_1's rmse: 836.472\n",
      "Early stopping, best iteration is:\n",
      "[59]\ttraining's rmse: 502.526\tvalid_1's rmse: 836.339\n"
     ]
    },
    {
     "name": "stderr",
     "output_type": "stream",
     "text": [
      "feature_fraction, val_score: 828.070948:  43%|##################4                        | 3/7 [00:00<00:00,  8.49it/s][I 2020-08-03 00:44:29,134] Trial 2 finished with value: 836.3394031613946 and parameters: {'feature_fraction': 0.4}. Best is trial 0 with value: 828.0709475933442.\n",
      "feature_fraction, val_score: 828.070948:  43%|##################4                        | 3/7 [00:00<00:00,  8.49it/s]"
     ]
    },
    {
     "name": "stdout",
     "output_type": "stream",
     "text": [
      "Training until validation scores don't improve for 10 rounds\n",
      "[10]\ttraining's rmse: 784.267\tvalid_1's rmse: 884.727\n",
      "[20]\ttraining's rmse: 676.337\tvalid_1's rmse: 847.955\n",
      "[30]\ttraining's rmse: 597.144\tvalid_1's rmse: 833.218\n",
      "[40]\ttraining's rmse: 537.585\tvalid_1's rmse: 827.654\n",
      "Early stopping, best iteration is:\n",
      "[37]\ttraining's rmse: 554.564\tvalid_1's rmse: 825.892\n"
     ]
    },
    {
     "name": "stderr",
     "output_type": "stream",
     "text": [
      "feature_fraction, val_score: 825.892096:  43%|##################4                        | 3/7 [00:00<00:00,  8.49it/s][I 2020-08-03 00:44:29,228] Trial 3 finished with value: 825.8920958306451 and parameters: {'feature_fraction': 0.6}. Best is trial 3 with value: 825.8920958306451.\n",
      "feature_fraction, val_score: 825.892096:  57%|########################5                  | 4/7 [00:00<00:00,  8.49it/s]"
     ]
    },
    {
     "name": "stdout",
     "output_type": "stream",
     "text": [
      "Training until validation scores don't improve for 10 rounds\n",
      "[10]\ttraining's rmse: 793.763\tvalid_1's rmse: 889.893\n",
      "[20]\ttraining's rmse: 687.618\tvalid_1's rmse: 850.467\n",
      "[30]\ttraining's rmse: 613.258\tvalid_1's rmse: 839.82\n",
      "[40]\ttraining's rmse: 556.432\tvalid_1's rmse: 839.094\n",
      "Early stopping, best iteration is:\n",
      "[31]\ttraining's rmse: 607.02\tvalid_1's rmse: 836.672\n"
     ]
    },
    {
     "name": "stderr",
     "output_type": "stream",
     "text": [
      "feature_fraction, val_score: 825.892096:  71%|##############################7            | 5/7 [00:00<00:00,  9.16it/s][I 2020-08-03 00:44:29,311] Trial 4 finished with value: 836.6722239561041 and parameters: {'feature_fraction': 0.5}. Best is trial 3 with value: 825.8920958306451.\n",
      "feature_fraction, val_score: 825.892096:  71%|##############################7            | 5/7 [00:00<00:00,  9.16it/s]"
     ]
    },
    {
     "name": "stdout",
     "output_type": "stream",
     "text": [
      "Training until validation scores don't improve for 10 rounds\n",
      "[10]\ttraining's rmse: 771.254\tvalid_1's rmse: 884.835\n",
      "[20]\ttraining's rmse: 650.977\tvalid_1's rmse: 849.018\n",
      "[30]\ttraining's rmse: 571.61\tvalid_1's rmse: 840.915\n",
      "[40]\ttraining's rmse: 512.623\tvalid_1's rmse: 838.834\n",
      "Early stopping, best iteration is:\n",
      "[39]\ttraining's rmse: 518.378\tvalid_1's rmse: 838.202\n"
     ]
    },
    {
     "name": "stderr",
     "output_type": "stream",
     "text": [
      "feature_fraction, val_score: 825.892096:  86%|####################################8      | 6/7 [00:00<00:00,  9.29it/s][I 2020-08-03 00:44:29,416] Trial 5 finished with value: 838.2024602493684 and parameters: {'feature_fraction': 0.8}. Best is trial 3 with value: 825.8920958306451.\n",
      "feature_fraction, val_score: 825.892096:  86%|####################################8      | 6/7 [00:00<00:00,  9.29it/s]"
     ]
    },
    {
     "name": "stdout",
     "output_type": "stream",
     "text": [
      "Training until validation scores don't improve for 10 rounds\n",
      "[10]\ttraining's rmse: 777.46\tvalid_1's rmse: 883.487\n",
      "[20]\ttraining's rmse: 661.777\tvalid_1's rmse: 851.705\n",
      "[30]\ttraining's rmse: 580.906\tvalid_1's rmse: 840.095\n",
      "[40]\ttraining's rmse: 521.385\tvalid_1's rmse: 831.278\n",
      "[50]\ttraining's rmse: 474.821\tvalid_1's rmse: 831.134\n",
      "Early stopping, best iteration is:\n",
      "[44]\ttraining's rmse: 500.761\tvalid_1's rmse: 829.526\n"
     ]
    },
    {
     "name": "stderr",
     "output_type": "stream",
     "text": [
      "feature_fraction, val_score: 825.892096: 100%|###########################################| 7/7 [00:00<00:00,  9.18it/s][I 2020-08-03 00:44:29,527] Trial 6 finished with value: 829.5263979440653 and parameters: {'feature_fraction': 0.7}. Best is trial 3 with value: 825.8920958306451.\n",
      "feature_fraction, val_score: 825.892096: 100%|###########################################| 7/7 [00:00<00:00,  9.56it/s]\n",
      "num_leaves, val_score: 825.892096:   0%|                                                        | 0/20 [00:00<?, ?it/s]"
     ]
    },
    {
     "name": "stdout",
     "output_type": "stream",
     "text": [
      "Training until validation scores don't improve for 10 rounds\n",
      "[10]\ttraining's rmse: 780.868\tvalid_1's rmse: 882.544\n",
      "[20]\ttraining's rmse: 669.67\tvalid_1's rmse: 847.662\n",
      "[30]\ttraining's rmse: 589.817\tvalid_1's rmse: 839.277\n",
      "[40]\ttraining's rmse: 526.44\tvalid_1's rmse: 835.953\n",
      "[50]\ttraining's rmse: 473.333\tvalid_1's rmse: 834.5\n",
      "[60]\ttraining's rmse: 431.268\tvalid_1's rmse: 829.892\n",
      "Early stopping, best iteration is:\n",
      "[59]\ttraining's rmse: 434.666\tvalid_1's rmse: 829.838\n"
     ]
    },
    {
     "name": "stderr",
     "output_type": "stream",
     "text": [
      "num_leaves, val_score: 825.892096:   5%|##4                                             | 1/20 [00:00<00:03,  5.89it/s][I 2020-08-03 00:44:29,706] Trial 7 finished with value: 829.838028813898 and parameters: {'num_leaves': 227}. Best is trial 7 with value: 829.838028813898.\n",
      "num_leaves, val_score: 825.892096:   5%|##4                                             | 1/20 [00:00<00:03,  5.89it/s]"
     ]
    },
    {
     "name": "stdout",
     "output_type": "stream",
     "text": [
      "Training until validation scores don't improve for 10 rounds\n",
      "[10]\ttraining's rmse: 780.868\tvalid_1's rmse: 882.544\n",
      "[20]\ttraining's rmse: 669.67\tvalid_1's rmse: 847.662\n",
      "[30]\ttraining's rmse: 589.817\tvalid_1's rmse: 839.277\n",
      "[40]\ttraining's rmse: 526.44\tvalid_1's rmse: 835.953\n",
      "[50]\ttraining's rmse: 473.333\tvalid_1's rmse: 834.5\n",
      "[60]\ttraining's rmse: 431.268\tvalid_1's rmse: 829.892\n",
      "Early stopping, best iteration is:\n",
      "[59]\ttraining's rmse: 434.666\tvalid_1's rmse: 829.838\n"
     ]
    },
    {
     "name": "stderr",
     "output_type": "stream",
     "text": [
      "num_leaves, val_score: 825.892096:  10%|####8                                           | 2/20 [00:00<00:03,  5.67it/s][I 2020-08-03 00:44:29,898] Trial 8 finished with value: 829.838028813898 and parameters: {'num_leaves': 120}. Best is trial 7 with value: 829.838028813898.\n",
      "num_leaves, val_score: 825.892096:  10%|####8                                           | 2/20 [00:00<00:03,  5.67it/s]"
     ]
    },
    {
     "name": "stdout",
     "output_type": "stream",
     "text": [
      "Training until validation scores don't improve for 10 rounds\n",
      "[10]\ttraining's rmse: 840.526\tvalid_1's rmse: 900.221\n",
      "[20]\ttraining's rmse: 768.502\tvalid_1's rmse: 863.343\n",
      "[30]\ttraining's rmse: 718.273\tvalid_1's rmse: 851.805\n",
      "[40]\ttraining's rmse: 676.092\tvalid_1's rmse: 844.869\n",
      "[50]\ttraining's rmse: 644.623\tvalid_1's rmse: 842.254\n",
      "[60]\ttraining's rmse: 617.492\tvalid_1's rmse: 838.159\n",
      "[70]\ttraining's rmse: 592.957\tvalid_1's rmse: 840.803\n",
      "Early stopping, best iteration is:\n",
      "[60]\ttraining's rmse: 617.492\tvalid_1's rmse: 838.159\n"
     ]
    },
    {
     "name": "stderr",
     "output_type": "stream",
     "text": [
      "num_leaves, val_score: 825.892096:  15%|#######2                                        | 3/20 [00:00<00:02,  6.32it/s][I 2020-08-03 00:44:30,015] Trial 9 finished with value: 838.1594512387117 and parameters: {'num_leaves': 13}. Best is trial 7 with value: 829.838028813898.\n",
      "num_leaves, val_score: 825.892096:  15%|#######2                                        | 3/20 [00:00<00:02,  6.32it/s]"
     ]
    },
    {
     "name": "stdout",
     "output_type": "stream",
     "text": [
      "Training until validation scores don't improve for 10 rounds\n",
      "[10]\ttraining's rmse: 897.476\tvalid_1's rmse: 917.425\n",
      "[20]\ttraining's rmse: 850.376\tvalid_1's rmse: 884.34\n",
      "[30]\ttraining's rmse: 822.604\tvalid_1's rmse: 874.669\n",
      "[40]\ttraining's rmse: 799.254\tvalid_1's rmse: 863.708\n",
      "[50]\ttraining's rmse: 780.311\tvalid_1's rmse: 857.805\n",
      "[60]\ttraining's rmse: 762.537\tvalid_1's rmse: 851.792\n",
      "[70]\ttraining's rmse: 748.455\tvalid_1's rmse: 847.508\n",
      "[80]\ttraining's rmse: 735.68\tvalid_1's rmse: 844.529\n",
      "[90]\ttraining's rmse: 725.322\tvalid_1's rmse: 843.861\n",
      "Early stopping, best iteration is:\n",
      "[85]\ttraining's rmse: 730.079\tvalid_1's rmse: 842.282\n"
     ]
    },
    {
     "name": "stderr",
     "output_type": "stream",
     "text": [
      "num_leaves, val_score: 825.892096:  20%|#########6                                      | 4/20 [00:00<00:02,  7.01it/s][I 2020-08-03 00:44:30,120] Trial 10 finished with value: 842.2815945129144 and parameters: {'num_leaves': 5}. Best is trial 7 with value: 829.838028813898.\n",
      "num_leaves, val_score: 825.892096:  20%|#########6                                      | 4/20 [00:00<00:02,  7.01it/s]"
     ]
    },
    {
     "name": "stdout",
     "output_type": "stream",
     "text": [
      "Training until validation scores don't improve for 10 rounds\n",
      "[10]\ttraining's rmse: 780.868\tvalid_1's rmse: 882.544\n",
      "[20]\ttraining's rmse: 669.67\tvalid_1's rmse: 847.662\n",
      "[30]\ttraining's rmse: 589.817\tvalid_1's rmse: 839.277\n",
      "[40]\ttraining's rmse: 526.44\tvalid_1's rmse: 835.953\n",
      "[50]\ttraining's rmse: 473.333\tvalid_1's rmse: 834.5\n",
      "[60]\ttraining's rmse: 431.268\tvalid_1's rmse: 829.892\n",
      "Early stopping, best iteration is:\n",
      "[59]\ttraining's rmse: 434.666\tvalid_1's rmse: 829.838\n"
     ]
    },
    {
     "name": "stderr",
     "output_type": "stream",
     "text": [
      "num_leaves, val_score: 825.892096:  25%|############                                    | 5/20 [00:00<00:02,  6.03it/s][I 2020-08-03 00:44:30,341] Trial 11 finished with value: 829.838028813898 and parameters: {'num_leaves': 247}. Best is trial 7 with value: 829.838028813898.\n",
      "num_leaves, val_score: 825.892096:  25%|############                                    | 5/20 [00:00<00:02,  6.03it/s]"
     ]
    },
    {
     "name": "stdout",
     "output_type": "stream",
     "text": [
      "Training until validation scores don't improve for 10 rounds\n",
      "[10]\ttraining's rmse: 780.868\tvalid_1's rmse: 882.544\n",
      "[20]\ttraining's rmse: 669.67\tvalid_1's rmse: 847.662\n",
      "[30]\ttraining's rmse: 589.817\tvalid_1's rmse: 839.277\n",
      "[40]\ttraining's rmse: 526.44\tvalid_1's rmse: 835.953\n",
      "[50]\ttraining's rmse: 473.333\tvalid_1's rmse: 834.5\n",
      "[60]\ttraining's rmse: 431.268\tvalid_1's rmse: 829.892\n",
      "Early stopping, best iteration is:\n",
      "[59]\ttraining's rmse: 434.666\tvalid_1's rmse: 829.838\n"
     ]
    },
    {
     "name": "stderr",
     "output_type": "stream",
     "text": [
      "num_leaves, val_score: 825.892096:  30%|##############4                                 | 6/20 [00:01<00:02,  5.46it/s][I 2020-08-03 00:44:30,564] Trial 12 finished with value: 829.838028813898 and parameters: {'num_leaves': 118}. Best is trial 7 with value: 829.838028813898.\n",
      "num_leaves, val_score: 825.892096:  30%|##############4                                 | 6/20 [00:01<00:02,  5.46it/s]"
     ]
    },
    {
     "name": "stdout",
     "output_type": "stream",
     "text": [
      "Training until validation scores don't improve for 10 rounds\n",
      "[10]\ttraining's rmse: 780.868\tvalid_1's rmse: 882.544\n",
      "[20]\ttraining's rmse: 669.67\tvalid_1's rmse: 847.662\n",
      "[30]\ttraining's rmse: 589.817\tvalid_1's rmse: 839.277\n",
      "[40]\ttraining's rmse: 526.44\tvalid_1's rmse: 835.953\n",
      "[50]\ttraining's rmse: 473.333\tvalid_1's rmse: 834.5\n",
      "[60]\ttraining's rmse: 431.268\tvalid_1's rmse: 829.892\n",
      "Early stopping, best iteration is:\n",
      "[59]\ttraining's rmse: 434.666\tvalid_1's rmse: 829.838\n"
     ]
    },
    {
     "name": "stderr",
     "output_type": "stream",
     "text": [
      "num_leaves, val_score: 825.892096:  35%|################7                               | 7/20 [00:01<00:02,  5.35it/s][I 2020-08-03 00:44:30,761] Trial 13 finished with value: 829.838028813898 and parameters: {'num_leaves': 177}. Best is trial 7 with value: 829.838028813898.\n",
      "num_leaves, val_score: 825.892096:  35%|################7                               | 7/20 [00:01<00:02,  5.35it/s]"
     ]
    },
    {
     "name": "stdout",
     "output_type": "stream",
     "text": [
      "Training until validation scores don't improve for 10 rounds\n",
      "[10]\ttraining's rmse: 780.868\tvalid_1's rmse: 882.544\n",
      "[20]\ttraining's rmse: 669.67\tvalid_1's rmse: 847.662\n",
      "[30]\ttraining's rmse: 589.817\tvalid_1's rmse: 839.277\n",
      "[40]\ttraining's rmse: 526.44\tvalid_1's rmse: 835.953\n",
      "[50]\ttraining's rmse: 473.333\tvalid_1's rmse: 834.5\n",
      "[60]\ttraining's rmse: 431.268\tvalid_1's rmse: 829.892\n",
      "Early stopping, best iteration is:\n",
      "[59]\ttraining's rmse: 434.666\tvalid_1's rmse: 829.838\n"
     ]
    },
    {
     "name": "stderr",
     "output_type": "stream",
     "text": [
      "num_leaves, val_score: 825.892096:  40%|###################2                            | 8/20 [00:01<00:02,  5.39it/s][I 2020-08-03 00:44:30,941] Trial 14 finished with value: 829.838028813898 and parameters: {'num_leaves': 63}. Best is trial 7 with value: 829.838028813898.\n",
      "num_leaves, val_score: 825.892096:  40%|###################2                            | 8/20 [00:01<00:02,  5.39it/s]"
     ]
    },
    {
     "name": "stdout",
     "output_type": "stream",
     "text": [
      "Training until validation scores don't improve for 10 rounds\n",
      "[10]\ttraining's rmse: 780.868\tvalid_1's rmse: 882.544\n",
      "[20]\ttraining's rmse: 669.67\tvalid_1's rmse: 847.662\n",
      "[30]\ttraining's rmse: 589.817\tvalid_1's rmse: 839.277\n",
      "[40]\ttraining's rmse: 526.44\tvalid_1's rmse: 835.953\n",
      "[50]\ttraining's rmse: 473.333\tvalid_1's rmse: 834.5\n",
      "[60]\ttraining's rmse: 431.268\tvalid_1's rmse: 829.892\n",
      "Early stopping, best iteration is:\n",
      "[59]\ttraining's rmse: 434.666\tvalid_1's rmse: 829.838\n"
     ]
    },
    {
     "name": "stderr",
     "output_type": "stream",
     "text": [
      "num_leaves, val_score: 825.892096:  45%|#####################6                          | 9/20 [00:01<00:02,  5.39it/s][I 2020-08-03 00:44:31,127] Trial 15 finished with value: 829.838028813898 and parameters: {'num_leaves': 185}. Best is trial 7 with value: 829.838028813898.\n",
      "num_leaves, val_score: 825.892096:  45%|#####################6                          | 9/20 [00:01<00:02,  5.39it/s]"
     ]
    },
    {
     "name": "stdout",
     "output_type": "stream",
     "text": [
      "Training until validation scores don't improve for 10 rounds\n",
      "[10]\ttraining's rmse: 780.868\tvalid_1's rmse: 882.544\n",
      "[20]\ttraining's rmse: 669.67\tvalid_1's rmse: 847.662\n",
      "[30]\ttraining's rmse: 589.817\tvalid_1's rmse: 839.277\n",
      "[40]\ttraining's rmse: 526.44\tvalid_1's rmse: 835.953\n",
      "[50]\ttraining's rmse: 473.333\tvalid_1's rmse: 834.5\n",
      "[60]\ttraining's rmse: 431.268\tvalid_1's rmse: 829.892\n",
      "Early stopping, best iteration is:\n",
      "[59]\ttraining's rmse: 434.666\tvalid_1's rmse: 829.838\n"
     ]
    },
    {
     "name": "stderr",
     "output_type": "stream",
     "text": [
      "num_leaves, val_score: 825.892096:  50%|#######################5                       | 10/20 [00:01<00:01,  5.46it/s][I 2020-08-03 00:44:31,307] Trial 16 finished with value: 829.838028813898 and parameters: {'num_leaves': 59}. Best is trial 7 with value: 829.838028813898.\n",
      "num_leaves, val_score: 825.892096:  50%|#######################5                       | 10/20 [00:01<00:01,  5.46it/s]"
     ]
    },
    {
     "name": "stdout",
     "output_type": "stream",
     "text": [
      "Training until validation scores don't improve for 10 rounds\n",
      "[10]\ttraining's rmse: 780.868\tvalid_1's rmse: 882.544\n",
      "[20]\ttraining's rmse: 669.67\tvalid_1's rmse: 847.662\n",
      "[30]\ttraining's rmse: 589.817\tvalid_1's rmse: 839.277\n",
      "[40]\ttraining's rmse: 526.44\tvalid_1's rmse: 835.953\n",
      "[50]\ttraining's rmse: 473.333\tvalid_1's rmse: 834.5\n",
      "[60]\ttraining's rmse: 431.268\tvalid_1's rmse: 829.892\n",
      "Early stopping, best iteration is:\n",
      "[59]\ttraining's rmse: 434.666\tvalid_1's rmse: 829.838\n"
     ]
    },
    {
     "name": "stderr",
     "output_type": "stream",
     "text": [
      "num_leaves, val_score: 825.892096:  55%|#########################8                     | 11/20 [00:01<00:01,  5.43it/s][I 2020-08-03 00:44:31,492] Trial 17 finished with value: 829.838028813898 and parameters: {'num_leaves': 68}. Best is trial 7 with value: 829.838028813898.\n",
      "num_leaves, val_score: 825.892096:  55%|#########################8                     | 11/20 [00:01<00:01,  5.43it/s]"
     ]
    },
    {
     "name": "stdout",
     "output_type": "stream",
     "text": [
      "Training until validation scores don't improve for 10 rounds\n",
      "[10]\ttraining's rmse: 780.868\tvalid_1's rmse: 882.544\n",
      "[20]\ttraining's rmse: 669.67\tvalid_1's rmse: 847.662\n",
      "[30]\ttraining's rmse: 589.817\tvalid_1's rmse: 839.277\n",
      "[40]\ttraining's rmse: 526.44\tvalid_1's rmse: 835.953\n",
      "[50]\ttraining's rmse: 473.333\tvalid_1's rmse: 834.5\n",
      "[60]\ttraining's rmse: 431.268\tvalid_1's rmse: 829.892\n",
      "Early stopping, best iteration is:\n",
      "[59]\ttraining's rmse: 434.666\tvalid_1's rmse: 829.838\n"
     ]
    },
    {
     "name": "stderr",
     "output_type": "stream",
     "text": [
      "num_leaves, val_score: 825.892096:  60%|############################2                  | 12/20 [00:02<00:01,  5.38it/s][I 2020-08-03 00:44:31,681] Trial 18 finished with value: 829.838028813898 and parameters: {'num_leaves': 191}. Best is trial 7 with value: 829.838028813898.\n",
      "num_leaves, val_score: 825.892096:  60%|############################2                  | 12/20 [00:02<00:01,  5.38it/s]"
     ]
    },
    {
     "name": "stdout",
     "output_type": "stream",
     "text": [
      "Training until validation scores don't improve for 10 rounds\n",
      "[10]\ttraining's rmse: 780.868\tvalid_1's rmse: 882.544\n",
      "[20]\ttraining's rmse: 669.67\tvalid_1's rmse: 847.662\n",
      "[30]\ttraining's rmse: 589.817\tvalid_1's rmse: 839.277\n",
      "[40]\ttraining's rmse: 526.44\tvalid_1's rmse: 835.953\n",
      "[50]\ttraining's rmse: 473.333\tvalid_1's rmse: 834.5\n",
      "[60]\ttraining's rmse: 431.268\tvalid_1's rmse: 829.892\n",
      "Early stopping, best iteration is:\n",
      "[59]\ttraining's rmse: 434.666\tvalid_1's rmse: 829.838\n"
     ]
    },
    {
     "name": "stderr",
     "output_type": "stream",
     "text": [
      "num_leaves, val_score: 825.892096:  65%|##############################5                | 13/20 [00:02<00:01,  5.51it/s][I 2020-08-03 00:44:31,853] Trial 19 finished with value: 829.838028813898 and parameters: {'num_leaves': 147}. Best is trial 7 with value: 829.838028813898.\n",
      "num_leaves, val_score: 825.892096:  65%|##############################5                | 13/20 [00:02<00:01,  5.51it/s]"
     ]
    },
    {
     "name": "stdout",
     "output_type": "stream",
     "text": [
      "Training until validation scores don't improve for 10 rounds\n",
      "[10]\ttraining's rmse: 780.868\tvalid_1's rmse: 882.544\n",
      "[20]\ttraining's rmse: 669.67\tvalid_1's rmse: 847.662\n",
      "[30]\ttraining's rmse: 589.817\tvalid_1's rmse: 839.277\n",
      "[40]\ttraining's rmse: 526.44\tvalid_1's rmse: 835.953\n",
      "[50]\ttraining's rmse: 473.333\tvalid_1's rmse: 834.5\n",
      "[60]\ttraining's rmse: 431.268\tvalid_1's rmse: 829.892\n",
      "Early stopping, best iteration is:\n",
      "[59]\ttraining's rmse: 434.666\tvalid_1's rmse: 829.838\n"
     ]
    },
    {
     "name": "stderr",
     "output_type": "stream",
     "text": [
      "num_leaves, val_score: 825.892096:  70%|################################9              | 14/20 [00:02<00:01,  5.36it/s][I 2020-08-03 00:44:32,051] Trial 20 finished with value: 829.838028813898 and parameters: {'num_leaves': 256}. Best is trial 7 with value: 829.838028813898.\n",
      "num_leaves, val_score: 825.892096:  70%|################################9              | 14/20 [00:02<00:01,  5.36it/s]"
     ]
    },
    {
     "name": "stdout",
     "output_type": "stream",
     "text": [
      "Training until validation scores don't improve for 10 rounds\n",
      "[10]\ttraining's rmse: 781.981\tvalid_1's rmse: 884.829\n",
      "[20]\ttraining's rmse: 674.876\tvalid_1's rmse: 844.779\n",
      "[30]\ttraining's rmse: 598.439\tvalid_1's rmse: 828.473\n",
      "[40]\ttraining's rmse: 535.977\tvalid_1's rmse: 824.651\n",
      "[50]\ttraining's rmse: 486.555\tvalid_1's rmse: 826.975\n",
      "Early stopping, best iteration is:\n",
      "[45]\ttraining's rmse: 510.112\tvalid_1's rmse: 823.302\n"
     ]
    },
    {
     "name": "stderr",
     "output_type": "stream",
     "text": [
      "num_leaves, val_score: 823.301886:  75%|###################################2           | 15/20 [00:02<00:00,  6.04it/s][I 2020-08-03 00:44:32,168] Trial 21 finished with value: 823.3018860353396 and parameters: {'num_leaves': 33}. Best is trial 21 with value: 823.3018860353396.\n",
      "num_leaves, val_score: 823.301886:  75%|###################################2           | 15/20 [00:02<00:00,  6.04it/s]"
     ]
    },
    {
     "name": "stdout",
     "output_type": "stream",
     "text": [
      "Training until validation scores don't improve for 10 rounds\n",
      "[10]\ttraining's rmse: 780.868\tvalid_1's rmse: 882.544\n",
      "[20]\ttraining's rmse: 669.67\tvalid_1's rmse: 847.662\n",
      "[30]\ttraining's rmse: 589.817\tvalid_1's rmse: 839.277\n",
      "[40]\ttraining's rmse: 526.44\tvalid_1's rmse: 835.953\n",
      "[50]\ttraining's rmse: 473.333\tvalid_1's rmse: 834.5\n",
      "[60]\ttraining's rmse: 431.268\tvalid_1's rmse: 829.892\n",
      "Early stopping, best iteration is:\n",
      "[59]\ttraining's rmse: 434.666\tvalid_1's rmse: 829.838\n"
     ]
    },
    {
     "name": "stderr",
     "output_type": "stream",
     "text": [
      "num_leaves, val_score: 823.301886:  80%|#####################################6         | 16/20 [00:02<00:00,  5.86it/s][I 2020-08-03 00:44:32,352] Trial 22 finished with value: 829.838028813898 and parameters: {'num_leaves': 39}. Best is trial 21 with value: 823.3018860353396.\n",
      "num_leaves, val_score: 823.301886:  80%|#####################################6         | 16/20 [00:02<00:00,  5.86it/s]"
     ]
    },
    {
     "name": "stdout",
     "output_type": "stream",
     "text": [
      "Training until validation scores don't improve for 10 rounds\n",
      "[10]\ttraining's rmse: 780.868\tvalid_1's rmse: 882.544\n",
      "[20]\ttraining's rmse: 669.67\tvalid_1's rmse: 847.662\n",
      "[30]\ttraining's rmse: 589.817\tvalid_1's rmse: 839.277\n",
      "[40]\ttraining's rmse: 526.44\tvalid_1's rmse: 835.953\n",
      "[50]\ttraining's rmse: 473.333\tvalid_1's rmse: 834.5\n",
      "[60]\ttraining's rmse: 431.268\tvalid_1's rmse: 829.892\n",
      "Early stopping, best iteration is:\n",
      "[59]\ttraining's rmse: 434.666\tvalid_1's rmse: 829.838\n"
     ]
    },
    {
     "name": "stderr",
     "output_type": "stream",
     "text": [
      "num_leaves, val_score: 823.301886:  85%|#######################################9       | 17/20 [00:02<00:00,  5.73it/s][I 2020-08-03 00:44:32,533] Trial 23 finished with value: 829.838028813898 and parameters: {'num_leaves': 93}. Best is trial 21 with value: 823.3018860353396.\n",
      "num_leaves, val_score: 823.301886:  85%|#######################################9       | 17/20 [00:03<00:00,  5.73it/s]"
     ]
    },
    {
     "name": "stdout",
     "output_type": "stream",
     "text": [
      "Training until validation scores don't improve for 10 rounds\n",
      "[10]\ttraining's rmse: 781.981\tvalid_1's rmse: 884.829\n",
      "[20]\ttraining's rmse: 674.876\tvalid_1's rmse: 844.779\n",
      "[30]\ttraining's rmse: 598.439\tvalid_1's rmse: 828.473\n",
      "[40]\ttraining's rmse: 535.977\tvalid_1's rmse: 824.651\n",
      "[50]\ttraining's rmse: 486.555\tvalid_1's rmse: 826.975\n",
      "Early stopping, best iteration is:\n",
      "[45]\ttraining's rmse: 510.112\tvalid_1's rmse: 823.302\n"
     ]
    },
    {
     "name": "stderr",
     "output_type": "stream",
     "text": [
      "num_leaves, val_score: 823.301886:  90%|##########################################3    | 18/20 [00:03<00:00,  6.32it/s][I 2020-08-03 00:44:32,653] Trial 24 finished with value: 823.3018860353396 and parameters: {'num_leaves': 33}. Best is trial 21 with value: 823.3018860353396.\n",
      "num_leaves, val_score: 823.301886:  90%|##########################################3    | 18/20 [00:03<00:00,  6.32it/s]"
     ]
    },
    {
     "name": "stdout",
     "output_type": "stream",
     "text": [
      "Training until validation scores don't improve for 10 rounds\n",
      "[10]\ttraining's rmse: 949.362\tvalid_1's rmse: 951.685\n",
      "[20]\ttraining's rmse: 924.359\tvalid_1's rmse: 928.941\n",
      "[30]\ttraining's rmse: 907.709\tvalid_1's rmse: 914.905\n",
      "[40]\ttraining's rmse: 896.106\tvalid_1's rmse: 906.545\n",
      "[50]\ttraining's rmse: 887.051\tvalid_1's rmse: 900.93\n",
      "[60]\ttraining's rmse: 879.581\tvalid_1's rmse: 895.998\n",
      "[70]\ttraining's rmse: 873.169\tvalid_1's rmse: 893.99\n",
      "[80]\ttraining's rmse: 867.652\tvalid_1's rmse: 890.364\n",
      "[90]\ttraining's rmse: 862.699\tvalid_1's rmse: 889.209\n",
      "[100]\ttraining's rmse: 858.341\tvalid_1's rmse: 887.911\n",
      "[110]\ttraining's rmse: 854.476\tvalid_1's rmse: 886.547\n",
      "[120]\ttraining's rmse: 850.914\tvalid_1's rmse: 885.148\n",
      "[130]\ttraining's rmse: 847.664\tvalid_1's rmse: 884.691\n",
      "[140]\ttraining's rmse: 844.698\tvalid_1's rmse: 882.701\n",
      "[150]\ttraining's rmse: 841.884\tvalid_1's rmse: 881.178\n",
      "[160]\ttraining's rmse: 839.238\tvalid_1's rmse: 880.804\n",
      "[170]\ttraining's rmse: 836.799\tvalid_1's rmse: 879.334\n",
      "[180]\ttraining's rmse: 834.427\tvalid_1's rmse: 877.738\n",
      "[190]\ttraining's rmse: 832.241\tvalid_1's rmse: 877.21\n",
      "[200]\ttraining's rmse: 830.151\tvalid_1's rmse: 876.104\n",
      "[210]\ttraining's rmse: 828.154\tvalid_1's rmse: 874.658\n",
      "[220]\ttraining's rmse: 826.271\tvalid_1's rmse: 875.465\n",
      "Early stopping, best iteration is:\n",
      "[210]\ttraining's rmse: 828.154\tvalid_1's rmse: 874.658\n"
     ]
    },
    {
     "name": "stderr",
     "output_type": "stream",
     "text": [
      "num_leaves, val_score: 823.301886:  95%|############################################6  | 19/20 [00:03<00:00,  6.78it/s][I 2020-08-03 00:44:32,776] Trial 25 finished with value: 874.6576042503361 and parameters: {'num_leaves': 2}. Best is trial 21 with value: 823.3018860353396.\n",
      "num_leaves, val_score: 823.301886:  95%|############################################6  | 19/20 [00:03<00:00,  6.78it/s]"
     ]
    },
    {
     "name": "stdout",
     "output_type": "stream",
     "text": [
      "Training until validation scores don't improve for 10 rounds\n",
      "[10]\ttraining's rmse: 783.913\tvalid_1's rmse: 882.376\n",
      "[20]\ttraining's rmse: 681.647\tvalid_1's rmse: 844.773\n",
      "[30]\ttraining's rmse: 607.198\tvalid_1's rmse: 834.661\n",
      "[40]\ttraining's rmse: 547.308\tvalid_1's rmse: 835.255\n",
      "Early stopping, best iteration is:\n",
      "[36]\ttraining's rmse: 572.331\tvalid_1's rmse: 833.213\n"
     ]
    },
    {
     "name": "stderr",
     "output_type": "stream",
     "text": [
      "num_leaves, val_score: 823.301886: 100%|###############################################| 20/20 [00:03<00:00,  7.42it/s][I 2020-08-03 00:44:32,881] Trial 26 finished with value: 833.2134019374735 and parameters: {'num_leaves': 30}. Best is trial 21 with value: 823.3018860353396.\n",
      "num_leaves, val_score: 823.301886: 100%|###############################################| 20/20 [00:03<00:00,  5.97it/s]\n",
      "bagging, val_score: 823.301886:   0%|                                                           | 0/10 [00:00<?, ?it/s]"
     ]
    },
    {
     "name": "stdout",
     "output_type": "stream",
     "text": [
      "Training until validation scores don't improve for 10 rounds\n",
      "[10]\ttraining's rmse: 848.648\tvalid_1's rmse: 892.674\n",
      "[20]\ttraining's rmse: 777.046\tvalid_1's rmse: 862.978\n",
      "[30]\ttraining's rmse: 721.438\tvalid_1's rmse: 844.052\n",
      "[40]\ttraining's rmse: 678.498\tvalid_1's rmse: 835.797\n",
      "Early stopping, best iteration is:\n",
      "[35]\ttraining's rmse: 697.898\tvalid_1's rmse: 834.755\n"
     ]
    },
    {
     "name": "stderr",
     "output_type": "stream",
     "text": [
      "bagging, val_score: 823.301886:  10%|#####1                                             | 1/10 [00:00<00:00,  9.44it/s][I 2020-08-03 00:44:32,997] Trial 27 finished with value: 834.7547080659111 and parameters: {'bagging_fraction': 0.5322973372672472, 'bagging_freq': 4}. Best is trial 27 with value: 834.7547080659111.\n",
      "bagging, val_score: 823.301886:  10%|#####1                                             | 1/10 [00:00<00:00,  9.44it/s]"
     ]
    },
    {
     "name": "stdout",
     "output_type": "stream",
     "text": [
      "Training until validation scores don't improve for 10 rounds\n",
      "[10]\ttraining's rmse: 786.804\tvalid_1's rmse: 887.673\n",
      "[20]\ttraining's rmse: 676.261\tvalid_1's rmse: 850.384\n",
      "[30]\ttraining's rmse: 602.716\tvalid_1's rmse: 842.751\n",
      "[40]\ttraining's rmse: 540.131\tvalid_1's rmse: 835.995\n",
      "[50]\ttraining's rmse: 494.125\tvalid_1's rmse: 831.518\n",
      "[60]\ttraining's rmse: 455.298\tvalid_1's rmse: 829.611\n",
      "[70]\ttraining's rmse: 418.933\tvalid_1's rmse: 830.495\n",
      "Early stopping, best iteration is:\n",
      "[64]\ttraining's rmse: 439.82\tvalid_1's rmse: 827.643\n"
     ]
    },
    {
     "name": "stderr",
     "output_type": "stream",
     "text": [
      "bagging, val_score: 823.301886:  20%|##########2                                        | 2/10 [00:00<00:00,  8.09it/s][I 2020-08-03 00:44:33,162] Trial 28 finished with value: 827.6431990603639 and parameters: {'bagging_fraction': 0.9459195518702269, 'bagging_freq': 1}. Best is trial 28 with value: 827.6431990603639.\n",
      "bagging, val_score: 823.301886:  20%|##########2                                        | 2/10 [00:00<00:00,  8.09it/s]"
     ]
    },
    {
     "name": "stdout",
     "output_type": "stream",
     "text": [
      "Training until validation scores don't improve for 10 rounds\n",
      "[10]\ttraining's rmse: 780.173\tvalid_1's rmse: 890.004\n",
      "[20]\ttraining's rmse: 673.633\tvalid_1's rmse: 855.171\n",
      "[30]\ttraining's rmse: 592.42\tvalid_1's rmse: 843.048\n",
      "[40]\ttraining's rmse: 529.427\tvalid_1's rmse: 835.916\n",
      "[50]\ttraining's rmse: 478.965\tvalid_1's rmse: 836.978\n",
      "Early stopping, best iteration is:\n",
      "[42]\ttraining's rmse: 519.197\tvalid_1's rmse: 835.133\n"
     ]
    },
    {
     "name": "stderr",
     "output_type": "stream",
     "text": [
      "bagging, val_score: 823.301886:  30%|###############3                                   | 3/10 [00:00<00:00,  7.47it/s][I 2020-08-03 00:44:33,320] Trial 29 finished with value: 835.1328726080983 and parameters: {'bagging_fraction': 0.9717070474720352, 'bagging_freq': 7}. Best is trial 28 with value: 827.6431990603639.\n",
      "bagging, val_score: 823.301886:  30%|###############3                                   | 3/10 [00:00<00:00,  7.47it/s]"
     ]
    },
    {
     "name": "stdout",
     "output_type": "stream",
     "text": [
      "Training until validation scores don't improve for 10 rounds\n",
      "[10]\ttraining's rmse: 872.924\tvalid_1's rmse: 921.908\n",
      "[20]\ttraining's rmse: 813.427\tvalid_1's rmse: 887.729\n",
      "[30]\ttraining's rmse: 763.417\tvalid_1's rmse: 870.839\n",
      "[40]\ttraining's rmse: 725.018\tvalid_1's rmse: 861.27\n",
      "[50]\ttraining's rmse: 693.434\tvalid_1's rmse: 859.195\n",
      "Early stopping, best iteration is:\n",
      "[46]\ttraining's rmse: 704.441\tvalid_1's rmse: 856.976\n"
     ]
    },
    {
     "name": "stderr",
     "output_type": "stream",
     "text": [
      "bagging, val_score: 823.301886:  40%|####################4                              | 4/10 [00:00<00:00,  7.57it/s][I 2020-08-03 00:44:33,449] Trial 30 finished with value: 856.9755797460622 and parameters: {'bagging_fraction': 0.4334581916880232, 'bagging_freq': 7}. Best is trial 28 with value: 827.6431990603639.\n",
      "bagging, val_score: 823.301886:  40%|####################4                              | 4/10 [00:00<00:00,  7.57it/s]"
     ]
    },
    {
     "name": "stdout",
     "output_type": "stream",
     "text": [
      "Training until validation scores don't improve for 10 rounds\n",
      "[10]\ttraining's rmse: 784.466\tvalid_1's rmse: 886.041\n",
      "[20]\ttraining's rmse: 673.552\tvalid_1's rmse: 848.836\n",
      "[30]\ttraining's rmse: 600.403\tvalid_1's rmse: 842.527\n",
      "[40]\ttraining's rmse: 538.363\tvalid_1's rmse: 836.886\n",
      "[50]\ttraining's rmse: 488.098\tvalid_1's rmse: 837.679\n",
      "Early stopping, best iteration is:\n",
      "[41]\ttraining's rmse: 533.368\tvalid_1's rmse: 836.291\n"
     ]
    },
    {
     "name": "stderr",
     "output_type": "stream",
     "text": [
      "bagging, val_score: 823.301886:  50%|#########################5                         | 5/10 [00:00<00:00,  7.59it/s][I 2020-08-03 00:44:33,579] Trial 31 finished with value: 836.291223569521 and parameters: {'bagging_fraction': 0.9599837028271612, 'bagging_freq': 1}. Best is trial 28 with value: 827.6431990603639.\n",
      "bagging, val_score: 823.301886:  50%|#########################5                         | 5/10 [00:00<00:00,  7.59it/s]"
     ]
    },
    {
     "name": "stdout",
     "output_type": "stream",
     "text": [
      "Training until validation scores don't improve for 10 rounds\n",
      "[10]\ttraining's rmse: 811.89\tvalid_1's rmse: 893.787\n",
      "[20]\ttraining's rmse: 713.435\tvalid_1's rmse: 856.065\n",
      "[30]\ttraining's rmse: 645.342\tvalid_1's rmse: 845.988\n",
      "[40]\ttraining's rmse: 590.879\tvalid_1's rmse: 838.415\n",
      "[50]\ttraining's rmse: 547.638\tvalid_1's rmse: 837.825\n",
      "[60]\ttraining's rmse: 506.639\tvalid_1's rmse: 836.823\n",
      "Early stopping, best iteration is:\n",
      "[55]\ttraining's rmse: 524.844\tvalid_1's rmse: 834.642\n"
     ]
    },
    {
     "name": "stderr",
     "output_type": "stream",
     "text": [
      "bagging, val_score: 823.301886:  60%|##############################6                    | 6/10 [00:00<00:00,  7.24it/s][I 2020-08-03 00:44:33,732] Trial 32 finished with value: 834.6417979011288 and parameters: {'bagging_fraction': 0.7702472939662341, 'bagging_freq': 1}. Best is trial 28 with value: 827.6431990603639.\n",
      "bagging, val_score: 823.301886:  60%|##############################6                    | 6/10 [00:00<00:00,  7.24it/s]"
     ]
    },
    {
     "name": "stdout",
     "output_type": "stream",
     "text": [
      "Training until validation scores don't improve for 10 rounds\n",
      "[10]\ttraining's rmse: 808.427\tvalid_1's rmse: 894.419\n",
      "[20]\ttraining's rmse: 712.249\tvalid_1's rmse: 857.694\n",
      "[30]\ttraining's rmse: 643.796\tvalid_1's rmse: 846.317\n",
      "[40]\ttraining's rmse: 588.384\tvalid_1's rmse: 839.732\n",
      "[50]\ttraining's rmse: 540.301\tvalid_1's rmse: 842.918\n",
      "Early stopping, best iteration is:\n",
      "[42]\ttraining's rmse: 577.748\tvalid_1's rmse: 838.084\n"
     ]
    },
    {
     "name": "stderr",
     "output_type": "stream",
     "text": [
      "bagging, val_score: 823.301886:  70%|###################################6               | 7/10 [00:00<00:00,  7.36it/s][I 2020-08-03 00:44:33,863] Trial 33 finished with value: 838.0843769336858 and parameters: {'bagging_fraction': 0.7766766553117255, 'bagging_freq': 3}. Best is trial 28 with value: 827.6431990603639.\n",
      "bagging, val_score: 823.301886:  70%|###################################6               | 7/10 [00:00<00:00,  7.36it/s]"
     ]
    },
    {
     "name": "stdout",
     "output_type": "stream",
     "text": [
      "Training until validation scores don't improve for 10 rounds\n",
      "[10]\ttraining's rmse: 794.07\tvalid_1's rmse: 888.331\n",
      "[20]\ttraining's rmse: 693.53\tvalid_1's rmse: 856.92\n",
      "[30]\ttraining's rmse: 620.01\tvalid_1's rmse: 846.913\n",
      "[40]\ttraining's rmse: 559.169\tvalid_1's rmse: 841.936\n",
      "[50]\ttraining's rmse: 509.312\tvalid_1's rmse: 843.672\n",
      "Early stopping, best iteration is:\n",
      "[43]\ttraining's rmse: 542.4\tvalid_1's rmse: 840.015\n"
     ]
    },
    {
     "name": "stderr",
     "output_type": "stream",
     "text": [
      "bagging, val_score: 823.301886:  80%|########################################8          | 8/10 [00:01<00:00,  7.41it/s][I 2020-08-03 00:44:33,996] Trial 34 finished with value: 840.0150862368239 and parameters: {'bagging_fraction': 0.8793882575491099, 'bagging_freq': 3}. Best is trial 28 with value: 827.6431990603639.\n",
      "bagging, val_score: 823.301886:  80%|########################################8          | 8/10 [00:01<00:00,  7.41it/s]"
     ]
    },
    {
     "name": "stdout",
     "output_type": "stream",
     "text": [
      "Training until validation scores don't improve for 10 rounds\n",
      "[10]\ttraining's rmse: 833.782\tvalid_1's rmse: 907.328\n",
      "[20]\ttraining's rmse: 749.205\tvalid_1's rmse: 862.514\n",
      "[30]\ttraining's rmse: 693.176\tvalid_1's rmse: 855.913\n",
      "[40]\ttraining's rmse: 646.784\tvalid_1's rmse: 848.799\n",
      "[50]\ttraining's rmse: 611.979\tvalid_1's rmse: 853.367\n",
      "Early stopping, best iteration is:\n",
      "[40]\ttraining's rmse: 646.784\tvalid_1's rmse: 848.799\n"
     ]
    },
    {
     "name": "stderr",
     "output_type": "stream",
     "text": [
      "bagging, val_score: 823.301886:  90%|#############################################9     | 9/10 [00:01<00:00,  7.51it/s][I 2020-08-03 00:44:34,127] Trial 35 finished with value: 848.7992823183291 and parameters: {'bagging_fraction': 0.6089819284693091, 'bagging_freq': 5}. Best is trial 28 with value: 827.6431990603639.\n",
      "bagging, val_score: 823.301886:  90%|#############################################9     | 9/10 [00:01<00:00,  7.51it/s]"
     ]
    },
    {
     "name": "stdout",
     "output_type": "stream",
     "text": [
      "Training until validation scores don't improve for 10 rounds\n",
      "[10]\ttraining's rmse: 781.057\tvalid_1's rmse: 879.868\n",
      "[20]\ttraining's rmse: 673.914\tvalid_1's rmse: 845.387\n",
      "[30]\ttraining's rmse: 595.042\tvalid_1's rmse: 836.183\n",
      "[40]\ttraining's rmse: 535.417\tvalid_1's rmse: 829.21\n",
      "[50]\ttraining's rmse: 484.009\tvalid_1's rmse: 831.033\n",
      "Early stopping, best iteration is:\n",
      "[43]\ttraining's rmse: 518.887\tvalid_1's rmse: 827.969\n"
     ]
    },
    {
     "name": "stderr",
     "output_type": "stream",
     "text": [
      "bagging, val_score: 823.301886: 100%|##################################################| 10/10 [00:01<00:00,  7.40it/s][I 2020-08-03 00:44:34,264] Trial 36 finished with value: 827.9689755072683 and parameters: {'bagging_fraction': 0.9979512304435154, 'bagging_freq': 1}. Best is trial 28 with value: 827.6431990603639.\n",
      "bagging, val_score: 823.301886: 100%|##################################################| 10/10 [00:01<00:00,  7.26it/s]\n",
      "feature_fraction_stage2, val_score: 823.301886:   0%|                                            | 0/6 [00:00<?, ?it/s]"
     ]
    },
    {
     "name": "stdout",
     "output_type": "stream",
     "text": [
      "Training until validation scores don't improve for 10 rounds\n",
      "[10]\ttraining's rmse: 782.734\tvalid_1's rmse: 882.178\n",
      "[20]\ttraining's rmse: 675.919\tvalid_1's rmse: 847.126\n",
      "[30]\ttraining's rmse: 596.876\tvalid_1's rmse: 838.677\n",
      "[40]\ttraining's rmse: 538.164\tvalid_1's rmse: 825.459\n",
      "[50]\ttraining's rmse: 489.597\tvalid_1's rmse: 827.464\n",
      "Early stopping, best iteration is:\n",
      "[40]\ttraining's rmse: 538.164\tvalid_1's rmse: 825.459\n"
     ]
    },
    {
     "name": "stderr",
     "output_type": "stream",
     "text": [
      "feature_fraction_stage2, val_score: 823.301886:  17%|######                              | 1/6 [00:00<00:00,  8.34it/s][I 2020-08-03 00:44:34,393] Trial 37 finished with value: 825.4586668801684 and parameters: {'feature_fraction': 0.552}. Best is trial 37 with value: 825.4586668801684.\n",
      "feature_fraction_stage2, val_score: 823.301886:  17%|######                              | 1/6 [00:00<00:00,  8.34it/s]"
     ]
    },
    {
     "name": "stdout",
     "output_type": "stream",
     "text": [
      "Training until validation scores don't improve for 10 rounds\n",
      "[10]\ttraining's rmse: 781.981\tvalid_1's rmse: 884.829\n",
      "[20]\ttraining's rmse: 674.876\tvalid_1's rmse: 844.779\n",
      "[30]\ttraining's rmse: 598.439\tvalid_1's rmse: 828.473\n",
      "[40]\ttraining's rmse: 535.977\tvalid_1's rmse: 824.651\n",
      "[50]\ttraining's rmse: 486.555\tvalid_1's rmse: 826.975\n",
      "Early stopping, best iteration is:\n",
      "[45]\ttraining's rmse: 510.112\tvalid_1's rmse: 823.302\n"
     ]
    },
    {
     "name": "stderr",
     "output_type": "stream",
     "text": [
      "feature_fraction_stage2, val_score: 823.301886:  33%|############                        | 2/6 [00:00<00:00,  8.51it/s][I 2020-08-03 00:44:34,505] Trial 38 finished with value: 823.3018860353396 and parameters: {'feature_fraction': 0.616}. Best is trial 38 with value: 823.3018860353396.\n",
      "feature_fraction_stage2, val_score: 823.301886:  33%|############                        | 2/6 [00:00<00:00,  8.51it/s]"
     ]
    },
    {
     "name": "stdout",
     "output_type": "stream",
     "text": [
      "Training until validation scores don't improve for 10 rounds\n",
      "[10]\ttraining's rmse: 781.981\tvalid_1's rmse: 884.829\n",
      "[20]\ttraining's rmse: 674.876\tvalid_1's rmse: 844.779\n",
      "[30]\ttraining's rmse: 598.439\tvalid_1's rmse: 828.473\n",
      "[40]\ttraining's rmse: 535.977\tvalid_1's rmse: 824.651\n",
      "[50]\ttraining's rmse: 486.555\tvalid_1's rmse: 826.975\n",
      "Early stopping, best iteration is:\n",
      "[45]\ttraining's rmse: 510.112\tvalid_1's rmse: 823.302\n"
     ]
    },
    {
     "name": "stderr",
     "output_type": "stream",
     "text": [
      "feature_fraction_stage2, val_score: 823.301886:  50%|##################                  | 3/6 [00:00<00:00,  8.61it/s][I 2020-08-03 00:44:34,619] Trial 39 finished with value: 823.3018860353396 and parameters: {'feature_fraction': 0.584}. Best is trial 38 with value: 823.3018860353396.\n",
      "feature_fraction_stage2, val_score: 823.301886:  50%|##################                  | 3/6 [00:00<00:00,  8.61it/s]"
     ]
    },
    {
     "name": "stdout",
     "output_type": "stream",
     "text": [
      "Training until validation scores don't improve for 10 rounds\n",
      "[10]\ttraining's rmse: 791.283\tvalid_1's rmse: 888.768\n",
      "[20]\ttraining's rmse: 682.779\tvalid_1's rmse: 851.183\n",
      "[30]\ttraining's rmse: 608.124\tvalid_1's rmse: 838.42\n",
      "[40]\ttraining's rmse: 549.394\tvalid_1's rmse: 831.256\n",
      "[50]\ttraining's rmse: 499.882\tvalid_1's rmse: 829.13\n",
      "[60]\ttraining's rmse: 458.874\tvalid_1's rmse: 828.645\n",
      "Early stopping, best iteration is:\n",
      "[56]\ttraining's rmse: 474.202\tvalid_1's rmse: 827.482\n"
     ]
    },
    {
     "name": "stderr",
     "output_type": "stream",
     "text": [
      "feature_fraction_stage2, val_score: 823.301886:  67%|########################            | 4/6 [00:00<00:00,  8.09it/s][I 2020-08-03 00:44:34,759] Trial 40 finished with value: 827.4817401379114 and parameters: {'feature_fraction': 0.52}. Best is trial 38 with value: 823.3018860353396.\n",
      "feature_fraction_stage2, val_score: 823.301886:  67%|########################            | 4/6 [00:00<00:00,  8.09it/s]"
     ]
    },
    {
     "name": "stdout",
     "output_type": "stream",
     "text": [
      "Training until validation scores don't improve for 10 rounds\n",
      "[10]\ttraining's rmse: 774.954\tvalid_1's rmse: 884.986\n",
      "[20]\ttraining's rmse: 661.853\tvalid_1's rmse: 846.887\n",
      "[30]\ttraining's rmse: 582.936\tvalid_1's rmse: 837.325\n",
      "[40]\ttraining's rmse: 519.426\tvalid_1's rmse: 832.178\n",
      "[50]\ttraining's rmse: 470.917\tvalid_1's rmse: 831.916\n",
      "[60]\ttraining's rmse: 428.597\tvalid_1's rmse: 830.604\n",
      "[70]\ttraining's rmse: 392.677\tvalid_1's rmse: 829.934\n",
      "Early stopping, best iteration is:\n",
      "[67]\ttraining's rmse: 402.858\tvalid_1's rmse: 828.587\n"
     ]
    },
    {
     "name": "stderr",
     "output_type": "stream",
     "text": [
      "feature_fraction_stage2, val_score: 823.301886:  83%|##############################      | 5/6 [00:00<00:00,  7.39it/s][I 2020-08-03 00:44:34,922] Trial 41 finished with value: 828.5874865806128 and parameters: {'feature_fraction': 0.6799999999999999}. Best is trial 38 with value: 823.3018860353396.\n",
      "feature_fraction_stage2, val_score: 823.301886:  83%|##############################      | 5/6 [00:00<00:00,  7.39it/s]"
     ]
    },
    {
     "name": "stdout",
     "output_type": "stream",
     "text": [
      "Training until validation scores don't improve for 10 rounds\n",
      "[10]\ttraining's rmse: 774.954\tvalid_1's rmse: 884.986\n",
      "[20]\ttraining's rmse: 661.853\tvalid_1's rmse: 846.887\n",
      "[30]\ttraining's rmse: 582.936\tvalid_1's rmse: 837.325\n",
      "[40]\ttraining's rmse: 519.426\tvalid_1's rmse: 832.178\n",
      "[50]\ttraining's rmse: 470.917\tvalid_1's rmse: 831.916\n",
      "[60]\ttraining's rmse: 428.597\tvalid_1's rmse: 830.604\n",
      "[70]\ttraining's rmse: 392.677\tvalid_1's rmse: 829.934\n",
      "Early stopping, best iteration is:\n",
      "[67]\ttraining's rmse: 402.858\tvalid_1's rmse: 828.587\n"
     ]
    },
    {
     "name": "stderr",
     "output_type": "stream",
     "text": [
      "feature_fraction_stage2, val_score: 823.301886: 100%|####################################| 6/6 [00:00<00:00,  7.08it/s][I 2020-08-03 00:44:35,077] Trial 42 finished with value: 828.5874865806128 and parameters: {'feature_fraction': 0.6479999999999999}. Best is trial 38 with value: 823.3018860353396.\n",
      "feature_fraction_stage2, val_score: 823.301886: 100%|####################################| 6/6 [00:00<00:00,  7.43it/s]\n",
      "regularization_factors, val_score: 823.301886:   0%|                                            | 0/20 [00:00<?, ?it/s]"
     ]
    },
    {
     "name": "stdout",
     "output_type": "stream",
     "text": [
      "Training until validation scores don't improve for 10 rounds\n",
      "[10]\ttraining's rmse: 781.972\tvalid_1's rmse: 883.061\n",
      "[20]\ttraining's rmse: 675.729\tvalid_1's rmse: 849.039\n",
      "[30]\ttraining's rmse: 595.599\tvalid_1's rmse: 839.213\n",
      "[40]\ttraining's rmse: 532.532\tvalid_1's rmse: 832.329\n",
      "[50]\ttraining's rmse: 484.662\tvalid_1's rmse: 834.404\n",
      "Early stopping, best iteration is:\n",
      "[42]\ttraining's rmse: 521.454\tvalid_1's rmse: 831.565\n"
     ]
    },
    {
     "name": "stderr",
     "output_type": "stream",
     "text": [
      "regularization_factors, val_score: 823.301886:   5%|#8                                  | 1/20 [00:00<00:02,  8.20it/s][I 2020-08-03 00:44:35,208] Trial 43 finished with value: 831.5652629222816 and parameters: {'lambda_l1': 4.0862341914444056e-08, 'lambda_l2': 0.26908301567865767}. Best is trial 43 with value: 831.5652629222816.\n",
      "regularization_factors, val_score: 823.301886:   5%|#8                                  | 1/20 [00:00<00:02,  8.20it/s]"
     ]
    },
    {
     "name": "stdout",
     "output_type": "stream",
     "text": [
      "Training until validation scores don't improve for 10 rounds\n",
      "[10]\ttraining's rmse: 781.998\tvalid_1's rmse: 884.838\n",
      "[20]\ttraining's rmse: 674.902\tvalid_1's rmse: 844.785\n",
      "[30]\ttraining's rmse: 598.473\tvalid_1's rmse: 828.477\n",
      "[40]\ttraining's rmse: 538.48\tvalid_1's rmse: 828.554\n",
      "Early stopping, best iteration is:\n",
      "[32]\ttraining's rmse: 586.792\tvalid_1's rmse: 828.062\n"
     ]
    },
    {
     "name": "stderr",
     "output_type": "stream",
     "text": [
      "regularization_factors, val_score: 823.301886:  10%|###6                                | 2/20 [00:00<00:02,  8.65it/s][I 2020-08-03 00:44:35,310] Trial 44 finished with value: 828.0616353878195 and parameters: {'lambda_l1': 1.7744213034457734, 'lambda_l2': 1.9126849597316482e-08}. Best is trial 44 with value: 828.0616353878195.\n",
      "regularization_factors, val_score: 823.301886:  10%|###6                                | 2/20 [00:00<00:02,  8.65it/s]"
     ]
    },
    {
     "name": "stdout",
     "output_type": "stream",
     "text": [
      "Training until validation scores don't improve for 10 rounds\n",
      "[10]\ttraining's rmse: 781.981\tvalid_1's rmse: 884.829\n",
      "[20]\ttraining's rmse: 674.876\tvalid_1's rmse: 844.779\n",
      "[30]\ttraining's rmse: 598.439\tvalid_1's rmse: 828.473\n",
      "[40]\ttraining's rmse: 535.977\tvalid_1's rmse: 824.651\n",
      "[50]\ttraining's rmse: 486.555\tvalid_1's rmse: 826.975\n",
      "Early stopping, best iteration is:\n",
      "[45]\ttraining's rmse: 510.112\tvalid_1's rmse: 823.302\n"
     ]
    },
    {
     "name": "stderr",
     "output_type": "stream",
     "text": [
      "regularization_factors, val_score: 823.301886:  15%|#####3                              | 3/20 [00:00<00:01,  8.51it/s][I 2020-08-03 00:44:35,432] Trial 45 finished with value: 823.3018860764876 and parameters: {'lambda_l1': 6.396382521945374e-05, 'lambda_l2': 6.336140256769024e-08}. Best is trial 45 with value: 823.3018860764876.\n",
      "regularization_factors, val_score: 823.301886:  15%|#####3                              | 3/20 [00:00<00:01,  8.51it/s]"
     ]
    },
    {
     "name": "stdout",
     "output_type": "stream",
     "text": [
      "Training until validation scores don't improve for 10 rounds\n",
      "[10]\ttraining's rmse: 781.981\tvalid_1's rmse: 884.829\n",
      "[20]\ttraining's rmse: 674.876\tvalid_1's rmse: 844.779\n",
      "[30]\ttraining's rmse: 598.439\tvalid_1's rmse: 828.473\n",
      "[40]\ttraining's rmse: 535.977\tvalid_1's rmse: 824.651\n",
      "[50]\ttraining's rmse: 486.555\tvalid_1's rmse: 826.975\n",
      "Early stopping, best iteration is:\n",
      "[45]\ttraining's rmse: 510.112\tvalid_1's rmse: 823.302\n"
     ]
    },
    {
     "name": "stderr",
     "output_type": "stream",
     "text": [
      "regularization_factors, val_score: 823.301886:  20%|#######2                            | 4/20 [00:00<00:01,  8.35it/s][I 2020-08-03 00:44:35,556] Trial 46 finished with value: 823.3018860881397 and parameters: {'lambda_l1': 7.454659868532395e-05, 'lambda_l2': 1.9420842140132663e-08}. Best is trial 45 with value: 823.3018860764876.\n",
      "regularization_factors, val_score: 823.301886:  20%|#######2                            | 4/20 [00:00<00:01,  8.35it/s]"
     ]
    },
    {
     "name": "stdout",
     "output_type": "stream",
     "text": [
      "Training until validation scores don't improve for 10 rounds\n",
      "[10]\ttraining's rmse: 781.981\tvalid_1's rmse: 884.829\n",
      "[20]\ttraining's rmse: 674.877\tvalid_1's rmse: 844.779\n",
      "[30]\ttraining's rmse: 598.439\tvalid_1's rmse: 828.473\n",
      "[40]\ttraining's rmse: 535.977\tvalid_1's rmse: 824.651\n",
      "[50]\ttraining's rmse: 486.556\tvalid_1's rmse: 826.975\n",
      "Early stopping, best iteration is:\n",
      "[45]\ttraining's rmse: 510.112\tvalid_1's rmse: 823.302\n"
     ]
    },
    {
     "name": "stderr",
     "output_type": "stream",
     "text": [
      "regularization_factors, val_score: 823.301886:  25%|#########                           | 5/20 [00:00<00:01,  8.33it/s][I 2020-08-03 00:44:35,678] Trial 47 finished with value: 823.3018913276296 and parameters: {'lambda_l1': 0.00013324922434989025, 'lambda_l2': 3.335795776304129e-05}. Best is trial 45 with value: 823.3018860764876.\n",
      "regularization_factors, val_score: 823.301886:  25%|#########                           | 5/20 [00:00<00:01,  8.33it/s]"
     ]
    },
    {
     "name": "stdout",
     "output_type": "stream",
     "text": [
      "Training until validation scores don't improve for 10 rounds\n",
      "[10]\ttraining's rmse: 781.981\tvalid_1's rmse: 884.829\n",
      "[20]\ttraining's rmse: 674.876\tvalid_1's rmse: 844.779\n",
      "[30]\ttraining's rmse: 598.439\tvalid_1's rmse: 828.473\n",
      "[40]\ttraining's rmse: 535.977\tvalid_1's rmse: 824.651\n",
      "[50]\ttraining's rmse: 486.556\tvalid_1's rmse: 826.975\n",
      "Early stopping, best iteration is:\n",
      "[45]\ttraining's rmse: 510.112\tvalid_1's rmse: 823.302\n"
     ]
    },
    {
     "name": "stderr",
     "output_type": "stream",
     "text": [
      "regularization_factors, val_score: 823.301886:  30%|##########7                         | 6/20 [00:00<00:01,  8.01it/s][I 2020-08-03 00:44:35,812] Trial 48 finished with value: 823.3018896121743 and parameters: {'lambda_l1': 2.752523098249372e-08, 'lambda_l2': 2.34377491162007e-05}. Best is trial 45 with value: 823.3018860764876.\n",
      "regularization_factors, val_score: 823.301886:  30%|##########7                         | 6/20 [00:00<00:01,  8.01it/s]"
     ]
    },
    {
     "name": "stdout",
     "output_type": "stream",
     "text": [
      "Training until validation scores don't improve for 10 rounds\n",
      "[10]\ttraining's rmse: 782.361\tvalid_1's rmse: 884.553\n",
      "[20]\ttraining's rmse: 674.033\tvalid_1's rmse: 848.604\n",
      "[30]\ttraining's rmse: 593.764\tvalid_1's rmse: 843.495\n",
      "[40]\ttraining's rmse: 530.762\tvalid_1's rmse: 838.088\n",
      "[50]\ttraining's rmse: 479.115\tvalid_1's rmse: 841.107\n",
      "Early stopping, best iteration is:\n",
      "[40]\ttraining's rmse: 530.762\tvalid_1's rmse: 838.088\n"
     ]
    },
    {
     "name": "stderr",
     "output_type": "stream",
     "text": [
      "regularization_factors, val_score: 823.301886:  35%|############6                       | 7/20 [00:00<00:01,  7.82it/s][I 2020-08-03 00:44:35,948] Trial 49 finished with value: 838.087845826223 and parameters: {'lambda_l1': 0.0746908753425344, 'lambda_l2': 0.043670281632407014}. Best is trial 45 with value: 823.3018860764876.\n",
      "regularization_factors, val_score: 823.301886:  35%|############6                       | 7/20 [00:00<00:01,  7.82it/s]"
     ]
    },
    {
     "name": "stdout",
     "output_type": "stream",
     "text": [
      "Training until validation scores don't improve for 10 rounds\n",
      "[10]\ttraining's rmse: 781.981\tvalid_1's rmse: 884.829\n",
      "[20]\ttraining's rmse: 674.876\tvalid_1's rmse: 844.779\n",
      "[30]\ttraining's rmse: 598.439\tvalid_1's rmse: 828.473\n",
      "[40]\ttraining's rmse: 535.977\tvalid_1's rmse: 824.651\n",
      "[50]\ttraining's rmse: 486.555\tvalid_1's rmse: 826.975\n",
      "Early stopping, best iteration is:\n",
      "[45]\ttraining's rmse: 510.112\tvalid_1's rmse: 823.302\n"
     ]
    },
    {
     "name": "stderr",
     "output_type": "stream",
     "text": [
      "regularization_factors, val_score: 823.301886:  40%|##############4                     | 8/20 [00:01<00:01,  7.49it/s][I 2020-08-03 00:44:36,094] Trial 50 finished with value: 823.301886139797 and parameters: {'lambda_l1': 5.12847185025292e-06, 'lambda_l2': 2.867934030840709e-07}. Best is trial 45 with value: 823.3018860764876.\n",
      "regularization_factors, val_score: 823.301886:  40%|##############4                     | 8/20 [00:01<00:01,  7.49it/s]"
     ]
    },
    {
     "name": "stdout",
     "output_type": "stream",
     "text": [
      "Training until validation scores don't improve for 10 rounds\n",
      "[10]\ttraining's rmse: 781.981\tvalid_1's rmse: 884.829\n",
      "[20]\ttraining's rmse: 674.876\tvalid_1's rmse: 844.779\n",
      "[30]\ttraining's rmse: 598.439\tvalid_1's rmse: 828.473\n",
      "[40]\ttraining's rmse: 535.977\tvalid_1's rmse: 824.651\n",
      "[50]\ttraining's rmse: 486.555\tvalid_1's rmse: 826.975\n",
      "Early stopping, best iteration is:\n",
      "[45]\ttraining's rmse: 510.112\tvalid_1's rmse: 823.302\n"
     ]
    },
    {
     "name": "stderr",
     "output_type": "stream",
     "text": [
      "regularization_factors, val_score: 823.301886:  45%|################2                   | 9/20 [00:01<00:01,  7.43it/s][I 2020-08-03 00:44:36,232] Trial 51 finished with value: 823.3018861593342 and parameters: {'lambda_l1': 0.0009985169538719715, 'lambda_l2': 1.6013292021922354e-08}. Best is trial 45 with value: 823.3018860764876.\n",
      "regularization_factors, val_score: 823.301886:  45%|################2                   | 9/20 [00:01<00:01,  7.43it/s]"
     ]
    },
    {
     "name": "stdout",
     "output_type": "stream",
     "text": [
      "Training until validation scores don't improve for 10 rounds\n",
      "[10]\ttraining's rmse: 781.981\tvalid_1's rmse: 884.829\n",
      "[20]\ttraining's rmse: 674.876\tvalid_1's rmse: 844.779\n",
      "[30]\ttraining's rmse: 598.439\tvalid_1's rmse: 828.473\n",
      "[40]\ttraining's rmse: 535.977\tvalid_1's rmse: 824.651\n",
      "[50]\ttraining's rmse: 486.555\tvalid_1's rmse: 826.975\n",
      "Early stopping, best iteration is:\n",
      "[45]\ttraining's rmse: 510.112\tvalid_1's rmse: 823.302\n"
     ]
    },
    {
     "name": "stderr",
     "output_type": "stream",
     "text": [
      "regularization_factors, val_score: 823.301886:  50%|#################5                 | 10/20 [00:01<00:01,  7.42it/s][I 2020-08-03 00:44:36,367] Trial 52 finished with value: 823.3018861055416 and parameters: {'lambda_l1': 6.707249517329072e-06, 'lambda_l2': 7.387112419590887e-07}. Best is trial 45 with value: 823.3018860764876.\n",
      "regularization_factors, val_score: 823.301886:  50%|#################5                 | 10/20 [00:01<00:01,  7.42it/s]"
     ]
    },
    {
     "name": "stdout",
     "output_type": "stream",
     "text": [
      "Training until validation scores don't improve for 10 rounds\n",
      "[10]\ttraining's rmse: 781.981\tvalid_1's rmse: 884.829\n",
      "[20]\ttraining's rmse: 674.876\tvalid_1's rmse: 844.779\n",
      "[30]\ttraining's rmse: 598.439\tvalid_1's rmse: 828.473\n",
      "[40]\ttraining's rmse: 535.977\tvalid_1's rmse: 824.651\n",
      "[50]\ttraining's rmse: 486.555\tvalid_1's rmse: 826.975\n",
      "Early stopping, best iteration is:\n",
      "[45]\ttraining's rmse: 510.112\tvalid_1's rmse: 823.302\n"
     ]
    },
    {
     "name": "stderr",
     "output_type": "stream",
     "text": [
      "regularization_factors, val_score: 823.301886:  55%|###################2               | 11/20 [00:01<00:01,  7.21it/s][I 2020-08-03 00:44:36,515] Trial 53 finished with value: 823.3018863833274 and parameters: {'lambda_l1': 0.0018094186893768361, 'lambda_l2': 1.1173668963340518e-08}. Best is trial 45 with value: 823.3018860764876.\n",
      "regularization_factors, val_score: 823.301886:  55%|###################2               | 11/20 [00:01<00:01,  7.21it/s]"
     ]
    },
    {
     "name": "stdout",
     "output_type": "stream",
     "text": [
      "Training until validation scores don't improve for 10 rounds\n",
      "[10]\ttraining's rmse: 781.981\tvalid_1's rmse: 884.829\n",
      "[20]\ttraining's rmse: 674.876\tvalid_1's rmse: 844.779\n",
      "[30]\ttraining's rmse: 598.439\tvalid_1's rmse: 828.473\n",
      "[40]\ttraining's rmse: 535.977\tvalid_1's rmse: 824.651\n",
      "[50]\ttraining's rmse: 486.555\tvalid_1's rmse: 826.975\n",
      "Early stopping, best iteration is:\n",
      "[45]\ttraining's rmse: 510.112\tvalid_1's rmse: 823.302\n"
     ]
    },
    {
     "name": "stderr",
     "output_type": "stream",
     "text": [
      "regularization_factors, val_score: 823.301886:  60%|#####################              | 12/20 [00:01<00:01,  6.24it/s][I 2020-08-03 00:44:36,725] Trial 54 finished with value: 823.3018860915674 and parameters: {'lambda_l1': 4.378311668194183e-06, 'lambda_l2': 5.314569453560625e-07}. Best is trial 45 with value: 823.3018860764876.\n",
      "regularization_factors, val_score: 823.301886:  60%|#####################              | 12/20 [00:01<00:01,  6.24it/s]"
     ]
    },
    {
     "name": "stdout",
     "output_type": "stream",
     "text": [
      "Training until validation scores don't improve for 10 rounds\n",
      "[10]\ttraining's rmse: 781.989\tvalid_1's rmse: 884.833\n",
      "[20]\ttraining's rmse: 674.886\tvalid_1's rmse: 844.781\n",
      "[30]\ttraining's rmse: 598.449\tvalid_1's rmse: 828.474\n",
      "[40]\ttraining's rmse: 535.987\tvalid_1's rmse: 824.651\n",
      "[50]\ttraining's rmse: 486.567\tvalid_1's rmse: 826.975\n",
      "Early stopping, best iteration is:\n",
      "[45]\ttraining's rmse: 510.123\tvalid_1's rmse: 823.302\n"
     ]
    },
    {
     "name": "stderr",
     "output_type": "stream",
     "text": [
      "regularization_factors, val_score: 823.301886:  65%|######################7            | 13/20 [00:01<00:01,  6.40it/s][I 2020-08-03 00:44:36,872] Trial 55 finished with value: 823.3021361223941 and parameters: {'lambda_l1': 6.292516721570669e-05, 'lambda_l2': 0.001549789328963586}. Best is trial 45 with value: 823.3018860764876.\n",
      "regularization_factors, val_score: 823.301886:  65%|######################7            | 13/20 [00:01<00:01,  6.40it/s]"
     ]
    },
    {
     "name": "stdout",
     "output_type": "stream",
     "text": [
      "Training until validation scores don't improve for 10 rounds\n",
      "[10]\ttraining's rmse: 810.815\tvalid_1's rmse: 893.293\n",
      "[20]\ttraining's rmse: 709.399\tvalid_1's rmse: 856.942\n",
      "[30]\ttraining's rmse: 635.067\tvalid_1's rmse: 838.483\n",
      "[40]\ttraining's rmse: 576.201\tvalid_1's rmse: 833.47\n",
      "[50]\ttraining's rmse: 524.09\tvalid_1's rmse: 828.72\n",
      "[60]\ttraining's rmse: 482.6\tvalid_1's rmse: 827.952\n",
      "Early stopping, best iteration is:\n",
      "[56]\ttraining's rmse: 497.481\tvalid_1's rmse: 826.825\n"
     ]
    },
    {
     "name": "stderr",
     "output_type": "stream",
     "text": [
      "regularization_factors, val_score: 823.301886:  70%|########################5          | 14/20 [00:01<00:00,  6.12it/s][I 2020-08-03 00:44:37,052] Trial 56 finished with value: 826.8247909831755 and parameters: {'lambda_l1': 0.028593128810712888, 'lambda_l2': 5.450837726968276}. Best is trial 45 with value: 823.3018860764876.\n",
      "regularization_factors, val_score: 823.301886:  70%|########################5          | 14/20 [00:01<00:00,  6.12it/s]"
     ]
    },
    {
     "name": "stdout",
     "output_type": "stream",
     "text": [
      "Training until validation scores don't improve for 10 rounds\n",
      "[10]\ttraining's rmse: 781.981\tvalid_1's rmse: 884.829\n",
      "[20]\ttraining's rmse: 674.876\tvalid_1's rmse: 844.779\n",
      "[30]\ttraining's rmse: 598.439\tvalid_1's rmse: 828.473\n",
      "[40]\ttraining's rmse: 535.977\tvalid_1's rmse: 824.651\n",
      "[50]\ttraining's rmse: 486.555\tvalid_1's rmse: 826.975\n",
      "Early stopping, best iteration is:\n",
      "[45]\ttraining's rmse: 510.112\tvalid_1's rmse: 823.302\n"
     ]
    },
    {
     "name": "stderr",
     "output_type": "stream",
     "text": [
      "regularization_factors, val_score: 823.301886:  75%|##########################2        | 15/20 [00:02<00:00,  6.29it/s][I 2020-08-03 00:44:37,201] Trial 57 finished with value: 823.3018865177906 and parameters: {'lambda_l1': 3.0619430679084175e-07, 'lambda_l2': 4.40094463237933e-06}. Best is trial 45 with value: 823.3018860764876.\n",
      "regularization_factors, val_score: 823.301886:  75%|##########################2        | 15/20 [00:02<00:00,  6.29it/s]"
     ]
    },
    {
     "name": "stdout",
     "output_type": "stream",
     "text": [
      "Training until validation scores don't improve for 10 rounds\n",
      "[10]\ttraining's rmse: 781.981\tvalid_1's rmse: 884.829\n",
      "[20]\ttraining's rmse: 674.876\tvalid_1's rmse: 844.779\n",
      "[30]\ttraining's rmse: 598.439\tvalid_1's rmse: 828.473\n",
      "[40]\ttraining's rmse: 535.977\tvalid_1's rmse: 824.651\n",
      "[50]\ttraining's rmse: 486.556\tvalid_1's rmse: 826.975\n",
      "Early stopping, best iteration is:\n",
      "[45]\ttraining's rmse: 510.112\tvalid_1's rmse: 823.302\n"
     ]
    },
    {
     "name": "stderr",
     "output_type": "stream",
     "text": [
      "regularization_factors, val_score: 823.301886:  80%|############################       | 16/20 [00:02<00:00,  6.45it/s][I 2020-08-03 00:44:37,347] Trial 58 finished with value: 823.3018881354008 and parameters: {'lambda_l1': 0.008441933072775916, 'lambda_l2': 8.774392350422546e-08}. Best is trial 45 with value: 823.3018860764876.\n",
      "regularization_factors, val_score: 823.301886:  80%|############################       | 16/20 [00:02<00:00,  6.45it/s]"
     ]
    },
    {
     "name": "stdout",
     "output_type": "stream",
     "text": [
      "Training until validation scores don't improve for 10 rounds\n",
      "[10]\ttraining's rmse: 781.985\tvalid_1's rmse: 884.831\n",
      "[20]\ttraining's rmse: 674.881\tvalid_1's rmse: 844.78\n",
      "[30]\ttraining's rmse: 598.444\tvalid_1's rmse: 828.474\n",
      "[40]\ttraining's rmse: 535.982\tvalid_1's rmse: 824.651\n",
      "[50]\ttraining's rmse: 486.561\tvalid_1's rmse: 826.975\n",
      "Early stopping, best iteration is:\n",
      "[45]\ttraining's rmse: 510.118\tvalid_1's rmse: 823.302\n"
     ]
    },
    {
     "name": "stderr",
     "output_type": "stream",
     "text": [
      "regularization_factors, val_score: 823.301886:  85%|#############################7     | 17/20 [00:02<00:00,  6.66it/s][I 2020-08-03 00:44:37,485] Trial 59 finished with value: 823.3020130738277 and parameters: {'lambda_l1': 9.072936445091169e-05, 'lambda_l2': 0.0007862687416780938}. Best is trial 45 with value: 823.3018860764876.\n",
      "regularization_factors, val_score: 823.301886:  85%|#############################7     | 17/20 [00:02<00:00,  6.66it/s]"
     ]
    },
    {
     "name": "stdout",
     "output_type": "stream",
     "text": [
      "Training until validation scores don't improve for 10 rounds\n",
      "[10]\ttraining's rmse: 781.981\tvalid_1's rmse: 884.829\n",
      "[20]\ttraining's rmse: 674.876\tvalid_1's rmse: 844.779\n",
      "[30]\ttraining's rmse: 598.439\tvalid_1's rmse: 828.473\n",
      "[40]\ttraining's rmse: 535.977\tvalid_1's rmse: 824.651\n",
      "[50]\ttraining's rmse: 486.555\tvalid_1's rmse: 826.975\n",
      "Early stopping, best iteration is:\n",
      "[45]\ttraining's rmse: 510.112\tvalid_1's rmse: 823.302\n"
     ]
    },
    {
     "name": "stderr",
     "output_type": "stream",
     "text": [
      "regularization_factors, val_score: 823.301886:  90%|###############################5   | 18/20 [00:02<00:00,  6.39it/s][I 2020-08-03 00:44:37,657] Trial 60 finished with value: 823.3018867123545 and parameters: {'lambda_l1': 4.2104934141481593e-07, 'lambda_l2': 5.024698256502242e-06}. Best is trial 45 with value: 823.3018860764876.\n",
      "regularization_factors, val_score: 823.301886:  90%|###############################5   | 18/20 [00:02<00:00,  6.39it/s]"
     ]
    },
    {
     "name": "stdout",
     "output_type": "stream",
     "text": [
      "Training until validation scores don't improve for 10 rounds\n",
      "[10]\ttraining's rmse: 781.981\tvalid_1's rmse: 884.829\n",
      "[20]\ttraining's rmse: 674.876\tvalid_1's rmse: 844.779\n",
      "[30]\ttraining's rmse: 598.439\tvalid_1's rmse: 828.473\n",
      "[40]\ttraining's rmse: 535.977\tvalid_1's rmse: 824.651\n",
      "[50]\ttraining's rmse: 486.555\tvalid_1's rmse: 826.975\n",
      "Early stopping, best iteration is:\n",
      "[45]\ttraining's rmse: 510.112\tvalid_1's rmse: 823.302\n"
     ]
    },
    {
     "name": "stderr",
     "output_type": "stream",
     "text": [
      "regularization_factors, val_score: 823.301886:  95%|#################################2 | 19/20 [00:02<00:00,  6.59it/s][I 2020-08-03 00:44:37,798] Trial 61 finished with value: 823.3018860853007 and parameters: {'lambda_l1': 5.869222674270245e-06, 'lambda_l2': 1.2960039975781442e-07}. Best is trial 45 with value: 823.3018860764876.\n",
      "regularization_factors, val_score: 823.301886:  95%|#################################2 | 19/20 [00:02<00:00,  6.59it/s]"
     ]
    },
    {
     "name": "stdout",
     "output_type": "stream",
     "text": [
      "Training until validation scores don't improve for 10 rounds\n",
      "[10]\ttraining's rmse: 781.981\tvalid_1's rmse: 884.829\n",
      "[20]\ttraining's rmse: 674.876\tvalid_1's rmse: 844.779\n",
      "[30]\ttraining's rmse: 598.439\tvalid_1's rmse: 828.473\n",
      "[40]\ttraining's rmse: 535.977\tvalid_1's rmse: 824.651\n",
      "[50]\ttraining's rmse: 486.555\tvalid_1's rmse: 826.975\n",
      "Early stopping, best iteration is:\n",
      "[45]\ttraining's rmse: 510.112\tvalid_1's rmse: 823.302\n"
     ]
    },
    {
     "name": "stderr",
     "output_type": "stream",
     "text": [
      "regularization_factors, val_score: 823.301886: 100%|###################################| 20/20 [00:02<00:00,  6.99it/s][I 2020-08-03 00:44:37,920] Trial 62 finished with value: 823.3018860808924 and parameters: {'lambda_l1': 2.37724009337582e-05, 'lambda_l2': 4.430463029646772e-08}. Best is trial 45 with value: 823.3018860764876.\n",
      "regularization_factors, val_score: 823.301886: 100%|###################################| 20/20 [00:02<00:00,  7.05it/s]\n",
      "min_data_in_leaf, val_score: 823.301886:   0%|                                                   | 0/5 [00:00<?, ?it/s]"
     ]
    },
    {
     "name": "stdout",
     "output_type": "stream",
     "text": [
      "Training until validation scores don't improve for 10 rounds\n",
      "[10]\ttraining's rmse: 798.364\tvalid_1's rmse: 887.309\n",
      "[20]\ttraining's rmse: 702.808\tvalid_1's rmse: 853.918\n",
      "[30]\ttraining's rmse: 632.109\tvalid_1's rmse: 849.485\n",
      "[40]\ttraining's rmse: 574.336\tvalid_1's rmse: 839.859\n",
      "[50]\ttraining's rmse: 527.814\tvalid_1's rmse: 839.906\n",
      "Early stopping, best iteration is:\n",
      "[48]\ttraining's rmse: 536.643\tvalid_1's rmse: 838.879\n"
     ]
    },
    {
     "name": "stderr",
     "output_type": "stream",
     "text": [
      "min_data_in_leaf, val_score: 823.301886:  20%|########6                                  | 1/5 [00:00<00:00,  6.50it/s][I 2020-08-03 00:44:38,082] Trial 63 finished with value: 838.8785551037852 and parameters: {'min_child_samples': 25}. Best is trial 63 with value: 838.8785551037852.\n",
      "min_data_in_leaf, val_score: 823.301886:  20%|########6                                  | 1/5 [00:00<00:00,  6.50it/s]"
     ]
    },
    {
     "name": "stdout",
     "output_type": "stream",
     "text": [
      "Training until validation scores don't improve for 10 rounds\n",
      "[10]\ttraining's rmse: 742.984\tvalid_1's rmse: 892.702\n",
      "[20]\ttraining's rmse: 613.521\tvalid_1's rmse: 864.174\n",
      "[30]\ttraining's rmse: 521.901\tvalid_1's rmse: 857.465\n",
      "[40]\ttraining's rmse: 456.65\tvalid_1's rmse: 855.622\n",
      "Early stopping, best iteration is:\n",
      "[38]\ttraining's rmse: 468.224\tvalid_1's rmse: 854.519\n"
     ]
    },
    {
     "name": "stderr",
     "output_type": "stream",
     "text": [
      "min_data_in_leaf, val_score: 823.301886:  40%|#################2                         | 2/5 [00:00<00:00,  6.32it/s][I 2020-08-03 00:44:38,251] Trial 64 finished with value: 854.5190036259264 and parameters: {'min_child_samples': 5}. Best is trial 63 with value: 838.8785551037852.\n",
      "min_data_in_leaf, val_score: 823.301886:  40%|#################2                         | 2/5 [00:00<00:00,  6.32it/s]"
     ]
    },
    {
     "name": "stdout",
     "output_type": "stream",
     "text": [
      "Training until validation scores don't improve for 10 rounds\n",
      "[10]\ttraining's rmse: 756.1\tvalid_1's rmse: 881.18\n",
      "[20]\ttraining's rmse: 634.817\tvalid_1's rmse: 840.896\n",
      "[30]\ttraining's rmse: 546.346\tvalid_1's rmse: 831.016\n",
      "[40]\ttraining's rmse: 477.333\tvalid_1's rmse: 824.73\n",
      "[50]\ttraining's rmse: 425.84\tvalid_1's rmse: 826.437\n",
      "Early stopping, best iteration is:\n",
      "[48]\ttraining's rmse: 435.936\tvalid_1's rmse: 824\n"
     ]
    },
    {
     "name": "stderr",
     "output_type": "stream",
     "text": [
      "min_data_in_leaf, val_score: 823.301886:  60%|#########################8                 | 3/5 [00:00<00:00,  6.46it/s][I 2020-08-03 00:44:38,397] Trial 65 finished with value: 823.9999667586861 and parameters: {'min_child_samples': 10}. Best is trial 65 with value: 823.9999667586861.\n",
      "min_data_in_leaf, val_score: 823.301886:  60%|#########################8                 | 3/5 [00:00<00:00,  6.46it/s]"
     ]
    },
    {
     "name": "stdout",
     "output_type": "stream",
     "text": [
      "Training until validation scores don't improve for 10 rounds\n",
      "[10]\ttraining's rmse: 893.302\tvalid_1's rmse: 909.96\n",
      "[20]\ttraining's rmse: 845.184\tvalid_1's rmse: 877.668\n",
      "[30]\ttraining's rmse: 816.106\tvalid_1's rmse: 864.302\n",
      "[40]\ttraining's rmse: 791.046\tvalid_1's rmse: 855.524\n",
      "[50]\ttraining's rmse: 772.41\tvalid_1's rmse: 855.19\n",
      "[60]\ttraining's rmse: 755.193\tvalid_1's rmse: 852.526\n",
      "[70]\ttraining's rmse: 740.167\tvalid_1's rmse: 852.847\n",
      "Early stopping, best iteration is:\n",
      "[60]\ttraining's rmse: 755.193\tvalid_1's rmse: 852.526\n"
     ]
    },
    {
     "name": "stderr",
     "output_type": "stream",
     "text": [
      "min_data_in_leaf, val_score: 823.301886:  80%|##################################4        | 4/5 [00:00<00:00,  7.15it/s][I 2020-08-03 00:44:38,502] Trial 66 finished with value: 852.5263005621148 and parameters: {'min_child_samples': 100}. Best is trial 65 with value: 823.9999667586861.\n",
      "min_data_in_leaf, val_score: 823.301886:  80%|##################################4        | 4/5 [00:00<00:00,  7.15it/s]"
     ]
    },
    {
     "name": "stdout",
     "output_type": "stream",
     "text": [
      "Training until validation scores don't improve for 10 rounds\n",
      "[10]\ttraining's rmse: 853.151\tvalid_1's rmse: 904.163\n",
      "[20]\ttraining's rmse: 788.249\tvalid_1's rmse: 866.936\n",
      "[30]\ttraining's rmse: 741.816\tvalid_1's rmse: 849.282\n",
      "[40]\ttraining's rmse: 704.2\tvalid_1's rmse: 845.056\n",
      "[50]\ttraining's rmse: 675.029\tvalid_1's rmse: 841.394\n",
      "[60]\ttraining's rmse: 647.113\tvalid_1's rmse: 834.282\n",
      "[70]\ttraining's rmse: 625.178\tvalid_1's rmse: 836.136\n",
      "Early stopping, best iteration is:\n",
      "[62]\ttraining's rmse: 642.703\tvalid_1's rmse: 834.161\n"
     ]
    },
    {
     "name": "stderr",
     "output_type": "stream",
     "text": [
      "min_data_in_leaf, val_score: 823.301886: 100%|###########################################| 5/5 [00:00<00:00,  7.05it/s][I 2020-08-03 00:44:38,649] Trial 67 finished with value: 834.1606288879935 and parameters: {'min_child_samples': 50}. Best is trial 65 with value: 823.9999667586861.\n",
      "min_data_in_leaf, val_score: 823.301886: 100%|###########################################| 5/5 [00:00<00:00,  6.90it/s]\n"
     ]
    },
    {
     "name": "stdout",
     "output_type": "stream",
     "text": [
      "=====Params======\n",
      "  objective: regression\n",
      "  metric: rmse\n",
      "  random_seed: 0\n",
      "  lambda_l1: 0.0\n",
      "  lambda_l2: 0.0\n",
      "  num_leaves: 33\n",
      "  feature_fraction: 0.6\n",
      "  bagging_fraction: 1.0\n",
      "  bagging_freq: 0\n",
      "  min_child_samples: 20\n",
      "=====Val score======\n",
      "  Val rmse score is 823.3018860353397.\n"
     ]
    }
   ],
   "source": [
    "# lightGBM用のデータセットを作成\n",
    "lgb_train = lgb_opt.Dataset(x_train[features], y_train, categorical_feature = categorical_features, free_raw_data=False)\n",
    "lgb_eval = lgb_opt.Dataset(x_valid[features], y_valid, categorical_feature = categorical_features, free_raw_data=False)\n",
    "\n",
    "# モデルの作成\n",
    "evals_result = {}\n",
    "best_params = {}\n",
    "model = lgb_opt.train(params = lgb_params,\n",
    "                      train_set = lgb_train,\n",
    "                      valid_sets = [lgb_train, lgb_eval],\n",
    "                      categorical_feature = categorical_features,\n",
    "                      verbose_eval = 10,\n",
    "                      num_boost_round = 1000,\n",
    "                      early_stopping_rounds = 10\n",
    ")\n",
    "\n",
    "# ベストパラメータの出力\n",
    "best_params = model.params\n",
    "print('=====Params======')\n",
    "for key, value in best_params.items():\n",
    "    print(\"  {}: {}\".format(key, value))\n",
    "\n",
    "# モデル精度の表示\n",
    "valid_pred = model.predict(x_valid[features])\n",
    "model_score = np.sqrt(metrics.mean_squared_error(valid_pred, y_valid))\n",
    "print('=====Val score======')\n",
    "print('  Val rmse score is {model_score}.'.format(model_score = model_score))\n",
    "\n",
    "# テストデータの予測\n",
    "y_pred = model.predict(test[features])"
   ]
  },
  {
   "cell_type": "code",
   "execution_count": 29,
   "metadata": {},
   "outputs": [
    {
     "data": {
      "image/png": "[encoded data removed]",
      "text/plain": [
       "<Figure size 864x432 with 1 Axes>"
      ]
     },
     "metadata": {},
     "output_type": "display_data"
    }
   ],
   "source": [
    "lgb.plot_importance(model, figsize=(12, 6))\n",
    "plt.show()"
   ]
  },
  {
   "cell_type": "markdown",
   "metadata": {},
   "source": [
    "### 出力"
   ]
  },
  {
   "cell_type": "code",
   "execution_count": null,
   "metadata": {},
   "outputs": [],
   "source": [
    "# 提出用データの作成\n",
    "sub = test[['id', 'time_played']].copy()\n",
    "sub['time_played'] = y_pred\n",
    "\n",
    "# csvの出力\n",
    "now = datetime.datetime.now()\n",
    "sub_name = '特徴量追加_total_num_played・total_scores'\n",
    "file_name = '../data/output/sub_' + sub_name + '_' + now.strftime('%Y%m%d_%H%M%S') + '.csv'\n",
    "sub.to_csv(file_name, index=False)"
   ]
  }
 ],
 "metadata": {
  "kernelspec": {
   "display_name": "Python 3",
   "language": "python",
   "name": "python3"
  },
  "language_info": {
   "codemirror_mode": {
    "name": "ipython",
    "version": 3
   },
   "file_extension": ".py",
   "mimetype": "text/x-python",
   "name": "python",
   "nbconvert_exporter": "python",
   "pygments_lexer": "ipython3",
   "version": "3.7.7"
  }
 },
 "nbformat": 4,
 "nbformat_minor": 4
}
