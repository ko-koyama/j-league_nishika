{
 "cells": [
  {
   "cell_type": "code",
   "execution_count": 1,
   "metadata": {},
   "outputs": [],
   "source": [
    "import pandas as pd\n",
    "import pandas_profiling as pdp\n",
    "import numpy as np\n",
    "from matplotlib import pyplot as plt\n",
    "\n",
    "from sklearn.preprocessing import LabelEncoder\n",
    "from sklearn import metrics\n",
    "from sklearn.model_selection import train_test_split\n",
    "from sklearn.metrics import accuracy_score\n",
    "\n",
    "import lightgbm as lgb\n",
    "\n",
    "pd.set_option('display.max_columns', 100)\n",
    "pd.set_option('display.max_rows', 150)"
   ]
  },
  {
   "cell_type": "code",
   "execution_count": 2,
   "metadata": {},
   "outputs": [],
   "source": [
    "# データロード\n",
    "train_2018_df = pd.read_csv('../data/input/train_2018.csv')\n",
    "train_2017_df = pd.read_csv('../data/input/train_2017.csv')\n",
    "train_2016_df = pd.read_csv('../data/input/train_2016.csv')\n",
    "train_2018_df['year'] = 2018\n",
    "train_2017_df['year'] = 2017\n",
    "train_2016_df['year'] = 2016\n",
    "\n",
    "test_df = pd.read_csv('../data/input/test.csv')\n",
    "test_df['year'] = 2019"
   ]
  },
  {
   "cell_type": "code",
   "execution_count": 3,
   "metadata": {},
   "outputs": [],
   "source": [
    "# 教師データとテストデータのunion\n",
    "all_df = pd.concat([train_2016_df, train_2017_df, train_2018_df, test_df], axis = 0).reset_index(drop=True)"
   ]
  },
  {
   "cell_type": "markdown",
   "metadata": {},
   "source": [
    "### 特徴量エンジニアリング"
   ]
  },
  {
   "cell_type": "code",
   "execution_count": 4,
   "metadata": {},
   "outputs": [
    {
     "name": "stdout",
     "output_type": "stream",
     "text": [
      "<class 'pandas.core.frame.DataFrame'>\n",
      "RangeIndex: 1902 entries, 0 to 1901\n",
      "Data columns (total 37 columns):\n",
      " #   Column               Non-Null Count  Dtype  \n",
      "---  ------               --------------  -----  \n",
      " 0   id                   1902 non-null   int64  \n",
      " 1   team                 1902 non-null   object \n",
      " 2   No                   1902 non-null   float64\n",
      " 3   name                 1902 non-null   object \n",
      " 4   time_played          1414 non-null   float64\n",
      " 5   position             1902 non-null   object \n",
      " 6   birthdate            1902 non-null   object \n",
      " 7   height               1902 non-null   float64\n",
      " 8   weight               1902 non-null   float64\n",
      " 9   salary               1902 non-null   object \n",
      " 10  nth_year             1902 non-null   float64\n",
      " 11  is_youth             341 non-null    float64\n",
      " 12  nationality          276 non-null    object \n",
      " 13  j1_total_num_played  1640 non-null   float64\n",
      " 14  j1_total_scores      1554 non-null   float64\n",
      " 15  j2_total_num_played  1134 non-null   float64\n",
      " 16  j2_total_scores      1070 non-null   float64\n",
      " 17  j3_total_num_played  343 non-null    float64\n",
      " 18  j3_total_scores      289 non-null    float64\n",
      " 19  na_total_num_played  429 non-null    float64\n",
      " 20  na_total_scores      367 non-null    float64\n",
      " 21  prev3_team           1902 non-null   object \n",
      " 22  prev2_team           1902 non-null   object \n",
      " 23  prev1_team           1902 non-null   object \n",
      " 24  prev3_div            1902 non-null   object \n",
      " 25  prev2_div            1902 non-null   object \n",
      " 26  prev1_div            1902 non-null   object \n",
      " 27  prev3_num_played     1902 non-null   object \n",
      " 28  prev2_num_played     1902 non-null   object \n",
      " 29  prev1_num_played     1902 non-null   object \n",
      " 30  prev3_scores         1902 non-null   object \n",
      " 31  prev2_scores         1902 non-null   object \n",
      " 32  prev1_scores         1902 non-null   object \n",
      " 33  prev3_time_played    1902 non-null   object \n",
      " 34  prev2_time_played    1902 non-null   object \n",
      " 35  prev1_time_played    1902 non-null   object \n",
      " 36  year                 1902 non-null   int64  \n",
      "dtypes: float64(14), int64(2), object(21)\n",
      "memory usage: 549.9+ KB\n"
     ]
    }
   ],
   "source": [
    "# データ概要\n",
    "all_df.info()"
   ]
  },
  {
   "cell_type": "code",
   "execution_count": 5,
   "metadata": {},
   "outputs": [],
   "source": [
    "# nationalityのNaN→Japan補完\n",
    "all_df['nationality'] = all_df['nationality'].fillna('japan')"
   ]
  },
  {
   "cell_type": "code",
   "execution_count": 6,
   "metadata": {},
   "outputs": [],
   "source": [
    "# team, name, position, nationalityのLabelEncoding\n",
    "le = LabelEncoder()\n",
    "\n",
    "for col in ['team', 'name', 'position', 'nationality']:\n",
    "    le = le.fit(all_df[col])\n",
    "    all_df[col] = le.transform(all_df[col])"
   ]
  },
  {
   "cell_type": "code",
   "execution_count": 7,
   "metadata": {},
   "outputs": [],
   "source": [
    "# birthdateの年抽出\n",
    "all_df['birthdate'] = pd.to_datetime(all_df['birthdate'])\n",
    "all_df['birthdate_year'] = all_df['birthdate'].dt.year"
   ]
  },
  {
   "cell_type": "code",
   "execution_count": 8,
   "metadata": {},
   "outputs": [],
   "source": [
    "# salaryのNaN→中央値補完\n",
    "med_salary = all_df[all_df['salary'] != '-']['salary'].median()\n",
    "all_df['salary'] = all_df['salary'].mask(all_df['salary'] == '-', med_salary)\n",
    "all_df['salary'] = all_df['salary'].astype(float)"
   ]
  },
  {
   "cell_type": "code",
   "execution_count": 9,
   "metadata": {},
   "outputs": [],
   "source": [
    "# team, name, position, nationalityのLabelEncoding\n",
    "le = LabelEncoder()\n",
    "\n",
    "for col in ['team', 'name', 'position', 'nationality']:\n",
    "    le = le.fit(all_df[col])\n",
    "    all_df[col] = le.transform(all_df[col])"
   ]
  },
  {
   "cell_type": "code",
   "execution_count": 11,
   "metadata": {},
   "outputs": [],
   "source": [
    "# salaryのNaN→中央値補完\n",
    "med_salary = all_df[all_df['salary'] != '-']['salary'].median()\n",
    "all_df['salary'] = all_df['salary'].mask(all_df['salary'] == '-', med_salary)\n",
    "all_df['salary'] = all_df['salary'].astype(float)"
   ]
  },
  {
   "cell_type": "markdown",
   "metadata": {},
   "source": [
    "### 学習"
   ]
  },
  {
   "cell_type": "code",
   "execution_count": 12,
   "metadata": {},
   "outputs": [],
   "source": [
    "# 教師, 検証データ\n",
    "x_train_valid_df = all_df[all_df['year'] < 2019]\n",
    "y_train_valid_df = x_train_valid_df['time_played']\n",
    "\n",
    "# バリデーション\n",
    "x_train, x_valid, y_train, y_valid = train_test_split(x_train_valid_df, y_train_valid_df, test_size=0.33, random_state=0)\n",
    "\n",
    "# テストデータ\n",
    "test = all_df[all_df['year'] == 2019]"
   ]
  },
  {
   "cell_type": "code",
   "execution_count": 13,
   "metadata": {},
   "outputs": [],
   "source": [
    "# 入力する特徴量\n",
    "features = [\n",
    "    'team',\n",
    "    'position',\n",
    "    'height',\n",
    "    'weight',\n",
    "    'salary',\n",
    "    'nth_year',\n",
    "    'is_youth',\n",
    "    'nationality',\n",
    "    'birthdate_year',\n",
    "    'year'\n",
    "]"
   ]
  },
  {
   "cell_type": "code",
   "execution_count": 14,
   "metadata": {},
   "outputs": [],
   "source": [
    "# カテゴリ変数\n",
    "categorical_features = ['team', 'position', 'is_youth', 'nationality']"
   ]
  },
  {
   "cell_type": "code",
   "execution_count": 15,
   "metadata": {},
   "outputs": [],
   "source": [
    "# lightgbmパラメータ\n",
    "lgb_params = {\n",
    "    'objective': 'regression',\n",
    "    'metric': 'rmse'\n",
    "}"
   ]
  },
  {
   "cell_type": "code",
   "execution_count": 16,
   "metadata": {},
   "outputs": [
    {
     "name": "stdout",
     "output_type": "stream",
     "text": [
      "Training until validation scores don't improve for 10 rounds\n",
      "[10]\ttraining's rmse: 786.263\tvalid_1's rmse: 905.149\n",
      "[20]\ttraining's rmse: 687.943\tvalid_1's rmse: 870.706\n",
      "[30]\ttraining's rmse: 619.356\tvalid_1's rmse: 857.983\n",
      "[40]\ttraining's rmse: 568.904\tvalid_1's rmse: 859.241\n",
      "[50]\ttraining's rmse: 523.944\tvalid_1's rmse: 855.388\n",
      "Early stopping, best iteration is:\n",
      "[47]\ttraining's rmse: 536.23\tvalid_1's rmse: 853.522\n",
      "Our val rmse score is 853.522094551548.\n"
     ]
    },
    {
     "name": "stderr",
     "output_type": "stream",
     "text": [
      "c:\\users\\mikan\\python\\venv\\j-league_nishika\\lib\\site-packages\\lightgbm\\basic.py:1291: UserWarning: Using categorical_feature in Dataset.\n",
      "  warnings.warn('Using categorical_feature in Dataset.')\n",
      "c:\\users\\mikan\\python\\venv\\j-league_nishika\\lib\\site-packages\\ipykernel_launcher.py:22: SettingWithCopyWarning: \n",
      "A value is trying to be set on a copy of a slice from a DataFrame.\n",
      "Try using .loc[row_indexer,col_indexer] = value instead\n",
      "\n",
      "See the caveats in the documentation: https://pandas.pydata.org/pandas-docs/stable/user_guide/indexing.html#returning-a-view-versus-a-copy\n"
     ]
    }
   ],
   "source": [
    "# lightGBM用のデータセットを作成\n",
    "lgb_train = lgb.Dataset(x_train[features], y_train, categorical_feature = categorical_features)\n",
    "lgb_eval = lgb.Dataset(x_valid[features], y_valid, categorical_feature = categorical_features)\n",
    "\n",
    "# モデルの作成\n",
    "evals_result = {}\n",
    "model = lgb.train(params = lgb_params,\n",
    "                  train_set = lgb_train,\n",
    "                  valid_sets = [lgb_train, lgb_eval],\n",
    "                  verbose_eval = 10,\n",
    "                  num_boost_round = 1000,\n",
    "                  early_stopping_rounds = 10\n",
    ")\n",
    "\n",
    "# モデルの精度\n",
    "valid_pred = model.predict(x_valid[features])\n",
    "model_score = np.sqrt(metrics.mean_squared_error(valid_pred, y_valid))\n",
    "print(f'Our val rmse score is {model_score}.')\n",
    "\n",
    "# テストデータの予測\n",
    "y_pred = model.predict(test[features])\n",
    "test['time_played'] = y_pred"
   ]
  },
  {
   "cell_type": "code",
   "execution_count": 17,
   "metadata": {},
   "outputs": [
    {
     "data": {
      "image/png": "[encoded data removed]",
      "text/plain": [
       "<Figure size 864x432 with 1 Axes>"
      ]
     },
     "metadata": {},
     "output_type": "display_data"
    }
   ],
   "source": [
    "lgb.plot_importance(model, figsize=(12, 6))\n",
    "plt.show()"
   ]
  },
  {
   "cell_type": "markdown",
   "metadata": {},
   "source": [
    "### 出力"
   ]
  },
  {
   "cell_type": "code",
   "execution_count": 18,
   "metadata": {},
   "outputs": [],
   "source": [
    "test[['id', 'time_played']].to_csv('../data/output/baseline.csv', index=False)"
   ]
  }
 ],
 "metadata": {
  "kernelspec": {
   "display_name": "Python 3",
   "language": "python",
   "name": "python3"
  },
  "language_info": {
   "codemirror_mode": {
    "name": "ipython",
    "version": 3
   },
   "file_extension": ".py",
   "mimetype": "text/x-python",
   "name": "python",
   "nbconvert_exporter": "python",
   "pygments_lexer": "ipython3",
   "version": "3.7.7"
  }
 },
 "nbformat": 4,
 "nbformat_minor": 4
}
